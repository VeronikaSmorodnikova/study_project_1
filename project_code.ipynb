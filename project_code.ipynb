{
 "cells": [
  {
   "cell_type": "markdown",
   "metadata": {},
   "source": [
    "## Подготовка данных"
   ]
  },
  {
   "cell_type": "code",
   "execution_count": 1,
   "metadata": {},
   "outputs": [
    {
     "name": "stderr",
     "output_type": "stream",
     "text": [
      "/opt/tljh/user/lib/python3.7/site-packages/outdated/utils.py:18: OutdatedCacheFailedWarning: Failed to use cache while checking for outdated package.\n",
      "Set the environment variable OUTDATED_RAISE_EXCEPTION=1 for a full traceback.\n",
      "Set the environment variable OUTDATED_IGNORE=1 to disable these warnings.\n",
      "  **kwargs\n",
      "/opt/tljh/user/lib/python3.7/site-packages/outdated/utils.py:18: OutdatedPackageWarning: The package outdated is out of date. Your version is 0.2.1, the latest is 0.2.2.\n",
      "Set the environment variable OUTDATED_IGNORE=1 to disable these warnings.\n",
      "  **kwargs\n",
      "/opt/tljh/user/lib/python3.7/site-packages/outdated/utils.py:18: OutdatedPackageWarning: The package pingouin is out of date. Your version is 0.4.0, the latest is 0.5.2.\n",
      "Set the environment variable OUTDATED_IGNORE=1 to disable these warnings.\n",
      "  **kwargs\n"
     ]
    }
   ],
   "source": [
    "#Импорт библиотек\n",
    "import requests\n",
    "from urllib.parse import urlencode\n",
    "import io\n",
    "\n",
    "import pandas as pd\n",
    "from datetime import timedelta, datetime\n",
    "\n",
    "import matplotlib.pyplot as plt\n",
    "%matplotlib inline\n",
    "import seaborn as sns\n",
    "\n",
    "from scipy import stats\n",
    "import pingouin as pg\n",
    "import numpy as np\n",
    "from statsmodels.formula.api import ols\n",
    "from statsmodels.stats.anova import anova_lm\n"
   ]
  },
  {
   "cell_type": "code",
   "execution_count": 2,
   "metadata": {},
   "outputs": [],
   "source": [
    "#Создаем списки для загрузки таблиц через цикл\n",
    "urls = ['ya_J0W53q_P-Pg', 'e8JOiJhNdc1fqA', 'E6MshHtdPdtMBQ', 'iTLiuxIWRc42Hg', 'JykTu7f00oCHpw', 'NsvacYvGbqo_dQ']\n",
    "data_names = ['users_test', 'users_control_1', 'users_control_2', 'transactions_test', 'transactions_control_1', 'transactions_control_2']"
   ]
  },
  {
   "cell_type": "code",
   "execution_count": 3,
   "metadata": {},
   "outputs": [],
   "source": [
    "# Скачиваем файлы с яндекс диска\n",
    "base_url = 'https://cloud-api.yandex.net/v1/disk/public/resources/download?'\n",
    "for i in range(len(urls)):\n",
    "    public_key = 'https://disk.yandex.ru/d/' + urls[i]\n",
    "    \n",
    "    # Получаем загрузочную ссылку\n",
    "    final_url = base_url + urlencode(dict(public_key=public_key))\n",
    "    response = requests.get(final_url)\n",
    "    download_url = response.json()['href']\n",
    "\n",
    "    # Загружаем файл и сохраняем его в датафрейм с заданным именем\n",
    "    download = requests.get(download_url).content\n",
    "    locals()[data_names[i]] = pd.read_csv(io.StringIO(download.decode('utf-8')), sep = ';')"
   ]
  },
  {
   "cell_type": "markdown",
   "metadata": {},
   "source": [
    "Посмотрим на пропущенные значения, тип данных."
   ]
  },
  {
   "cell_type": "code",
   "execution_count": 4,
   "metadata": {},
   "outputs": [
    {
     "data": {
      "text/plain": [
       "uid                   int64\n",
       "age                   int64\n",
       "attraction_coeff      int64\n",
       "coins               float64\n",
       "country              object\n",
       "visit_days           object\n",
       "gender                int64\n",
       "age_filter_start      int64\n",
       "age_filter_end        int64\n",
       "views_count           int64\n",
       "was_premium         float64\n",
       "is_premium          float64\n",
       "total_revenue         int64\n",
       "dtype: object"
      ]
     },
     "execution_count": 4,
     "metadata": {},
     "output_type": "execute_result"
    }
   ],
   "source": [
    "users_test.dtypes"
   ]
  },
  {
   "cell_type": "code",
   "execution_count": 5,
   "metadata": {
    "scrolled": true
   },
   "outputs": [
    {
     "data": {
      "text/plain": [
       "uid                    0\n",
       "age                    0\n",
       "attraction_coeff       0\n",
       "coins               4259\n",
       "country                0\n",
       "visit_days          1330\n",
       "gender                 0\n",
       "age_filter_start       0\n",
       "age_filter_end         0\n",
       "views_count            0\n",
       "was_premium         3900\n",
       "is_premium          4151\n",
       "total_revenue          0\n",
       "dtype: int64"
      ]
     },
     "execution_count": 5,
     "metadata": {},
     "output_type": "execute_result"
    }
   ],
   "source": [
    "users_test.isna().sum()"
   ]
  },
  {
   "cell_type": "code",
   "execution_count": 6,
   "metadata": {},
   "outputs": [],
   "source": [
    "users_test = users_test.fillna(0)\n",
    "users_control_1 = users_control_1.fillna(0)\n",
    "users_control_2 = users_control_2.fillna(0)"
   ]
  },
  {
   "cell_type": "code",
   "execution_count": 7,
   "metadata": {},
   "outputs": [
    {
     "data": {
      "text/plain": [
       "uid              int64\n",
       "country         object\n",
       "joined_at       object\n",
       "paid_at         object\n",
       "revenue          int64\n",
       "payment_id       int64\n",
       "from_page       object\n",
       "product_type    object\n",
       "dtype: object"
      ]
     },
     "execution_count": 7,
     "metadata": {},
     "output_type": "execute_result"
    }
   ],
   "source": [
    "transactions_test.dtypes"
   ]
  },
  {
   "cell_type": "code",
   "execution_count": 8,
   "metadata": {},
   "outputs": [],
   "source": [
    "for data in [transactions_test, transactions_control_1, transactions_control_2]:\n",
    "    data.joined_at = pd.to_datetime(data.joined_at, format='%Y-%m-%d')\n",
    "    data.paid_at = pd.to_datetime(data.paid_at, format='%Y-%m-%d')"
   ]
  },
  {
   "cell_type": "code",
   "execution_count": 9,
   "metadata": {},
   "outputs": [
    {
     "data": {
      "text/plain": [
       "uid             630\n",
       "country         630\n",
       "joined_at       630\n",
       "paid_at         630\n",
       "revenue         630\n",
       "payment_id      630\n",
       "from_page       630\n",
       "product_type    630\n",
       "dtype: int64"
      ]
     },
     "execution_count": 9,
     "metadata": {},
     "output_type": "execute_result"
    }
   ],
   "source": [
    "transactions_control_1.isna().sum()"
   ]
  },
  {
   "cell_type": "code",
   "execution_count": 10,
   "metadata": {},
   "outputs": [],
   "source": [
    "transactions_control_1 = transactions_control_1.dropna()"
   ]
  },
  {
   "cell_type": "markdown",
   "metadata": {},
   "source": [
    "## Анализ аудитории"
   ]
  },
  {
   "cell_type": "markdown",
   "metadata": {},
   "source": [
    "Посмотрим на аудиторию приложения для того, чтобы понимать на какие группы можно было бы разделить пользователей при проведении A/B теста  \n",
    "\n",
    " - Объединяем датафреймы с информацией о пользователях в группах\n",
    " - Смотрим на число уникальных пользователей"
   ]
  },
  {
   "cell_type": "code",
   "execution_count": 11,
   "metadata": {},
   "outputs": [],
   "source": [
    "k = 0\n",
    "group_names = ['test', 'control_1', 'control_2']\n",
    "users_info = pd.DataFrame()\n",
    "for group_data in [users_test, users_control_1, users_control_2]:\n",
    "    group_data['group'] = group_names[k]\n",
    "    users_info = pd.concat( [users_info, group_data]).reset_index(drop = True)\n",
    "    k += 1\n",
    "users_info = users_info.fillna(0)"
   ]
  },
  {
   "cell_type": "code",
   "execution_count": 12,
   "metadata": {},
   "outputs": [
    {
     "data": {
      "text/html": [
       "<div>\n",
       "<style scoped>\n",
       "    .dataframe tbody tr th:only-of-type {\n",
       "        vertical-align: middle;\n",
       "    }\n",
       "\n",
       "    .dataframe tbody tr th {\n",
       "        vertical-align: top;\n",
       "    }\n",
       "\n",
       "    .dataframe thead th {\n",
       "        text-align: right;\n",
       "    }\n",
       "</style>\n",
       "<table border=\"1\" class=\"dataframe\">\n",
       "  <thead>\n",
       "    <tr style=\"text-align: right;\">\n",
       "      <th></th>\n",
       "      <th>uid</th>\n",
       "      <th>age</th>\n",
       "      <th>attraction_coeff</th>\n",
       "      <th>coins</th>\n",
       "      <th>country</th>\n",
       "      <th>visit_days</th>\n",
       "      <th>gender</th>\n",
       "      <th>age_filter_start</th>\n",
       "      <th>age_filter_end</th>\n",
       "      <th>views_count</th>\n",
       "      <th>was_premium</th>\n",
       "      <th>is_premium</th>\n",
       "      <th>total_revenue</th>\n",
       "      <th>group</th>\n",
       "    </tr>\n",
       "  </thead>\n",
       "  <tbody>\n",
       "    <tr>\n",
       "      <th>0</th>\n",
       "      <td>892309896</td>\n",
       "      <td>27</td>\n",
       "      <td>685</td>\n",
       "      <td>0.0</td>\n",
       "      <td>United States of America</td>\n",
       "      <td>1,2,3,4,5,6,7,8,9,10,11,12,16,17</td>\n",
       "      <td>1</td>\n",
       "      <td>24</td>\n",
       "      <td>30</td>\n",
       "      <td>89</td>\n",
       "      <td>0.0</td>\n",
       "      <td>0.0</td>\n",
       "      <td>0</td>\n",
       "      <td>test</td>\n",
       "    </tr>\n",
       "    <tr>\n",
       "      <th>1</th>\n",
       "      <td>892044516</td>\n",
       "      <td>27</td>\n",
       "      <td>0</td>\n",
       "      <td>0.0</td>\n",
       "      <td>Germany</td>\n",
       "      <td>0</td>\n",
       "      <td>1</td>\n",
       "      <td>24</td>\n",
       "      <td>30</td>\n",
       "      <td>0</td>\n",
       "      <td>0.0</td>\n",
       "      <td>0.0</td>\n",
       "      <td>0</td>\n",
       "      <td>test</td>\n",
       "    </tr>\n",
       "    <tr>\n",
       "      <th>2</th>\n",
       "      <td>892185708</td>\n",
       "      <td>45</td>\n",
       "      <td>44</td>\n",
       "      <td>0.0</td>\n",
       "      <td>Israel</td>\n",
       "      <td>1,3,4,6,7,8,10,11,12,13,14,15,16,17,18,19,20,2...</td>\n",
       "      <td>1</td>\n",
       "      <td>42</td>\n",
       "      <td>48</td>\n",
       "      <td>68</td>\n",
       "      <td>0.0</td>\n",
       "      <td>0.0</td>\n",
       "      <td>0</td>\n",
       "      <td>test</td>\n",
       "    </tr>\n",
       "    <tr>\n",
       "      <th>3</th>\n",
       "      <td>892130292</td>\n",
       "      <td>32</td>\n",
       "      <td>0</td>\n",
       "      <td>0.0</td>\n",
       "      <td>United States of America</td>\n",
       "      <td>1,2,3,4,5,6,7,8,9,10,11,12</td>\n",
       "      <td>1</td>\n",
       "      <td>29</td>\n",
       "      <td>35</td>\n",
       "      <td>0</td>\n",
       "      <td>0.0</td>\n",
       "      <td>0.0</td>\n",
       "      <td>0</td>\n",
       "      <td>test</td>\n",
       "    </tr>\n",
       "    <tr>\n",
       "      <th>4</th>\n",
       "      <td>891406035</td>\n",
       "      <td>27</td>\n",
       "      <td>1000</td>\n",
       "      <td>0.0</td>\n",
       "      <td>France</td>\n",
       "      <td>0</td>\n",
       "      <td>1</td>\n",
       "      <td>24</td>\n",
       "      <td>30</td>\n",
       "      <td>1</td>\n",
       "      <td>1.0</td>\n",
       "      <td>0.0</td>\n",
       "      <td>0</td>\n",
       "      <td>test</td>\n",
       "    </tr>\n",
       "  </tbody>\n",
       "</table>\n",
       "</div>"
      ],
      "text/plain": [
       "         uid  age  attraction_coeff  coins                   country  \\\n",
       "0  892309896   27               685    0.0  United States of America   \n",
       "1  892044516   27                 0    0.0                   Germany   \n",
       "2  892185708   45                44    0.0                    Israel   \n",
       "3  892130292   32                 0    0.0  United States of America   \n",
       "4  891406035   27              1000    0.0                    France   \n",
       "\n",
       "                                          visit_days  gender  \\\n",
       "0                   1,2,3,4,5,6,7,8,9,10,11,12,16,17       1   \n",
       "1                                                  0       1   \n",
       "2  1,3,4,6,7,8,10,11,12,13,14,15,16,17,18,19,20,2...       1   \n",
       "3                         1,2,3,4,5,6,7,8,9,10,11,12       1   \n",
       "4                                                  0       1   \n",
       "\n",
       "   age_filter_start  age_filter_end  views_count  was_premium  is_premium  \\\n",
       "0                24              30           89          0.0         0.0   \n",
       "1                24              30            0          0.0         0.0   \n",
       "2                42              48           68          0.0         0.0   \n",
       "3                29              35            0          0.0         0.0   \n",
       "4                24              30            1          1.0         0.0   \n",
       "\n",
       "   total_revenue group  \n",
       "0              0  test  \n",
       "1              0  test  \n",
       "2              0  test  \n",
       "3              0  test  \n",
       "4              0  test  "
      ]
     },
     "execution_count": 12,
     "metadata": {},
     "output_type": "execute_result"
    }
   ],
   "source": [
    "users_info.head()"
   ]
  },
  {
   "cell_type": "code",
   "execution_count": 13,
   "metadata": {},
   "outputs": [
    {
     "data": {
      "text/plain": [
       "12912"
      ]
     },
     "execution_count": 13,
     "metadata": {},
     "output_type": "execute_result"
    }
   ],
   "source": [
    "users_info.uid.nunique()"
   ]
  },
  {
   "cell_type": "markdown",
   "metadata": {},
   "source": [
    "#### Анализ аудитории по странам\n",
    "- Группируем таблицу с количеством пользователей по странам\n",
    "- Строим график распределения"
   ]
  },
  {
   "cell_type": "code",
   "execution_count": 14,
   "metadata": {},
   "outputs": [],
   "source": [
    "countries = users_info.groupby('country', as_index = False) \\\n",
    "            .agg({'uid': 'count'}) \\\n",
    "            .sort_values('uid', ascending = False) \\\n",
    "            .query('uid > 50').reset_index(drop = True)\n",
    "countries = pd.concat([countries, pd.DataFrame({'country' : 'other', 'uid': users_info.groupby('country', as_index = False) \\\n",
    "            .agg({'uid': 'count'}) \\\n",
    "            .sort_values('uid', ascending = False) \\\n",
    "            .query('uid < 50').uid.sum()}, index = ['0'])]).reset_index(drop = True)"
   ]
  },
  {
   "cell_type": "code",
   "execution_count": 15,
   "metadata": {
    "scrolled": false
   },
   "outputs": [
    {
     "data": {
      "image/png": "[encoded data removed]",
      "text/plain": [
       "<Figure size 576x576 with 1 Axes>"
      ]
     },
     "metadata": {
      "needs_background": "light"
     },
     "output_type": "display_data"
    }
   ],
   "source": [
    "plt.figure(figsize = (8, 8))\n",
    "ax = sns.barplot(data = countries, y = 'country', x = 'uid', palette = \"Spectral\")\n",
    "for p in ax.patches:\n",
    "        width = p.get_width()\n",
    "        plt.text(1.05*p.get_width(), p.get_y()+0.5*p.get_height(),\n",
    "                 '%d' % int(width),\n",
    "                 ha='left', va='center')\n",
    "plt.xlabel(\"Number of users\", size=12)\n",
    "plt.ylabel(\"Country\", size=12)\n",
    "plt.title('Users distribution by country', pad = 20, size = 14)\n",
    "sns.despine()"
   ]
  },
  {
   "cell_type": "code",
   "execution_count": 16,
   "metadata": {},
   "outputs": [
    {
     "data": {
      "text/plain": [
       "count      16.000000\n",
       "mean      807.000000\n",
       "std      1021.086154\n",
       "min       112.000000\n",
       "25%       290.750000\n",
       "50%       530.000000\n",
       "75%       953.250000\n",
       "max      4407.000000\n",
       "Name: uid, dtype: float64"
      ]
     },
     "execution_count": 16,
     "metadata": {},
     "output_type": "execute_result"
    }
   ],
   "source": [
    "countries.uid.describe()"
   ]
  },
  {
   "cell_type": "markdown",
   "metadata": {},
   "source": [
    "#### Анализ аудитории по возрасту\n",
    "- Смотрим на описательную статистику возраста среди пользователей\n",
    "- Строим график распределения количества пользователей по количеству лет"
   ]
  },
  {
   "cell_type": "code",
   "execution_count": 17,
   "metadata": {},
   "outputs": [
    {
     "data": {
      "text/plain": [
       "count    12912.000000\n",
       "mean        32.010378\n",
       "std         10.224415\n",
       "min         16.000000\n",
       "25%         25.000000\n",
       "50%         30.000000\n",
       "75%         38.000000\n",
       "max         99.000000\n",
       "Name: age, dtype: float64"
      ]
     },
     "execution_count": 17,
     "metadata": {},
     "output_type": "execute_result"
    }
   ],
   "source": [
    "users_info.age.describe()"
   ]
  },
  {
   "cell_type": "code",
   "execution_count": 18,
   "metadata": {
    "scrolled": false
   },
   "outputs": [
    {
     "data": {
      "image/png": "[encoded data removed]",
      "text/plain": [
       "<Figure size 1440x576 with 1 Axes>"
      ]
     },
     "metadata": {
      "needs_background": "light"
     },
     "output_type": "display_data"
    }
   ],
   "source": [
    "plt.figure(figsize = (20, 8))\n",
    "ax = sns.countplot(data = users_info, x = 'age',  palette = \"crest\")\n",
    "plt.xlabel(\"Age\", size=14)\n",
    "plt.ylabel(\"Number of users\", size=14)\n",
    "plt.title('Users distribution by age', pad = 20, size = 16)\n",
    "sns.despine()"
   ]
  },
  {
   "cell_type": "code",
   "execution_count": 19,
   "metadata": {
    "scrolled": true
   },
   "outputs": [
    {
     "data": {
      "text/plain": [
       "count    12912.000000\n",
       "mean        32.010378\n",
       "std         10.224415\n",
       "min         16.000000\n",
       "25%         25.000000\n",
       "50%         30.000000\n",
       "75%         38.000000\n",
       "max         99.000000\n",
       "Name: age, dtype: float64"
      ]
     },
     "execution_count": 19,
     "metadata": {},
     "output_type": "execute_result"
    }
   ],
   "source": [
    "users_info.age.describe()"
   ]
  },
  {
   "cell_type": "markdown",
   "metadata": {},
   "source": [
    "#### Анализ аудитории по количеству посещений\n",
    "- Создаем колонку, содержащую количество посещений приложения пользователем\n",
    "- Строим график распределения количества пользователей по частоте посещения приложения"
   ]
  },
  {
   "cell_type": "code",
   "execution_count": 20,
   "metadata": {},
   "outputs": [],
   "source": [
    "users_info['visit_days'] = users_info['visit_days'].fillna(0)"
   ]
  },
  {
   "cell_type": "code",
   "execution_count": 21,
   "metadata": {},
   "outputs": [],
   "source": [
    "users_info['visits'] = users_info['visit_days'].apply(lambda x: len(str(x).split(',')) if x != 0 else 0)"
   ]
  },
  {
   "cell_type": "code",
   "execution_count": 22,
   "metadata": {
    "scrolled": false
   },
   "outputs": [
    {
     "data": {
      "image/png": "[encoded data removed]",
      "text/plain": [
       "<Figure size 1440x576 with 1 Axes>"
      ]
     },
     "metadata": {
      "needs_background": "light"
     },
     "output_type": "display_data"
    }
   ],
   "source": [
    "plt.figure(figsize = (20, 8))\n",
    "ax = sns.countplot(data = users_info, x = 'visits', palette = \"crest\")\n",
    "plt.xlabel(\"Visits number\", size=14)\n",
    "plt.ylabel(\"Number of users\", size=14)\n",
    "plt.title('Users distribution by visits', pad = 20, size = 16)\n",
    "sns.despine()"
   ]
  },
  {
   "cell_type": "code",
   "execution_count": 23,
   "metadata": {},
   "outputs": [
    {
     "data": {
      "text/plain": [
       "count    12912.00000\n",
       "mean         4.55855\n",
       "std          6.22509\n",
       "min          0.00000\n",
       "25%          0.00000\n",
       "50%          2.00000\n",
       "75%          7.00000\n",
       "max         31.00000\n",
       "Name: visits, dtype: float64"
      ]
     },
     "execution_count": 23,
     "metadata": {},
     "output_type": "execute_result"
    }
   ],
   "source": [
    "users_info.visits.describe()"
   ]
  },
  {
   "cell_type": "markdown",
   "metadata": {},
   "source": [
    "#### Анализ соотношения полов\n",
    "После небольшого ресерча и статьи (https://habr.com/ru/company/vdsina/blog/490238/) о соотношении мужчин и женщин в дейтинговых приложениях, предполагаем, что обозначение пола следующее: male = 1, female = 0"
   ]
  },
  {
   "cell_type": "code",
   "execution_count": 24,
   "metadata": {},
   "outputs": [
    {
     "data": {
      "image/png": "[encoded data removed]",
      "text/plain": [
       "<Figure size 432x288 with 1 Axes>"
      ]
     },
     "metadata": {
      "needs_background": "light"
     },
     "output_type": "display_data"
    }
   ],
   "source": [
    "sns.countplot(data = users_info, x = 'gender', palette = ['#136f62' , '#6e3bb0'])\n",
    "plt.xlabel(\"Gender\", size=12)\n",
    "plt.ylabel(\"Number of users\", size=12)\n",
    "plt.title('Users distribution by gender', pad = 20, size = 14)\n",
    "sns.despine()"
   ]
  },
  {
   "cell_type": "markdown",
   "metadata": {},
   "source": [
    "#### Conversion window - количество недель от момента регистации до целевого действия  - оплаты подписки\n",
    "- Создаем столбец, который будет содержать информацию о разнице между регистрацией пользователя и датой оплаты какого-либо продукта\n",
    "- Строим графики распределения для сроков первой оплаты подписки в приложении"
   ]
  },
  {
   "cell_type": "code",
   "execution_count": 25,
   "metadata": {},
   "outputs": [],
   "source": [
    "for data in [transactions_test, transactions_control_1, transactions_control_2]:\n",
    "    data['weeks_until_payment'] = (data.paid_at - data.joined_at)\n",
    "    data['weeks_until_payment'] = round(data['weeks_until_payment'].dt.days / 7)\n",
    "    data['weeks_until_payment'] = data['weeks_until_payment'].fillna(0).astype('int')"
   ]
  },
  {
   "cell_type": "code",
   "execution_count": 26,
   "metadata": {},
   "outputs": [],
   "source": [
    "# Для лучшего восприятия графиков зададим цвет для тестовой и контрольной группы\n",
    "group_colors = dict(test = '#05b655',cont = '#1b9cae')\n",
    "group_palette = ['#1bb9ec','#05b655']"
   ]
  },
  {
   "cell_type": "markdown",
   "metadata": {},
   "source": [
    "График для тестовой группы"
   ]
  },
  {
   "cell_type": "code",
   "execution_count": 27,
   "metadata": {},
   "outputs": [
    {
     "data": {
      "image/png": "[encoded data removed]",
      "text/plain": [
       "<Figure size 1080x504 with 1 Axes>"
      ]
     },
     "metadata": {
      "needs_background": "light"
     },
     "output_type": "display_data"
    }
   ],
   "source": [
    "plt.figure(figsize = (15, 7))\n",
    "sns.histplot(data = transactions_test \\\n",
    "             .query(\"product_type == ['premium', 'premium_no_trial']\")\n",
    "             .sort_values(['uid', 'paid_at']) \\\n",
    "             .drop_duplicates('uid'), \\\n",
    "             \n",
    "             x = 'weeks_until_payment', \\\n",
    "             stat = 'probability', \\\n",
    "             binwidth = 1, \\\n",
    "             color = group_colors['test'])\n",
    "plt.xlabel(\"Weeks until first premium payment\", size=12)\n",
    "plt.ylabel(\"Users percentage\", size=12)\n",
    "plt.title('Weeks until first premium payment in test group', pad = 20, size = 14)\n",
    "sns.despine()"
   ]
  },
  {
   "cell_type": "markdown",
   "metadata": {},
   "source": [
    "График для контрольной группы"
   ]
  },
  {
   "cell_type": "code",
   "execution_count": 28,
   "metadata": {},
   "outputs": [],
   "source": [
    "transactions_control = pd.concat([transactions_control_1, transactions_control_2])"
   ]
  },
  {
   "cell_type": "code",
   "execution_count": 29,
   "metadata": {},
   "outputs": [
    {
     "data": {
      "image/png": "[encoded data removed]",
      "text/plain": [
       "<Figure size 1080x504 with 1 Axes>"
      ]
     },
     "metadata": {
      "needs_background": "light"
     },
     "output_type": "display_data"
    }
   ],
   "source": [
    "plt.figure(figsize = (15, 7))\n",
    "sns.histplot(data = transactions_control \\\n",
    "             .query(\"product_type == ['premium', 'premium_no_trial']\")\n",
    "             .sort_values(['uid', 'paid_at']) \\\n",
    "             .drop_duplicates('uid'), \\\n",
    "             x = 'weeks_until_payment', \\\n",
    "             stat = 'probability', \\\n",
    "             binwidth = 1, \\\n",
    "             color = group_colors['cont'] )\n",
    "plt.xlabel(\"Weeks until first premium payment\", size=12)\n",
    "plt.ylabel(\"Users percentage\", size=12)\n",
    "plt.title('Weeks until first premium payment in control group', pad = 20, size = 14)\n",
    "sns.despine()"
   ]
  },
  {
   "cell_type": "markdown",
   "metadata": {},
   "source": [
    "1. Возможно, люди, у которых оплата подписки произошла раньше регистрации, получили подписку в подарок или участвовали в промоакции.  \n",
    "2. Большинство пользователей в обоих группах"
   ]
  },
  {
   "cell_type": "markdown",
   "metadata": {},
   "source": [
    "### ARPPU и поиск ошибок в данных "
   ]
  },
  {
   "cell_type": "markdown",
   "metadata": {},
   "source": [
    "- Объединеним датасеты по транзакциям и информации о пользователях.\n",
    "- Добавим в новый датафрейм столбец с названием группы (тестовая или контрольная)"
   ]
  },
  {
   "cell_type": "code",
   "execution_count": 30,
   "metadata": {},
   "outputs": [],
   "source": [
    "k = 0\n",
    "group_names = ['test', 'control_1', 'control_2']\n",
    "transactions_data = pd.DataFrame()\n",
    "for users, transactions in zip((users_test, users_control_1, users_control_2), \\\n",
    "                               (transactions_test, transactions_control_1, transactions_control_2)):\n",
    "    users['group'] = group_names[k]\n",
    "    transactions_data = pd.concat( [transactions_data, \\\n",
    "                       transactions.merge(users[['uid', 'age', 'gender', 'was_premium', 'is_premium', 'total_revenue', 'group', 'coins']], \\\n",
    "                                          on = 'uid', how = 'left')]).reset_index(drop = True)\n",
    "    k += 1"
   ]
  },
  {
   "cell_type": "markdown",
   "metadata": {},
   "source": [
    "Убедимся, что total_revenue равен агреггированному доходу с пользователя по столбцу revenue:\n",
    "- Агрегация по revenue\n",
    "- Агрегация по total_revenue"
   ]
  },
  {
   "cell_type": "code",
   "execution_count": 31,
   "metadata": {},
   "outputs": [
    {
     "data": {
      "text/html": [
       "<div>\n",
       "<style scoped>\n",
       "    .dataframe tbody tr th:only-of-type {\n",
       "        vertical-align: middle;\n",
       "    }\n",
       "\n",
       "    .dataframe tbody tr th {\n",
       "        vertical-align: top;\n",
       "    }\n",
       "\n",
       "    .dataframe thead th {\n",
       "        text-align: right;\n",
       "    }\n",
       "</style>\n",
       "<table border=\"1\" class=\"dataframe\">\n",
       "  <thead>\n",
       "    <tr style=\"text-align: right;\">\n",
       "      <th></th>\n",
       "      <th>group</th>\n",
       "      <th>revenue</th>\n",
       "    </tr>\n",
       "  </thead>\n",
       "  <tbody>\n",
       "    <tr>\n",
       "      <th>0</th>\n",
       "      <td>control_1</td>\n",
       "      <td>9490.0</td>\n",
       "    </tr>\n",
       "    <tr>\n",
       "      <th>1</th>\n",
       "      <td>control_2</td>\n",
       "      <td>7969.0</td>\n",
       "    </tr>\n",
       "    <tr>\n",
       "      <th>2</th>\n",
       "      <td>test</td>\n",
       "      <td>12727.0</td>\n",
       "    </tr>\n",
       "  </tbody>\n",
       "</table>\n",
       "</div>"
      ],
      "text/plain": [
       "       group  revenue\n",
       "0  control_1   9490.0\n",
       "1  control_2   7969.0\n",
       "2       test  12727.0"
      ]
     },
     "execution_count": 31,
     "metadata": {},
     "output_type": "execute_result"
    }
   ],
   "source": [
    "transactions_data.groupby(['group', 'uid'], as_index = False).agg({'revenue': 'sum'}) \\\n",
    "                .groupby('group', as_index = False).agg({'revenue': 'median'})"
   ]
  },
  {
   "cell_type": "code",
   "execution_count": 32,
   "metadata": {},
   "outputs": [
    {
     "data": {
      "text/html": [
       "<div>\n",
       "<style scoped>\n",
       "    .dataframe tbody tr th:only-of-type {\n",
       "        vertical-align: middle;\n",
       "    }\n",
       "\n",
       "    .dataframe tbody tr th {\n",
       "        vertical-align: top;\n",
       "    }\n",
       "\n",
       "    .dataframe thead th {\n",
       "        text-align: right;\n",
       "    }\n",
       "</style>\n",
       "<table border=\"1\" class=\"dataframe\">\n",
       "  <thead>\n",
       "    <tr style=\"text-align: right;\">\n",
       "      <th></th>\n",
       "      <th>group</th>\n",
       "      <th>total_revenue</th>\n",
       "    </tr>\n",
       "  </thead>\n",
       "  <tbody>\n",
       "    <tr>\n",
       "      <th>0</th>\n",
       "      <td>control_1</td>\n",
       "      <td>9139</td>\n",
       "    </tr>\n",
       "    <tr>\n",
       "      <th>1</th>\n",
       "      <td>control_2</td>\n",
       "      <td>7969</td>\n",
       "    </tr>\n",
       "    <tr>\n",
       "      <th>2</th>\n",
       "      <td>test</td>\n",
       "      <td>12727</td>\n",
       "    </tr>\n",
       "  </tbody>\n",
       "</table>\n",
       "</div>"
      ],
      "text/plain": [
       "       group  total_revenue\n",
       "0  control_1           9139\n",
       "1  control_2           7969\n",
       "2       test          12727"
      ]
     },
     "execution_count": 32,
     "metadata": {},
     "output_type": "execute_result"
    }
   ],
   "source": [
    "transactions_data.sort_values(['paid_at'], ascending = False) \\\n",
    "        .drop_duplicates('uid').groupby('group', as_index = False).agg({'total_revenue': 'median'}) "
   ]
  },
  {
   "cell_type": "code",
   "execution_count": 33,
   "metadata": {},
   "outputs": [
    {
     "data": {
      "text/html": [
       "<div>\n",
       "<style scoped>\n",
       "    .dataframe tbody tr th:only-of-type {\n",
       "        vertical-align: middle;\n",
       "    }\n",
       "\n",
       "    .dataframe tbody tr th {\n",
       "        vertical-align: top;\n",
       "    }\n",
       "\n",
       "    .dataframe thead th {\n",
       "        text-align: right;\n",
       "    }\n",
       "</style>\n",
       "<table border=\"1\" class=\"dataframe\">\n",
       "  <thead>\n",
       "    <tr style=\"text-align: right;\">\n",
       "      <th></th>\n",
       "      <th>uid</th>\n",
       "      <th>revenue</th>\n",
       "      <th>total_revenue</th>\n",
       "    </tr>\n",
       "  </thead>\n",
       "  <tbody>\n",
       "    <tr>\n",
       "      <th>181</th>\n",
       "      <td>892355163.0</td>\n",
       "      <td>30264.0</td>\n",
       "      <td>0</td>\n",
       "    </tr>\n",
       "    <tr>\n",
       "      <th>192</th>\n",
       "      <td>960936960.0</td>\n",
       "      <td>806.0</td>\n",
       "      <td>26</td>\n",
       "    </tr>\n",
       "  </tbody>\n",
       "</table>\n",
       "</div>"
      ],
      "text/plain": [
       "             uid  revenue  total_revenue\n",
       "181  892355163.0  30264.0              0\n",
       "192  960936960.0    806.0             26"
      ]
     },
     "execution_count": 33,
     "metadata": {},
     "output_type": "execute_result"
    }
   ],
   "source": [
    "transactions_data.query('group == \"control_1\"').groupby('uid', as_index = False) \\\n",
    "                    .agg({'revenue': 'sum', 'total_revenue': 'max'}) \\\n",
    "                    .query('total_revenue != revenue')"
   ]
  },
  {
   "cell_type": "code",
   "execution_count": 34,
   "metadata": {
    "scrolled": true
   },
   "outputs": [
    {
     "data": {
      "text/html": [
       "<div>\n",
       "<style scoped>\n",
       "    .dataframe tbody tr th:only-of-type {\n",
       "        vertical-align: middle;\n",
       "    }\n",
       "\n",
       "    .dataframe tbody tr th {\n",
       "        vertical-align: top;\n",
       "    }\n",
       "\n",
       "    .dataframe thead th {\n",
       "        text-align: right;\n",
       "    }\n",
       "</style>\n",
       "<table border=\"1\" class=\"dataframe\">\n",
       "  <thead>\n",
       "    <tr style=\"text-align: right;\">\n",
       "      <th></th>\n",
       "      <th>uid</th>\n",
       "      <th>country</th>\n",
       "      <th>joined_at</th>\n",
       "      <th>paid_at</th>\n",
       "      <th>revenue</th>\n",
       "      <th>payment_id</th>\n",
       "      <th>from_page</th>\n",
       "      <th>product_type</th>\n",
       "      <th>weeks_until_payment</th>\n",
       "      <th>age</th>\n",
       "      <th>gender</th>\n",
       "      <th>was_premium</th>\n",
       "      <th>is_premium</th>\n",
       "      <th>total_revenue</th>\n",
       "      <th>group</th>\n",
       "      <th>coins</th>\n",
       "    </tr>\n",
       "  </thead>\n",
       "  <tbody>\n",
       "    <tr>\n",
       "      <th>338</th>\n",
       "      <td>960936960.0</td>\n",
       "      <td>Russian Federation</td>\n",
       "      <td>2015-01-19 11:49:00</td>\n",
       "      <td>2016-12-14 17:30:00</td>\n",
       "      <td>26.0</td>\n",
       "      <td>0.0</td>\n",
       "      <td>refund_VP</td>\n",
       "      <td>other_type</td>\n",
       "      <td>99</td>\n",
       "      <td>30</td>\n",
       "      <td>1</td>\n",
       "      <td>1.0</td>\n",
       "      <td>1.0</td>\n",
       "      <td>26</td>\n",
       "      <td>control_1</td>\n",
       "      <td>99958.0</td>\n",
       "    </tr>\n",
       "    <tr>\n",
       "      <th>374</th>\n",
       "      <td>960936960.0</td>\n",
       "      <td>Russian Federation</td>\n",
       "      <td>2015-01-19 11:49:00</td>\n",
       "      <td>2016-12-14 17:35:00</td>\n",
       "      <td>637.0</td>\n",
       "      <td>0.0</td>\n",
       "      <td>refung_AP</td>\n",
       "      <td>other_type</td>\n",
       "      <td>99</td>\n",
       "      <td>30</td>\n",
       "      <td>1</td>\n",
       "      <td>1.0</td>\n",
       "      <td>1.0</td>\n",
       "      <td>26</td>\n",
       "      <td>control_1</td>\n",
       "      <td>99958.0</td>\n",
       "    </tr>\n",
       "    <tr>\n",
       "      <th>497</th>\n",
       "      <td>960936960.0</td>\n",
       "      <td>Russian Federation</td>\n",
       "      <td>2015-01-19 11:49:00</td>\n",
       "      <td>2016-12-14 16:16:00</td>\n",
       "      <td>143.0</td>\n",
       "      <td>0.0</td>\n",
       "      <td>refund_WP</td>\n",
       "      <td>other_type</td>\n",
       "      <td>99</td>\n",
       "      <td>30</td>\n",
       "      <td>1</td>\n",
       "      <td>1.0</td>\n",
       "      <td>1.0</td>\n",
       "      <td>26</td>\n",
       "      <td>control_1</td>\n",
       "      <td>99958.0</td>\n",
       "    </tr>\n",
       "  </tbody>\n",
       "</table>\n",
       "</div>"
      ],
      "text/plain": [
       "             uid             country           joined_at             paid_at  \\\n",
       "338  960936960.0  Russian Federation 2015-01-19 11:49:00 2016-12-14 17:30:00   \n",
       "374  960936960.0  Russian Federation 2015-01-19 11:49:00 2016-12-14 17:35:00   \n",
       "497  960936960.0  Russian Federation 2015-01-19 11:49:00 2016-12-14 16:16:00   \n",
       "\n",
       "     revenue  payment_id  from_page product_type  weeks_until_payment  age  \\\n",
       "338     26.0         0.0  refund_VP   other_type                   99   30   \n",
       "374    637.0         0.0  refung_AP   other_type                   99   30   \n",
       "497    143.0         0.0  refund_WP   other_type                   99   30   \n",
       "\n",
       "     gender  was_premium  is_premium  total_revenue      group    coins  \n",
       "338       1          1.0         1.0             26  control_1  99958.0  \n",
       "374       1          1.0         1.0             26  control_1  99958.0  \n",
       "497       1          1.0         1.0             26  control_1  99958.0  "
      ]
     },
     "execution_count": 34,
     "metadata": {},
     "output_type": "execute_result"
    }
   ],
   "source": [
    "transactions_data.query('uid == 960936960.0')"
   ]
  },
  {
   "cell_type": "code",
   "execution_count": 35,
   "metadata": {
    "scrolled": true
   },
   "outputs": [
    {
     "data": {
      "text/html": [
       "<div>\n",
       "<style scoped>\n",
       "    .dataframe tbody tr th:only-of-type {\n",
       "        vertical-align: middle;\n",
       "    }\n",
       "\n",
       "    .dataframe tbody tr th {\n",
       "        vertical-align: top;\n",
       "    }\n",
       "\n",
       "    .dataframe thead th {\n",
       "        text-align: right;\n",
       "    }\n",
       "</style>\n",
       "<table border=\"1\" class=\"dataframe\">\n",
       "  <thead>\n",
       "    <tr style=\"text-align: right;\">\n",
       "      <th></th>\n",
       "      <th>uid</th>\n",
       "      <th>country</th>\n",
       "      <th>joined_at</th>\n",
       "      <th>paid_at</th>\n",
       "      <th>revenue</th>\n",
       "      <th>payment_id</th>\n",
       "      <th>from_page</th>\n",
       "      <th>product_type</th>\n",
       "      <th>weeks_until_payment</th>\n",
       "      <th>age</th>\n",
       "      <th>gender</th>\n",
       "      <th>was_premium</th>\n",
       "      <th>is_premium</th>\n",
       "      <th>total_revenue</th>\n",
       "      <th>group</th>\n",
       "      <th>coins</th>\n",
       "    </tr>\n",
       "  </thead>\n",
       "  <tbody>\n",
       "    <tr>\n",
       "      <th>338</th>\n",
       "      <td>960936960.0</td>\n",
       "      <td>Russian Federation</td>\n",
       "      <td>2015-01-19 11:49:00</td>\n",
       "      <td>2016-12-14 17:30:00</td>\n",
       "      <td>26.0</td>\n",
       "      <td>0.0</td>\n",
       "      <td>refund_VP</td>\n",
       "      <td>other_type</td>\n",
       "      <td>99</td>\n",
       "      <td>30</td>\n",
       "      <td>1</td>\n",
       "      <td>1.0</td>\n",
       "      <td>1.0</td>\n",
       "      <td>26</td>\n",
       "      <td>control_1</td>\n",
       "      <td>99958.0</td>\n",
       "    </tr>\n",
       "    <tr>\n",
       "      <th>374</th>\n",
       "      <td>960936960.0</td>\n",
       "      <td>Russian Federation</td>\n",
       "      <td>2015-01-19 11:49:00</td>\n",
       "      <td>2016-12-14 17:35:00</td>\n",
       "      <td>637.0</td>\n",
       "      <td>0.0</td>\n",
       "      <td>refung_AP</td>\n",
       "      <td>other_type</td>\n",
       "      <td>99</td>\n",
       "      <td>30</td>\n",
       "      <td>1</td>\n",
       "      <td>1.0</td>\n",
       "      <td>1.0</td>\n",
       "      <td>26</td>\n",
       "      <td>control_1</td>\n",
       "      <td>99958.0</td>\n",
       "    </tr>\n",
       "    <tr>\n",
       "      <th>497</th>\n",
       "      <td>960936960.0</td>\n",
       "      <td>Russian Federation</td>\n",
       "      <td>2015-01-19 11:49:00</td>\n",
       "      <td>2016-12-14 16:16:00</td>\n",
       "      <td>143.0</td>\n",
       "      <td>0.0</td>\n",
       "      <td>refund_WP</td>\n",
       "      <td>other_type</td>\n",
       "      <td>99</td>\n",
       "      <td>30</td>\n",
       "      <td>1</td>\n",
       "      <td>1.0</td>\n",
       "      <td>1.0</td>\n",
       "      <td>26</td>\n",
       "      <td>control_1</td>\n",
       "      <td>99958.0</td>\n",
       "    </tr>\n",
       "  </tbody>\n",
       "</table>\n",
       "</div>"
      ],
      "text/plain": [
       "             uid             country           joined_at             paid_at  \\\n",
       "338  960936960.0  Russian Federation 2015-01-19 11:49:00 2016-12-14 17:30:00   \n",
       "374  960936960.0  Russian Federation 2015-01-19 11:49:00 2016-12-14 17:35:00   \n",
       "497  960936960.0  Russian Federation 2015-01-19 11:49:00 2016-12-14 16:16:00   \n",
       "\n",
       "     revenue  payment_id  from_page product_type  weeks_until_payment  age  \\\n",
       "338     26.0         0.0  refund_VP   other_type                   99   30   \n",
       "374    637.0         0.0  refung_AP   other_type                   99   30   \n",
       "497    143.0         0.0  refund_WP   other_type                   99   30   \n",
       "\n",
       "     gender  was_premium  is_premium  total_revenue      group    coins  \n",
       "338       1          1.0         1.0             26  control_1  99958.0  \n",
       "374       1          1.0         1.0             26  control_1  99958.0  \n",
       "497       1          1.0         1.0             26  control_1  99958.0  "
      ]
     },
     "execution_count": 35,
     "metadata": {},
     "output_type": "execute_result"
    }
   ],
   "source": [
    "transactions_data.query('from_page == [\"refund_VP\", \"refung_AP\", \"refund_WP\"]')"
   ]
  },
  {
   "cell_type": "code",
   "execution_count": 36,
   "metadata": {},
   "outputs": [],
   "source": [
    "transactions_data = transactions_data \\\n",
    "                    .drop(transactions_data.query('from_page == [\"refund_VP\", \"refung_AP\", \"refund_WP\"]') \\\n",
    "                    .index)"
   ]
  },
  {
   "cell_type": "markdown",
   "metadata": {},
   "source": [
    "Во втором случае скорее всего произошла ошибка при записи данных, поэтому просто заменяем значение по столбцу total_revenue для пользователя"
   ]
  },
  {
   "cell_type": "code",
   "execution_count": 37,
   "metadata": {},
   "outputs": [
    {
     "data": {
      "text/html": [
       "<div>\n",
       "<style scoped>\n",
       "    .dataframe tbody tr th:only-of-type {\n",
       "        vertical-align: middle;\n",
       "    }\n",
       "\n",
       "    .dataframe tbody tr th {\n",
       "        vertical-align: top;\n",
       "    }\n",
       "\n",
       "    .dataframe thead th {\n",
       "        text-align: right;\n",
       "    }\n",
       "</style>\n",
       "<table border=\"1\" class=\"dataframe\">\n",
       "  <thead>\n",
       "    <tr style=\"text-align: right;\">\n",
       "      <th></th>\n",
       "      <th>uid</th>\n",
       "      <th>country</th>\n",
       "      <th>joined_at</th>\n",
       "      <th>paid_at</th>\n",
       "      <th>revenue</th>\n",
       "      <th>payment_id</th>\n",
       "      <th>from_page</th>\n",
       "      <th>product_type</th>\n",
       "      <th>weeks_until_payment</th>\n",
       "      <th>age</th>\n",
       "      <th>gender</th>\n",
       "      <th>was_premium</th>\n",
       "      <th>is_premium</th>\n",
       "      <th>total_revenue</th>\n",
       "      <th>group</th>\n",
       "      <th>coins</th>\n",
       "    </tr>\n",
       "  </thead>\n",
       "  <tbody>\n",
       "    <tr>\n",
       "      <th>576</th>\n",
       "      <td>892355163.0</td>\n",
       "      <td>United States of America</td>\n",
       "      <td>2017-10-15 18:45:00</td>\n",
       "      <td>2017-10-16 09:52:00</td>\n",
       "      <td>30264.0</td>\n",
       "      <td>68.0</td>\n",
       "      <td>super_popup</td>\n",
       "      <td>other_type</td>\n",
       "      <td>0</td>\n",
       "      <td>40</td>\n",
       "      <td>1</td>\n",
       "      <td>1.0</td>\n",
       "      <td>0.0</td>\n",
       "      <td>0</td>\n",
       "      <td>control_1</td>\n",
       "      <td>0.0</td>\n",
       "    </tr>\n",
       "  </tbody>\n",
       "</table>\n",
       "</div>"
      ],
      "text/plain": [
       "             uid                   country           joined_at  \\\n",
       "576  892355163.0  United States of America 2017-10-15 18:45:00   \n",
       "\n",
       "                paid_at  revenue  payment_id    from_page product_type  \\\n",
       "576 2017-10-16 09:52:00  30264.0        68.0  super_popup   other_type   \n",
       "\n",
       "     weeks_until_payment  age  gender  was_premium  is_premium  total_revenue  \\\n",
       "576                    0   40       1          1.0         0.0              0   \n",
       "\n",
       "         group  coins  \n",
       "576  control_1    0.0  "
      ]
     },
     "execution_count": 37,
     "metadata": {},
     "output_type": "execute_result"
    }
   ],
   "source": [
    "transactions_data.query('uid == 892355163.0')"
   ]
  },
  {
   "cell_type": "code",
   "execution_count": 38,
   "metadata": {},
   "outputs": [],
   "source": [
    "transactions_data.loc[transactions_data['uid'] == 892355163.0, 'total_revenue'] = 30264.0"
   ]
  },
  {
   "cell_type": "markdown",
   "metadata": {},
   "source": [
    "Чтобы понимать, какую роль может играть страница, с которой пользователь перешел для оплаты, сделаем преобразование таблицы с транзакциями.  \n",
    "По всем типам страницы, кроме none и fans наблюдается следующая картина: пользователи либо платили за премиум подписку (или ее пробную версию), либо тип продукта other_type и coins.   \n",
    "Используем это при дальнейшем анализе.\n"
   ]
  },
  {
   "cell_type": "markdown",
   "metadata": {},
   "source": [
    "Страницы, переход с которых закончился оплатой trial_premium или premium_no_trial"
   ]
  },
  {
   "cell_type": "code",
   "execution_count": 39,
   "metadata": {
    "scrolled": false
   },
   "outputs": [
    {
     "data": {
      "text/html": [
       "<div>\n",
       "<style scoped>\n",
       "    .dataframe tbody tr th:only-of-type {\n",
       "        vertical-align: middle;\n",
       "    }\n",
       "\n",
       "    .dataframe tbody tr th {\n",
       "        vertical-align: top;\n",
       "    }\n",
       "\n",
       "    .dataframe thead th {\n",
       "        text-align: right;\n",
       "    }\n",
       "</style>\n",
       "<table border=\"1\" class=\"dataframe\">\n",
       "  <thead>\n",
       "    <tr style=\"text-align: right;\">\n",
       "      <th>product_type</th>\n",
       "      <th>coins</th>\n",
       "      <th>other_type</th>\n",
       "      <th>premium_no_trial</th>\n",
       "      <th>trial_premium</th>\n",
       "    </tr>\n",
       "    <tr>\n",
       "      <th>from_page</th>\n",
       "      <th></th>\n",
       "      <th></th>\n",
       "      <th></th>\n",
       "      <th></th>\n",
       "    </tr>\n",
       "  </thead>\n",
       "  <tbody>\n",
       "    <tr>\n",
       "      <th>autoreply_message</th>\n",
       "      <td>0.0</td>\n",
       "      <td>0.0</td>\n",
       "      <td>67.0</td>\n",
       "      <td>13.0</td>\n",
       "    </tr>\n",
       "    <tr>\n",
       "      <th>dating</th>\n",
       "      <td>0.0</td>\n",
       "      <td>0.0</td>\n",
       "      <td>18.0</td>\n",
       "      <td>6.0</td>\n",
       "    </tr>\n",
       "    <tr>\n",
       "      <th>delivery_vip</th>\n",
       "      <td>0.0</td>\n",
       "      <td>0.0</td>\n",
       "      <td>1.0</td>\n",
       "      <td>0.0</td>\n",
       "    </tr>\n",
       "    <tr>\n",
       "      <th>fans</th>\n",
       "      <td>5.0</td>\n",
       "      <td>6.0</td>\n",
       "      <td>4.0</td>\n",
       "      <td>0.0</td>\n",
       "    </tr>\n",
       "    <tr>\n",
       "      <th>left_sidebar_menu</th>\n",
       "      <td>0.0</td>\n",
       "      <td>0.0</td>\n",
       "      <td>45.0</td>\n",
       "      <td>2.0</td>\n",
       "    </tr>\n",
       "    <tr>\n",
       "      <th>no_sympathy</th>\n",
       "      <td>0.0</td>\n",
       "      <td>0.0</td>\n",
       "      <td>2.0</td>\n",
       "      <td>0.0</td>\n",
       "    </tr>\n",
       "    <tr>\n",
       "      <th>none</th>\n",
       "      <td>39.0</td>\n",
       "      <td>5.0</td>\n",
       "      <td>53.0</td>\n",
       "      <td>3.0</td>\n",
       "    </tr>\n",
       "    <tr>\n",
       "      <th>popular_users_block</th>\n",
       "      <td>0.0</td>\n",
       "      <td>0.0</td>\n",
       "      <td>18.0</td>\n",
       "      <td>1.0</td>\n",
       "    </tr>\n",
       "    <tr>\n",
       "      <th>popular_users_chat</th>\n",
       "      <td>0.0</td>\n",
       "      <td>0.0</td>\n",
       "      <td>13.0</td>\n",
       "      <td>2.0</td>\n",
       "    </tr>\n",
       "    <tr>\n",
       "      <th>promo_09</th>\n",
       "      <td>0.0</td>\n",
       "      <td>0.0</td>\n",
       "      <td>58.0</td>\n",
       "      <td>3.0</td>\n",
       "    </tr>\n",
       "    <tr>\n",
       "      <th>send_message</th>\n",
       "      <td>0.0</td>\n",
       "      <td>0.0</td>\n",
       "      <td>6.0</td>\n",
       "      <td>2.0</td>\n",
       "    </tr>\n",
       "    <tr>\n",
       "      <th>trial_vip_popup</th>\n",
       "      <td>0.0</td>\n",
       "      <td>0.0</td>\n",
       "      <td>0.0</td>\n",
       "      <td>149.0</td>\n",
       "    </tr>\n",
       "    <tr>\n",
       "      <th>user_profile</th>\n",
       "      <td>0.0</td>\n",
       "      <td>0.0</td>\n",
       "      <td>4.0</td>\n",
       "      <td>1.0</td>\n",
       "    </tr>\n",
       "  </tbody>\n",
       "</table>\n",
       "</div>"
      ],
      "text/plain": [
       "product_type         coins  other_type  premium_no_trial  trial_premium\n",
       "from_page                                                              \n",
       "autoreply_message      0.0         0.0              67.0           13.0\n",
       "dating                 0.0         0.0              18.0            6.0\n",
       "delivery_vip           0.0         0.0               1.0            0.0\n",
       "fans                   5.0         6.0               4.0            0.0\n",
       "left_sidebar_menu      0.0         0.0              45.0            2.0\n",
       "no_sympathy            0.0         0.0               2.0            0.0\n",
       "none                  39.0         5.0              53.0            3.0\n",
       "popular_users_block    0.0         0.0              18.0            1.0\n",
       "popular_users_chat     0.0         0.0              13.0            2.0\n",
       "promo_09               0.0         0.0              58.0            3.0\n",
       "send_message           0.0         0.0               6.0            2.0\n",
       "trial_vip_popup        0.0         0.0               0.0          149.0\n",
       "user_profile           0.0         0.0               4.0            1.0"
      ]
     },
     "execution_count": 39,
     "metadata": {},
     "output_type": "execute_result"
    }
   ],
   "source": [
    "transactions_data.groupby(['product_type', 'from_page'], as_index = False) \\\n",
    "                .agg({'uid': 'count'}) \\\n",
    "                .pivot(index = 'from_page', columns = 'product_type', values = 'uid') \\\n",
    "                .fillna(0) \\\n",
    "                .query('premium_no_trial > 0 or trial_premium > 0')"
   ]
  },
  {
   "cell_type": "markdown",
   "metadata": {},
   "source": [
    "Страницы, переход с которых закончился оплатой coins или other type"
   ]
  },
  {
   "cell_type": "code",
   "execution_count": 40,
   "metadata": {},
   "outputs": [
    {
     "data": {
      "text/html": [
       "<div>\n",
       "<style scoped>\n",
       "    .dataframe tbody tr th:only-of-type {\n",
       "        vertical-align: middle;\n",
       "    }\n",
       "\n",
       "    .dataframe tbody tr th {\n",
       "        vertical-align: top;\n",
       "    }\n",
       "\n",
       "    .dataframe thead th {\n",
       "        text-align: right;\n",
       "    }\n",
       "</style>\n",
       "<table border=\"1\" class=\"dataframe\">\n",
       "  <thead>\n",
       "    <tr style=\"text-align: right;\">\n",
       "      <th>product_type</th>\n",
       "      <th>coins</th>\n",
       "      <th>other_type</th>\n",
       "      <th>premium_no_trial</th>\n",
       "      <th>trial_premium</th>\n",
       "    </tr>\n",
       "    <tr>\n",
       "      <th>from_page</th>\n",
       "      <th></th>\n",
       "      <th></th>\n",
       "      <th></th>\n",
       "      <th></th>\n",
       "    </tr>\n",
       "  </thead>\n",
       "  <tbody>\n",
       "    <tr>\n",
       "      <th>ad_to_photo</th>\n",
       "      <td>7.0</td>\n",
       "      <td>3.0</td>\n",
       "      <td>0.0</td>\n",
       "      <td>0.0</td>\n",
       "    </tr>\n",
       "    <tr>\n",
       "      <th>admins</th>\n",
       "      <td>0.0</td>\n",
       "      <td>2.0</td>\n",
       "      <td>0.0</td>\n",
       "      <td>0.0</td>\n",
       "    </tr>\n",
       "    <tr>\n",
       "      <th>autorefill</th>\n",
       "      <td>48.0</td>\n",
       "      <td>0.0</td>\n",
       "      <td>0.0</td>\n",
       "      <td>0.0</td>\n",
       "    </tr>\n",
       "    <tr>\n",
       "      <th>coins_popup</th>\n",
       "      <td>0.0</td>\n",
       "      <td>3.0</td>\n",
       "      <td>0.0</td>\n",
       "      <td>0.0</td>\n",
       "    </tr>\n",
       "    <tr>\n",
       "      <th>empty_admins</th>\n",
       "      <td>0.0</td>\n",
       "      <td>5.0</td>\n",
       "      <td>0.0</td>\n",
       "      <td>0.0</td>\n",
       "    </tr>\n",
       "    <tr>\n",
       "      <th>empty_likes</th>\n",
       "      <td>212.0</td>\n",
       "      <td>60.0</td>\n",
       "      <td>0.0</td>\n",
       "      <td>0.0</td>\n",
       "    </tr>\n",
       "    <tr>\n",
       "      <th>empty_mutual</th>\n",
       "      <td>0.0</td>\n",
       "      <td>2.0</td>\n",
       "      <td>0.0</td>\n",
       "      <td>0.0</td>\n",
       "    </tr>\n",
       "    <tr>\n",
       "      <th>fans</th>\n",
       "      <td>5.0</td>\n",
       "      <td>6.0</td>\n",
       "      <td>4.0</td>\n",
       "      <td>0.0</td>\n",
       "    </tr>\n",
       "    <tr>\n",
       "      <th>gifts</th>\n",
       "      <td>16.0</td>\n",
       "      <td>4.0</td>\n",
       "      <td>0.0</td>\n",
       "      <td>0.0</td>\n",
       "    </tr>\n",
       "    <tr>\n",
       "      <th>likes</th>\n",
       "      <td>1.0</td>\n",
       "      <td>0.0</td>\n",
       "      <td>0.0</td>\n",
       "      <td>0.0</td>\n",
       "    </tr>\n",
       "    <tr>\n",
       "      <th>menu</th>\n",
       "      <td>51.0</td>\n",
       "      <td>21.0</td>\n",
       "      <td>0.0</td>\n",
       "      <td>0.0</td>\n",
       "    </tr>\n",
       "    <tr>\n",
       "      <th>none</th>\n",
       "      <td>39.0</td>\n",
       "      <td>5.0</td>\n",
       "      <td>53.0</td>\n",
       "      <td>3.0</td>\n",
       "    </tr>\n",
       "    <tr>\n",
       "      <th>super_popup</th>\n",
       "      <td>0.0</td>\n",
       "      <td>4.0</td>\n",
       "      <td>0.0</td>\n",
       "      <td>0.0</td>\n",
       "    </tr>\n",
       "    <tr>\n",
       "      <th>sympathy</th>\n",
       "      <td>0.0</td>\n",
       "      <td>10.0</td>\n",
       "      <td>0.0</td>\n",
       "      <td>0.0</td>\n",
       "    </tr>\n",
       "  </tbody>\n",
       "</table>\n",
       "</div>"
      ],
      "text/plain": [
       "product_type  coins  other_type  premium_no_trial  trial_premium\n",
       "from_page                                                       \n",
       "ad_to_photo     7.0         3.0               0.0            0.0\n",
       "admins          0.0         2.0               0.0            0.0\n",
       "autorefill     48.0         0.0               0.0            0.0\n",
       "coins_popup     0.0         3.0               0.0            0.0\n",
       "empty_admins    0.0         5.0               0.0            0.0\n",
       "empty_likes   212.0        60.0               0.0            0.0\n",
       "empty_mutual    0.0         2.0               0.0            0.0\n",
       "fans            5.0         6.0               4.0            0.0\n",
       "gifts          16.0         4.0               0.0            0.0\n",
       "likes           1.0         0.0               0.0            0.0\n",
       "menu           51.0        21.0               0.0            0.0\n",
       "none           39.0         5.0              53.0            3.0\n",
       "super_popup     0.0         4.0               0.0            0.0\n",
       "sympathy        0.0        10.0               0.0            0.0"
      ]
     },
     "execution_count": 40,
     "metadata": {},
     "output_type": "execute_result"
    }
   ],
   "source": [
    "transactions_data.groupby(['product_type', 'from_page'], as_index = False) \\\n",
    "                .agg({'uid': 'count'}) \\\n",
    "                .pivot(index = 'from_page', columns = 'product_type', values = 'uid') \\\n",
    "                .fillna(0) \\\n",
    "                .query('coins > 0 or other_type > 0')"
   ]
  },
  {
   "cell_type": "markdown",
   "metadata": {},
   "source": [
    "### Распределение дохода с пользователя в разных группах\n",
    "1. Создаем датасет с информацией о доходе с пользователей, которые совершили покупки\n",
    "3. Строим графики и смотрим на описательную статистику\n",
    "4. Разбираемся в выбросах"
   ]
  },
  {
   "cell_type": "code",
   "execution_count": 41,
   "metadata": {},
   "outputs": [],
   "source": [
    "revenue_per_user = transactions_data.drop_duplicates('uid') \\\n",
    "                    .drop(columns = ['paid_at', 'payment_id', 'from_page', 'product_type'])"
   ]
  },
  {
   "cell_type": "code",
   "execution_count": 42,
   "metadata": {
    "scrolled": true
   },
   "outputs": [
    {
     "data": {
      "text/html": [
       "<div>\n",
       "<style scoped>\n",
       "    .dataframe tbody tr th:only-of-type {\n",
       "        vertical-align: middle;\n",
       "    }\n",
       "\n",
       "    .dataframe tbody tr th {\n",
       "        vertical-align: top;\n",
       "    }\n",
       "\n",
       "    .dataframe thead th {\n",
       "        text-align: right;\n",
       "    }\n",
       "</style>\n",
       "<table border=\"1\" class=\"dataframe\">\n",
       "  <thead>\n",
       "    <tr style=\"text-align: right;\">\n",
       "      <th></th>\n",
       "      <th>uid</th>\n",
       "      <th>country</th>\n",
       "      <th>joined_at</th>\n",
       "      <th>revenue</th>\n",
       "      <th>weeks_until_payment</th>\n",
       "      <th>age</th>\n",
       "      <th>gender</th>\n",
       "      <th>was_premium</th>\n",
       "      <th>is_premium</th>\n",
       "      <th>total_revenue</th>\n",
       "      <th>group</th>\n",
       "      <th>coins</th>\n",
       "    </tr>\n",
       "  </thead>\n",
       "  <tbody>\n",
       "    <tr>\n",
       "      <th>0</th>\n",
       "      <td>891345942.0</td>\n",
       "      <td>Italy</td>\n",
       "      <td>2017-05-11 13:00:00</td>\n",
       "      <td>12909.0</td>\n",
       "      <td>27</td>\n",
       "      <td>52</td>\n",
       "      <td>1</td>\n",
       "      <td>1.0</td>\n",
       "      <td>1.0</td>\n",
       "      <td>12909.0</td>\n",
       "      <td>test</td>\n",
       "      <td>0.0</td>\n",
       "    </tr>\n",
       "    <tr>\n",
       "      <th>1</th>\n",
       "      <td>892054251.0</td>\n",
       "      <td>United States of America</td>\n",
       "      <td>2017-10-22 00:33:00</td>\n",
       "      <td>13923.0</td>\n",
       "      <td>1</td>\n",
       "      <td>37</td>\n",
       "      <td>1</td>\n",
       "      <td>1.0</td>\n",
       "      <td>1.0</td>\n",
       "      <td>13923.0</td>\n",
       "      <td>test</td>\n",
       "      <td>0.0</td>\n",
       "    </tr>\n",
       "    <tr>\n",
       "      <th>2</th>\n",
       "      <td>892236423.0</td>\n",
       "      <td>United States of America</td>\n",
       "      <td>2017-10-18 01:09:00</td>\n",
       "      <td>3783.0</td>\n",
       "      <td>1</td>\n",
       "      <td>23</td>\n",
       "      <td>1</td>\n",
       "      <td>1.0</td>\n",
       "      <td>1.0</td>\n",
       "      <td>95823.0</td>\n",
       "      <td>test</td>\n",
       "      <td>378.0</td>\n",
       "    </tr>\n",
       "  </tbody>\n",
       "</table>\n",
       "</div>"
      ],
      "text/plain": [
       "           uid                   country           joined_at  revenue  \\\n",
       "0  891345942.0                     Italy 2017-05-11 13:00:00  12909.0   \n",
       "1  892054251.0  United States of America 2017-10-22 00:33:00  13923.0   \n",
       "2  892236423.0  United States of America 2017-10-18 01:09:00   3783.0   \n",
       "\n",
       "   weeks_until_payment  age  gender  was_premium  is_premium  total_revenue  \\\n",
       "0                   27   52       1          1.0         1.0        12909.0   \n",
       "1                    1   37       1          1.0         1.0        13923.0   \n",
       "2                    1   23       1          1.0         1.0        95823.0   \n",
       "\n",
       "  group  coins  \n",
       "0  test    0.0  \n",
       "1  test    0.0  \n",
       "2  test  378.0  "
      ]
     },
     "execution_count": 42,
     "metadata": {},
     "output_type": "execute_result"
    }
   ],
   "source": [
    "revenue_per_user.head(3)"
   ]
  },
  {
   "cell_type": "markdown",
   "metadata": {},
   "source": [
    "### ARPU"
   ]
  },
  {
   "cell_type": "markdown",
   "metadata": {},
   "source": [
    "Распределение дохода с пользователя в **тестовой группе**"
   ]
  },
  {
   "cell_type": "code",
   "execution_count": 43,
   "metadata": {
    "scrolled": true
   },
   "outputs": [
    {
     "data": {
      "image/png": "[encoded data removed]",
      "text/plain": [
       "<Figure size 1080x288 with 1 Axes>"
      ]
     },
     "metadata": {
      "needs_background": "light"
     },
     "output_type": "display_data"
    }
   ],
   "source": [
    "plt.figure(figsize = (15, 4))\n",
    "sns.histplot(data = users_info.query(\"group == 'test'\"),\n",
    "             x = 'total_revenue',\n",
    "             color = group_colors['test'],\n",
    "             bins = 30)\n",
    "plt.xlabel(\"Subscription revenue per user\", size=12)\n",
    "plt.ylabel(\"Number of users\", size=12)\n",
    "plt.title('Subscription revenue in test group', pad = 20, size = 14)\n",
    "sns.despine()"
   ]
  },
  {
   "cell_type": "markdown",
   "metadata": {},
   "source": [
    "Распределение дохода с пользователя в **контрольной группе**"
   ]
  },
  {
   "cell_type": "code",
   "execution_count": 44,
   "metadata": {},
   "outputs": [
    {
     "data": {
      "image/png": "[encoded data removed]",
      "text/plain": [
       "<Figure size 1080x288 with 1 Axes>"
      ]
     },
     "metadata": {
      "needs_background": "light"
     },
     "output_type": "display_data"
    }
   ],
   "source": [
    "plt.figure(figsize = (15, 4))\n",
    "sns.histplot(data = users_info.query(\"group == ['control_1', 'control_2']\"),\n",
    "             x = 'total_revenue',\n",
    "             color = group_colors['cont'],\n",
    "             bins = 30)\n",
    "plt.xlabel(\"Subscription revenue per user\", size=12)\n",
    "plt.ylabel(\"Number of users\", size=12)\n",
    "plt.title('Subscription revenue in test group', pad = 20, size = 14)\n",
    "sns.despine()"
   ]
  },
  {
   "cell_type": "markdown",
   "metadata": {},
   "source": [
    "Значения ARPU в тестовой и контрольной группах"
   ]
  },
  {
   "cell_type": "code",
   "execution_count": 45,
   "metadata": {},
   "outputs": [
    {
     "data": {
      "text/html": [
       "<div>\n",
       "<style scoped>\n",
       "    .dataframe tbody tr th:only-of-type {\n",
       "        vertical-align: middle;\n",
       "    }\n",
       "\n",
       "    .dataframe tbody tr th {\n",
       "        vertical-align: top;\n",
       "    }\n",
       "\n",
       "    .dataframe thead th {\n",
       "        text-align: right;\n",
       "    }\n",
       "</style>\n",
       "<table border=\"1\" class=\"dataframe\">\n",
       "  <thead>\n",
       "    <tr style=\"text-align: right;\">\n",
       "      <th></th>\n",
       "      <th>group</th>\n",
       "      <th>revenue</th>\n",
       "    </tr>\n",
       "  </thead>\n",
       "  <tbody>\n",
       "    <tr>\n",
       "      <th>0</th>\n",
       "      <td>control</td>\n",
       "      <td>523.210716</td>\n",
       "    </tr>\n",
       "    <tr>\n",
       "      <th>1</th>\n",
       "      <td>test</td>\n",
       "      <td>534.080316</td>\n",
       "    </tr>\n",
       "  </tbody>\n",
       "</table>\n",
       "</div>"
      ],
      "text/plain": [
       "     group     revenue\n",
       "0  control  523.210716\n",
       "1     test  534.080316"
      ]
     },
     "execution_count": 45,
     "metadata": {},
     "output_type": "execute_result"
    }
   ],
   "source": [
    "ARPU = pd.DataFrame( \n",
    "{'group' : ['control', 'test'],\n",
    "'revenue' : [users_info \\\n",
    "           .query(\"group != 'test'\") \\\n",
    "           .agg({'total_revenue': 'mean'})[0],\n",
    "\n",
    "            users_info\\\n",
    "            .query(\"group == 'test'\")\\\n",
    "            .agg({'total_revenue': 'mean'})[0]]}, \n",
    "            index = None)\n",
    "ARPU"
   ]
  },
  {
   "cell_type": "code",
   "execution_count": 46,
   "metadata": {},
   "outputs": [
    {
     "data": {
      "image/png": "[encoded data removed]",
      "text/plain": [
       "<Figure size 432x288 with 1 Axes>"
      ]
     },
     "metadata": {
      "needs_background": "light"
     },
     "output_type": "display_data"
    }
   ],
   "source": [
    "sns.barplot(data = ARPU, x = 'group', y = 'revenue', palette = group_palette)\n",
    "plt.xlabel(\"Group\", size=12)\n",
    "plt.ylabel(\"Revenue\", size=12)\n",
    "plt.title('ARPU in groups', pad = 20, size = 14)\n",
    "sns.despine()"
   ]
  },
  {
   "cell_type": "markdown",
   "metadata": {},
   "source": [
    "### ARPPU"
   ]
  },
  {
   "cell_type": "markdown",
   "metadata": {},
   "source": [
    "Распределение дохода с платящего пользователя в **тестовой группе**"
   ]
  },
  {
   "cell_type": "code",
   "execution_count": 47,
   "metadata": {
    "scrolled": false
   },
   "outputs": [
    {
     "data": {
      "image/png": "[encoded data removed]",
      "text/plain": [
       "<Figure size 1080x288 with 1 Axes>"
      ]
     },
     "metadata": {
      "needs_background": "light"
     },
     "output_type": "display_data"
    }
   ],
   "source": [
    "plt.figure(figsize = (15, 4))\n",
    "sns.histplot(data = revenue_per_user.query(\"group == 'test'\"),\\\n",
    "             x = 'total_revenue', \\\n",
    "             color = group_colors['test'])\n",
    "plt.xlabel(\"Subscription revenue per user\", size=12)\n",
    "plt.ylabel(\"Number of users\", size=12)\n",
    "plt.title('Subscription revenue in test group', pad = 20, size = 14)\n",
    "sns.despine()"
   ]
  },
  {
   "cell_type": "markdown",
   "metadata": {},
   "source": [
    "Распределение дохода с платящего пользователя в **контрольной группе**"
   ]
  },
  {
   "cell_type": "code",
   "execution_count": 48,
   "metadata": {
    "scrolled": false
   },
   "outputs": [
    {
     "data": {
      "image/png": "[encoded data removed]",
      "text/plain": [
       "<Figure size 1080x288 with 1 Axes>"
      ]
     },
     "metadata": {
      "needs_background": "light"
     },
     "output_type": "display_data"
    }
   ],
   "source": [
    "plt.figure(figsize = (15, 4))\n",
    "sns.histplot(data = revenue_per_user.query(\"group == ('control_1', 'control_2')\"),\n",
    "             x = 'total_revenue')\n",
    "plt.xlabel(\"Subscription revenue per user\", size=12)\n",
    "plt.ylabel(\"Number of users\", size=12)\n",
    "plt.title('Subscription revenue in control group', pad = 20, size = 14)\n",
    "sns.despine()"
   ]
  },
  {
   "cell_type": "code",
   "execution_count": 49,
   "metadata": {},
   "outputs": [
    {
     "data": {
      "text/html": [
       "<div>\n",
       "<style scoped>\n",
       "    .dataframe tbody tr th:only-of-type {\n",
       "        vertical-align: middle;\n",
       "    }\n",
       "\n",
       "    .dataframe tbody tr th {\n",
       "        vertical-align: top;\n",
       "    }\n",
       "\n",
       "    .dataframe thead th {\n",
       "        text-align: right;\n",
       "    }\n",
       "</style>\n",
       "<table border=\"1\" class=\"dataframe\">\n",
       "  <thead>\n",
       "    <tr style=\"text-align: right;\">\n",
       "      <th></th>\n",
       "      <th>group</th>\n",
       "      <th>revenue</th>\n",
       "    </tr>\n",
       "  </thead>\n",
       "  <tbody>\n",
       "    <tr>\n",
       "      <th>0</th>\n",
       "      <td>control</td>\n",
       "      <td>11957.633245</td>\n",
       "    </tr>\n",
       "    <tr>\n",
       "      <th>1</th>\n",
       "      <td>test</td>\n",
       "      <td>15759.027397</td>\n",
       "    </tr>\n",
       "  </tbody>\n",
       "</table>\n",
       "</div>"
      ],
      "text/plain": [
       "     group       revenue\n",
       "0  control  11957.633245\n",
       "1     test  15759.027397"
      ]
     },
     "execution_count": 49,
     "metadata": {},
     "output_type": "execute_result"
    }
   ],
   "source": [
    "ARPPU = pd.DataFrame( \n",
    "{'group' : ['control', 'test'],\n",
    "'revenue' : [revenue_per_user \\\n",
    "           .query(\"group != 'test'\") \\\n",
    "           .agg({'total_revenue': 'mean'})[0],\n",
    "\n",
    "            revenue_per_user\\\n",
    "            .query(\"group == 'test'\")\\\n",
    "            .agg({'total_revenue': 'mean'})[0]]}, \n",
    "            index = None)\n",
    "ARPPU"
   ]
  },
  {
   "cell_type": "code",
   "execution_count": 50,
   "metadata": {},
   "outputs": [
    {
     "data": {
      "image/png": "[encoded data removed]",
      "text/plain": [
       "<Figure size 432x288 with 1 Axes>"
      ]
     },
     "metadata": {
      "needs_background": "light"
     },
     "output_type": "display_data"
    }
   ],
   "source": [
    "sns.barplot(data = ARPPU, x = 'group', y = 'revenue', palette = group_palette)\n",
    "plt.xlabel(\"Group\", size=12)\n",
    "plt.ylabel(\"Revenue\", size=12)\n",
    "plt.title('ARPPU in groups', pad = 20, size = 14)\n",
    "sns.despine()"
   ]
  },
  {
   "cell_type": "markdown",
   "metadata": {},
   "source": [
    "### Дубликаты и выбросы\n",
    "\n",
    "Необходимо понять природу сильных выбросов (в особенности в контрольной группе) для предупреждения ошибок при проведении статистического анализа.\n",
    "\n",
    "- Смотрим на записи в группе control_1, которые привели к наличию сильных выбросов\n",
    "- Убеждаемся, что на наличие 'этих выбросов повлиял один уникальный пользователь"
   ]
  },
  {
   "cell_type": "code",
   "execution_count": 51,
   "metadata": {},
   "outputs": [
    {
     "data": {
      "text/html": [
       "<div>\n",
       "<style scoped>\n",
       "    .dataframe tbody tr th:only-of-type {\n",
       "        vertical-align: middle;\n",
       "    }\n",
       "\n",
       "    .dataframe tbody tr th {\n",
       "        vertical-align: top;\n",
       "    }\n",
       "\n",
       "    .dataframe thead th {\n",
       "        text-align: right;\n",
       "    }\n",
       "</style>\n",
       "<table border=\"1\" class=\"dataframe\">\n",
       "  <thead>\n",
       "    <tr style=\"text-align: right;\">\n",
       "      <th></th>\n",
       "      <th>uid</th>\n",
       "      <th>country</th>\n",
       "      <th>joined_at</th>\n",
       "      <th>paid_at</th>\n",
       "      <th>revenue</th>\n",
       "      <th>payment_id</th>\n",
       "      <th>from_page</th>\n",
       "      <th>product_type</th>\n",
       "      <th>weeks_until_payment</th>\n",
       "      <th>age</th>\n",
       "      <th>gender</th>\n",
       "      <th>was_premium</th>\n",
       "      <th>is_premium</th>\n",
       "      <th>total_revenue</th>\n",
       "      <th>group</th>\n",
       "      <th>coins</th>\n",
       "    </tr>\n",
       "  </thead>\n",
       "  <tbody>\n",
       "    <tr>\n",
       "      <th>322</th>\n",
       "      <td>892333905.0</td>\n",
       "      <td>Italy</td>\n",
       "      <td>2017-10-16 01:38:00</td>\n",
       "      <td>2017-10-16 01:42:00</td>\n",
       "      <td>3783.0</td>\n",
       "      <td>67.0</td>\n",
       "      <td>menu</td>\n",
       "      <td>other_type</td>\n",
       "      <td>0</td>\n",
       "      <td>22</td>\n",
       "      <td>1</td>\n",
       "      <td>1.0</td>\n",
       "      <td>1.0</td>\n",
       "      <td>486330.0</td>\n",
       "      <td>control_1</td>\n",
       "      <td>3608.0</td>\n",
       "    </tr>\n",
       "    <tr>\n",
       "      <th>286</th>\n",
       "      <td>892333905.0</td>\n",
       "      <td>Italy</td>\n",
       "      <td>2017-10-16 01:38:00</td>\n",
       "      <td>2017-10-16 01:44:00</td>\n",
       "      <td>3783.0</td>\n",
       "      <td>67.0</td>\n",
       "      <td>menu</td>\n",
       "      <td>other_type</td>\n",
       "      <td>0</td>\n",
       "      <td>22</td>\n",
       "      <td>1</td>\n",
       "      <td>1.0</td>\n",
       "      <td>1.0</td>\n",
       "      <td>486330.0</td>\n",
       "      <td>control_1</td>\n",
       "      <td>3608.0</td>\n",
       "    </tr>\n",
       "    <tr>\n",
       "      <th>320</th>\n",
       "      <td>892333905.0</td>\n",
       "      <td>Italy</td>\n",
       "      <td>2017-10-16 01:38:00</td>\n",
       "      <td>2017-10-16 01:44:00</td>\n",
       "      <td>3783.0</td>\n",
       "      <td>67.0</td>\n",
       "      <td>menu</td>\n",
       "      <td>other_type</td>\n",
       "      <td>0</td>\n",
       "      <td>22</td>\n",
       "      <td>1</td>\n",
       "      <td>1.0</td>\n",
       "      <td>1.0</td>\n",
       "      <td>486330.0</td>\n",
       "      <td>control_1</td>\n",
       "      <td>3608.0</td>\n",
       "    </tr>\n",
       "    <tr>\n",
       "      <th>442</th>\n",
       "      <td>892333905.0</td>\n",
       "      <td>Italy</td>\n",
       "      <td>2017-10-16 01:38:00</td>\n",
       "      <td>2017-10-16 01:44:00</td>\n",
       "      <td>3783.0</td>\n",
       "      <td>67.0</td>\n",
       "      <td>menu</td>\n",
       "      <td>other_type</td>\n",
       "      <td>0</td>\n",
       "      <td>22</td>\n",
       "      <td>1</td>\n",
       "      <td>1.0</td>\n",
       "      <td>1.0</td>\n",
       "      <td>486330.0</td>\n",
       "      <td>control_1</td>\n",
       "      <td>3608.0</td>\n",
       "    </tr>\n",
       "    <tr>\n",
       "      <th>301</th>\n",
       "      <td>892333905.0</td>\n",
       "      <td>Italy</td>\n",
       "      <td>2017-10-16 01:38:00</td>\n",
       "      <td>2017-10-16 01:57:00</td>\n",
       "      <td>3783.0</td>\n",
       "      <td>67.0</td>\n",
       "      <td>empty_admins</td>\n",
       "      <td>other_type</td>\n",
       "      <td>0</td>\n",
       "      <td>22</td>\n",
       "      <td>1</td>\n",
       "      <td>1.0</td>\n",
       "      <td>1.0</td>\n",
       "      <td>486330.0</td>\n",
       "      <td>control_1</td>\n",
       "      <td>3608.0</td>\n",
       "    </tr>\n",
       "  </tbody>\n",
       "</table>\n",
       "</div>"
      ],
      "text/plain": [
       "             uid country           joined_at             paid_at  revenue  \\\n",
       "322  892333905.0   Italy 2017-10-16 01:38:00 2017-10-16 01:42:00   3783.0   \n",
       "286  892333905.0   Italy 2017-10-16 01:38:00 2017-10-16 01:44:00   3783.0   \n",
       "320  892333905.0   Italy 2017-10-16 01:38:00 2017-10-16 01:44:00   3783.0   \n",
       "442  892333905.0   Italy 2017-10-16 01:38:00 2017-10-16 01:44:00   3783.0   \n",
       "301  892333905.0   Italy 2017-10-16 01:38:00 2017-10-16 01:57:00   3783.0   \n",
       "\n",
       "     payment_id     from_page product_type  weeks_until_payment  age  gender  \\\n",
       "322        67.0          menu   other_type                    0   22       1   \n",
       "286        67.0          menu   other_type                    0   22       1   \n",
       "320        67.0          menu   other_type                    0   22       1   \n",
       "442        67.0          menu   other_type                    0   22       1   \n",
       "301        67.0  empty_admins   other_type                    0   22       1   \n",
       "\n",
       "     was_premium  is_premium  total_revenue      group   coins  \n",
       "322          1.0         1.0       486330.0  control_1  3608.0  \n",
       "286          1.0         1.0       486330.0  control_1  3608.0  \n",
       "320          1.0         1.0       486330.0  control_1  3608.0  \n",
       "442          1.0         1.0       486330.0  control_1  3608.0  \n",
       "301          1.0         1.0       486330.0  control_1  3608.0  "
      ]
     },
     "execution_count": 51,
     "metadata": {},
     "output_type": "execute_result"
    }
   ],
   "source": [
    "transactions_data[transactions_data.total_revenue > 400000].sort_values('paid_at').head()"
   ]
  },
  {
   "cell_type": "code",
   "execution_count": 52,
   "metadata": {},
   "outputs": [
    {
     "data": {
      "text/plain": [
       "1"
      ]
     },
     "execution_count": 52,
     "metadata": {},
     "output_type": "execute_result"
    }
   ],
   "source": [
    "transactions_data[transactions_data.total_revenue > 400000].uid.nunique()"
   ]
  },
  {
   "cell_type": "markdown",
   "metadata": {},
   "source": [
    "- Посмотрим, есть ли дубликаты, которые могли возникнуть по ошибке при записи данных.  \n",
    "- Ищем записи, которые совпадают по параметрам **paid_at, revenue, payment_id, from_page, product_type,** поскольку это будет свидетельствовать о возможной ошибке при записи в данных.  \n",
    "- Видим, что даже для этого пользователя такие записи есть ( только 19 строк из 27, приходящиеся на данного пользователя, уникальные).   \n",
    "- Имеет смысл пройтись по всему набору данных и удалить подобные дубликаты."
   ]
  },
  {
   "cell_type": "code",
   "execution_count": 53,
   "metadata": {},
   "outputs": [
    {
     "data": {
      "text/plain": [
       "19"
      ]
     },
     "execution_count": 53,
     "metadata": {},
     "output_type": "execute_result"
    }
   ],
   "source": [
    "transactions_data.query('uid == 892333905.0') \\\n",
    "                .groupby(['paid_at', 'revenue', 'payment_id','from_page','product_type']) \\\n",
    "                .agg({'uid': 'count'}).shape[0]"
   ]
  },
  {
   "cell_type": "code",
   "execution_count": 54,
   "metadata": {},
   "outputs": [
    {
     "data": {
      "text/plain": [
       "27"
      ]
     },
     "execution_count": 54,
     "metadata": {},
     "output_type": "execute_result"
    }
   ],
   "source": [
    "transactions_data[transactions_data.total_revenue > 400000].shape[0]"
   ]
  },
  {
   "cell_type": "code",
   "execution_count": 55,
   "metadata": {},
   "outputs": [],
   "source": [
    "transactions_data = transactions_data.drop_duplicates(['uid', 'paid_at', 'revenue', 'from_page', 'payment_id', 'product_type'])"
   ]
  },
  {
   "cell_type": "markdown",
   "metadata": {},
   "source": [
    "- После удаления дубликатов создаем датасет **bags_revenue**, в котором будут записи о все пользователях, значение агрегированного revenue для которых не совпадает с total_revenue.  \n",
    "- Проходимся по этому датасету и для всех попавших в него uid меняем значение total_revenue в датасете transactions_data."
   ]
  },
  {
   "cell_type": "code",
   "execution_count": 56,
   "metadata": {},
   "outputs": [
    {
     "data": {
      "text/html": [
       "<div>\n",
       "<style scoped>\n",
       "    .dataframe tbody tr th:only-of-type {\n",
       "        vertical-align: middle;\n",
       "    }\n",
       "\n",
       "    .dataframe tbody tr th {\n",
       "        vertical-align: top;\n",
       "    }\n",
       "\n",
       "    .dataframe thead th {\n",
       "        text-align: right;\n",
       "    }\n",
       "</style>\n",
       "<table border=\"1\" class=\"dataframe\">\n",
       "  <thead>\n",
       "    <tr style=\"text-align: right;\">\n",
       "      <th></th>\n",
       "      <th>uid</th>\n",
       "      <th>revenue</th>\n",
       "      <th>total_revenue</th>\n",
       "      <th>group</th>\n",
       "    </tr>\n",
       "  </thead>\n",
       "  <tbody>\n",
       "    <tr>\n",
       "      <th>47</th>\n",
       "      <td>891252072.0</td>\n",
       "      <td>7553.0</td>\n",
       "      <td>8814.0</td>\n",
       "      <td>control_1</td>\n",
       "    </tr>\n",
       "    <tr>\n",
       "      <th>89</th>\n",
       "      <td>891320916.0</td>\n",
       "      <td>10075.0</td>\n",
       "      <td>13858.0</td>\n",
       "      <td>control_1</td>\n",
       "    </tr>\n",
       "    <tr>\n",
       "      <th>110</th>\n",
       "      <td>891365490.0</td>\n",
       "      <td>8814.0</td>\n",
       "      <td>10075.0</td>\n",
       "      <td>control_1</td>\n",
       "    </tr>\n",
       "    <tr>\n",
       "      <th>114</th>\n",
       "      <td>891367521.0</td>\n",
       "      <td>16081.0</td>\n",
       "      <td>20462.0</td>\n",
       "      <td>control_1</td>\n",
       "    </tr>\n",
       "    <tr>\n",
       "      <th>137</th>\n",
       "      <td>891452706.0</td>\n",
       "      <td>12597.0</td>\n",
       "      <td>18902.0</td>\n",
       "      <td>control_1</td>\n",
       "    </tr>\n",
       "  </tbody>\n",
       "</table>\n",
       "</div>"
      ],
      "text/plain": [
       "             uid  revenue  total_revenue      group\n",
       "47   891252072.0   7553.0         8814.0  control_1\n",
       "89   891320916.0  10075.0        13858.0  control_1\n",
       "110  891365490.0   8814.0        10075.0  control_1\n",
       "114  891367521.0  16081.0        20462.0  control_1\n",
       "137  891452706.0  12597.0        18902.0  control_1"
      ]
     },
     "execution_count": 56,
     "metadata": {},
     "output_type": "execute_result"
    }
   ],
   "source": [
    "bags_revenue = transactions_data.groupby('uid', as_index = False) \\\n",
    "                    .agg({'revenue': 'sum', 'total_revenue': 'max', 'group': 'max'}) \\\n",
    "                    .query('total_revenue != revenue')\n",
    "bags_revenue.head()"
   ]
  },
  {
   "cell_type": "code",
   "execution_count": 57,
   "metadata": {},
   "outputs": [],
   "source": [
    "for uid in bags_revenue['uid']:\n",
    "    transactions_data.loc[transactions_data['uid'] == uid, 'total_revenue'] = \\\n",
    "    float(bags_revenue[bags_revenue.uid == uid]['revenue'])\n",
    "revenue_per_user = transactions_data.drop_duplicates('uid')"
   ]
  },
  {
   "cell_type": "markdown",
   "metadata": {},
   "source": [
    "Учитываем, что проблема может быть не только в наличии дубликатов, посмотрим в какие даты пользователь uid = 892333905.0 совершал покупки.  \n",
    "Видим, что 15 раз пользователь оплачивал покупки 16.10.2017 - в день своей регистрации в приложении."
   ]
  },
  {
   "cell_type": "code",
   "execution_count": 58,
   "metadata": {},
   "outputs": [
    {
     "data": {
      "text/plain": [
       "2017-10-16    15\n",
       "2017-10-17     4\n",
       "Name: paid_at, dtype: int64"
      ]
     },
     "execution_count": 58,
     "metadata": {},
     "output_type": "execute_result"
    }
   ],
   "source": [
    "transactions_data[transactions_data.total_revenue > 400000].paid_at.dt.date.value_counts()"
   ]
  },
  {
   "cell_type": "markdown",
   "metadata": {},
   "source": [
    "**Причины для удаления записей о пользователе:**\n",
    " - Человек проявлял подозрительную активность только в первые 2 суток регистрации\n",
    " - Он является единственным пользователем, который стал причиной экстремально сильных выбросов не только среди пользователей первой контрольной группы, но и всех пользователей в целом\n",
    " - По результатам графиков в разделе анализа аудитории видим, что из Италии около 1000 пользователей, но такое поведение ни у кого больше не наблюдается\n",
    " - Не совсем понятно, что послужило причиной такому поведению\n",
    " - Пользователь расплачивался преимущественно внутренней валютой\n",
    " - Нельзя сделать вывод, какие записи о пользователе можно оставить (человек мог просто тестировать все возможностит взаимодействия в приложении за внутреннюю валюту)\n",
    " \n",
    " Удаляем записи и строим новый график распределения для контрольной группы 2"
   ]
  },
  {
   "cell_type": "code",
   "execution_count": 59,
   "metadata": {},
   "outputs": [],
   "source": [
    "transactions_data = transactions_data.query('uid != 892333905.0')\n",
    "users_info = users_info.query('uid != 892333905.0')"
   ]
  },
  {
   "cell_type": "code",
   "execution_count": 60,
   "metadata": {},
   "outputs": [],
   "source": [
    "# Обновим датасет revenue_per_user, он зависел от transactions_data\n",
    "revenue_per_user = transactions_data.drop_duplicates('uid')"
   ]
  },
  {
   "cell_type": "code",
   "execution_count": 61,
   "metadata": {},
   "outputs": [
    {
     "data": {
      "image/png": "[encoded data removed]",
      "text/plain": [
       "<Figure size 1080x360 with 1 Axes>"
      ]
     },
     "metadata": {
      "needs_background": "light"
     },
     "output_type": "display_data"
    }
   ],
   "source": [
    "plt.figure(figsize = (15, 5))\n",
    "sns.histplot(data = revenue_per_user.query(\"group == ('control_1', 'control_2')\"),\n",
    "             x = 'total_revenue')\n",
    "plt.xlabel(\"Subscription revenue per user\", size=12)\n",
    "plt.ylabel(\"Number of users\", size=12)\n",
    "plt.title('Subscription revenue in control group', pad = 20, size = 14)\n",
    "sns.despine()"
   ]
  },
  {
   "cell_type": "markdown",
   "metadata": {},
   "source": [
    "**Проанализируем выбросы total revenue в тестовой группе**\n",
    " - Посмотрим на записи о покупках, которые возможно стали причиной таких больших значений по полю total_revenue\n",
    " - По полю product_type\tвидим, что пользователи оформляли премиум подписку и заплатили одинаковую сумму\n",
    " - Даты оплаты разные, оставляем записи об этих пользователях, поскольку ничего подозрительного в записях не обнаружено"
   ]
  },
  {
   "cell_type": "code",
   "execution_count": 62,
   "metadata": {
    "scrolled": true
   },
   "outputs": [
    {
     "name": "stderr",
     "output_type": "stream",
     "text": [
      "/opt/tljh/user/lib/python3.7/site-packages/ipykernel_launcher.py:2: UserWarning: Boolean Series key will be reindexed to match DataFrame index.\n",
      "  \n"
     ]
    },
    {
     "data": {
      "text/html": [
       "<div>\n",
       "<style scoped>\n",
       "    .dataframe tbody tr th:only-of-type {\n",
       "        vertical-align: middle;\n",
       "    }\n",
       "\n",
       "    .dataframe tbody tr th {\n",
       "        vertical-align: top;\n",
       "    }\n",
       "\n",
       "    .dataframe thead th {\n",
       "        text-align: right;\n",
       "    }\n",
       "</style>\n",
       "<table border=\"1\" class=\"dataframe\">\n",
       "  <thead>\n",
       "    <tr style=\"text-align: right;\">\n",
       "      <th></th>\n",
       "      <th>uid</th>\n",
       "      <th>country</th>\n",
       "      <th>joined_at</th>\n",
       "      <th>paid_at</th>\n",
       "      <th>revenue</th>\n",
       "      <th>payment_id</th>\n",
       "      <th>from_page</th>\n",
       "      <th>product_type</th>\n",
       "      <th>weeks_until_payment</th>\n",
       "      <th>age</th>\n",
       "      <th>gender</th>\n",
       "      <th>was_premium</th>\n",
       "      <th>is_premium</th>\n",
       "      <th>total_revenue</th>\n",
       "      <th>group</th>\n",
       "      <th>coins</th>\n",
       "    </tr>\n",
       "  </thead>\n",
       "  <tbody>\n",
       "    <tr>\n",
       "      <th>12</th>\n",
       "      <td>891178380.0</td>\n",
       "      <td>Spain</td>\n",
       "      <td>2017-08-11 03:54:00</td>\n",
       "      <td>2017-09-11 21:53:00</td>\n",
       "      <td>113477.0</td>\n",
       "      <td>147.0</td>\n",
       "      <td>promo_09</td>\n",
       "      <td>premium_no_trial</td>\n",
       "      <td>4</td>\n",
       "      <td>42</td>\n",
       "      <td>1</td>\n",
       "      <td>1.0</td>\n",
       "      <td>1.0</td>\n",
       "      <td>129870.0</td>\n",
       "      <td>test</td>\n",
       "      <td>85.0</td>\n",
       "    </tr>\n",
       "    <tr>\n",
       "      <th>196</th>\n",
       "      <td>892038759.0</td>\n",
       "      <td>United Arab Emirates</td>\n",
       "      <td>2017-10-22 11:12:00</td>\n",
       "      <td>2017-10-22 16:23:00</td>\n",
       "      <td>113477.0</td>\n",
       "      <td>147.0</td>\n",
       "      <td>autoreply_message</td>\n",
       "      <td>premium_no_trial</td>\n",
       "      <td>0</td>\n",
       "      <td>26</td>\n",
       "      <td>1</td>\n",
       "      <td>1.0</td>\n",
       "      <td>1.0</td>\n",
       "      <td>123565.0</td>\n",
       "      <td>test</td>\n",
       "      <td>3.0</td>\n",
       "    </tr>\n",
       "  </tbody>\n",
       "</table>\n",
       "</div>"
      ],
      "text/plain": [
       "             uid               country           joined_at  \\\n",
       "12   891178380.0                 Spain 2017-08-11 03:54:00   \n",
       "196  892038759.0  United Arab Emirates 2017-10-22 11:12:00   \n",
       "\n",
       "                paid_at   revenue  payment_id          from_page  \\\n",
       "12  2017-09-11 21:53:00  113477.0       147.0           promo_09   \n",
       "196 2017-10-22 16:23:00  113477.0       147.0  autoreply_message   \n",
       "\n",
       "         product_type  weeks_until_payment  age  gender  was_premium  \\\n",
       "12   premium_no_trial                    4   42       1          1.0   \n",
       "196  premium_no_trial                    0   26       1          1.0   \n",
       "\n",
       "     is_premium  total_revenue group  coins  \n",
       "12          1.0       129870.0  test   85.0  \n",
       "196         1.0       123565.0  test    3.0  "
      ]
     },
     "execution_count": 62,
     "metadata": {},
     "output_type": "execute_result"
    }
   ],
   "source": [
    "transactions_data.query('group == \"test\"') \\\n",
    "                [transactions_data.total_revenue > 120000] \\\n",
    "                .sort_values('revenue', ascending = False) \\\n",
    "                .drop_duplicates('uid')"
   ]
  },
  {
   "cell_type": "markdown",
   "metadata": {},
   "source": [
    "- Похожие записи обнаруживаем во второй контрольной группе  "
   ]
  },
  {
   "cell_type": "code",
   "execution_count": 63,
   "metadata": {
    "scrolled": false
   },
   "outputs": [
    {
     "name": "stderr",
     "output_type": "stream",
     "text": [
      "/opt/tljh/user/lib/python3.7/site-packages/ipykernel_launcher.py:2: UserWarning: Boolean Series key will be reindexed to match DataFrame index.\n",
      "  \n"
     ]
    },
    {
     "data": {
      "text/html": [
       "<div>\n",
       "<style scoped>\n",
       "    .dataframe tbody tr th:only-of-type {\n",
       "        vertical-align: middle;\n",
       "    }\n",
       "\n",
       "    .dataframe tbody tr th {\n",
       "        vertical-align: top;\n",
       "    }\n",
       "\n",
       "    .dataframe thead th {\n",
       "        text-align: right;\n",
       "    }\n",
       "</style>\n",
       "<table border=\"1\" class=\"dataframe\">\n",
       "  <thead>\n",
       "    <tr style=\"text-align: right;\">\n",
       "      <th></th>\n",
       "      <th>uid</th>\n",
       "      <th>country</th>\n",
       "      <th>joined_at</th>\n",
       "      <th>paid_at</th>\n",
       "      <th>revenue</th>\n",
       "      <th>payment_id</th>\n",
       "      <th>from_page</th>\n",
       "      <th>product_type</th>\n",
       "      <th>weeks_until_payment</th>\n",
       "      <th>age</th>\n",
       "      <th>gender</th>\n",
       "      <th>was_premium</th>\n",
       "      <th>is_premium</th>\n",
       "      <th>total_revenue</th>\n",
       "      <th>group</th>\n",
       "      <th>coins</th>\n",
       "    </tr>\n",
       "  </thead>\n",
       "  <tbody>\n",
       "    <tr>\n",
       "      <th>672</th>\n",
       "      <td>892307238.0</td>\n",
       "      <td>Spain</td>\n",
       "      <td>2017-10-16 16:01:00</td>\n",
       "      <td>2017-10-16 20:41:00</td>\n",
       "      <td>63037.0</td>\n",
       "      <td>147.0</td>\n",
       "      <td>left_sidebar_menu</td>\n",
       "      <td>premium_no_trial</td>\n",
       "      <td>0</td>\n",
       "      <td>29</td>\n",
       "      <td>1</td>\n",
       "      <td>1.0</td>\n",
       "      <td>1.0</td>\n",
       "      <td>75647.0</td>\n",
       "      <td>control_2</td>\n",
       "      <td>43.0</td>\n",
       "    </tr>\n",
       "    <tr>\n",
       "      <th>697</th>\n",
       "      <td>891778551.0</td>\n",
       "      <td>United Arab Emirates</td>\n",
       "      <td>2017-10-27 21:26:00</td>\n",
       "      <td>2017-10-27 22:30:00</td>\n",
       "      <td>81796.0</td>\n",
       "      <td>147.0</td>\n",
       "      <td>left_sidebar_menu</td>\n",
       "      <td>premium_no_trial</td>\n",
       "      <td>0</td>\n",
       "      <td>30</td>\n",
       "      <td>1</td>\n",
       "      <td>1.0</td>\n",
       "      <td>1.0</td>\n",
       "      <td>81796.0</td>\n",
       "      <td>control_2</td>\n",
       "      <td>0.0</td>\n",
       "    </tr>\n",
       "  </tbody>\n",
       "</table>\n",
       "</div>"
      ],
      "text/plain": [
       "             uid               country           joined_at  \\\n",
       "672  892307238.0                 Spain 2017-10-16 16:01:00   \n",
       "697  891778551.0  United Arab Emirates 2017-10-27 21:26:00   \n",
       "\n",
       "                paid_at  revenue  payment_id          from_page  \\\n",
       "672 2017-10-16 20:41:00  63037.0       147.0  left_sidebar_menu   \n",
       "697 2017-10-27 22:30:00  81796.0       147.0  left_sidebar_menu   \n",
       "\n",
       "         product_type  weeks_until_payment  age  gender  was_premium  \\\n",
       "672  premium_no_trial                    0   29       1          1.0   \n",
       "697  premium_no_trial                    0   30       1          1.0   \n",
       "\n",
       "     is_premium  total_revenue      group  coins  \n",
       "672         1.0        75647.0  control_2   43.0  \n",
       "697         1.0        81796.0  control_2    0.0  "
      ]
     },
     "execution_count": 63,
     "metadata": {},
     "output_type": "execute_result"
    }
   ],
   "source": [
    "transactions_data.query('group == \"control_2\"') \\\n",
    "                [transactions_data.total_revenue > 70000] \\\n",
    "                .sort_values(['uid','revenue'], ascending = False) \\\n",
    "                .drop_duplicates('uid')"
   ]
  },
  {
   "cell_type": "markdown",
   "metadata": {},
   "source": [
    "Почему доход от некоторых пользователей по премиум подписке настолько сильно отличается, утверждать нельзя.\n",
    "Если в приложении есть опция оплаты за год пользования, пользователи могли ею воспользоваться."
   ]
  },
  {
   "cell_type": "markdown",
   "metadata": {},
   "source": [
    "## A/A тест\n",
    "Чтобы проверить качество системы сплитования трафика и убедиться, что статистически значимые различия не будут возникать из-за технических проблем, проведем А/А тесты на метриках **ARPU и conversion rate**"
   ]
  },
  {
   "cell_type": "markdown",
   "metadata": {},
   "source": [
    "1. Функция A/A теста по метрике ARPU  \n",
    "\n",
    "Проверка гипотезы - ttest  \n",
    "**H0 для t-теста, реализуемого в функции** - средние в выборках не имеют статистически значимых различий "
   ]
  },
  {
   "cell_type": "code",
   "execution_count": 64,
   "metadata": {},
   "outputs": [],
   "source": [
    "from tqdm.auto import tqdm\n",
    "def aa_test_revenue(data, column, n_perc, sim):\n",
    "    n1 = int(n_perc * data[data.group == 'control_1'].shape[0])\n",
    "    n2 = int(n_perc * data[data.group == 'control_2'].shape[0])\n",
    "    res_rev = []\n",
    "    for s in tqdm(range(sim)):\n",
    "        sample1 = data[data.group == 'control_1'][column].sample(n1, replace = False).values\n",
    "        sample2 = data[data.group == 'control_2'][column].sample(n2, replace = False).values\n",
    "        res_rev.append(stats.ttest_ind(sample1, sample2, equal_var = False)[1])\n",
    "    \n",
    "    plt.hist(res_rev, bins = 50)\n",
    "    plt.style.use('ggplot')\n",
    "    plt.xlabel('pvalues')\n",
    "    plt.ylabel('frequency')\n",
    "    plt.title(\"Histogram of A/A ttest simulations for ARPU\")\n",
    "    plt.show()\n",
    "    \n",
    "    print(f'FPR(p < 0.05) = {sum(np.array(res_rev) <0.05) / sim}','\\n'\n",
    "          f'FPR(p < 0.1) = {sum(np.array(res_rev) <0.1) / sim}')\n",
    "    "
   ]
  },
  {
   "cell_type": "markdown",
   "metadata": {},
   "source": [
    "2. Функция для А/А теста по метрике conversion rate\n",
    "\n",
    "Проверка гипотезы - критерий хи-квадрат  \n",
    "**H0 для критерия Хи-квадрат, реализуемого в функции** - средние в выборках не имеют статистически значимых различий "
   ]
  },
  {
   "cell_type": "code",
   "execution_count": 65,
   "metadata": {},
   "outputs": [],
   "source": [
    "def aa_test_conversion(data, n_perc, sim):\n",
    "    n1 = int(n_perc * data[data.group == 'control_1'].shape[0])\n",
    "    n2 = int(n_perc * data[data.group == 'control_2'].shape[0])\n",
    "    res_convers = []\n",
    "    \n",
    "    for s in tqdm(range(sim)):\n",
    "\n",
    "        sample_1 = data[data.group == 'control_1'] \\\n",
    "                .sample(n1, replace = False) \\\n",
    "                .groupby('is_premium', as_index = False) \\\n",
    "                .agg({'uid': 'count'}) \\\n",
    "                .rename(columns = {'uid': 'sample_1'})\n",
    "        \n",
    "        sample_2 = data[data.group == 'control_2'] \\\n",
    "                .sample(n2, replace = False) \\\n",
    "                .groupby('is_premium', as_index = False) \\\n",
    "                .agg({'uid': 'count'}) \\\n",
    "                .rename(columns = {'uid': 'sample_2'})     \n",
    "        \n",
    "        cross_tab = sample_1.merge(sample_2, on = 'is_premium').drop('is_premium', axis = 1)\n",
    "        res_convers.append(stats.chi2_contingency(cross_tab)[1])\n",
    "    \n",
    "    plt.hist(res_convers, bins = 50)\n",
    "    plt.style.use('ggplot')\n",
    "    plt.xlabel('pvalues')\n",
    "    plt.ylabel('frequency')\n",
    "    plt.title(f\"Histogram of A/A ttest simulations for conversion\")\n",
    "    plt.show()\n",
    "    \n",
    "    print(f'FPR(p < 0.05) = {sum(np.array(res_convers) <0.05) / sim}','\\n'\n",
    "          f'FPR(p < 0.1) = {sum(np.array(res_convers) <0.1) / sim}')"
   ]
  },
  {
   "cell_type": "markdown",
   "metadata": {},
   "source": [
    "Применяем функции, проводим А/А тест"
   ]
  },
  {
   "cell_type": "code",
   "execution_count": 66,
   "metadata": {
    "scrolled": false
   },
   "outputs": [
    {
     "data": {
      "application/vnd.jupyter.widget-view+json": {
       "model_id": "c5db3a734af44d7890f027276e8bc1e5",
       "version_major": 2,
       "version_minor": 0
      },
      "text/plain": [
       "HBox(children=(FloatProgress(value=0.0, max=1000.0), HTML(value='')))"
      ]
     },
     "metadata": {},
     "output_type": "display_data"
    },
    {
     "name": "stdout",
     "output_type": "stream",
     "text": [
      "\n"
     ]
    },
    {
     "data": {
      "image/png": "[encoded data removed]",
      "text/plain": [
       "<Figure size 432x288 with 1 Axes>"
      ]
     },
     "metadata": {
      "needs_background": "light"
     },
     "output_type": "display_data"
    },
    {
     "name": "stdout",
     "output_type": "stream",
     "text": [
      "FPR(p < 0.05) = 0.001 \n",
      "FPR(p < 0.1) = 0.002\n"
     ]
    }
   ],
   "source": [
    "aa_test_revenue(users_info, 'total_revenue', 0.8, 1000)"
   ]
  },
  {
   "cell_type": "code",
   "execution_count": 67,
   "metadata": {
    "scrolled": false
   },
   "outputs": [
    {
     "data": {
      "application/vnd.jupyter.widget-view+json": {
       "model_id": "567586a183da47d29030f6a30b9da3ee",
       "version_major": 2,
       "version_minor": 0
      },
      "text/plain": [
       "HBox(children=(FloatProgress(value=0.0, max=1000.0), HTML(value='')))"
      ]
     },
     "metadata": {},
     "output_type": "display_data"
    },
    {
     "name": "stdout",
     "output_type": "stream",
     "text": [
      "\n"
     ]
    },
    {
     "data": {
      "image/png": "[encoded data removed]",
      "text/plain": [
       "<Figure size 432x288 with 1 Axes>"
      ]
     },
     "metadata": {},
     "output_type": "display_data"
    },
    {
     "name": "stdout",
     "output_type": "stream",
     "text": [
      "FPR(p < 0.05) = 0.0 \n",
      "FPR(p < 0.1) = 0.0\n"
     ]
    }
   ],
   "source": [
    "aa_test_conversion(users_info, 0.8, 1000)"
   ]
  },
  {
   "cell_type": "markdown",
   "metadata": {},
   "source": [
    "**Вывод:**  \n",
    "Система сплитования не сломана и можно проводить А/В тест."
   ]
  },
  {
   "cell_type": "markdown",
   "metadata": {},
   "source": [
    "## Статистический анализ A/B теста"
   ]
  },
  {
   "cell_type": "markdown",
   "metadata": {},
   "source": [
    "Поскольку был проведен А/В тест, в котором для новых пользователей из нескольких стран была изменена стоимость премиум-подписки, проверим:\n",
    "1. Есть ли значимые различия в метрике ARPU\n",
    "2. Есть ли значимые различия в метрике APRU по оплате подписки или дохода с иных категорий \n",
    "2. Есть ли значимые различия в частоте продления подписок одним пользователем\n",
    "3. Есть ли значимые различия в конверсии в подписку\n",
    "4. Влияет ли на наличие подписки то, была ли у пользователя премиум-подписка ранее\n",
    "5. Есть ли различия в доходе между какими-либо группами пользователей"
   ]
  },
  {
   "cell_type": "markdown",
   "metadata": {},
   "source": [
    "Предобработка\n",
    "1. Обновим колонку total_revenue в датасете с информацией о пользователях\n",
    "2. Объединим обе контрольные группы"
   ]
  },
  {
   "cell_type": "code",
   "execution_count": 68,
   "metadata": {},
   "outputs": [],
   "source": [
    "users_info = users_info.drop('total_revenue', axis = 1) \\\n",
    "            .merge(revenue_per_user[['uid', 'total_revenue']], on = 'uid', how = 'left') \\\n",
    "            .fillna(0)"
   ]
  },
  {
   "cell_type": "code",
   "execution_count": 69,
   "metadata": {},
   "outputs": [],
   "source": [
    "users_info['group'] = users_info['group'].apply(lambda x: 'test' if x == 'test' else 'control')"
   ]
  },
  {
   "cell_type": "code",
   "execution_count": 70,
   "metadata": {},
   "outputs": [],
   "source": [
    "transactions_data['group'] = transactions_data['group'].apply(lambda x: 'test' if x == 'test' else 'control')"
   ]
  },
  {
   "cell_type": "markdown",
   "metadata": {},
   "source": [
    "### ARPU"
   ]
  },
  {
   "cell_type": "markdown",
   "metadata": {},
   "source": [
    "ARPU после удаления дубликатов"
   ]
  },
  {
   "cell_type": "code",
   "execution_count": 71,
   "metadata": {},
   "outputs": [
    {
     "data": {
      "text/html": [
       "<div>\n",
       "<style scoped>\n",
       "    .dataframe tbody tr th:only-of-type {\n",
       "        vertical-align: middle;\n",
       "    }\n",
       "\n",
       "    .dataframe tbody tr th {\n",
       "        vertical-align: top;\n",
       "    }\n",
       "\n",
       "    .dataframe thead th {\n",
       "        text-align: right;\n",
       "    }\n",
       "</style>\n",
       "<table border=\"1\" class=\"dataframe\">\n",
       "  <thead>\n",
       "    <tr style=\"text-align: right;\">\n",
       "      <th></th>\n",
       "      <th>group</th>\n",
       "      <th>total_revenue</th>\n",
       "    </tr>\n",
       "  </thead>\n",
       "  <tbody>\n",
       "    <tr>\n",
       "      <th>0</th>\n",
       "      <td>control</td>\n",
       "      <td>464.825177</td>\n",
       "    </tr>\n",
       "    <tr>\n",
       "      <th>1</th>\n",
       "      <td>test</td>\n",
       "      <td>541.370938</td>\n",
       "    </tr>\n",
       "  </tbody>\n",
       "</table>\n",
       "</div>"
      ],
      "text/plain": [
       "     group  total_revenue\n",
       "0  control     464.825177\n",
       "1     test     541.370938"
      ]
     },
     "execution_count": 71,
     "metadata": {},
     "output_type": "execute_result"
    }
   ],
   "source": [
    "users_info.groupby('group', as_index = False) \\\n",
    "        .agg({'total_revenue': 'mean'})"
   ]
  },
  {
   "cell_type": "code",
   "execution_count": 72,
   "metadata": {},
   "outputs": [
    {
     "data": {
      "image/png": "[encoded data removed]",
      "text/plain": [
       "<Figure size 432x288 with 1 Axes>"
      ]
     },
     "metadata": {},
     "output_type": "display_data"
    }
   ],
   "source": [
    "sns.barplot(data = users_info \\\n",
    "            .groupby('group', as_index = False) \\\n",
    "            .agg({'total_revenue': 'mean'}), \\\n",
    "            x = 'group', y = 'total_revenue', palette = group_palette)\n",
    "plt.xlabel(\"Group\", size=12)\n",
    "plt.ylabel(\"Revenue per user\", size=12)\n",
    "plt.title('ARPU in groups', pad = 20, size = 14)\n",
    "sns.despine()"
   ]
  },
  {
   "cell_type": "markdown",
   "metadata": {},
   "source": [
    "ARPPU в группах"
   ]
  },
  {
   "cell_type": "code",
   "execution_count": 73,
   "metadata": {
    "scrolled": false
   },
   "outputs": [
    {
     "data": {
      "image/png": "[encoded data removed]",
      "text/plain": [
       "<Figure size 864x576 with 1 Axes>"
      ]
     },
     "metadata": {},
     "output_type": "display_data"
    }
   ],
   "source": [
    "plt.figure(figsize= (12, 8))\n",
    "sns.boxplot(x = 'group', \\\n",
    "            y = 'total_revenue', \\\n",
    "            data = users_info.query('total_revenue > 0').sort_values('group'), \\\n",
    "            palette = group_palette, \\\n",
    "            saturation = 1,\\\n",
    "            linewidth = 0.7)\n",
    "\n",
    "plt.xlabel(\"Group\", size=12)\n",
    "plt.ylabel(\"Revenue per user\", size=12)\n",
    "plt.title('Subscription revenue distribution in groups', pad = 20, size = 14)\n",
    "sns.despine()"
   ]
  },
  {
   "cell_type": "markdown",
   "metadata": {},
   "source": [
    "### 1. Проверка равенства ARPU в тестовой и контрольной группах"
   ]
  },
  {
   "cell_type": "markdown",
   "metadata": {},
   "source": [
    "Проверка выборок на нормальность.  \n",
    "**H0** - выборка взята из генеральной совокупности, в которой значения распределены нормально  \n",
    "**Результат** - распределения в выборках значимо отличаются от нормального."
   ]
  },
  {
   "cell_type": "code",
   "execution_count": 74,
   "metadata": {},
   "outputs": [
    {
     "name": "stdout",
     "output_type": "stream",
     "text": [
      "test p-value: \t 0.0 \n",
      "control p-value: \t 0.0\n"
     ]
    },
    {
     "name": "stderr",
     "output_type": "stream",
     "text": [
      "/opt/tljh/user/lib/python3.7/site-packages/scipy/stats/morestats.py:1760: UserWarning: p-value may not be accurate for N > 5000.\n",
      "  warnings.warn(\"p-value may not be accurate for N > 5000.\")\n"
     ]
    }
   ],
   "source": [
    "print('test p-value:', '\\t', stats.shapiro(users_info.query(\"group == 'test'\")['total_revenue'])[1], '\\n'\n",
    "     'control p-value:', '\\t', stats.shapiro(users_info.query(\"group == 'control'\")['total_revenue'])[1])"
   ]
  },
  {
   "cell_type": "markdown",
   "metadata": {},
   "source": [
    "Проверим выборки на гомогенность дисперсии  \n",
    "**H0** - выборки взяты из генеральных совокупностей с одинаковыми дисперсиями  \n",
    "**Результат** - дисперсии в группах не имеют значимых различий"
   ]
  },
  {
   "cell_type": "code",
   "execution_count": 75,
   "metadata": {},
   "outputs": [
    {
     "data": {
      "text/plain": [
       "LeveneResult(statistic=1.365013978151313, pvalue=0.2426919780329993)"
      ]
     },
     "execution_count": 75,
     "metadata": {},
     "output_type": "execute_result"
    }
   ],
   "source": [
    "stats.levene(users_info.query(\"group == 'test'\")['total_revenue'], \\\n",
    "             users_info.query(\"group == 'control'\")['total_revenue'])"
   ]
  },
  {
   "cell_type": "markdown",
   "metadata": {},
   "source": [
    "Проверяем гипотезу о равенстве средних в двух выборках при помощи t-теста\n",
    "\n",
    "**H0** - нет значимых различий между выборочными средними  \n",
    "**Результат** - средние в выборках стат значимо не различаются"
   ]
  },
  {
   "cell_type": "code",
   "execution_count": 76,
   "metadata": {
    "scrolled": false
   },
   "outputs": [
    {
     "data": {
      "text/plain": [
       "Ttest_indResult(statistic=1.1683381266359978, pvalue=0.2426919780346818)"
      ]
     },
     "execution_count": 76,
     "metadata": {},
     "output_type": "execute_result"
    }
   ],
   "source": [
    "stats.ttest_ind(users_info[users_info.group == 'test']['total_revenue'], \\\n",
    "              users_info[users_info.group == 'control']['total_revenue'])"
   ]
  },
  {
   "cell_type": "markdown",
   "metadata": {},
   "source": [
    "Дополнительно используем бутстреп-анализ на наших данных, т.к распределение в выборках значимо отличается от нормального.\n",
    "\n",
    "Создаем функцию для бутстреп-анализа **bootstrap**\n",
    "\n",
    "**H0, проверяемая в функции** - нет значимых различий между средними в подвыборках\n",
    "\n",
    "Проверка по графику распределения разницы средних - если в доверительный интервал входит 0, H0 принимается  \n"
   ]
  },
  {
   "cell_type": "code",
   "execution_count": 78,
   "metadata": {},
   "outputs": [],
   "source": [
    "def bootstrap(data, dv, \n",
    "              per = 0.9, \n",
    "              boot_it = 1000, \n",
    "              conf_level = 0.95 ):\n",
    "    \n",
    "    boot_len = int(per * max([len(data.query(\"group == 'test'\")[dv]), \\\n",
    "                              len(data.query(\"group == 'control'\")[dv])]))\n",
    "    boot_data = []\n",
    "    \n",
    "    for i in tqdm(range(boot_it)): \n",
    "        samples_1 = data.query(\"group == 'test'\")[dv] \\\n",
    "                    .sample( boot_len, replace = True) \\\n",
    "                    .values\n",
    "        samples_2 = data.query(\"group == 'control'\")[dv] \\\n",
    "            .sample( boot_len, replace = True) \\\n",
    "            .values\n",
    "        boot_data.append(np.mean(samples_1-samples_2))\n",
    "        \n",
    "    pd_boot_data = pd.DataFrame(boot_data)\n",
    "        \n",
    "    left_quant = (1 - conf_level)/2\n",
    "    right_quant = 1 - (1 - conf_level) / 2\n",
    "    ci = pd_boot_data.quantile([left_quant, right_quant])\n",
    "        \n",
    "    p_1 = stats.norm.cdf(\n",
    "        x = 0, \n",
    "        loc = np.mean(boot_data), \n",
    "        scale = np.std(boot_data)\n",
    "    )\n",
    "    p_2 = stats.norm.cdf(\n",
    "        x = 0, \n",
    "        loc = -np.mean(boot_data), \n",
    "        scale = np.std(boot_data)\n",
    "    )\n",
    "    p_value = min(p_1, p_2) * 2\n",
    "      \n",
    "        \n",
    "    plt.hist(pd_boot_data[0], bins = 50)\n",
    "    plt.style.use('ggplot')\n",
    "    plt.vlines(ci,ymin=0, ymax=70, linestyle='--')\n",
    "    plt.xlabel('boot_data')\n",
    "    plt.ylabel('frequency')\n",
    "    plt.title(\"Histogram of boot_data\")\n",
    "    plt.show()\n",
    "    \n",
    "    print(f'p-value = {p_value}')"
   ]
  },
  {
   "cell_type": "markdown",
   "metadata": {},
   "source": [
    "Применяем функцию на группах  \n",
    "**Результат** - между тестовой и контрольной группой нет значимых различий по метрике total revenue"
   ]
  },
  {
   "cell_type": "code",
   "execution_count": 79,
   "metadata": {
    "scrolled": false
   },
   "outputs": [
    {
     "data": {
      "application/vnd.jupyter.widget-view+json": {
       "model_id": "28cde8dc8850448fad3641dace4b721c",
       "version_major": 2,
       "version_minor": 0
      },
      "text/plain": [
       "HBox(children=(FloatProgress(value=0.0, max=1000.0), HTML(value='')))"
      ]
     },
     "metadata": {},
     "output_type": "display_data"
    },
    {
     "name": "stdout",
     "output_type": "stream",
     "text": [
      "\n"
     ]
    },
    {
     "data": {
      "image/png": "[encoded data removed]",
      "text/plain": [
       "<Figure size 432x288 with 1 Axes>"
      ]
     },
     "metadata": {},
     "output_type": "display_data"
    },
    {
     "name": "stdout",
     "output_type": "stream",
     "text": [
      "p-value = 0.2130280757859132\n"
     ]
    }
   ],
   "source": [
    "bootstrap(users_info, 'total_revenue')"
   ]
  },
  {
   "cell_type": "markdown",
   "metadata": {},
   "source": [
    "**Избавимся от выбросов и посмотрим на результат проверки гипотез о равенстве средних в группах**\n",
    "- Берем пороговое значение по метрике revenue в 40 000 (опираемся на графики распределения дохода в группах)\n",
    "- Считаем, сколько значений на метрике revenue превышает 40 000 в каждой группе\n",
    "- Создаем датасет без выбросов"
   ]
  },
  {
   "cell_type": "code",
   "execution_count": 80,
   "metadata": {},
   "outputs": [
    {
     "data": {
      "text/html": [
       "<div>\n",
       "<style scoped>\n",
       "    .dataframe tbody tr th:only-of-type {\n",
       "        vertical-align: middle;\n",
       "    }\n",
       "\n",
       "    .dataframe tbody tr th {\n",
       "        vertical-align: top;\n",
       "    }\n",
       "\n",
       "    .dataframe thead th {\n",
       "        text-align: right;\n",
       "    }\n",
       "</style>\n",
       "<table border=\"1\" class=\"dataframe\">\n",
       "  <thead>\n",
       "    <tr style=\"text-align: right;\">\n",
       "      <th></th>\n",
       "      <th>uid</th>\n",
       "    </tr>\n",
       "    <tr>\n",
       "      <th>group</th>\n",
       "      <th></th>\n",
       "    </tr>\n",
       "  </thead>\n",
       "  <tbody>\n",
       "    <tr>\n",
       "      <th>control</th>\n",
       "      <td>7</td>\n",
       "    </tr>\n",
       "    <tr>\n",
       "      <th>test</th>\n",
       "      <td>7</td>\n",
       "    </tr>\n",
       "  </tbody>\n",
       "</table>\n",
       "</div>"
      ],
      "text/plain": [
       "         uid\n",
       "group       \n",
       "control    7\n",
       "test       7"
      ]
     },
     "execution_count": 80,
     "metadata": {},
     "output_type": "execute_result"
    }
   ],
   "source": [
    "users_info.query('total_revenue > 40000') \\\n",
    "            .groupby('group') \\\n",
    "            .agg({'uid': 'count'})"
   ]
  },
  {
   "cell_type": "code",
   "execution_count": 151,
   "metadata": {},
   "outputs": [],
   "source": [
    "users_copy = users_info.query('total_revenue < 40000')"
   ]
  },
  {
   "cell_type": "markdown",
   "metadata": {},
   "source": [
    "**H0** - средние значения значимо отличаются  \n",
    "**Результат** - значимых различий в выборочных средних нет"
   ]
  },
  {
   "cell_type": "code",
   "execution_count": 82,
   "metadata": {},
   "outputs": [
    {
     "data": {
      "text/plain": [
       "Ttest_indResult(statistic=-0.09822393865565465, pvalue=0.9217560007522798)"
      ]
     },
     "execution_count": 82,
     "metadata": {},
     "output_type": "execute_result"
    }
   ],
   "source": [
    "stats.ttest_ind(users_copy[users_copy.group == 'test']['total_revenue'], \\\n",
    "              users_copy[users_copy.group  == 'control']['total_revenue'])"
   ]
  },
  {
   "cell_type": "code",
   "execution_count": 84,
   "metadata": {},
   "outputs": [
    {
     "data": {
      "application/vnd.jupyter.widget-view+json": {
       "model_id": "ac5c1b6ee8e64671ad05b074b38f16cd",
       "version_major": 2,
       "version_minor": 0
      },
      "text/plain": [
       "HBox(children=(FloatProgress(value=0.0, max=1000.0), HTML(value='')))"
      ]
     },
     "metadata": {},
     "output_type": "display_data"
    },
    {
     "name": "stdout",
     "output_type": "stream",
     "text": [
      "\n"
     ]
    },
    {
     "data": {
      "image/png": "[encoded data removed]",
      "text/plain": [
       "<Figure size 432x288 with 1 Axes>"
      ]
     },
     "metadata": {},
     "output_type": "display_data"
    },
    {
     "name": "stdout",
     "output_type": "stream",
     "text": [
      "p-value = 0.9243610169839097\n"
     ]
    }
   ],
   "source": [
    "bootstrap(users_copy, 'total_revenue')"
   ]
  },
  {
   "cell_type": "markdown",
   "metadata": {},
   "source": [
    "### Вывод:\n",
    "\n",
    "t-test и бутстреп анализ не показали стат значимых различий по метрике ARPU между тестовой и контрольной группой. \n",
    "\n",
    "Сильные выбросы значений total revenue (суммарный доход с пользователя) влияют на величину p-value, получаемого при проверке гипотезы о равенстве средних, но их присутствие не сильно влияет на результаты эксперимента."
   ]
  },
  {
   "cell_type": "markdown",
   "metadata": {},
   "source": [
    "### 2. Критерий Хи-квадрат независимости метрики conversion rate от группы"
   ]
  },
  {
   "cell_type": "markdown",
   "metadata": {},
   "source": [
    "Проверим различия в распределении количества пользователей с подпиской и без в разных группах.  \n",
    "Для этого используем критерий Хи-квадрат и таблицы сопряженности.\n",
    "1. Conversion rate для групп"
   ]
  },
  {
   "cell_type": "code",
   "execution_count": 85,
   "metadata": {},
   "outputs": [
    {
     "data": {
      "text/html": [
       "<div>\n",
       "<style scoped>\n",
       "    .dataframe tbody tr th:only-of-type {\n",
       "        vertical-align: middle;\n",
       "    }\n",
       "\n",
       "    .dataframe tbody tr th {\n",
       "        vertical-align: top;\n",
       "    }\n",
       "\n",
       "    .dataframe thead th {\n",
       "        text-align: right;\n",
       "    }\n",
       "</style>\n",
       "<table border=\"1\" class=\"dataframe\">\n",
       "  <thead>\n",
       "    <tr style=\"text-align: right;\">\n",
       "      <th></th>\n",
       "      <th>group</th>\n",
       "      <th>conversion_percentage</th>\n",
       "    </tr>\n",
       "  </thead>\n",
       "  <tbody>\n",
       "    <tr>\n",
       "      <th>0</th>\n",
       "      <td>control</td>\n",
       "      <td>4.44</td>\n",
       "    </tr>\n",
       "    <tr>\n",
       "      <th>1</th>\n",
       "      <td>test</td>\n",
       "      <td>3.64</td>\n",
       "    </tr>\n",
       "  </tbody>\n",
       "</table>\n",
       "</div>"
      ],
      "text/plain": [
       "     group  conversion_percentage\n",
       "0  control                   4.44\n",
       "1     test                   3.64"
      ]
     },
     "execution_count": 85,
     "metadata": {},
     "output_type": "execute_result"
    }
   ],
   "source": [
    "CR = users_info.groupby('group') \\\n",
    "        .agg({'is_premium': 'mean'}) \\\n",
    "        .mul(100) \\\n",
    "        .round(2) \\\n",
    "        .reset_index() \\\n",
    "        .rename(columns = {'is_premium': 'conversion_percentage'})\n",
    "CR"
   ]
  },
  {
   "cell_type": "code",
   "execution_count": 86,
   "metadata": {},
   "outputs": [
    {
     "data": {
      "image/png": "[encoded data removed]",
      "text/plain": [
       "<Figure size 432x288 with 1 Axes>"
      ]
     },
     "metadata": {},
     "output_type": "display_data"
    }
   ],
   "source": [
    "sns.barplot(data = CR, x = 'group', y = 'conversion_percentage', palette = group_palette)\n",
    "plt.xlabel(\"Group\", size=12)\n",
    "plt.ylabel(\"Conversion percentage\", size=12)\n",
    "plt.title('Conversion rate in groups', pad = 20, size = 14)\n",
    "sns.despine()"
   ]
  },
  {
   "cell_type": "markdown",
   "metadata": {},
   "source": [
    "2. Таблица сопряженности"
   ]
  },
  {
   "cell_type": "code",
   "execution_count": 87,
   "metadata": {},
   "outputs": [
    {
     "data": {
      "text/html": [
       "<div>\n",
       "<style scoped>\n",
       "    .dataframe tbody tr th:only-of-type {\n",
       "        vertical-align: middle;\n",
       "    }\n",
       "\n",
       "    .dataframe tbody tr th {\n",
       "        vertical-align: top;\n",
       "    }\n",
       "\n",
       "    .dataframe thead th {\n",
       "        text-align: right;\n",
       "    }\n",
       "</style>\n",
       "<table border=\"1\" class=\"dataframe\">\n",
       "  <thead>\n",
       "    <tr style=\"text-align: right;\">\n",
       "      <th>is_premium</th>\n",
       "      <th>0.0</th>\n",
       "      <th>1.0</th>\n",
       "    </tr>\n",
       "    <tr>\n",
       "      <th>group</th>\n",
       "      <th></th>\n",
       "      <th></th>\n",
       "    </tr>\n",
       "  </thead>\n",
       "  <tbody>\n",
       "    <tr>\n",
       "      <th>control</th>\n",
       "      <td>8221</td>\n",
       "      <td>382</td>\n",
       "    </tr>\n",
       "    <tr>\n",
       "      <th>test</th>\n",
       "      <td>4151</td>\n",
       "      <td>157</td>\n",
       "    </tr>\n",
       "  </tbody>\n",
       "</table>\n",
       "</div>"
      ],
      "text/plain": [
       "is_premium   0.0  1.0\n",
       "group                \n",
       "control     8221  382\n",
       "test        4151  157"
      ]
     },
     "execution_count": 87,
     "metadata": {},
     "output_type": "execute_result"
    }
   ],
   "source": [
    "pd.crosstab(users_info.group, users_info.is_premium)"
   ]
  },
  {
   "cell_type": "markdown",
   "metadata": {},
   "source": [
    "3. Критерий Хи-квадрат независимости переменных в талице сопряженности  \n",
    "**H0** - количество пользователей, оформивших и не оформивших подписку не зависит от группы, распределение равномерно.\n",
    "**Результат** - отвергаем H0"
   ]
  },
  {
   "cell_type": "code",
   "execution_count": 88,
   "metadata": {},
   "outputs": [
    {
     "data": {
      "text/plain": [
       "(4.34896621022394,\n",
       " 0.0370314183684888,\n",
       " 1,\n",
       " array([[8243.84757184,  359.15242816],\n",
       "        [4128.15242816,  179.84757184]]))"
      ]
     },
     "execution_count": 88,
     "metadata": {},
     "output_type": "execute_result"
    }
   ],
   "source": [
    "stats.chi2_contingency(pd.crosstab(users_info.group, users_info.is_premium))"
   ]
  },
  {
   "cell_type": "markdown",
   "metadata": {},
   "source": [
    "### Вывод:\n",
    "Конверсия в подписку зависит от группы. В контрольной группе конверсия больше, чем в тестовой."
   ]
  },
  {
   "cell_type": "markdown",
   "metadata": {},
   "source": [
    "### 3. Критерий Хи-квадрат независимости конверсии в подписку от метрики was_premium"
   ]
  },
  {
   "cell_type": "markdown",
   "metadata": {},
   "source": [
    "1. Conversion rate для групп"
   ]
  },
  {
   "cell_type": "code",
   "execution_count": 89,
   "metadata": {},
   "outputs": [
    {
     "data": {
      "text/html": [
       "<div>\n",
       "<style scoped>\n",
       "    .dataframe tbody tr th:only-of-type {\n",
       "        vertical-align: middle;\n",
       "    }\n",
       "\n",
       "    .dataframe tbody tr th {\n",
       "        vertical-align: top;\n",
       "    }\n",
       "\n",
       "    .dataframe thead th {\n",
       "        text-align: right;\n",
       "    }\n",
       "</style>\n",
       "<table border=\"1\" class=\"dataframe\">\n",
       "  <thead>\n",
       "    <tr style=\"text-align: right;\">\n",
       "      <th></th>\n",
       "      <th>was_premium</th>\n",
       "      <th>conversion_percentage</th>\n",
       "    </tr>\n",
       "  </thead>\n",
       "  <tbody>\n",
       "    <tr>\n",
       "      <th>0</th>\n",
       "      <td>0.0</td>\n",
       "      <td>0.00</td>\n",
       "    </tr>\n",
       "    <tr>\n",
       "      <th>1</th>\n",
       "      <td>1.0</td>\n",
       "      <td>42.98</td>\n",
       "    </tr>\n",
       "  </tbody>\n",
       "</table>\n",
       "</div>"
      ],
      "text/plain": [
       "   was_premium  conversion_percentage\n",
       "0          0.0                   0.00\n",
       "1          1.0                  42.98"
      ]
     },
     "execution_count": 89,
     "metadata": {},
     "output_type": "execute_result"
    }
   ],
   "source": [
    "CR_2 = users_info.groupby('was_premium') \\\n",
    "        .agg({'is_premium': 'mean'}) \\\n",
    "        .mul(100) \\\n",
    "        .round(2) \\\n",
    "        .reset_index() \\\n",
    "        .rename(columns = {'is_premium': 'conversion_percentage'})\n",
    "CR_2"
   ]
  },
  {
   "cell_type": "markdown",
   "metadata": {},
   "source": [
    "2. Критерий Хи-квадрат независимости переменных в талице сопряженности  \n",
    "**H0** - количество пользователей, оформивших и не оформивших подписку не зависит от метрики was_premium (была ли у пользователя подписка ранее)\n",
    "\n",
    "**Результат** - отвергаем H0 и для тестовой, и для контрольной группы"
   ]
  },
  {
   "cell_type": "markdown",
   "metadata": {},
   "source": [
    "**Тестовая группа:**"
   ]
  },
  {
   "cell_type": "code",
   "execution_count": 90,
   "metadata": {
    "scrolled": true
   },
   "outputs": [],
   "source": [
    "test_cross= pd.crosstab(users_info.query(\"group == 'test'\").was_premium, users_info.query(\"group == 'test'\").is_premium)"
   ]
  },
  {
   "cell_type": "code",
   "execution_count": 91,
   "metadata": {
    "scrolled": true
   },
   "outputs": [
    {
     "data": {
      "text/plain": [
       "(1546.5575150564396,\n",
       " 0.0,\n",
       " 1,\n",
       " array([[3757.86908078,  142.13091922],\n",
       "        [ 393.13091922,   14.86908078]]))"
      ]
     },
     "execution_count": 91,
     "metadata": {},
     "output_type": "execute_result"
    }
   ],
   "source": [
    "stats.chi2_contingency(test_cross)"
   ]
  },
  {
   "cell_type": "markdown",
   "metadata": {},
   "source": [
    "**Контрольная группа:**"
   ]
  },
  {
   "cell_type": "code",
   "execution_count": 92,
   "metadata": {},
   "outputs": [],
   "source": [
    "control_cross = pd.crosstab(users_info.query(\"group == 'control'\").was_premium, users_info.query(\"group == 'control'\").is_premium)"
   ]
  },
  {
   "cell_type": "code",
   "execution_count": 93,
   "metadata": {},
   "outputs": [
    {
     "data": {
      "text/plain": [
       "(3654.687604882869,\n",
       " 0.0,\n",
       " 1,\n",
       " array([[7412.56503545,  344.43496455],\n",
       "        [ 808.43496455,   37.56503545]]))"
      ]
     },
     "execution_count": 93,
     "metadata": {},
     "output_type": "execute_result"
    }
   ],
   "source": [
    "stats.chi2_contingency(control_cross)"
   ]
  },
  {
   "cell_type": "markdown",
   "metadata": {},
   "source": [
    "### Вывод:\n",
    "Количество пользователей, оформивших и не оформивших подписку в группах зависит от того, была ли у пользователя подписка ранее."
   ]
  },
  {
   "cell_type": "markdown",
   "metadata": {},
   "source": [
    "### 4.  Анализ ARPU от подписки"
   ]
  },
  {
   "cell_type": "markdown",
   "metadata": {},
   "source": [
    "- Создаем датасет, в который входят только записи об оплате премиальной или пробной подписки\n",
    "- Пересчитываем доход с пользовтеля"
   ]
  },
  {
   "cell_type": "code",
   "execution_count": 94,
   "metadata": {},
   "outputs": [
    {
     "data": {
      "text/html": [
       "<div>\n",
       "<style scoped>\n",
       "    .dataframe tbody tr th:only-of-type {\n",
       "        vertical-align: middle;\n",
       "    }\n",
       "\n",
       "    .dataframe tbody tr th {\n",
       "        vertical-align: top;\n",
       "    }\n",
       "\n",
       "    .dataframe thead th {\n",
       "        text-align: right;\n",
       "    }\n",
       "</style>\n",
       "<table border=\"1\" class=\"dataframe\">\n",
       "  <thead>\n",
       "    <tr style=\"text-align: right;\">\n",
       "      <th></th>\n",
       "      <th>uid</th>\n",
       "      <th>group</th>\n",
       "      <th>revenue</th>\n",
       "      <th>payment_frequency</th>\n",
       "      <th>weeks_until_payment</th>\n",
       "    </tr>\n",
       "  </thead>\n",
       "  <tbody>\n",
       "    <tr>\n",
       "      <th>0</th>\n",
       "      <td>891068079.0</td>\n",
       "      <td>control</td>\n",
       "      <td>6292.0</td>\n",
       "      <td>1</td>\n",
       "      <td>9</td>\n",
       "    </tr>\n",
       "    <tr>\n",
       "      <th>1</th>\n",
       "      <td>891071157.0</td>\n",
       "      <td>test</td>\n",
       "      <td>9100.0</td>\n",
       "      <td>1</td>\n",
       "      <td>0</td>\n",
       "    </tr>\n",
       "    <tr>\n",
       "      <th>2</th>\n",
       "      <td>891077727.0</td>\n",
       "      <td>control</td>\n",
       "      <td>6292.0</td>\n",
       "      <td>1</td>\n",
       "      <td>0</td>\n",
       "    </tr>\n",
       "    <tr>\n",
       "      <th>3</th>\n",
       "      <td>891092322.0</td>\n",
       "      <td>control</td>\n",
       "      <td>5278.0</td>\n",
       "      <td>1</td>\n",
       "      <td>4</td>\n",
       "    </tr>\n",
       "    <tr>\n",
       "      <th>4</th>\n",
       "      <td>891112263.0</td>\n",
       "      <td>control</td>\n",
       "      <td>4680.0</td>\n",
       "      <td>1</td>\n",
       "      <td>9</td>\n",
       "    </tr>\n",
       "  </tbody>\n",
       "</table>\n",
       "</div>"
      ],
      "text/plain": [
       "           uid    group  revenue  payment_frequency  weeks_until_payment\n",
       "0  891068079.0  control   6292.0                  1                    9\n",
       "1  891071157.0     test   9100.0                  1                    0\n",
       "2  891077727.0  control   6292.0                  1                    0\n",
       "3  891092322.0  control   5278.0                  1                    4\n",
       "4  891112263.0  control   4680.0                  1                    9"
      ]
     },
     "execution_count": 94,
     "metadata": {},
     "output_type": "execute_result"
    }
   ],
   "source": [
    "user_revenue_premium = transactions_data.query(\"product_type == ['premium_no_trial', 'trial_premiun']\") \\\n",
    "                        .groupby(['uid', 'paid_at','weeks_until_payment', 'group'], as_index = False) \\\n",
    "                        .agg({'revenue': 'sum', 'paid_at': 'count', 'weeks_until_payment': 'min'}) \\\n",
    "                        .rename(columns ={'paid_at': 'payment_frequency'})\n",
    "user_revenue_premium.head()"
   ]
  },
  {
   "cell_type": "code",
   "execution_count": 95,
   "metadata": {},
   "outputs": [
    {
     "data": {
      "text/html": [
       "<div>\n",
       "<style scoped>\n",
       "    .dataframe tbody tr th:only-of-type {\n",
       "        vertical-align: middle;\n",
       "    }\n",
       "\n",
       "    .dataframe tbody tr th {\n",
       "        vertical-align: top;\n",
       "    }\n",
       "\n",
       "    .dataframe thead th {\n",
       "        text-align: right;\n",
       "    }\n",
       "</style>\n",
       "<table border=\"1\" class=\"dataframe\">\n",
       "  <thead>\n",
       "    <tr style=\"text-align: right;\">\n",
       "      <th></th>\n",
       "      <th>uid</th>\n",
       "      <th>group</th>\n",
       "      <th>payment_frequency</th>\n",
       "      <th>weeks_until_payment</th>\n",
       "      <th>revenue</th>\n",
       "    </tr>\n",
       "  </thead>\n",
       "  <tbody>\n",
       "    <tr>\n",
       "      <th>0</th>\n",
       "      <td>892309896</td>\n",
       "      <td>test</td>\n",
       "      <td>0.0</td>\n",
       "      <td>0.0</td>\n",
       "      <td>0.0</td>\n",
       "    </tr>\n",
       "    <tr>\n",
       "      <th>1</th>\n",
       "      <td>892044516</td>\n",
       "      <td>test</td>\n",
       "      <td>0.0</td>\n",
       "      <td>0.0</td>\n",
       "      <td>0.0</td>\n",
       "    </tr>\n",
       "    <tr>\n",
       "      <th>2</th>\n",
       "      <td>892185708</td>\n",
       "      <td>test</td>\n",
       "      <td>0.0</td>\n",
       "      <td>0.0</td>\n",
       "      <td>0.0</td>\n",
       "    </tr>\n",
       "    <tr>\n",
       "      <th>3</th>\n",
       "      <td>892130292</td>\n",
       "      <td>test</td>\n",
       "      <td>0.0</td>\n",
       "      <td>0.0</td>\n",
       "      <td>0.0</td>\n",
       "    </tr>\n",
       "    <tr>\n",
       "      <th>4</th>\n",
       "      <td>891406035</td>\n",
       "      <td>test</td>\n",
       "      <td>0.0</td>\n",
       "      <td>0.0</td>\n",
       "      <td>0.0</td>\n",
       "    </tr>\n",
       "  </tbody>\n",
       "</table>\n",
       "</div>"
      ],
      "text/plain": [
       "         uid group  payment_frequency  weeks_until_payment  revenue\n",
       "0  892309896  test                0.0                  0.0      0.0\n",
       "1  892044516  test                0.0                  0.0      0.0\n",
       "2  892185708  test                0.0                  0.0      0.0\n",
       "3  892130292  test                0.0                  0.0      0.0\n",
       "4  891406035  test                0.0                  0.0      0.0"
      ]
     },
     "execution_count": 95,
     "metadata": {},
     "output_type": "execute_result"
    }
   ],
   "source": [
    "premium = users_info[['uid', 'group']] \\\n",
    "        .merge(user_revenue_premium[['uid', 'payment_frequency','weeks_until_payment', 'revenue']], on = 'uid', how = 'left') \\\n",
    "        .fillna(0)\n",
    "premium.head()"
   ]
  },
  {
   "cell_type": "markdown",
   "metadata": {},
   "source": [
    "ARPU с подписки в группах"
   ]
  },
  {
   "cell_type": "code",
   "execution_count": 96,
   "metadata": {},
   "outputs": [
    {
     "data": {
      "image/png": "[encoded data removed]",
      "text/plain": [
       "<Figure size 432x288 with 1 Axes>"
      ]
     },
     "metadata": {},
     "output_type": "display_data"
    }
   ],
   "source": [
    "sns.barplot(data = premium \\\n",
    "            .groupby('group', as_index = False) \\\n",
    "            .agg({'revenue': 'mean'}), \\\n",
    "        \n",
    "            x = 'group', y = 'revenue', palette = group_palette)\n",
    "\n",
    "plt.xlabel(\"Group\", size=12)\n",
    "plt.ylabel(\"Revenue per user\", size=12)\n",
    "plt.title('Mean total revenue in groups', pad = 20, size = 14)\n",
    "sns.despine()"
   ]
  },
  {
   "cell_type": "markdown",
   "metadata": {},
   "source": [
    "Проверка выборок на нормальность.  \n",
    "**H0** - выборка взята из генеральной совокупности, в которой значения распределены нормально  \n",
    "**Результат** - распределения в выборках значимо отличаются от нормального."
   ]
  },
  {
   "cell_type": "code",
   "execution_count": 97,
   "metadata": {
    "scrolled": true
   },
   "outputs": [
    {
     "name": "stdout",
     "output_type": "stream",
     "text": [
      "test p-value: \t 0.0 \n",
      "control p-value: \t 0.0\n"
     ]
    },
    {
     "name": "stderr",
     "output_type": "stream",
     "text": [
      "/opt/tljh/user/lib/python3.7/site-packages/scipy/stats/morestats.py:1760: UserWarning: p-value may not be accurate for N > 5000.\n",
      "  warnings.warn(\"p-value may not be accurate for N > 5000.\")\n"
     ]
    }
   ],
   "source": [
    "print('test p-value:', '\\t', stats.shapiro(premium.query(\"group == 'test'\")['revenue'])[1], '\\n'\n",
    "     'control p-value:', '\\t', stats.shapiro(premium.query(\"group =='control'\")['revenue'])[1])"
   ]
  },
  {
   "cell_type": "markdown",
   "metadata": {},
   "source": [
    "Проверка на гомогенность дисперсии  \n",
    "**H0** - выборки взяты из генеральных совокупностей с одинаковыми дисперсиями  \n",
    "**Результат** - дисперсии в группах значимо не различаются "
   ]
  },
  {
   "cell_type": "code",
   "execution_count": 98,
   "metadata": {},
   "outputs": [
    {
     "data": {
      "text/plain": [
       "LeveneResult(statistic=0.20918399270011884, pvalue=0.6474154219912684)"
      ]
     },
     "execution_count": 98,
     "metadata": {},
     "output_type": "execute_result"
    }
   ],
   "source": [
    "stats.levene(premium.query(\"group == 'test'\")['revenue'], \\\n",
    "             premium.query(\"group  == 'control'\")['revenue'])"
   ]
  },
  {
   "cell_type": "markdown",
   "metadata": {},
   "source": [
    "**H0** - ни одно из средних значений в выборках не отличается от других  \n",
    "**Результат** - среднее хотя бы в одной группе значимо отличается от других"
   ]
  },
  {
   "cell_type": "code",
   "execution_count": 99,
   "metadata": {
    "scrolled": true
   },
   "outputs": [
    {
     "data": {
      "text/plain": [
       "Ttest_indResult(statistic=0.4573663659476053, pvalue=0.6474154219931683)"
      ]
     },
     "execution_count": 99,
     "metadata": {},
     "output_type": "execute_result"
    }
   ],
   "source": [
    "stats.ttest_ind(premium.query(\"group == 'test'\")['revenue'], \\\n",
    "             premium.query(\"group  == 'control'\")['revenue'])"
   ]
  },
  {
   "cell_type": "code",
   "execution_count": 101,
   "metadata": {
    "scrolled": false
   },
   "outputs": [
    {
     "data": {
      "application/vnd.jupyter.widget-view+json": {
       "model_id": "5aa5dbb3eac244e6a05ff8380f29022d",
       "version_major": 2,
       "version_minor": 0
      },
      "text/plain": [
       "HBox(children=(FloatProgress(value=0.0, max=1000.0), HTML(value='')))"
      ]
     },
     "metadata": {},
     "output_type": "display_data"
    },
    {
     "name": "stdout",
     "output_type": "stream",
     "text": [
      "\n"
     ]
    },
    {
     "data": {
      "image/png": "[encoded data removed]",
      "text/plain": [
       "<Figure size 432x288 with 1 Axes>"
      ]
     },
     "metadata": {},
     "output_type": "display_data"
    },
    {
     "name": "stdout",
     "output_type": "stream",
     "text": [
      "p-value = 0.6467204441396105\n"
     ]
    }
   ],
   "source": [
    "bootstrap(premium, 'revenue')"
   ]
  },
  {
   "cell_type": "markdown",
   "metadata": {},
   "source": [
    "### Вывод:\n",
    "Как и в случае с ARPU по всем категориям трат, доход от подписки в группах стат значимо не различается."
   ]
  },
  {
   "cell_type": "markdown",
   "metadata": {},
   "source": [
    "### Retention по подписке\n",
    "\n",
    "1. Построим барплот распределения частоты оформления подписок одним пользователем.\n",
    "2. Посмотрим на диапазон дат, за который есть данные по транзакциям.\n",
    "3. Строим график динамики регистрации за весь период времени."
   ]
  },
  {
   "cell_type": "code",
   "execution_count": 102,
   "metadata": {
    "scrolled": true
   },
   "outputs": [
    {
     "data": {
      "image/png": "[encoded data removed]",
      "text/plain": [
       "<Figure size 432x288 with 1 Axes>"
      ]
     },
     "metadata": {},
     "output_type": "display_data"
    }
   ],
   "source": [
    "sns.countplot(data = user_revenue_premium, x = 'payment_frequency', palette = 'mako')\n",
    "plt.xlabel(\"Payment frequency\", size=12)\n",
    "plt.ylabel(\"Number of users\", size=12)\n",
    "plt.title('Payment frequency per user in groups', pad = 20, size = 14)\n",
    "sns.despine()"
   ]
  },
  {
   "cell_type": "markdown",
   "metadata": {},
   "source": [
    "Данные о транзакциях представлены за период 11 месяцев с января по декабрь.   \n",
    "Построим распределение количества регистраций в течение всего периода.  \n",
    "Пользователеи регистрировались в течение всего года с пиками в мае и октябре. Значит, возможность повторно оформить подписку у большего количества пользователей была. Тем не менее, чаще всего пользователи оформляли подписку только 1 раз."
   ]
  },
  {
   "cell_type": "code",
   "execution_count": 103,
   "metadata": {},
   "outputs": [
    {
     "data": {
      "text/html": [
       "<div>\n",
       "<style scoped>\n",
       "    .dataframe tbody tr th:only-of-type {\n",
       "        vertical-align: middle;\n",
       "    }\n",
       "\n",
       "    .dataframe tbody tr th {\n",
       "        vertical-align: top;\n",
       "    }\n",
       "\n",
       "    .dataframe thead th {\n",
       "        text-align: right;\n",
       "    }\n",
       "</style>\n",
       "<table border=\"1\" class=\"dataframe\">\n",
       "  <thead>\n",
       "    <tr style=\"text-align: right;\">\n",
       "      <th></th>\n",
       "      <th>uid</th>\n",
       "      <th>group</th>\n",
       "      <th>revenue</th>\n",
       "      <th>payment_frequency</th>\n",
       "      <th>weeks_until_payment</th>\n",
       "    </tr>\n",
       "  </thead>\n",
       "  <tbody>\n",
       "    <tr>\n",
       "      <th>0</th>\n",
       "      <td>891068079.0</td>\n",
       "      <td>control</td>\n",
       "      <td>6292.0</td>\n",
       "      <td>1</td>\n",
       "      <td>9</td>\n",
       "    </tr>\n",
       "    <tr>\n",
       "      <th>1</th>\n",
       "      <td>891071157.0</td>\n",
       "      <td>test</td>\n",
       "      <td>9100.0</td>\n",
       "      <td>1</td>\n",
       "      <td>0</td>\n",
       "    </tr>\n",
       "    <tr>\n",
       "      <th>2</th>\n",
       "      <td>891077727.0</td>\n",
       "      <td>control</td>\n",
       "      <td>6292.0</td>\n",
       "      <td>1</td>\n",
       "      <td>0</td>\n",
       "    </tr>\n",
       "    <tr>\n",
       "      <th>3</th>\n",
       "      <td>891092322.0</td>\n",
       "      <td>control</td>\n",
       "      <td>5278.0</td>\n",
       "      <td>1</td>\n",
       "      <td>4</td>\n",
       "    </tr>\n",
       "    <tr>\n",
       "      <th>4</th>\n",
       "      <td>891112263.0</td>\n",
       "      <td>control</td>\n",
       "      <td>4680.0</td>\n",
       "      <td>1</td>\n",
       "      <td>9</td>\n",
       "    </tr>\n",
       "    <tr>\n",
       "      <th>...</th>\n",
       "      <td>...</td>\n",
       "      <td>...</td>\n",
       "      <td>...</td>\n",
       "      <td>...</td>\n",
       "      <td>...</td>\n",
       "    </tr>\n",
       "    <tr>\n",
       "      <th>279</th>\n",
       "      <td>892421277.0</td>\n",
       "      <td>control</td>\n",
       "      <td>47723.0</td>\n",
       "      <td>1</td>\n",
       "      <td>0</td>\n",
       "    </tr>\n",
       "    <tr>\n",
       "      <th>280</th>\n",
       "      <td>892426491.0</td>\n",
       "      <td>test</td>\n",
       "      <td>12597.0</td>\n",
       "      <td>1</td>\n",
       "      <td>0</td>\n",
       "    </tr>\n",
       "    <tr>\n",
       "      <th>281</th>\n",
       "      <td>892434141.0</td>\n",
       "      <td>test</td>\n",
       "      <td>3614.0</td>\n",
       "      <td>1</td>\n",
       "      <td>0</td>\n",
       "    </tr>\n",
       "    <tr>\n",
       "      <th>282</th>\n",
       "      <td>892435536.0</td>\n",
       "      <td>control</td>\n",
       "      <td>4537.0</td>\n",
       "      <td>1</td>\n",
       "      <td>0</td>\n",
       "    </tr>\n",
       "    <tr>\n",
       "      <th>283</th>\n",
       "      <td>892435536.0</td>\n",
       "      <td>control</td>\n",
       "      <td>4537.0</td>\n",
       "      <td>1</td>\n",
       "      <td>4</td>\n",
       "    </tr>\n",
       "  </tbody>\n",
       "</table>\n",
       "<p>284 rows × 5 columns</p>\n",
       "</div>"
      ],
      "text/plain": [
       "             uid    group  revenue  payment_frequency  weeks_until_payment\n",
       "0    891068079.0  control   6292.0                  1                    9\n",
       "1    891071157.0     test   9100.0                  1                    0\n",
       "2    891077727.0  control   6292.0                  1                    0\n",
       "3    891092322.0  control   5278.0                  1                    4\n",
       "4    891112263.0  control   4680.0                  1                    9\n",
       "..           ...      ...      ...                ...                  ...\n",
       "279  892421277.0  control  47723.0                  1                    0\n",
       "280  892426491.0     test  12597.0                  1                    0\n",
       "281  892434141.0     test   3614.0                  1                    0\n",
       "282  892435536.0  control   4537.0                  1                    0\n",
       "283  892435536.0  control   4537.0                  1                    4\n",
       "\n",
       "[284 rows x 5 columns]"
      ]
     },
     "execution_count": 103,
     "metadata": {},
     "output_type": "execute_result"
    }
   ],
   "source": [
    "user_revenue_premium"
   ]
  },
  {
   "cell_type": "code",
   "execution_count": 104,
   "metadata": {},
   "outputs": [
    {
     "data": {
      "text/plain": [
       "datetime.date(2017, 1, 11)"
      ]
     },
     "execution_count": 104,
     "metadata": {},
     "output_type": "execute_result"
    }
   ],
   "source": [
    "# Первая дата транзакции\n",
    "transactions_data.query(\"product_type == ['premium_no_trial', 'trial_premiun']\").paid_at.dt.date.min()"
   ]
  },
  {
   "cell_type": "code",
   "execution_count": 105,
   "metadata": {},
   "outputs": [
    {
     "data": {
      "text/plain": [
       "datetime.date(2017, 12, 11)"
      ]
     },
     "execution_count": 105,
     "metadata": {},
     "output_type": "execute_result"
    }
   ],
   "source": [
    "# Последняя дата транзакции\n",
    "transactions_data.query(\"product_type == ['premium_no_trial', 'trial_premiun']\").paid_at.dt.date.max()"
   ]
  },
  {
   "cell_type": "code",
   "execution_count": 106,
   "metadata": {},
   "outputs": [
    {
     "data": {
      "text/html": [
       "<div>\n",
       "<style scoped>\n",
       "    .dataframe tbody tr th:only-of-type {\n",
       "        vertical-align: middle;\n",
       "    }\n",
       "\n",
       "    .dataframe tbody tr th {\n",
       "        vertical-align: top;\n",
       "    }\n",
       "\n",
       "    .dataframe thead th {\n",
       "        text-align: right;\n",
       "    }\n",
       "</style>\n",
       "<table border=\"1\" class=\"dataframe\">\n",
       "  <thead>\n",
       "    <tr style=\"text-align: right;\">\n",
       "      <th></th>\n",
       "      <th>joined_at</th>\n",
       "      <th>uid</th>\n",
       "    </tr>\n",
       "  </thead>\n",
       "  <tbody>\n",
       "    <tr>\n",
       "      <th>0</th>\n",
       "      <td>11.01</td>\n",
       "      <td>14</td>\n",
       "    </tr>\n",
       "    <tr>\n",
       "      <th>1</th>\n",
       "      <td>11.02</td>\n",
       "      <td>16</td>\n",
       "    </tr>\n",
       "    <tr>\n",
       "      <th>2</th>\n",
       "      <td>11.03</td>\n",
       "      <td>13</td>\n",
       "    </tr>\n",
       "    <tr>\n",
       "      <th>3</th>\n",
       "      <td>11.04</td>\n",
       "      <td>15</td>\n",
       "    </tr>\n",
       "    <tr>\n",
       "      <th>4</th>\n",
       "      <td>11.05</td>\n",
       "      <td>40</td>\n",
       "    </tr>\n",
       "  </tbody>\n",
       "</table>\n",
       "</div>"
      ],
      "text/plain": [
       "  joined_at  uid\n",
       "0     11.01   14\n",
       "1     11.02   16\n",
       "2     11.03   13\n",
       "3     11.04   15\n",
       "4     11.05   40"
      ]
     },
     "execution_count": 106,
     "metadata": {},
     "output_type": "execute_result"
    }
   ],
   "source": [
    "transactions_data['joined_at'] = transactions_data['joined_at'].dt.date\n",
    "registration = transactions_data \\\n",
    "                .groupby('joined_at').agg({'uid': 'nunique'}).reset_index()\n",
    "registration['joined_at'] = registration['joined_at'].apply(lambda x: x.strftime(\"%d.%m\"))        \n",
    "registration.head()"
   ]
  },
  {
   "cell_type": "code",
   "execution_count": 107,
   "metadata": {
    "scrolled": false
   },
   "outputs": [
    {
     "data": {
      "image/png": "[encoded data removed]",
      "text/plain": [
       "<Figure size 1440x576 with 1 Axes>"
      ]
     },
     "metadata": {},
     "output_type": "display_data"
    }
   ],
   "source": [
    "plt.figure(figsize = (20,8))\n",
    "sns.lineplot(data = registration, x = 'joined_at', y = 'uid')\n",
    "plt.xlabel(\"Date (day and month)\", size=14)\n",
    "plt.ylabel(\"Number of users\", size=14)\n",
    "plt.title('Registrations dinamics', pad = 20, size = 16)\n",
    "sns.despine()"
   ]
  },
  {
   "cell_type": "markdown",
   "metadata": {},
   "source": [
    "4. Проверим, имеются ли значимые различия между группами по частоте офомления подписок (payment_frequency) с помощью Хи-квадрата.  \n",
    "**H0** - частота оформления подписки пользователем не зависит от группы, распределение количества пользователей равномерно."
   ]
  },
  {
   "cell_type": "code",
   "execution_count": 108,
   "metadata": {},
   "outputs": [
    {
     "data": {
      "text/html": [
       "<div>\n",
       "<style scoped>\n",
       "    .dataframe tbody tr th:only-of-type {\n",
       "        vertical-align: middle;\n",
       "    }\n",
       "\n",
       "    .dataframe tbody tr th {\n",
       "        vertical-align: top;\n",
       "    }\n",
       "\n",
       "    .dataframe thead th {\n",
       "        text-align: right;\n",
       "    }\n",
       "</style>\n",
       "<table border=\"1\" class=\"dataframe\">\n",
       "  <thead>\n",
       "    <tr style=\"text-align: right;\">\n",
       "      <th>payment_frequency</th>\n",
       "      <th>1</th>\n",
       "      <th>2</th>\n",
       "    </tr>\n",
       "    <tr>\n",
       "      <th>group</th>\n",
       "      <th></th>\n",
       "      <th></th>\n",
       "    </tr>\n",
       "  </thead>\n",
       "  <tbody>\n",
       "    <tr>\n",
       "      <th>control</th>\n",
       "      <td>206</td>\n",
       "      <td>3</td>\n",
       "    </tr>\n",
       "    <tr>\n",
       "      <th>test</th>\n",
       "      <td>74</td>\n",
       "      <td>1</td>\n",
       "    </tr>\n",
       "  </tbody>\n",
       "</table>\n",
       "</div>"
      ],
      "text/plain": [
       "payment_frequency    1  2\n",
       "group                    \n",
       "control            206  3\n",
       "test                74  1"
      ]
     },
     "execution_count": 108,
     "metadata": {},
     "output_type": "execute_result"
    }
   ],
   "source": [
    "pd.crosstab(user_revenue_premium.group, user_revenue_premium.payment_frequency)"
   ]
  },
  {
   "cell_type": "code",
   "execution_count": 109,
   "metadata": {},
   "outputs": [
    {
     "data": {
      "text/plain": [
       "(0.0,\n",
       " 1.0,\n",
       " 1,\n",
       " array([[206.05633803,   2.94366197],\n",
       "        [ 73.94366197,   1.05633803]]))"
      ]
     },
     "execution_count": 109,
     "metadata": {},
     "output_type": "execute_result"
    }
   ],
   "source": [
    "stats.chi2_contingency(pd.crosstab(user_revenue_premium.group, user_revenue_premium.payment_frequency))"
   ]
  },
  {
   "cell_type": "markdown",
   "metadata": {},
   "source": [
    "### Вывод:\n",
    "Статистически значимых рахличий между retention по подписке нет. В целом retention очень маленький и пользователи, как правило, не возвращаются за оформлением подписки."
   ]
  },
  {
   "cell_type": "markdown",
   "metadata": {},
   "source": [
    "### 5. ARPU по иным категориям трат (доход от категорий coins и other_type)"
   ]
  },
  {
   "cell_type": "markdown",
   "metadata": {},
   "source": [
    "На этапе анализа транзакций мы выяснили, что пользователи переходят с разных страниц перед оплатой разных продуктов. При оплате премиальной или пробной версии подписки это одни страницы, а при оплате внутренней валютой и оплате категории other type это другой набор страниц.  \n",
    "Поскольку премиум подписка предоставляет доступ к дополнительным возможностям, предполагаем, что пользование внутренней валютой и покупка продуктов из категории other type относится к этим возможностям.  \n",
    "Проанализируем, есть ли различия в дополнительных тратах, совершаемых премиум-пользователями в группах."
   ]
  },
  {
   "cell_type": "markdown",
   "metadata": {},
   "source": [
    "Из всех записей по транзакциям не было и нет подписки у 31 пользователя из 524.  \n",
    "Большая часть этих пользователей оплачивала продукты за внутреннюю валюту."
   ]
  },
  {
   "cell_type": "code",
   "execution_count": 110,
   "metadata": {},
   "outputs": [
    {
     "data": {
      "text/plain": [
       "524"
      ]
     },
     "execution_count": 110,
     "metadata": {},
     "output_type": "execute_result"
    }
   ],
   "source": [
    "transactions_data.uid.nunique()"
   ]
  },
  {
   "cell_type": "code",
   "execution_count": 111,
   "metadata": {
    "scrolled": true
   },
   "outputs": [
    {
     "data": {
      "text/plain": [
       "31"
      ]
     },
     "execution_count": 111,
     "metadata": {},
     "output_type": "execute_result"
    }
   ],
   "source": [
    "transactions_data.query(\"is_premium == 0 and was_premium == 0\").uid.nunique()"
   ]
  },
  {
   "cell_type": "code",
   "execution_count": 112,
   "metadata": {},
   "outputs": [
    {
     "data": {
      "text/plain": [
       "array(['coins', 'other_type'], dtype=object)"
      ]
     },
     "execution_count": 112,
     "metadata": {},
     "output_type": "execute_result"
    }
   ],
   "source": [
    "transactions_data.query(\"is_premium == 0 and was_premium == 0\").product_type.unique()"
   ]
  },
  {
   "cell_type": "code",
   "execution_count": 113,
   "metadata": {},
   "outputs": [
    {
     "data": {
      "text/plain": [
       "24"
      ]
     },
     "execution_count": 113,
     "metadata": {},
     "output_type": "execute_result"
    }
   ],
   "source": [
    "transactions_data.query(\"product_type == 'coins' and is_premium == 0 and was_premium == 0\").uid.nunique()"
   ]
  },
  {
   "cell_type": "code",
   "execution_count": 114,
   "metadata": {},
   "outputs": [
    {
     "data": {
      "text/plain": [
       "9"
      ]
     },
     "execution_count": 114,
     "metadata": {},
     "output_type": "execute_result"
    }
   ],
   "source": [
    "transactions_data.query(\"product_type == 'other_type' and is_premium == 0 and was_premium == 0\").uid.nunique()"
   ]
  },
  {
   "cell_type": "markdown",
   "metadata": {},
   "source": [
    "Посмотрим на различия в доходе c категорий продуктов **coins, other type** среди пользователей, оформивших подписку в разных группах.\n",
    "1. Создаем датасет с записями об оплате указанных продуктов пользователями, оформлявшими подписку\n",
    "2. Строим график распределения дохода\n",
    "2. Проводим анализ выборок"
   ]
  },
  {
   "cell_type": "code",
   "execution_count": 115,
   "metadata": {},
   "outputs": [
    {
     "data": {
      "text/html": [
       "<div>\n",
       "<style scoped>\n",
       "    .dataframe tbody tr th:only-of-type {\n",
       "        vertical-align: middle;\n",
       "    }\n",
       "\n",
       "    .dataframe tbody tr th {\n",
       "        vertical-align: top;\n",
       "    }\n",
       "\n",
       "    .dataframe thead th {\n",
       "        text-align: right;\n",
       "    }\n",
       "</style>\n",
       "<table border=\"1\" class=\"dataframe\">\n",
       "  <thead>\n",
       "    <tr style=\"text-align: right;\">\n",
       "      <th></th>\n",
       "      <th>uid</th>\n",
       "      <th>group</th>\n",
       "      <th>revenue</th>\n",
       "      <th>payment_frequency</th>\n",
       "    </tr>\n",
       "  </thead>\n",
       "  <tbody>\n",
       "    <tr>\n",
       "      <th>0</th>\n",
       "      <td>891068079.0</td>\n",
       "      <td>control</td>\n",
       "      <td>10296.0</td>\n",
       "      <td>2</td>\n",
       "    </tr>\n",
       "    <tr>\n",
       "      <th>1</th>\n",
       "      <td>891071157.0</td>\n",
       "      <td>test</td>\n",
       "      <td>9100.0</td>\n",
       "      <td>1</td>\n",
       "    </tr>\n",
       "    <tr>\n",
       "      <th>2</th>\n",
       "      <td>891075072.0</td>\n",
       "      <td>control</td>\n",
       "      <td>2327.0</td>\n",
       "      <td>1</td>\n",
       "    </tr>\n",
       "    <tr>\n",
       "      <th>3</th>\n",
       "      <td>891077727.0</td>\n",
       "      <td>control</td>\n",
       "      <td>6292.0</td>\n",
       "      <td>1</td>\n",
       "    </tr>\n",
       "    <tr>\n",
       "      <th>4</th>\n",
       "      <td>891080040.0</td>\n",
       "      <td>control</td>\n",
       "      <td>15132.0</td>\n",
       "      <td>8</td>\n",
       "    </tr>\n",
       "  </tbody>\n",
       "</table>\n",
       "</div>"
      ],
      "text/plain": [
       "           uid    group  revenue  payment_frequency\n",
       "0  891068079.0  control  10296.0                  2\n",
       "1  891071157.0     test   9100.0                  1\n",
       "2  891075072.0  control   2327.0                  1\n",
       "3  891077727.0  control   6292.0                  1\n",
       "4  891080040.0  control  15132.0                  8"
      ]
     },
     "execution_count": 115,
     "metadata": {},
     "output_type": "execute_result"
    }
   ],
   "source": [
    "user_other_revenue = transactions_data.query(\"product_type == 'other_type' and is_premium !=0 or was_premium != 0\") \\\n",
    "                        .groupby(['uid', 'group'], as_index = False) \\\n",
    "                        .agg({'revenue': 'sum', 'paid_at': 'count'}) \\\n",
    "                        .rename(columns ={'paid_at': 'payment_frequency'})\n",
    "user_other_revenue.head()"
   ]
  },
  {
   "cell_type": "code",
   "execution_count": 116,
   "metadata": {},
   "outputs": [
    {
     "data": {
      "text/plain": [
       "(493, 4)"
      ]
     },
     "execution_count": 116,
     "metadata": {},
     "output_type": "execute_result"
    }
   ],
   "source": [
    "user_other_revenue.shape"
   ]
  },
  {
   "cell_type": "code",
   "execution_count": 117,
   "metadata": {},
   "outputs": [],
   "source": [
    "other_revenue = users_info[['uid', 'group']] \\\n",
    "                .merge(user_other_revenue[['uid', 'revenue', 'payment_frequency']], on = 'uid', how = 'left') \\\n",
    "                .fillna(0)"
   ]
  },
  {
   "cell_type": "code",
   "execution_count": 118,
   "metadata": {},
   "outputs": [
    {
     "data": {
      "image/png": "[encoded data removed]",
      "text/plain": [
       "<Figure size 432x288 with 1 Axes>"
      ]
     },
     "metadata": {},
     "output_type": "display_data"
    }
   ],
   "source": [
    "sns.barplot(data = other_revenue \\\n",
    "            .groupby('group', as_index = False) \\\n",
    "            .agg({'revenue': 'mean'}), \\\n",
    "        \n",
    "            x = 'group', y = 'revenue', palette = group_palette)\n",
    "\n",
    "plt.xlabel(\"Group\", size=12)\n",
    "plt.ylabel(\"Revenue per user\", size=12)\n",
    "plt.title('Mean total revenue in groups', pad = 20, size = 14)\n",
    "sns.despine()"
   ]
  },
  {
   "cell_type": "markdown",
   "metadata": {},
   "source": [
    "Проверка выборок на нормальность.  \n",
    "**H0** - выборка взята из генеральной совокупности, в которой значения распределены нормально  \n",
    "**Результат** - распределения в выборках значимо отличаются от нормального."
   ]
  },
  {
   "cell_type": "code",
   "execution_count": 119,
   "metadata": {},
   "outputs": [
    {
     "name": "stdout",
     "output_type": "stream",
     "text": [
      "test p-value: \t 0.0 \n",
      "control p-value: \t 0.0\n"
     ]
    },
    {
     "name": "stderr",
     "output_type": "stream",
     "text": [
      "/opt/tljh/user/lib/python3.7/site-packages/scipy/stats/morestats.py:1760: UserWarning: p-value may not be accurate for N > 5000.\n",
      "  warnings.warn(\"p-value may not be accurate for N > 5000.\")\n"
     ]
    }
   ],
   "source": [
    "print('test p-value:', '\\t', stats.shapiro(other_revenue.query(\"group == 'test'\")['revenue'])[1], '\\n'\n",
    "     'control p-value:', '\\t', stats.shapiro(other_revenue.query(\"group == 'control'\")['revenue'])[1])\n"
   ]
  },
  {
   "cell_type": "markdown",
   "metadata": {},
   "source": [
    "Проверка на гомогенность дисперсии  \n",
    "**H0** - выборки взяты из генеральных совокупностей с одинаковыми дисперсиями  \n",
    "**Результат** - дисперсии в группах значимо различаются"
   ]
  },
  {
   "cell_type": "code",
   "execution_count": 120,
   "metadata": {},
   "outputs": [
    {
     "data": {
      "text/plain": [
       "LeveneResult(statistic=1.9964165229753508, pvalue=0.15769569902993813)"
      ]
     },
     "execution_count": 120,
     "metadata": {},
     "output_type": "execute_result"
    }
   ],
   "source": [
    "stats.levene(other_revenue.query(\"group == 'test'\")['revenue'], \\\n",
    "             other_revenue.query(\"group == 'control'\")['revenue'])"
   ]
  },
  {
   "cell_type": "markdown",
   "metadata": {},
   "source": [
    "t-test\n",
    "\n",
    "**H0** - ни одно из средних значений в выборках не отличается от других  \n",
    "**Результат** - среднее хотя бы в одной группе значимо отличается от других"
   ]
  },
  {
   "cell_type": "code",
   "execution_count": 121,
   "metadata": {},
   "outputs": [
    {
     "data": {
      "text/plain": [
       "Ttest_indResult(statistic=1.4129460439009518, pvalue=0.15769569903101843)"
      ]
     },
     "execution_count": 121,
     "metadata": {},
     "output_type": "execute_result"
    }
   ],
   "source": [
    "stats.ttest_ind(other_revenue.query(\"group == 'test'\")['revenue'], \\\n",
    "             other_revenue.query(\"group == 'control'\")['revenue'])"
   ]
  },
  {
   "cell_type": "code",
   "execution_count": 123,
   "metadata": {
    "scrolled": true
   },
   "outputs": [
    {
     "data": {
      "application/vnd.jupyter.widget-view+json": {
       "model_id": "d849b23b12b641fd843a14986f07a748",
       "version_major": 2,
       "version_minor": 0
      },
      "text/plain": [
       "HBox(children=(FloatProgress(value=0.0, max=1000.0), HTML(value='')))"
      ]
     },
     "metadata": {},
     "output_type": "display_data"
    },
    {
     "name": "stdout",
     "output_type": "stream",
     "text": [
      "\n"
     ]
    },
    {
     "data": {
      "image/png": "[encoded data removed]",
      "text/plain": [
       "<Figure size 432x288 with 1 Axes>"
      ]
     },
     "metadata": {},
     "output_type": "display_data"
    },
    {
     "name": "stdout",
     "output_type": "stream",
     "text": [
      "p-value = 0.13755258583010815\n"
     ]
    }
   ],
   "source": [
    "bootstrap(other_revenue, 'revenue')"
   ]
  },
  {
   "cell_type": "markdown",
   "metadata": {},
   "source": [
    "Дополнительно проверим независимость распределения частоты покупки товаров от группы.  \n",
    "**H0** - частота покупки товаров не зависит от группы, распределение количества пользователей равномерно."
   ]
  },
  {
   "cell_type": "code",
   "execution_count": 124,
   "metadata": {},
   "outputs": [
    {
     "data": {
      "text/html": [
       "<div>\n",
       "<style scoped>\n",
       "    .dataframe tbody tr th:only-of-type {\n",
       "        vertical-align: middle;\n",
       "    }\n",
       "\n",
       "    .dataframe tbody tr th {\n",
       "        vertical-align: top;\n",
       "    }\n",
       "\n",
       "    .dataframe thead th {\n",
       "        text-align: right;\n",
       "    }\n",
       "</style>\n",
       "<table border=\"1\" class=\"dataframe\">\n",
       "  <thead>\n",
       "    <tr style=\"text-align: right;\">\n",
       "      <th>payment_frequency</th>\n",
       "      <th>1</th>\n",
       "      <th>2</th>\n",
       "      <th>3</th>\n",
       "      <th>4</th>\n",
       "      <th>5</th>\n",
       "      <th>6</th>\n",
       "      <th>7</th>\n",
       "      <th>8</th>\n",
       "      <th>9</th>\n",
       "      <th>10</th>\n",
       "      <th>11</th>\n",
       "    </tr>\n",
       "    <tr>\n",
       "      <th>group</th>\n",
       "      <th></th>\n",
       "      <th></th>\n",
       "      <th></th>\n",
       "      <th></th>\n",
       "      <th></th>\n",
       "      <th></th>\n",
       "      <th></th>\n",
       "      <th></th>\n",
       "      <th></th>\n",
       "      <th></th>\n",
       "      <th></th>\n",
       "    </tr>\n",
       "  </thead>\n",
       "  <tbody>\n",
       "    <tr>\n",
       "      <th>control</th>\n",
       "      <td>235</td>\n",
       "      <td>50</td>\n",
       "      <td>39</td>\n",
       "      <td>13</td>\n",
       "      <td>5</td>\n",
       "      <td>4</td>\n",
       "      <td>2</td>\n",
       "      <td>1</td>\n",
       "      <td>0</td>\n",
       "      <td>3</td>\n",
       "      <td>1</td>\n",
       "    </tr>\n",
       "    <tr>\n",
       "      <th>test</th>\n",
       "      <td>91</td>\n",
       "      <td>24</td>\n",
       "      <td>11</td>\n",
       "      <td>5</td>\n",
       "      <td>1</td>\n",
       "      <td>4</td>\n",
       "      <td>0</td>\n",
       "      <td>1</td>\n",
       "      <td>2</td>\n",
       "      <td>0</td>\n",
       "      <td>1</td>\n",
       "    </tr>\n",
       "  </tbody>\n",
       "</table>\n",
       "</div>"
      ],
      "text/plain": [
       "payment_frequency   1   2   3   4   5   6   7   8   9   10  11\n",
       "group                                                         \n",
       "control            235  50  39  13   5   4   2   1   0   3   1\n",
       "test                91  24  11   5   1   4   0   1   2   0   1"
      ]
     },
     "execution_count": 124,
     "metadata": {},
     "output_type": "execute_result"
    }
   ],
   "source": [
    "pd.crosstab(user_other_revenue.group, user_other_revenue.payment_frequency)"
   ]
  },
  {
   "cell_type": "code",
   "execution_count": 125,
   "metadata": {},
   "outputs": [
    {
     "data": {
      "text/plain": [
       "(11.825831576991904,\n",
       " 0.29688209593591014,\n",
       " 10,\n",
       " array([[233.42393509,  52.98580122,  35.80121704,  12.88843813,\n",
       "           4.29614604,   5.72819473,   1.43204868,   1.43204868,\n",
       "           1.43204868,   2.14807302,   1.43204868],\n",
       "        [ 92.57606491,  21.01419878,  14.19878296,   5.11156187,\n",
       "           1.70385396,   2.27180527,   0.56795132,   0.56795132,\n",
       "           0.56795132,   0.85192698,   0.56795132]]))"
      ]
     },
     "execution_count": 125,
     "metadata": {},
     "output_type": "execute_result"
    }
   ],
   "source": [
    "stats.chi2_contingency(pd.crosstab(user_other_revenue.group, user_other_revenue.payment_frequency))"
   ]
  },
  {
   "cell_type": "markdown",
   "metadata": {},
   "source": [
    "### Вывод: \n",
    "ARPU по иным категориям трат не имеет значимых различий в тестовой и контрольной группе. Частота покупок от группы так же не зависит.\n"
   ]
  },
  {
   "cell_type": "markdown",
   "metadata": {},
   "source": [
    "### 5. ANOVA по метрике ARPU"
   ]
  },
  {
   "cell_type": "markdown",
   "metadata": {},
   "source": [
    "Проверим, есть ли эффект между определенными группами пользователей.\n",
    "Разделим пользователей на группы по показателям:\n",
    "- Возраст (разделениям по процентиллям)\n",
    "- Количество посещений (разделениям по процентиллям)\n",
    "- Страна\n",
    "\n",
    "\n",
    "1. Создаем таблицы с диапазонами значений по возрасту, количеству посещений\n",
    "2. Создаем функции, которые определяют, к какой группе пользователь относится по возрасту age_group(), количеству посещений visits_group()\n",
    "2. Объединим таблицы users_info, transactions_data c полученными результатами\n",
    "3. Посмотрим, есть ли разница между группами по метрике total_revenue"
   ]
  },
  {
   "cell_type": "code",
   "execution_count": 126,
   "metadata": {},
   "outputs": [],
   "source": [
    "age_groups = pd.DataFrame({'age_left': users_info.age.quantile([0, 0.5, 0.75]).values.round(),\\\n",
    "                                'age_right': users_info.age.quantile([ 0.5, 0.75, 1]).values.round()}, \\\n",
    "                               index = (1,2,3))\n",
    "\n",
    "visits_groups = pd.DataFrame({'vis_left': users_info.visits.quantile([0, 0.5, 0.75]).values.round(),\\\n",
    "                                'vis_right': users_info.visits.quantile([ 0.5, 0.75, 1]).values.round()}, \\\n",
    "                               index = (1,2,3))"
   ]
  },
  {
   "cell_type": "code",
   "execution_count": 127,
   "metadata": {},
   "outputs": [
    {
     "data": {
      "text/html": [
       "<div>\n",
       "<style scoped>\n",
       "    .dataframe tbody tr th:only-of-type {\n",
       "        vertical-align: middle;\n",
       "    }\n",
       "\n",
       "    .dataframe tbody tr th {\n",
       "        vertical-align: top;\n",
       "    }\n",
       "\n",
       "    .dataframe thead th {\n",
       "        text-align: right;\n",
       "    }\n",
       "</style>\n",
       "<table border=\"1\" class=\"dataframe\">\n",
       "  <thead>\n",
       "    <tr style=\"text-align: right;\">\n",
       "      <th></th>\n",
       "      <th>age_left</th>\n",
       "      <th>age_right</th>\n",
       "    </tr>\n",
       "  </thead>\n",
       "  <tbody>\n",
       "    <tr>\n",
       "      <th>1</th>\n",
       "      <td>16.0</td>\n",
       "      <td>30.0</td>\n",
       "    </tr>\n",
       "    <tr>\n",
       "      <th>2</th>\n",
       "      <td>30.0</td>\n",
       "      <td>38.0</td>\n",
       "    </tr>\n",
       "    <tr>\n",
       "      <th>3</th>\n",
       "      <td>38.0</td>\n",
       "      <td>99.0</td>\n",
       "    </tr>\n",
       "  </tbody>\n",
       "</table>\n",
       "</div>"
      ],
      "text/plain": [
       "   age_left  age_right\n",
       "1      16.0       30.0\n",
       "2      30.0       38.0\n",
       "3      38.0       99.0"
      ]
     },
     "execution_count": 127,
     "metadata": {},
     "output_type": "execute_result"
    }
   ],
   "source": [
    "age_groups"
   ]
  },
  {
   "cell_type": "code",
   "execution_count": 128,
   "metadata": {},
   "outputs": [
    {
     "data": {
      "text/html": [
       "<div>\n",
       "<style scoped>\n",
       "    .dataframe tbody tr th:only-of-type {\n",
       "        vertical-align: middle;\n",
       "    }\n",
       "\n",
       "    .dataframe tbody tr th {\n",
       "        vertical-align: top;\n",
       "    }\n",
       "\n",
       "    .dataframe thead th {\n",
       "        text-align: right;\n",
       "    }\n",
       "</style>\n",
       "<table border=\"1\" class=\"dataframe\">\n",
       "  <thead>\n",
       "    <tr style=\"text-align: right;\">\n",
       "      <th></th>\n",
       "      <th>vis_left</th>\n",
       "      <th>vis_right</th>\n",
       "    </tr>\n",
       "  </thead>\n",
       "  <tbody>\n",
       "    <tr>\n",
       "      <th>1</th>\n",
       "      <td>0.0</td>\n",
       "      <td>2.0</td>\n",
       "    </tr>\n",
       "    <tr>\n",
       "      <th>2</th>\n",
       "      <td>2.0</td>\n",
       "      <td>7.0</td>\n",
       "    </tr>\n",
       "    <tr>\n",
       "      <th>3</th>\n",
       "      <td>7.0</td>\n",
       "      <td>31.0</td>\n",
       "    </tr>\n",
       "  </tbody>\n",
       "</table>\n",
       "</div>"
      ],
      "text/plain": [
       "   vis_left  vis_right\n",
       "1       0.0        2.0\n",
       "2       2.0        7.0\n",
       "3       7.0       31.0"
      ]
     },
     "execution_count": 128,
     "metadata": {},
     "output_type": "execute_result"
    }
   ],
   "source": [
    "visits_groups"
   ]
  },
  {
   "cell_type": "code",
   "execution_count": 129,
   "metadata": {},
   "outputs": [],
   "source": [
    "def age_group(age):\n",
    "    for row in age_groups.itertuples():\n",
    "        if age >= row.age_left and age < row.age_right:\n",
    "            group = row.Index\n",
    "        elif age == row.age_right and row.Index == 3:\n",
    "            group = row.Index\n",
    "    return (group)  \n",
    "users_info['age_group'] = users_info['age'].apply(lambda x: age_group(x))"
   ]
  },
  {
   "cell_type": "code",
   "execution_count": 130,
   "metadata": {},
   "outputs": [],
   "source": [
    "def visits_group(visits):\n",
    "    for row in visits_groups.itertuples():\n",
    "        if visits>= row.vis_left and visits < row.vis_right:\n",
    "            group = row.Index\n",
    "        elif visits == row.vis_right and row.Index == 3:\n",
    "            group = row.Index\n",
    "    return (group)  \n",
    "users_info['visits_group'] = users_info['visits'].apply(lambda x: visits_group(x))"
   ]
  },
  {
   "cell_type": "markdown",
   "metadata": {},
   "source": [
    "Будем считать, что нововведение имеет смысл между группами пользователей, если влияние фактора группы, к которой относится пользователь (по возрасту, количеству посещений или стране) на доход за подписку или от иных трат статистически значимо.  \n",
    "Для проверки используем множественный ANOVA"
   ]
  },
  {
   "cell_type": "markdown",
   "metadata": {},
   "source": [
    "### Множественный ANOVA по метрике total_revenue для стран:"
   ]
  },
  {
   "cell_type": "markdown",
   "metadata": {},
   "source": [
    "**H0** - доход с пользователя не зависит от страны и группы, к которой принадлежит пользователь, а также от совокупности этих факторов.  \n",
    "**Результат** - величина метрики total_revenue зависит от страны пользователя, взаимодействия факторов не оказывает значимое влияние на величину дохода."
   ]
  },
  {
   "cell_type": "code",
   "execution_count": 131,
   "metadata": {},
   "outputs": [
    {
     "name": "stderr",
     "output_type": "stream",
     "text": [
      "/opt/tljh/user/lib/python3.7/site-packages/statsmodels/base/model.py:1865: ValueWarning: covariance of constraints does not have full rank. The number of constraints is 1, but rank is 0\n",
      "  'rank is %d' % (J, J_), ValueWarning)\n",
      "/opt/tljh/user/lib/python3.7/site-packages/statsmodels/base/model.py:1881: RuntimeWarning: invalid value encountered in true_divide\n",
      "  F /= J\n",
      "/opt/tljh/user/lib/python3.7/site-packages/statsmodels/base/model.py:1865: ValueWarning: covariance of constraints does not have full rank. The number of constraints is 71, but rank is 44\n",
      "  'rank is %d' % (J, J_), ValueWarning)\n",
      "/opt/tljh/user/lib/python3.7/site-packages/statsmodels/base/model.py:1865: ValueWarning: covariance of constraints does not have full rank. The number of constraints is 71, but rank is 50\n",
      "  'rank is %d' % (J, J_), ValueWarning)\n"
     ]
    },
    {
     "data": {
      "text/html": [
       "<div>\n",
       "<style scoped>\n",
       "    .dataframe tbody tr th:only-of-type {\n",
       "        vertical-align: middle;\n",
       "    }\n",
       "\n",
       "    .dataframe tbody tr th {\n",
       "        vertical-align: top;\n",
       "    }\n",
       "\n",
       "    .dataframe thead th {\n",
       "        text-align: right;\n",
       "    }\n",
       "</style>\n",
       "<table border=\"1\" class=\"dataframe\">\n",
       "  <thead>\n",
       "    <tr style=\"text-align: right;\">\n",
       "      <th></th>\n",
       "      <th>sum_sq</th>\n",
       "      <th>df</th>\n",
       "      <th>F</th>\n",
       "      <th>PR(&gt;F)</th>\n",
       "    </tr>\n",
       "  </thead>\n",
       "  <tbody>\n",
       "    <tr>\n",
       "      <th>group</th>\n",
       "      <td>NaN</td>\n",
       "      <td>1.0</td>\n",
       "      <td>NaN</td>\n",
       "      <td>NaN</td>\n",
       "    </tr>\n",
       "    <tr>\n",
       "      <th>country</th>\n",
       "      <td>1.357163e+09</td>\n",
       "      <td>71.0</td>\n",
       "      <td>1.550860</td>\n",
       "      <td>0.011210</td>\n",
       "    </tr>\n",
       "    <tr>\n",
       "      <th>group:country</th>\n",
       "      <td>4.371468e+08</td>\n",
       "      <td>71.0</td>\n",
       "      <td>0.499537</td>\n",
       "      <td>0.998808</td>\n",
       "    </tr>\n",
       "    <tr>\n",
       "      <th>Residual</th>\n",
       "      <td>1.577897e+11</td>\n",
       "      <td>12802.0</td>\n",
       "      <td>NaN</td>\n",
       "      <td>NaN</td>\n",
       "    </tr>\n",
       "  </tbody>\n",
       "</table>\n",
       "</div>"
      ],
      "text/plain": [
       "                     sum_sq       df         F    PR(>F)\n",
       "group                   NaN      1.0       NaN       NaN\n",
       "country        1.357163e+09     71.0  1.550860  0.011210\n",
       "group:country  4.371468e+08     71.0  0.499537  0.998808\n",
       "Residual       1.577897e+11  12802.0       NaN       NaN"
      ]
     },
     "execution_count": 131,
     "metadata": {},
     "output_type": "execute_result"
    }
   ],
   "source": [
    "formula = 'total_revenue ~ group + country + group:country'\n",
    "model = ols(formula, users_info).fit()\n",
    "aov_table = anova_lm(model, typ=2)\n",
    "aov_table"
   ]
  },
  {
   "cell_type": "markdown",
   "metadata": {},
   "source": [
    "Распределение среднего значения total_revenue в странах"
   ]
  },
  {
   "cell_type": "code",
   "execution_count": 132,
   "metadata": {
    "scrolled": false
   },
   "outputs": [
    {
     "data": {
      "image/png": "[encoded data removed]",
      "text/plain": [
       "<Figure size 864x720 with 1 Axes>"
      ]
     },
     "metadata": {},
     "output_type": "display_data"
    }
   ],
   "source": [
    "plt.figure(figsize = (12, 10))\n",
    "sns.barplot(data = users_info \\\n",
    "                   .groupby('country', as_index = False) \\\n",
    "                   .agg({'total_revenue': 'mean'}) \\\n",
    "                    .query(\"total_revenue > 0\"),\n",
    "           y = 'country', x = 'total_revenue')\n",
    "plt.xlabel(\"Total revenue\", size=12)\n",
    "plt.ylabel(\"Country\", size=12)\n",
    "plt.title('Revenue distribution in countries', pad = 20, size = 14)\n",
    "sns.despine()"
   ]
  },
  {
   "cell_type": "markdown",
   "metadata": {},
   "source": [
    "Записи о пользователях из стран с наибольшим значением дохода с total_revenue > 0"
   ]
  },
  {
   "cell_type": "code",
   "execution_count": 133,
   "metadata": {},
   "outputs": [
    {
     "data": {
      "text/html": [
       "<div>\n",
       "<style scoped>\n",
       "    .dataframe tbody tr th:only-of-type {\n",
       "        vertical-align: middle;\n",
       "    }\n",
       "\n",
       "    .dataframe tbody tr th {\n",
       "        vertical-align: top;\n",
       "    }\n",
       "\n",
       "    .dataframe thead th {\n",
       "        text-align: right;\n",
       "    }\n",
       "</style>\n",
       "<table border=\"1\" class=\"dataframe\">\n",
       "  <thead>\n",
       "    <tr style=\"text-align: right;\">\n",
       "      <th></th>\n",
       "      <th>uid</th>\n",
       "      <th>age</th>\n",
       "      <th>attraction_coeff</th>\n",
       "      <th>coins</th>\n",
       "      <th>country</th>\n",
       "      <th>visit_days</th>\n",
       "      <th>gender</th>\n",
       "      <th>age_filter_start</th>\n",
       "      <th>age_filter_end</th>\n",
       "      <th>views_count</th>\n",
       "      <th>was_premium</th>\n",
       "      <th>is_premium</th>\n",
       "      <th>group</th>\n",
       "      <th>visits</th>\n",
       "      <th>total_revenue</th>\n",
       "      <th>age_group</th>\n",
       "      <th>visits_group</th>\n",
       "    </tr>\n",
       "  </thead>\n",
       "  <tbody>\n",
       "    <tr>\n",
       "      <th>761</th>\n",
       "      <td>891508155</td>\n",
       "      <td>34</td>\n",
       "      <td>101</td>\n",
       "      <td>1.0</td>\n",
       "      <td>Latvia</td>\n",
       "      <td>1,2,3,4,5,6,7,8,9,10,11,12,13</td>\n",
       "      <td>1</td>\n",
       "      <td>20</td>\n",
       "      <td>32</td>\n",
       "      <td>226</td>\n",
       "      <td>1.0</td>\n",
       "      <td>1.0</td>\n",
       "      <td>test</td>\n",
       "      <td>13</td>\n",
       "      <td>9165.0</td>\n",
       "      <td>2</td>\n",
       "      <td>3</td>\n",
       "    </tr>\n",
       "    <tr>\n",
       "      <th>950</th>\n",
       "      <td>892434141</td>\n",
       "      <td>21</td>\n",
       "      <td>387</td>\n",
       "      <td>64.0</td>\n",
       "      <td>Turkey</td>\n",
       "      <td>1,2,3,20</td>\n",
       "      <td>1</td>\n",
       "      <td>18</td>\n",
       "      <td>24</td>\n",
       "      <td>49</td>\n",
       "      <td>1.0</td>\n",
       "      <td>0.0</td>\n",
       "      <td>test</td>\n",
       "      <td>4</td>\n",
       "      <td>9165.0</td>\n",
       "      <td>1</td>\n",
       "      <td>2</td>\n",
       "    </tr>\n",
       "    <tr>\n",
       "      <th>5182</th>\n",
       "      <td>891383310</td>\n",
       "      <td>22</td>\n",
       "      <td>1000</td>\n",
       "      <td>0.0</td>\n",
       "      <td>Turkey</td>\n",
       "      <td>1</td>\n",
       "      <td>1</td>\n",
       "      <td>19</td>\n",
       "      <td>83</td>\n",
       "      <td>4</td>\n",
       "      <td>1.0</td>\n",
       "      <td>1.0</td>\n",
       "      <td>control</td>\n",
       "      <td>1</td>\n",
       "      <td>63037.0</td>\n",
       "      <td>1</td>\n",
       "      <td>1</td>\n",
       "    </tr>\n",
       "    <tr>\n",
       "      <th>5294</th>\n",
       "      <td>891693753</td>\n",
       "      <td>24</td>\n",
       "      <td>311</td>\n",
       "      <td>50.0</td>\n",
       "      <td>Turkey</td>\n",
       "      <td>1,2,3,4,5,6,7,8,9,10,11,12,13,14,15,16</td>\n",
       "      <td>1</td>\n",
       "      <td>18</td>\n",
       "      <td>40</td>\n",
       "      <td>478</td>\n",
       "      <td>1.0</td>\n",
       "      <td>1.0</td>\n",
       "      <td>control</td>\n",
       "      <td>16</td>\n",
       "      <td>13026.0</td>\n",
       "      <td>1</td>\n",
       "      <td>3</td>\n",
       "    </tr>\n",
       "    <tr>\n",
       "      <th>8450</th>\n",
       "      <td>892344951</td>\n",
       "      <td>20</td>\n",
       "      <td>232</td>\n",
       "      <td>0.0</td>\n",
       "      <td>Turkey</td>\n",
       "      <td>1,2,3,4,5,6,7</td>\n",
       "      <td>1</td>\n",
       "      <td>17</td>\n",
       "      <td>23</td>\n",
       "      <td>73</td>\n",
       "      <td>1.0</td>\n",
       "      <td>1.0</td>\n",
       "      <td>control</td>\n",
       "      <td>7</td>\n",
       "      <td>3614.0</td>\n",
       "      <td>1</td>\n",
       "      <td>3</td>\n",
       "    </tr>\n",
       "    <tr>\n",
       "      <th>9209</th>\n",
       "      <td>891494307</td>\n",
       "      <td>24</td>\n",
       "      <td>350</td>\n",
       "      <td>18.0</td>\n",
       "      <td>Turkey</td>\n",
       "      <td>1,2,3,4,5,6,7,8,9,10,11,12,13</td>\n",
       "      <td>1</td>\n",
       "      <td>21</td>\n",
       "      <td>76</td>\n",
       "      <td>97</td>\n",
       "      <td>1.0</td>\n",
       "      <td>1.0</td>\n",
       "      <td>control</td>\n",
       "      <td>13</td>\n",
       "      <td>11700.0</td>\n",
       "      <td>1</td>\n",
       "      <td>3</td>\n",
       "    </tr>\n",
       "    <tr>\n",
       "      <th>11956</th>\n",
       "      <td>891672225</td>\n",
       "      <td>38</td>\n",
       "      <td>163</td>\n",
       "      <td>11.0</td>\n",
       "      <td>Austria</td>\n",
       "      <td>1,2,8,9,10,11,12,13,15,16</td>\n",
       "      <td>1</td>\n",
       "      <td>35</td>\n",
       "      <td>41</td>\n",
       "      <td>49</td>\n",
       "      <td>1.0</td>\n",
       "      <td>1.0</td>\n",
       "      <td>control</td>\n",
       "      <td>10</td>\n",
       "      <td>12168.0</td>\n",
       "      <td>3</td>\n",
       "      <td>3</td>\n",
       "    </tr>\n",
       "    <tr>\n",
       "      <th>12474</th>\n",
       "      <td>891791565</td>\n",
       "      <td>42</td>\n",
       "      <td>103</td>\n",
       "      <td>0.0</td>\n",
       "      <td>Lithuania</td>\n",
       "      <td>1,2,3,4,5,6,7,8,9,10,11,12,13,14,15,16,17,18</td>\n",
       "      <td>1</td>\n",
       "      <td>19</td>\n",
       "      <td>39</td>\n",
       "      <td>58</td>\n",
       "      <td>1.0</td>\n",
       "      <td>1.0</td>\n",
       "      <td>control</td>\n",
       "      <td>18</td>\n",
       "      <td>12766.0</td>\n",
       "      <td>3</td>\n",
       "      <td>3</td>\n",
       "    </tr>\n",
       "  </tbody>\n",
       "</table>\n",
       "</div>"
      ],
      "text/plain": [
       "             uid  age  attraction_coeff  coins    country  \\\n",
       "761    891508155   34               101    1.0     Latvia   \n",
       "950    892434141   21               387   64.0     Turkey   \n",
       "5182   891383310   22              1000    0.0     Turkey   \n",
       "5294   891693753   24               311   50.0     Turkey   \n",
       "8450   892344951   20               232    0.0     Turkey   \n",
       "9209   891494307   24               350   18.0     Turkey   \n",
       "11956  891672225   38               163   11.0    Austria   \n",
       "12474  891791565   42               103    0.0  Lithuania   \n",
       "\n",
       "                                         visit_days  gender  age_filter_start  \\\n",
       "761                   1,2,3,4,5,6,7,8,9,10,11,12,13       1                20   \n",
       "950                                        1,2,3,20       1                18   \n",
       "5182                                              1       1                19   \n",
       "5294         1,2,3,4,5,6,7,8,9,10,11,12,13,14,15,16       1                18   \n",
       "8450                                  1,2,3,4,5,6,7       1                17   \n",
       "9209                  1,2,3,4,5,6,7,8,9,10,11,12,13       1                21   \n",
       "11956                     1,2,8,9,10,11,12,13,15,16       1                35   \n",
       "12474  1,2,3,4,5,6,7,8,9,10,11,12,13,14,15,16,17,18       1                19   \n",
       "\n",
       "       age_filter_end  views_count  was_premium  is_premium    group  visits  \\\n",
       "761                32          226          1.0         1.0     test      13   \n",
       "950                24           49          1.0         0.0     test       4   \n",
       "5182               83            4          1.0         1.0  control       1   \n",
       "5294               40          478          1.0         1.0  control      16   \n",
       "8450               23           73          1.0         1.0  control       7   \n",
       "9209               76           97          1.0         1.0  control      13   \n",
       "11956              41           49          1.0         1.0  control      10   \n",
       "12474              39           58          1.0         1.0  control      18   \n",
       "\n",
       "       total_revenue  age_group  visits_group  \n",
       "761           9165.0          2             3  \n",
       "950           9165.0          1             2  \n",
       "5182         63037.0          1             1  \n",
       "5294         13026.0          1             3  \n",
       "8450          3614.0          1             3  \n",
       "9209         11700.0          1             3  \n",
       "11956        12168.0          3             3  \n",
       "12474        12766.0          3             3  "
      ]
     },
     "execution_count": 133,
     "metadata": {},
     "output_type": "execute_result"
    }
   ],
   "source": [
    "users_info.query(\"country == ['Lithuania', 'Latvia', 'Austria', 'Turkey'] and total_revenue > 0\")"
   ]
  },
  {
   "cell_type": "markdown",
   "metadata": {},
   "source": [
    "Еще раз проверяем гипотезу о влиянии номинативных переменных (группы, к которой принадлежит пользователь и страны) на величину дохода total revenue без стран, которые создают выбросы.  \n",
    "**H0** - доход с пользователя не зависит от страны и группы, к которой принадлежит пользователь, а также от совокупности этих факторов.  \n",
    "**Результат** - величина метрики total_revenue не зависит от страны пользователя, взаимодействия факторов не оказывает значимое влияние на величину дохода."
   ]
  },
  {
   "cell_type": "code",
   "execution_count": 134,
   "metadata": {},
   "outputs": [
    {
     "name": "stderr",
     "output_type": "stream",
     "text": [
      "/opt/tljh/user/lib/python3.7/site-packages/statsmodels/base/model.py:1865: ValueWarning: covariance of constraints does not have full rank. The number of constraints is 1, but rank is 0\n",
      "  'rank is %d' % (J, J_), ValueWarning)\n",
      "/opt/tljh/user/lib/python3.7/site-packages/statsmodels/base/model.py:1881: RuntimeWarning: invalid value encountered in true_divide\n",
      "  F /= J\n",
      "/opt/tljh/user/lib/python3.7/site-packages/statsmodels/base/model.py:1865: ValueWarning: covariance of constraints does not have full rank. The number of constraints is 67, but rank is 42\n",
      "  'rank is %d' % (J, J_), ValueWarning)\n",
      "/opt/tljh/user/lib/python3.7/site-packages/statsmodels/base/model.py:1865: ValueWarning: covariance of constraints does not have full rank. The number of constraints is 67, but rank is 48\n",
      "  'rank is %d' % (J, J_), ValueWarning)\n"
     ]
    },
    {
     "data": {
      "text/html": [
       "<div>\n",
       "<style scoped>\n",
       "    .dataframe tbody tr th:only-of-type {\n",
       "        vertical-align: middle;\n",
       "    }\n",
       "\n",
       "    .dataframe tbody tr th {\n",
       "        vertical-align: top;\n",
       "    }\n",
       "\n",
       "    .dataframe thead th {\n",
       "        text-align: right;\n",
       "    }\n",
       "</style>\n",
       "<table border=\"1\" class=\"dataframe\">\n",
       "  <thead>\n",
       "    <tr style=\"text-align: right;\">\n",
       "      <th></th>\n",
       "      <th>sum_sq</th>\n",
       "      <th>df</th>\n",
       "      <th>F</th>\n",
       "      <th>PR(&gt;F)</th>\n",
       "    </tr>\n",
       "  </thead>\n",
       "  <tbody>\n",
       "    <tr>\n",
       "      <th>group</th>\n",
       "      <td>NaN</td>\n",
       "      <td>1.0</td>\n",
       "      <td>NaN</td>\n",
       "      <td>NaN</td>\n",
       "    </tr>\n",
       "    <tr>\n",
       "      <th>country</th>\n",
       "      <td>4.545955e+08</td>\n",
       "      <td>67.0</td>\n",
       "      <td>0.563407</td>\n",
       "      <td>0.989879</td>\n",
       "    </tr>\n",
       "    <tr>\n",
       "      <th>group:country</th>\n",
       "      <td>2.361626e+08</td>\n",
       "      <td>67.0</td>\n",
       "      <td>0.292690</td>\n",
       "      <td>1.000000</td>\n",
       "    </tr>\n",
       "    <tr>\n",
       "      <th>Residual</th>\n",
       "      <td>1.539555e+11</td>\n",
       "      <td>12784.0</td>\n",
       "      <td>NaN</td>\n",
       "      <td>NaN</td>\n",
       "    </tr>\n",
       "  </tbody>\n",
       "</table>\n",
       "</div>"
      ],
      "text/plain": [
       "                     sum_sq       df         F    PR(>F)\n",
       "group                   NaN      1.0       NaN       NaN\n",
       "country        4.545955e+08     67.0  0.563407  0.989879\n",
       "group:country  2.361626e+08     67.0  0.292690  1.000000\n",
       "Residual       1.539555e+11  12784.0       NaN       NaN"
      ]
     },
     "execution_count": 134,
     "metadata": {},
     "output_type": "execute_result"
    }
   ],
   "source": [
    "formula = 'total_revenue ~ group + country + group:country'\n",
    "model = ols(formula, users_info.query(\"country != ['Lithuania', 'Latvia', 'Austria', 'Turkey']\")).fit()\n",
    "aov_table = anova_lm(model, typ=2)\n",
    "aov_table"
   ]
  },
  {
   "cell_type": "markdown",
   "metadata": {},
   "source": [
    "### Множественный ANOVA по метрике total_revenue для групп по количеству посещений:"
   ]
  },
  {
   "cell_type": "markdown",
   "metadata": {},
   "source": [
    "**H0** - доход с пользователя не зависит от группы, к которой принадлежит пользователь, и группы по количеству посещений, а также от совокупности этих факторов.  \n",
    "**Результат** - количество посещений приложения оказывает значимое влияние на величину total revenue, но группа и взаимодействие факторов значимого влияния не оказывают."
   ]
  },
  {
   "cell_type": "code",
   "execution_count": 135,
   "metadata": {},
   "outputs": [
    {
     "data": {
      "text/html": [
       "<div>\n",
       "<style scoped>\n",
       "    .dataframe tbody tr th:only-of-type {\n",
       "        vertical-align: middle;\n",
       "    }\n",
       "\n",
       "    .dataframe tbody tr th {\n",
       "        vertical-align: top;\n",
       "    }\n",
       "\n",
       "    .dataframe thead th {\n",
       "        text-align: right;\n",
       "    }\n",
       "</style>\n",
       "<table border=\"1\" class=\"dataframe\">\n",
       "  <thead>\n",
       "    <tr style=\"text-align: right;\">\n",
       "      <th></th>\n",
       "      <th>sum_sq</th>\n",
       "      <th>df</th>\n",
       "      <th>F</th>\n",
       "      <th>PR(&gt;F)</th>\n",
       "    </tr>\n",
       "  </thead>\n",
       "  <tbody>\n",
       "    <tr>\n",
       "      <th>group</th>\n",
       "      <td>1.353312e+07</td>\n",
       "      <td>1.0</td>\n",
       "      <td>1.113118</td>\n",
       "      <td>2.914248e-01</td>\n",
       "    </tr>\n",
       "    <tr>\n",
       "      <th>visits_group</th>\n",
       "      <td>2.109480e+09</td>\n",
       "      <td>1.0</td>\n",
       "      <td>173.507777</td>\n",
       "      <td>2.274913e-39</td>\n",
       "    </tr>\n",
       "    <tr>\n",
       "      <th>group:visits_group</th>\n",
       "      <td>3.020099e+07</td>\n",
       "      <td>1.0</td>\n",
       "      <td>2.484075</td>\n",
       "      <td>1.150284e-01</td>\n",
       "    </tr>\n",
       "    <tr>\n",
       "      <th>Residual</th>\n",
       "      <td>1.569213e+11</td>\n",
       "      <td>12907.0</td>\n",
       "      <td>NaN</td>\n",
       "      <td>NaN</td>\n",
       "    </tr>\n",
       "  </tbody>\n",
       "</table>\n",
       "</div>"
      ],
      "text/plain": [
       "                          sum_sq       df           F        PR(>F)\n",
       "group               1.353312e+07      1.0    1.113118  2.914248e-01\n",
       "visits_group        2.109480e+09      1.0  173.507777  2.274913e-39\n",
       "group:visits_group  3.020099e+07      1.0    2.484075  1.150284e-01\n",
       "Residual            1.569213e+11  12907.0         NaN           NaN"
      ]
     },
     "execution_count": 135,
     "metadata": {},
     "output_type": "execute_result"
    }
   ],
   "source": [
    "formula = 'total_revenue ~ group + visits_group + group:visits_group'\n",
    "model = ols(formula, users_info).fit()\n",
    "aov_table = anova_lm(model, typ=2)\n",
    "aov_table"
   ]
  },
  {
   "cell_type": "markdown",
   "metadata": {},
   "source": [
    "Визуализируем данные"
   ]
  },
  {
   "cell_type": "code",
   "execution_count": 136,
   "metadata": {
    "scrolled": false
   },
   "outputs": [
    {
     "data": {
      "image/png": "[encoded data removed]",
      "text/plain": [
       "<Figure size 864x720 with 1 Axes>"
      ]
     },
     "metadata": {},
     "output_type": "display_data"
    }
   ],
   "source": [
    "plt.figure(figsize = (12, 10))\n",
    "sns.pointplot(data =users_info.sort_values('group'), \n",
    "              x = 'visits_group', \n",
    "              y ='total_revenue', \n",
    "              hue = 'group', \n",
    "              palette = group_palette)\n",
    "\n",
    "plt.xlabel(\"Groups by visits number\", size=12)\n",
    "plt.ylabel(\"Total revenue\", size=12)\n",
    "plt.title('Revenue dependence by visits', pad = 20, size = 14)\n",
    "sns.despine()"
   ]
  },
  {
   "cell_type": "markdown",
   "metadata": {},
   "source": [
    "Попарные сравнения total revenue для групп по количеству посещений   \n",
    "**H0** - ни одно из средних значений в выборках не отличается от других  \n",
    "**Результат** - среднее хотя бы в одной группе значимо отличается от других.   \n",
    "\n",
    "Различия в средних выборочных объясняются также и простой логикой: как правило, чем чаще пользователь пользуется приложением, тем чаще он совершает в нем покупки. В нашем случае пользователи, которые заходили в приложение не менее семи раз, в среднем тратили более 1000."
   ]
  },
  {
   "cell_type": "code",
   "execution_count": 137,
   "metadata": {},
   "outputs": [
    {
     "data": {
      "text/html": [
       "<div>\n",
       "<style scoped>\n",
       "    .dataframe tbody tr th:only-of-type {\n",
       "        vertical-align: middle;\n",
       "    }\n",
       "\n",
       "    .dataframe tbody tr th {\n",
       "        vertical-align: top;\n",
       "    }\n",
       "\n",
       "    .dataframe thead th {\n",
       "        text-align: right;\n",
       "    }\n",
       "</style>\n",
       "<table border=\"1\" class=\"dataframe\">\n",
       "  <thead>\n",
       "    <tr style=\"text-align: right;\">\n",
       "      <th></th>\n",
       "      <th>Contrast</th>\n",
       "      <th>A</th>\n",
       "      <th>B</th>\n",
       "      <th>Paired</th>\n",
       "      <th>Parametric</th>\n",
       "      <th>T</th>\n",
       "      <th>dof</th>\n",
       "      <th>alternative</th>\n",
       "      <th>p-unc</th>\n",
       "      <th>BF10</th>\n",
       "      <th>hedges</th>\n",
       "    </tr>\n",
       "  </thead>\n",
       "  <tbody>\n",
       "    <tr>\n",
       "      <th>0</th>\n",
       "      <td>visits_group</td>\n",
       "      <td>1</td>\n",
       "      <td>2</td>\n",
       "      <td>False</td>\n",
       "      <td>True</td>\n",
       "      <td>-4.357197</td>\n",
       "      <td>4468.001294</td>\n",
       "      <td>two-sided</td>\n",
       "      <td>1.346947e-05</td>\n",
       "      <td>307.319</td>\n",
       "      <td>-0.109037</td>\n",
       "    </tr>\n",
       "    <tr>\n",
       "      <th>1</th>\n",
       "      <td>visits_group</td>\n",
       "      <td>1</td>\n",
       "      <td>3</td>\n",
       "      <td>False</td>\n",
       "      <td>True</td>\n",
       "      <td>-10.196419</td>\n",
       "      <td>3490.488679</td>\n",
       "      <td>two-sided</td>\n",
       "      <td>4.459765e-24</td>\n",
       "      <td>6.347e+20</td>\n",
       "      <td>-0.290743</td>\n",
       "    </tr>\n",
       "    <tr>\n",
       "      <th>2</th>\n",
       "      <td>visits_group</td>\n",
       "      <td>2</td>\n",
       "      <td>3</td>\n",
       "      <td>False</td>\n",
       "      <td>True</td>\n",
       "      <td>-6.829019</td>\n",
       "      <td>5114.345302</td>\n",
       "      <td>two-sided</td>\n",
       "      <td>9.545435e-12</td>\n",
       "      <td>3.218e+08</td>\n",
       "      <td>-0.169669</td>\n",
       "    </tr>\n",
       "  </tbody>\n",
       "</table>\n",
       "</div>"
      ],
      "text/plain": [
       "       Contrast  A  B  Paired  Parametric          T          dof alternative  \\\n",
       "0  visits_group  1  2   False        True  -4.357197  4468.001294   two-sided   \n",
       "1  visits_group  1  3   False        True -10.196419  3490.488679   two-sided   \n",
       "2  visits_group  2  3   False        True  -6.829019  5114.345302   two-sided   \n",
       "\n",
       "          p-unc       BF10    hedges  \n",
       "0  1.346947e-05    307.319 -0.109037  \n",
       "1  4.459765e-24  6.347e+20 -0.290743  \n",
       "2  9.545435e-12  3.218e+08 -0.169669  "
      ]
     },
     "execution_count": 137,
     "metadata": {},
     "output_type": "execute_result"
    }
   ],
   "source": [
    "pg.pairwise_ttests(data = users_info, dv = 'total_revenue', between = 'visits_group')"
   ]
  },
  {
   "cell_type": "markdown",
   "metadata": {},
   "source": [
    "Проверим гипотезу о зависимости соотношения пользователей, формивших и не оформивших подписку, от количества визитов.\n",
    "\n",
    "**H0** - количество пользователей, оформивших и не оформивших подписку не зависит от того, насколько часто пользователь посещал приложение \n",
    "**Результат** - отвергаем H0, значимые различия есть."
   ]
  },
  {
   "cell_type": "code",
   "execution_count": 138,
   "metadata": {},
   "outputs": [
    {
     "data": {
      "text/html": [
       "<div>\n",
       "<style scoped>\n",
       "    .dataframe tbody tr th:only-of-type {\n",
       "        vertical-align: middle;\n",
       "    }\n",
       "\n",
       "    .dataframe tbody tr th {\n",
       "        vertical-align: top;\n",
       "    }\n",
       "\n",
       "    .dataframe thead th {\n",
       "        text-align: right;\n",
       "    }\n",
       "</style>\n",
       "<table border=\"1\" class=\"dataframe\">\n",
       "  <thead>\n",
       "    <tr style=\"text-align: right;\">\n",
       "      <th>is_premium</th>\n",
       "      <th>0.0</th>\n",
       "      <th>1.0</th>\n",
       "    </tr>\n",
       "    <tr>\n",
       "      <th>visits_group</th>\n",
       "      <th></th>\n",
       "      <th></th>\n",
       "    </tr>\n",
       "  </thead>\n",
       "  <tbody>\n",
       "    <tr>\n",
       "      <th>1</th>\n",
       "      <td>5987</td>\n",
       "      <td>115</td>\n",
       "    </tr>\n",
       "    <tr>\n",
       "      <th>2</th>\n",
       "      <td>3411</td>\n",
       "      <td>158</td>\n",
       "    </tr>\n",
       "    <tr>\n",
       "      <th>3</th>\n",
       "      <td>2974</td>\n",
       "      <td>266</td>\n",
       "    </tr>\n",
       "  </tbody>\n",
       "</table>\n",
       "</div>"
      ],
      "text/plain": [
       "is_premium     0.0  1.0\n",
       "visits_group           \n",
       "1             5987  115\n",
       "2             3411  158\n",
       "3             2974  266"
      ]
     },
     "execution_count": 138,
     "metadata": {},
     "output_type": "execute_result"
    }
   ],
   "source": [
    "pd.crosstab(users_info.visits_group, users_info.is_premium)"
   ]
  },
  {
   "cell_type": "code",
   "execution_count": 139,
   "metadata": {},
   "outputs": [
    {
     "data": {
      "text/plain": [
       "(212.43731827527333,\n",
       " 7.410072572231754e-47,\n",
       " 2,\n",
       " array([[5847.25768724,  254.74231276],\n",
       "        [3420.00371776,  148.99628224],\n",
       "        [3104.738595  ,  135.261405  ]]))"
      ]
     },
     "execution_count": 139,
     "metadata": {},
     "output_type": "execute_result"
    }
   ],
   "source": [
    "stats.chi2_contingency(pd.crosstab(users_info.visits_group, users_info.is_premium))"
   ]
  },
  {
   "cell_type": "markdown",
   "metadata": {},
   "source": [
    "### Множественный ANOVA по метрике total_revenue для групп по возрасту:"
   ]
  },
  {
   "cell_type": "markdown",
   "metadata": {},
   "source": [
    "**H0** - доход с пользователя не зависит от группы, к которой принадлежит пользователь, и группы по возрасту, а также от совокупности этих факторов.\n",
    "**Результат** - ни возраст, ни взаимодействие факторов возраста и группы пользователя значимо не влияют на величину total_revenue"
   ]
  },
  {
   "cell_type": "code",
   "execution_count": 140,
   "metadata": {},
   "outputs": [
    {
     "data": {
      "text/html": [
       "<div>\n",
       "<style scoped>\n",
       "    .dataframe tbody tr th:only-of-type {\n",
       "        vertical-align: middle;\n",
       "    }\n",
       "\n",
       "    .dataframe tbody tr th {\n",
       "        vertical-align: top;\n",
       "    }\n",
       "\n",
       "    .dataframe thead th {\n",
       "        text-align: right;\n",
       "    }\n",
       "</style>\n",
       "<table border=\"1\" class=\"dataframe\">\n",
       "  <thead>\n",
       "    <tr style=\"text-align: right;\">\n",
       "      <th></th>\n",
       "      <th>sum_sq</th>\n",
       "      <th>df</th>\n",
       "      <th>F</th>\n",
       "      <th>PR(&gt;F)</th>\n",
       "    </tr>\n",
       "  </thead>\n",
       "  <tbody>\n",
       "    <tr>\n",
       "      <th>group</th>\n",
       "      <td>1.708329e+07</td>\n",
       "      <td>1.0</td>\n",
       "      <td>1.386419</td>\n",
       "      <td>0.239032</td>\n",
       "    </tr>\n",
       "    <tr>\n",
       "      <th>age_group</th>\n",
       "      <td>5.433057e+06</td>\n",
       "      <td>1.0</td>\n",
       "      <td>0.440928</td>\n",
       "      <td>0.506687</td>\n",
       "    </tr>\n",
       "    <tr>\n",
       "      <th>group:age_group</th>\n",
       "      <td>1.701778e+07</td>\n",
       "      <td>1.0</td>\n",
       "      <td>1.381103</td>\n",
       "      <td>0.239935</td>\n",
       "    </tr>\n",
       "    <tr>\n",
       "      <th>Residual</th>\n",
       "      <td>1.590385e+11</td>\n",
       "      <td>12907.0</td>\n",
       "      <td>NaN</td>\n",
       "      <td>NaN</td>\n",
       "    </tr>\n",
       "  </tbody>\n",
       "</table>\n",
       "</div>"
      ],
      "text/plain": [
       "                       sum_sq       df         F    PR(>F)\n",
       "group            1.708329e+07      1.0  1.386419  0.239032\n",
       "age_group        5.433057e+06      1.0  0.440928  0.506687\n",
       "group:age_group  1.701778e+07      1.0  1.381103  0.239935\n",
       "Residual         1.590385e+11  12907.0       NaN       NaN"
      ]
     },
     "execution_count": 140,
     "metadata": {},
     "output_type": "execute_result"
    }
   ],
   "source": [
    "formula = 'total_revenue ~ group + age_group + group:age_group'\n",
    "model = ols(formula, users_info).fit()\n",
    "aov_table = anova_lm(model, typ=2)\n",
    "aov_table"
   ]
  },
  {
   "cell_type": "markdown",
   "metadata": {},
   "source": [
    "Среднее значение total revenue для групп по возрасту"
   ]
  },
  {
   "cell_type": "code",
   "execution_count": 141,
   "metadata": {
    "scrolled": false
   },
   "outputs": [
    {
     "data": {
      "image/png": "[encoded data removed]",
      "text/plain": [
       "<Figure size 576x360 with 1 Axes>"
      ]
     },
     "metadata": {},
     "output_type": "display_data"
    }
   ],
   "source": [
    "plt.figure(figsize = (8, 5))\n",
    "sns.barplot(data = users_info \\\n",
    "                   .groupby('age_group', as_index = False) \\\n",
    "                   .agg({'total_revenue': 'mean'}).astype('int'),\n",
    "           y = 'total_revenue', x = 'age_group')\n",
    "plt.xlabel(\"Age group\", size=12)\n",
    "plt.ylabel(\"Total revenue\", size=12)\n",
    "plt.title('Revenue by age groups', pad = 20, size = 14)\n",
    "sns.despine()"
   ]
  },
  {
   "cell_type": "markdown",
   "metadata": {},
   "source": [
    "Проверим гипотезу о зависимости соотношения пользователей, формивших и не оформивших подписку, от возраста пользователя.\n",
    "\n",
    "**H0** - количество пользователей, оформивших и не оформивших подписку не зависит от возраста пользователя.  \n",
    "**Результат** - принимаем H0, значимых различий нет."
   ]
  },
  {
   "cell_type": "code",
   "execution_count": 142,
   "metadata": {},
   "outputs": [
    {
     "data": {
      "text/html": [
       "<div>\n",
       "<style scoped>\n",
       "    .dataframe tbody tr th:only-of-type {\n",
       "        vertical-align: middle;\n",
       "    }\n",
       "\n",
       "    .dataframe tbody tr th {\n",
       "        vertical-align: top;\n",
       "    }\n",
       "\n",
       "    .dataframe thead th {\n",
       "        text-align: right;\n",
       "    }\n",
       "</style>\n",
       "<table border=\"1\" class=\"dataframe\">\n",
       "  <thead>\n",
       "    <tr style=\"text-align: right;\">\n",
       "      <th>is_premium</th>\n",
       "      <th>0.0</th>\n",
       "      <th>1.0</th>\n",
       "    </tr>\n",
       "    <tr>\n",
       "      <th>age_group</th>\n",
       "      <th></th>\n",
       "      <th></th>\n",
       "    </tr>\n",
       "  </thead>\n",
       "  <tbody>\n",
       "    <tr>\n",
       "      <th>1</th>\n",
       "      <td>5971</td>\n",
       "      <td>260</td>\n",
       "    </tr>\n",
       "    <tr>\n",
       "      <th>2</th>\n",
       "      <td>3101</td>\n",
       "      <td>135</td>\n",
       "    </tr>\n",
       "    <tr>\n",
       "      <th>3</th>\n",
       "      <td>3300</td>\n",
       "      <td>144</td>\n",
       "    </tr>\n",
       "  </tbody>\n",
       "</table>\n",
       "</div>"
      ],
      "text/plain": [
       "is_premium   0.0  1.0\n",
       "age_group            \n",
       "1           5971  260\n",
       "2           3101  135\n",
       "3           3300  144"
      ]
     },
     "execution_count": 142,
     "metadata": {},
     "output_type": "execute_result"
    }
   ],
   "source": [
    "pd.crosstab(users_info.age_group, users_info.is_premium)"
   ]
  },
  {
   "cell_type": "code",
   "execution_count": 143,
   "metadata": {
    "scrolled": true
   },
   "outputs": [
    {
     "data": {
      "text/plain": [
       "(0.000492453507609744,\n",
       " 0.9997538035575144,\n",
       " 2,\n",
       " array([[5970.87227945,  260.12772055],\n",
       "        [3100.90558439,  135.09441561],\n",
       "        [3300.22213616,  143.77786384]]))"
      ]
     },
     "execution_count": 143,
     "metadata": {},
     "output_type": "execute_result"
    }
   ],
   "source": [
    "stats.chi2_contingency(pd.crosstab(users_info.age_group, users_info.is_premium))"
   ]
  },
  {
   "cell_type": "markdown",
   "metadata": {},
   "source": [
    "## Вывод:\n",
    "Можно сделать вывод, что эксперимент не был успешен. После изменения стоимости премиум подписки ARPU статистически значимо не изменился. \n",
    "\n",
    "Увеличение стоимости премиум подписки не вызвало уменьшение частоты ее оформления, однако retention имеет довольно низкие значения в обоих группах.  \n",
    "Большая часть пользователей оплачивали подписку 1 раз, а поскольку оплата подписки происходит ежемесячно, можно сделать вывод, что наши пользователи не очень заинтересованы в продлении подписки. Однако для корректного вывода по метрике retention rate стоит проанализировать больший временной промежуток.  \n",
    "\n",
    "О неуспешности эксперимента также свидетельствуют различия в конверсии в оформление подписки между группами. В контрольной группе значение конверсии больше. Соотношение пользователей, сконвертировавшихся в целевое действие, значимо отличается в группах.\n",
    "\n",
    "ARPU по подписке и по категориям трат, не связанным с подпиской также не имеет стат значимых различий между группами.\n",
    "\n",
    "При сравнении групп значимое влияние на размер дохода total revenue от пользователя показал только фактор количества визитов. Что может объясняться простой логикой - чем чаще пользователь посещает приложение, тем больше он, скорее всего, платит за различные продукты.\n",
    "\n",
    "Значимых различий в доходе total revenue между пользователями из разных стран и разных возрастов не наблюдается. \n",
    "\n",
    "Наличие премиум подписки, как правило, зависит от того, была ли у пользователя подписка ранее, и того, как часто пользователь посещает приложение, при этом возраст не оказывает значимого влияния на соотношение пользователей с премиум подпиской и без нее.\n",
    "\n",
    "Можно сделать вывод, что увеличение стоимости премиум подписки привело к уменьшению конверсии, и за счет этого ARPU в группах значимо не различается."
   ]
  }
 ],
 "metadata": {
  "kernelspec": {
   "display_name": "Python 3",
   "language": "python",
   "name": "python3"
  },
  "language_info": {
   "codemirror_mode": {
    "name": "ipython",
    "version": 3
   },
   "file_extension": ".py",
   "mimetype": "text/x-python",
   "name": "python",
   "nbconvert_exporter": "python",
   "pygments_lexer": "ipython3",
   "version": "3.7.3"
  }
 },
 "nbformat": 4,
 "nbformat_minor": 4
}
