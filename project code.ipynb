{
 "cells": [
  {
   "cell_type": "markdown",
   "metadata": {},
   "source": [
    "## Подготовка данных"
   ]
  },
  {
   "cell_type": "code",
   "execution_count": 366,
   "metadata": {},
   "outputs": [],
   "source": [
    "#Импорт библиотек\n",
    "import requests\n",
    "from urllib.parse import urlencode\n",
    "import io\n",
    "\n",
    "import pandas as pd\n",
    "from datetime import timedelta, datetime\n",
    "\n",
    "import matplotlib.pyplot as plt\n",
    "%matplotlib inline\n",
    "import seaborn as sns\n",
    "\n",
    "from scipy import stats\n",
    "import pingouin as pg\n",
    "import numpy as np\n",
    "from statsmodels.formula.api import ols\n",
    "from statsmodels.stats.anova import anova_lm\n"
   ]
  },
  {
   "cell_type": "code",
   "execution_count": 367,
   "metadata": {},
   "outputs": [],
   "source": [
    "#Создаем списки для загрузки таблиц через цикл\n",
    "urls = ['L8HxRYDn2l4h9A', 'TxOD_JxnkMd4mA', 'YT6OWRK2cTWfLg', '3viYBnm7cyihkQ', '84jzzJeQ4tqVyg', '_pOo7mrDCZZMyA']\n",
    "data_names = ['users_test', 'users_control_1', 'users_control_2', 'transactions_test', 'transactions_control_1', 'transactions_control_2']"
   ]
  },
  {
   "cell_type": "code",
   "execution_count": 368,
   "metadata": {},
   "outputs": [],
   "source": [
    "# Скачиваем файлы с яндекс диска\n",
    "base_url = 'https://cloud-api.yandex.net/v1/disk/public/resources/download?'\n",
    "for i in range(len(urls)):\n",
    "    public_key = 'https://disk.yandex.ru/d/' + urls[i]\n",
    "    \n",
    "    # Получаем загрузочную ссылку\n",
    "    final_url = base_url + urlencode(dict(public_key=public_key))\n",
    "    response = requests.get(final_url)\n",
    "    download_url = response.json()['href']\n",
    "\n",
    "    # Загружаем файл и сохраняем его в датафрейм с заданным именем\n",
    "    download = requests.get(download_url).content\n",
    "    locals()[data_names[i]] = pd.read_csv(io.StringIO(download.decode('utf-8')), sep = ';')"
   ]
  },
  {
   "cell_type": "markdown",
   "metadata": {},
   "source": [
    "Посмотрим на пропущенные значения, тип данных."
   ]
  },
  {
   "cell_type": "code",
   "execution_count": 369,
   "metadata": {},
   "outputs": [
    {
     "data": {
      "text/plain": [
       "uid                   int64\n",
       "age                   int64\n",
       "attraction_coeff      int64\n",
       "coins               float64\n",
       "country              object\n",
       "visit_days           object\n",
       "gender                int64\n",
       "age_filter_start      int64\n",
       "age_filter_end        int64\n",
       "views_count           int64\n",
       "was_premium         float64\n",
       "is_premium          float64\n",
       "total_revenue         int64\n",
       "dtype: object"
      ]
     },
     "execution_count": 369,
     "metadata": {},
     "output_type": "execute_result"
    }
   ],
   "source": [
    "users_test.dtypes"
   ]
  },
  {
   "cell_type": "code",
   "execution_count": 370,
   "metadata": {
    "scrolled": true
   },
   "outputs": [
    {
     "data": {
      "text/plain": [
       "uid                    0\n",
       "age                    0\n",
       "attraction_coeff       0\n",
       "coins               4259\n",
       "country                0\n",
       "visit_days          1330\n",
       "gender                 0\n",
       "age_filter_start       0\n",
       "age_filter_end         0\n",
       "views_count            0\n",
       "was_premium         3900\n",
       "is_premium          4151\n",
       "total_revenue          0\n",
       "dtype: int64"
      ]
     },
     "execution_count": 370,
     "metadata": {},
     "output_type": "execute_result"
    }
   ],
   "source": [
    "users_test.isna().sum()"
   ]
  },
  {
   "cell_type": "code",
   "execution_count": 371,
   "metadata": {},
   "outputs": [],
   "source": [
    "users_test = users_test.fillna(0)\n",
    "users_control_1 = users_control_1.fillna(0)\n",
    "users_control_2 = users_control_2.fillna(0)"
   ]
  },
  {
   "cell_type": "code",
   "execution_count": 372,
   "metadata": {},
   "outputs": [
    {
     "data": {
      "text/plain": [
       "uid              int64\n",
       "country         object\n",
       "joined_at       object\n",
       "paid_at         object\n",
       "revenue          int64\n",
       "payment_id       int64\n",
       "from_page       object\n",
       "product_type    object\n",
       "dtype: object"
      ]
     },
     "execution_count": 372,
     "metadata": {},
     "output_type": "execute_result"
    }
   ],
   "source": [
    "transactions_test.dtypes"
   ]
  },
  {
   "cell_type": "code",
   "execution_count": 373,
   "metadata": {},
   "outputs": [],
   "source": [
    "for data in [transactions_test, transactions_control_1, transactions_control_2]:\n",
    "    data.joined_at = pd.to_datetime(data.joined_at, format='%Y-%m-%d')\n",
    "    data.paid_at = pd.to_datetime(data.paid_at, format='%Y-%m-%d')"
   ]
  },
  {
   "cell_type": "code",
   "execution_count": 374,
   "metadata": {},
   "outputs": [
    {
     "data": {
      "text/plain": [
       "uid             630\n",
       "country         630\n",
       "joined_at       630\n",
       "paid_at         630\n",
       "revenue         630\n",
       "payment_id      630\n",
       "from_page       630\n",
       "product_type    630\n",
       "dtype: int64"
      ]
     },
     "execution_count": 374,
     "metadata": {},
     "output_type": "execute_result"
    }
   ],
   "source": [
    "transactions_control_1.isna().sum()"
   ]
  },
  {
   "cell_type": "code",
   "execution_count": 375,
   "metadata": {},
   "outputs": [],
   "source": [
    "transactions_control_1 = transactions_control_1.dropna()"
   ]
  },
  {
   "cell_type": "markdown",
   "metadata": {},
   "source": [
    "## Анализ аудитории"
   ]
  },
  {
   "cell_type": "markdown",
   "metadata": {},
   "source": [
    "Посмотрим на аудиторию приложения для того, чтобы понимать на какие группы можно было бы разделить пользователей при проведении A/B теста  \n",
    "\n",
    " - Объединяем датафреймы с информацией о пользователях в группах\n",
    " - Смотрим на число уникальных пользователей"
   ]
  },
  {
   "cell_type": "code",
   "execution_count": 376,
   "metadata": {},
   "outputs": [],
   "source": [
    "k = 0\n",
    "group_names = ['test', 'control_1', 'control_2']\n",
    "users_info = pd.DataFrame()\n",
    "for group_data in [users_test, users_control_1, users_control_2]:\n",
    "    group_data['group'] = group_names[k]\n",
    "    users_info = pd.concat( [users_info, group_data]).reset_index(drop = True)\n",
    "    k += 1\n",
    "users_info = users_info.fillna(0)"
   ]
  },
  {
   "cell_type": "code",
   "execution_count": 377,
   "metadata": {},
   "outputs": [
    {
     "data": {
      "text/html": [
       "<div>\n",
       "<style scoped>\n",
       "    .dataframe tbody tr th:only-of-type {\n",
       "        vertical-align: middle;\n",
       "    }\n",
       "\n",
       "    .dataframe tbody tr th {\n",
       "        vertical-align: top;\n",
       "    }\n",
       "\n",
       "    .dataframe thead th {\n",
       "        text-align: right;\n",
       "    }\n",
       "</style>\n",
       "<table border=\"1\" class=\"dataframe\">\n",
       "  <thead>\n",
       "    <tr style=\"text-align: right;\">\n",
       "      <th></th>\n",
       "      <th>uid</th>\n",
       "      <th>age</th>\n",
       "      <th>attraction_coeff</th>\n",
       "      <th>coins</th>\n",
       "      <th>country</th>\n",
       "      <th>visit_days</th>\n",
       "      <th>gender</th>\n",
       "      <th>age_filter_start</th>\n",
       "      <th>age_filter_end</th>\n",
       "      <th>views_count</th>\n",
       "      <th>was_premium</th>\n",
       "      <th>is_premium</th>\n",
       "      <th>total_revenue</th>\n",
       "      <th>group</th>\n",
       "    </tr>\n",
       "  </thead>\n",
       "  <tbody>\n",
       "    <tr>\n",
       "      <th>0</th>\n",
       "      <td>892309896</td>\n",
       "      <td>27</td>\n",
       "      <td>685</td>\n",
       "      <td>0.0</td>\n",
       "      <td>United States of America</td>\n",
       "      <td>1,2,3,4,5,6,7,8,9,10,11,12,16,17</td>\n",
       "      <td>1</td>\n",
       "      <td>24</td>\n",
       "      <td>30</td>\n",
       "      <td>89</td>\n",
       "      <td>0.0</td>\n",
       "      <td>0.0</td>\n",
       "      <td>0</td>\n",
       "      <td>test</td>\n",
       "    </tr>\n",
       "    <tr>\n",
       "      <th>1</th>\n",
       "      <td>892044516</td>\n",
       "      <td>27</td>\n",
       "      <td>0</td>\n",
       "      <td>0.0</td>\n",
       "      <td>Germany</td>\n",
       "      <td>0</td>\n",
       "      <td>1</td>\n",
       "      <td>24</td>\n",
       "      <td>30</td>\n",
       "      <td>0</td>\n",
       "      <td>0.0</td>\n",
       "      <td>0.0</td>\n",
       "      <td>0</td>\n",
       "      <td>test</td>\n",
       "    </tr>\n",
       "    <tr>\n",
       "      <th>2</th>\n",
       "      <td>892185708</td>\n",
       "      <td>45</td>\n",
       "      <td>44</td>\n",
       "      <td>0.0</td>\n",
       "      <td>Israel</td>\n",
       "      <td>1,3,4,6,7,8,10,11,12,13,14,15,16,17,18,19,20,2...</td>\n",
       "      <td>1</td>\n",
       "      <td>42</td>\n",
       "      <td>48</td>\n",
       "      <td>68</td>\n",
       "      <td>0.0</td>\n",
       "      <td>0.0</td>\n",
       "      <td>0</td>\n",
       "      <td>test</td>\n",
       "    </tr>\n",
       "    <tr>\n",
       "      <th>3</th>\n",
       "      <td>892130292</td>\n",
       "      <td>32</td>\n",
       "      <td>0</td>\n",
       "      <td>0.0</td>\n",
       "      <td>United States of America</td>\n",
       "      <td>1,2,3,4,5,6,7,8,9,10,11,12</td>\n",
       "      <td>1</td>\n",
       "      <td>29</td>\n",
       "      <td>35</td>\n",
       "      <td>0</td>\n",
       "      <td>0.0</td>\n",
       "      <td>0.0</td>\n",
       "      <td>0</td>\n",
       "      <td>test</td>\n",
       "    </tr>\n",
       "    <tr>\n",
       "      <th>4</th>\n",
       "      <td>891406035</td>\n",
       "      <td>27</td>\n",
       "      <td>1000</td>\n",
       "      <td>0.0</td>\n",
       "      <td>France</td>\n",
       "      <td>0</td>\n",
       "      <td>1</td>\n",
       "      <td>24</td>\n",
       "      <td>30</td>\n",
       "      <td>1</td>\n",
       "      <td>1.0</td>\n",
       "      <td>0.0</td>\n",
       "      <td>0</td>\n",
       "      <td>test</td>\n",
       "    </tr>\n",
       "  </tbody>\n",
       "</table>\n",
       "</div>"
      ],
      "text/plain": [
       "         uid  age  attraction_coeff  coins                   country  \\\n",
       "0  892309896   27               685    0.0  United States of America   \n",
       "1  892044516   27                 0    0.0                   Germany   \n",
       "2  892185708   45                44    0.0                    Israel   \n",
       "3  892130292   32                 0    0.0  United States of America   \n",
       "4  891406035   27              1000    0.0                    France   \n",
       "\n",
       "                                          visit_days  gender  \\\n",
       "0                   1,2,3,4,5,6,7,8,9,10,11,12,16,17       1   \n",
       "1                                                  0       1   \n",
       "2  1,3,4,6,7,8,10,11,12,13,14,15,16,17,18,19,20,2...       1   \n",
       "3                         1,2,3,4,5,6,7,8,9,10,11,12       1   \n",
       "4                                                  0       1   \n",
       "\n",
       "   age_filter_start  age_filter_end  views_count  was_premium  is_premium  \\\n",
       "0                24              30           89          0.0         0.0   \n",
       "1                24              30            0          0.0         0.0   \n",
       "2                42              48           68          0.0         0.0   \n",
       "3                29              35            0          0.0         0.0   \n",
       "4                24              30            1          1.0         0.0   \n",
       "\n",
       "   total_revenue group  \n",
       "0              0  test  \n",
       "1              0  test  \n",
       "2              0  test  \n",
       "3              0  test  \n",
       "4              0  test  "
      ]
     },
     "execution_count": 377,
     "metadata": {},
     "output_type": "execute_result"
    }
   ],
   "source": [
    "users_info.head()"
   ]
  },
  {
   "cell_type": "code",
   "execution_count": 378,
   "metadata": {},
   "outputs": [
    {
     "data": {
      "text/plain": [
       "12912"
      ]
     },
     "execution_count": 378,
     "metadata": {},
     "output_type": "execute_result"
    }
   ],
   "source": [
    "users_info.uid.nunique()"
   ]
  },
  {
   "cell_type": "markdown",
   "metadata": {},
   "source": [
    "#### Анализ аудитории по странам\n",
    "- Группируем таблицу с количеством пользователей по странам\n",
    "- Строим график распределения"
   ]
  },
  {
   "cell_type": "code",
   "execution_count": 379,
   "metadata": {},
   "outputs": [],
   "source": [
    "countries = users_info.groupby('country', as_index = False) \\\n",
    "            .agg({'uid': 'count'}) \\\n",
    "            .sort_values('uid', ascending = False) \\\n",
    "            .query('uid > 50').reset_index(drop = True)\n",
    "countries = pd.concat([countries, pd.DataFrame({'country' : 'other', 'uid': users_info.groupby('country', as_index = False) \\\n",
    "            .agg({'uid': 'count'}) \\\n",
    "            .sort_values('uid', ascending = False) \\\n",
    "            .query('uid < 50').uid.sum()}, index = ['0'])]).reset_index(drop = True)"
   ]
  },
  {
   "cell_type": "code",
   "execution_count": 380,
   "metadata": {
    "scrolled": false
   },
   "outputs": [
    {
     "data": {
      "image/png": "[encoded data removed]",
      "text/plain": [
       "<Figure size 576x576 with 1 Axes>"
      ]
     },
     "metadata": {
      "needs_background": "light"
     },
     "output_type": "display_data"
    }
   ],
   "source": [
    "plt.figure(figsize = (8, 8))\n",
    "ax = sns.barplot(data = countries, y = 'country', x = 'uid', palette = \"Spectral\")\n",
    "for p in ax.patches:\n",
    "        width = p.get_width()\n",
    "        plt.text(1.05*p.get_width(), p.get_y()+0.5*p.get_height(),\n",
    "                 '%d' % int(width),\n",
    "                 ha='left', va='center')\n",
    "plt.xlabel(\"Number of users\", size=12)\n",
    "plt.ylabel(\"Country\", size=12)\n",
    "plt.title('Users distribution by country', pad = 20, size = 14)\n",
    "sns.despine()"
   ]
  },
  {
   "cell_type": "code",
   "execution_count": 381,
   "metadata": {},
   "outputs": [
    {
     "data": {
      "text/plain": [
       "count      16.000000\n",
       "mean      807.000000\n",
       "std      1021.086154\n",
       "min       112.000000\n",
       "25%       290.750000\n",
       "50%       530.000000\n",
       "75%       953.250000\n",
       "max      4407.000000\n",
       "Name: uid, dtype: float64"
      ]
     },
     "execution_count": 381,
     "metadata": {},
     "output_type": "execute_result"
    }
   ],
   "source": [
    "countries.uid.describe()"
   ]
  },
  {
   "cell_type": "markdown",
   "metadata": {},
   "source": [
    "#### Анализ аудитории по возрасту\n",
    "- Смотрим на описательную статистику возраста среди пользователей\n",
    "- Строим график распределения количества пользователей по количеству лет"
   ]
  },
  {
   "cell_type": "code",
   "execution_count": 382,
   "metadata": {},
   "outputs": [
    {
     "data": {
      "text/plain": [
       "count    12912.000000\n",
       "mean        32.010378\n",
       "std         10.224415\n",
       "min         16.000000\n",
       "25%         25.000000\n",
       "50%         30.000000\n",
       "75%         38.000000\n",
       "max         99.000000\n",
       "Name: age, dtype: float64"
      ]
     },
     "execution_count": 382,
     "metadata": {},
     "output_type": "execute_result"
    }
   ],
   "source": [
    "users_info.age.describe()"
   ]
  },
  {
   "cell_type": "code",
   "execution_count": 383,
   "metadata": {
    "scrolled": false
   },
   "outputs": [
    {
     "data": {
      "image/png": "[encoded data removed]",
      "text/plain": [
       "<Figure size 1440x576 with 1 Axes>"
      ]
     },
     "metadata": {
      "needs_background": "light"
     },
     "output_type": "display_data"
    }
   ],
   "source": [
    "plt.figure(figsize = (20, 8))\n",
    "ax = sns.countplot(data = users_info, x = 'age',  palette = \"crest\")\n",
    "plt.xlabel(\"Age\", size=14)\n",
    "plt.ylabel(\"Number of users\", size=14)\n",
    "plt.title('Users distribution by age', pad = 20, size = 16)\n",
    "sns.despine()"
   ]
  },
  {
   "cell_type": "code",
   "execution_count": 384,
   "metadata": {
    "scrolled": true
   },
   "outputs": [
    {
     "data": {
      "text/plain": [
       "count    12912.000000\n",
       "mean        32.010378\n",
       "std         10.224415\n",
       "min         16.000000\n",
       "25%         25.000000\n",
       "50%         30.000000\n",
       "75%         38.000000\n",
       "max         99.000000\n",
       "Name: age, dtype: float64"
      ]
     },
     "execution_count": 384,
     "metadata": {},
     "output_type": "execute_result"
    }
   ],
   "source": [
    "users_info.age.describe()"
   ]
  },
  {
   "cell_type": "markdown",
   "metadata": {},
   "source": [
    "#### Анализ аудитории по количеству посещений\n",
    "- Создаем колонку, содержащую количество посещений приложения пользователем\n",
    "- Строим график распределения количества пользователей по частоте посещения приложения"
   ]
  },
  {
   "cell_type": "code",
   "execution_count": 385,
   "metadata": {},
   "outputs": [],
   "source": [
    "users_info['visit_days'] = users_info['visit_days'].fillna(0)"
   ]
  },
  {
   "cell_type": "code",
   "execution_count": 386,
   "metadata": {},
   "outputs": [],
   "source": [
    "users_info['visits'] = users_info['visit_days'].apply(lambda x: len(str(x).split(',')) if x != 0 else 0)"
   ]
  },
  {
   "cell_type": "code",
   "execution_count": 387,
   "metadata": {
    "scrolled": false
   },
   "outputs": [
    {
     "data": {
      "image/png": "[encoded data removed]",
      "text/plain": [
       "<Figure size 1440x576 with 1 Axes>"
      ]
     },
     "metadata": {
      "needs_background": "light"
     },
     "output_type": "display_data"
    }
   ],
   "source": [
    "plt.figure(figsize = (20, 8))\n",
    "ax = sns.countplot(data = users_info, x = 'visits', palette = \"crest\")\n",
    "plt.xlabel(\"Visits number\", size=14)\n",
    "plt.ylabel(\"Number of users\", size=14)\n",
    "plt.title('Users distribution by visits', pad = 20, size = 16)\n",
    "sns.despine()"
   ]
  },
  {
   "cell_type": "code",
   "execution_count": 388,
   "metadata": {},
   "outputs": [
    {
     "data": {
      "text/plain": [
       "count    12912.00000\n",
       "mean         4.55855\n",
       "std          6.22509\n",
       "min          0.00000\n",
       "25%          0.00000\n",
       "50%          2.00000\n",
       "75%          7.00000\n",
       "max         31.00000\n",
       "Name: visits, dtype: float64"
      ]
     },
     "execution_count": 388,
     "metadata": {},
     "output_type": "execute_result"
    }
   ],
   "source": [
    "users_info.visits.describe()"
   ]
  },
  {
   "cell_type": "markdown",
   "metadata": {},
   "source": [
    "#### Анализ соотношения полов\n",
    "После небольшого ресерча и статьи (https://habr.com/ru/company/vdsina/blog/490238/) о соотношении мужчин и женщин в дейтинговых приложениях, предполагаем, что обозначение пола следующее: male = 1, female = 0"
   ]
  },
  {
   "cell_type": "code",
   "execution_count": 389,
   "metadata": {},
   "outputs": [
    {
     "data": {
      "image/png": "[encoded data removed]",
      "text/plain": [
       "<Figure size 432x288 with 1 Axes>"
      ]
     },
     "metadata": {
      "needs_background": "light"
     },
     "output_type": "display_data"
    }
   ],
   "source": [
    "sns.countplot(data = users_info, x = 'gender', palette = ['#136f62' , '#6e3bb0'])\n",
    "plt.xlabel(\"Gender\", size=12)\n",
    "plt.ylabel(\"Number of users\", size=12)\n",
    "plt.title('Users distribution by gender', pad = 20, size = 14)\n",
    "sns.despine()"
   ]
  },
  {
   "cell_type": "markdown",
   "metadata": {},
   "source": [
    "#### Разница,  между датой регистрации и первой датой оплаты подписки\n",
    "- Создаем столбец, который будет содержать информацию о разнице между регистрацией пользователя и датой оплаты какого-либо продукта\n",
    "- Строим графики распределения для сроков первой оплаты подписки в приложении"
   ]
  },
  {
   "cell_type": "code",
   "execution_count": 390,
   "metadata": {},
   "outputs": [],
   "source": [
    "for data in [transactions_test, transactions_control_1, transactions_control_2]:\n",
    "    data['weeks_until_payment'] = (data.paid_at - data.joined_at)\n",
    "    data['weeks_until_payment'] = round(data['weeks_until_payment'].dt.days / 7)\n",
    "    data['weeks_until_payment'] = data['weeks_until_payment'].fillna(0).astype('int')"
   ]
  },
  {
   "cell_type": "code",
   "execution_count": 391,
   "metadata": {},
   "outputs": [],
   "source": [
    "# Для лучшего восприятия графиков зададим цвет каждой группе\n",
    "group_colors = dict(test = '#05b655', cont_1 = '#1bb9ec', cont_2 = '#1b9cae')\n",
    "group_palette = ['#1bb9ec','#1b9cae', '#05b655']"
   ]
  },
  {
   "cell_type": "code",
   "execution_count": 392,
   "metadata": {},
   "outputs": [
    {
     "data": {
      "image/png": "[encoded data removed]",
      "text/plain": [
       "<Figure size 1080x504 with 1 Axes>"
      ]
     },
     "metadata": {
      "needs_background": "light"
     },
     "output_type": "display_data"
    }
   ],
   "source": [
    "plt.figure(figsize = (15, 7))\n",
    "sns.histplot(data = transactions_test \\\n",
    "             .query(\"product_type == ['premium', 'premium_no_trial']\")\n",
    "             .sort_values(['uid', 'paid_at']) \\\n",
    "             .drop_duplicates('uid'), \\\n",
    "             \n",
    "             x = 'weeks_until_payment', \\\n",
    "             stat = 'probability', \\\n",
    "             binwidth = 1, \\\n",
    "             color = group_colors['test'])\n",
    "plt.xlabel(\"Weeks until first premium payment\", size=12)\n",
    "plt.ylabel(\"Users percentage\", size=12)\n",
    "plt.title('Weeks until first premium payment in test group', pad = 20, size = 14)\n",
    "sns.despine()"
   ]
  },
  {
   "cell_type": "code",
   "execution_count": 393,
   "metadata": {},
   "outputs": [
    {
     "data": {
      "image/png": "[encoded data removed]",
      "text/plain": [
       "<Figure size 1080x504 with 1 Axes>"
      ]
     },
     "metadata": {
      "needs_background": "light"
     },
     "output_type": "display_data"
    }
   ],
   "source": [
    "plt.figure(figsize = (15, 7))\n",
    "sns.histplot(data = transactions_control_1 \\\n",
    "             .query(\"product_type == ['premium', 'premium_no_trial']\")\n",
    "             .sort_values(['uid', 'paid_at']) \\\n",
    "             .drop_duplicates('uid'), \\\n",
    "             x = 'weeks_until_payment', \\\n",
    "             stat = 'probability', \\\n",
    "             binwidth = 1, \\\n",
    "             color = group_colors['cont_1'] )\n",
    "plt.xlabel(\"Weeks until first premium payment\", size=12)\n",
    "plt.ylabel(\"Users percentage\", size=12)\n",
    "plt.title('Weeks until first premium payment in control 1 group', pad = 20, size = 14)\n",
    "sns.despine()"
   ]
  },
  {
   "cell_type": "code",
   "execution_count": 394,
   "metadata": {},
   "outputs": [
    {
     "data": {
      "image/png": "[encoded data removed]",
      "text/plain": [
       "<Figure size 1080x504 with 1 Axes>"
      ]
     },
     "metadata": {
      "needs_background": "light"
     },
     "output_type": "display_data"
    }
   ],
   "source": [
    "plt.figure(figsize = (15, 7))\n",
    "sns.histplot(data = transactions_control_2 \\\n",
    "             .query(\"product_type == ['premium', 'premium_no_trial']\")\n",
    "             .sort_values(['uid', 'paid_at']) \\\n",
    "             .drop_duplicates('uid'), \\\n",
    "             x = 'weeks_until_payment', \\\n",
    "             stat = 'probability', \\\n",
    "             binwidth = 1, \\\n",
    "             color = group_colors['cont_2'])\n",
    "plt.xlabel(\"Weeks until first premium payment\", size=12)\n",
    "plt.ylabel(\"Users percentage\", size=12)\n",
    "plt.title('Weeks until first premium payment in control 2 group', pad = 20, size = 14)\n",
    "sns.despine()"
   ]
  },
  {
   "cell_type": "markdown",
   "metadata": {},
   "source": [
    "1. Возможно, люди, у которых оплата подписки произошла раньше регистрации, получили подписку в подарок или участвовали в промоакции.  \n",
    "2. Видим, что у пользователей, которые были в контрольных группах, похожее распределение на графиках.  \n",
    "У пользователей первой группы достаточно симметричный разброс в правую и левую части."
   ]
  },
  {
   "cell_type": "markdown",
   "metadata": {},
   "source": [
    "### Анализ транзакций, дохода с пользователей и поиск ошибок в данных "
   ]
  },
  {
   "cell_type": "markdown",
   "metadata": {},
   "source": [
    "Объединеним датасеты по транзакциям и информации о пользователях:\n",
    "1. Добавим в новый датафрейм столбец с названием группы (тестовая или контрольная)\n",
    "2. Отберем столбцы, которые кажутся важными в анализе групп пользователей: **uid, age, gender, was_premium, is_premium, total_revenue, group, coins**"
   ]
  },
  {
   "cell_type": "code",
   "execution_count": 395,
   "metadata": {},
   "outputs": [],
   "source": [
    "k = 0\n",
    "group_names = ['test', 'control_1', 'control_2']\n",
    "transactions_data = pd.DataFrame()\n",
    "for users, transactions in zip((users_test, users_control_1, users_control_2), \\\n",
    "                               (transactions_test, transactions_control_1, transactions_control_2)):\n",
    "    users['group'] = group_names[k]\n",
    "    transactions_data = pd.concat( [transactions_data, \\\n",
    "                       transactions.merge(users[['uid', 'age', 'gender', 'was_premium', 'is_premium', 'total_revenue', 'group', 'coins']], \\\n",
    "                                          on = 'uid', how = 'left')]).reset_index(drop = True)\n",
    "    k += 1"
   ]
  },
  {
   "cell_type": "markdown",
   "metadata": {},
   "source": [
    "Убедимся, что total_revenue равен агреггированному доходу с пользователя по столбцу revenue:\n",
    "- Агрегация по revenue\n",
    "- Агрегация по total_revenue"
   ]
  },
  {
   "cell_type": "code",
   "execution_count": 396,
   "metadata": {},
   "outputs": [
    {
     "data": {
      "text/html": [
       "<div>\n",
       "<style scoped>\n",
       "    .dataframe tbody tr th:only-of-type {\n",
       "        vertical-align: middle;\n",
       "    }\n",
       "\n",
       "    .dataframe tbody tr th {\n",
       "        vertical-align: top;\n",
       "    }\n",
       "\n",
       "    .dataframe thead th {\n",
       "        text-align: right;\n",
       "    }\n",
       "</style>\n",
       "<table border=\"1\" class=\"dataframe\">\n",
       "  <thead>\n",
       "    <tr style=\"text-align: right;\">\n",
       "      <th></th>\n",
       "      <th>group</th>\n",
       "      <th>revenue</th>\n",
       "    </tr>\n",
       "  </thead>\n",
       "  <tbody>\n",
       "    <tr>\n",
       "      <th>0</th>\n",
       "      <td>control_1</td>\n",
       "      <td>9490.0</td>\n",
       "    </tr>\n",
       "    <tr>\n",
       "      <th>1</th>\n",
       "      <td>control_2</td>\n",
       "      <td>7969.0</td>\n",
       "    </tr>\n",
       "    <tr>\n",
       "      <th>2</th>\n",
       "      <td>test</td>\n",
       "      <td>12727.0</td>\n",
       "    </tr>\n",
       "  </tbody>\n",
       "</table>\n",
       "</div>"
      ],
      "text/plain": [
       "       group  revenue\n",
       "0  control_1   9490.0\n",
       "1  control_2   7969.0\n",
       "2       test  12727.0"
      ]
     },
     "execution_count": 396,
     "metadata": {},
     "output_type": "execute_result"
    }
   ],
   "source": [
    "transactions_data.groupby(['group', 'uid'], as_index = False).agg({'revenue': 'sum'}) \\\n",
    "                .groupby('group', as_index = False).agg({'revenue': 'median'})"
   ]
  },
  {
   "cell_type": "code",
   "execution_count": 397,
   "metadata": {},
   "outputs": [
    {
     "data": {
      "text/html": [
       "<div>\n",
       "<style scoped>\n",
       "    .dataframe tbody tr th:only-of-type {\n",
       "        vertical-align: middle;\n",
       "    }\n",
       "\n",
       "    .dataframe tbody tr th {\n",
       "        vertical-align: top;\n",
       "    }\n",
       "\n",
       "    .dataframe thead th {\n",
       "        text-align: right;\n",
       "    }\n",
       "</style>\n",
       "<table border=\"1\" class=\"dataframe\">\n",
       "  <thead>\n",
       "    <tr style=\"text-align: right;\">\n",
       "      <th></th>\n",
       "      <th>group</th>\n",
       "      <th>total_revenue</th>\n",
       "    </tr>\n",
       "  </thead>\n",
       "  <tbody>\n",
       "    <tr>\n",
       "      <th>0</th>\n",
       "      <td>control_1</td>\n",
       "      <td>9139</td>\n",
       "    </tr>\n",
       "    <tr>\n",
       "      <th>1</th>\n",
       "      <td>control_2</td>\n",
       "      <td>7969</td>\n",
       "    </tr>\n",
       "    <tr>\n",
       "      <th>2</th>\n",
       "      <td>test</td>\n",
       "      <td>12727</td>\n",
       "    </tr>\n",
       "  </tbody>\n",
       "</table>\n",
       "</div>"
      ],
      "text/plain": [
       "       group  total_revenue\n",
       "0  control_1           9139\n",
       "1  control_2           7969\n",
       "2       test          12727"
      ]
     },
     "execution_count": 397,
     "metadata": {},
     "output_type": "execute_result"
    }
   ],
   "source": [
    "transactions_data.sort_values(['paid_at'], ascending = False) \\\n",
    "        .drop_duplicates('uid').groupby('group', as_index = False).agg({'total_revenue': 'median'}) "
   ]
  },
  {
   "cell_type": "markdown",
   "metadata": {},
   "source": [
    "Посмотрим, где могла быть ошибка    \n",
    "\n",
    " - Выведем записи о пользователях, у которых агрегированное значение revenue не равно total_revenue\n",
    " - Значение from_page  в оплате пользователем 960936960.0 намекает на то, что был оформлен возврат денег (или деньги вернулись из-за проблем с оплатой).  \n",
    " - Убеждаемся, что в датасете записи с таким названием страницы уникальны.\n",
    " - Удаляем записи.\n"
   ]
  },
  {
   "cell_type": "code",
   "execution_count": 398,
   "metadata": {},
   "outputs": [
    {
     "data": {
      "text/html": [
       "<div>\n",
       "<style scoped>\n",
       "    .dataframe tbody tr th:only-of-type {\n",
       "        vertical-align: middle;\n",
       "    }\n",
       "\n",
       "    .dataframe tbody tr th {\n",
       "        vertical-align: top;\n",
       "    }\n",
       "\n",
       "    .dataframe thead th {\n",
       "        text-align: right;\n",
       "    }\n",
       "</style>\n",
       "<table border=\"1\" class=\"dataframe\">\n",
       "  <thead>\n",
       "    <tr style=\"text-align: right;\">\n",
       "      <th></th>\n",
       "      <th>uid</th>\n",
       "      <th>revenue</th>\n",
       "      <th>total_revenue</th>\n",
       "    </tr>\n",
       "  </thead>\n",
       "  <tbody>\n",
       "    <tr>\n",
       "      <th>181</th>\n",
       "      <td>892355163.0</td>\n",
       "      <td>30264.0</td>\n",
       "      <td>0</td>\n",
       "    </tr>\n",
       "    <tr>\n",
       "      <th>192</th>\n",
       "      <td>960936960.0</td>\n",
       "      <td>806.0</td>\n",
       "      <td>26</td>\n",
       "    </tr>\n",
       "  </tbody>\n",
       "</table>\n",
       "</div>"
      ],
      "text/plain": [
       "             uid  revenue  total_revenue\n",
       "181  892355163.0  30264.0              0\n",
       "192  960936960.0    806.0             26"
      ]
     },
     "execution_count": 398,
     "metadata": {},
     "output_type": "execute_result"
    }
   ],
   "source": [
    "transactions_data.query('group == \"control_1\"').groupby('uid', as_index = False) \\\n",
    "                    .agg({'revenue': 'sum', 'total_revenue': 'max'}) \\\n",
    "                    .query('total_revenue != revenue')"
   ]
  },
  {
   "cell_type": "code",
   "execution_count": 399,
   "metadata": {
    "scrolled": true
   },
   "outputs": [
    {
     "data": {
      "text/html": [
       "<div>\n",
       "<style scoped>\n",
       "    .dataframe tbody tr th:only-of-type {\n",
       "        vertical-align: middle;\n",
       "    }\n",
       "\n",
       "    .dataframe tbody tr th {\n",
       "        vertical-align: top;\n",
       "    }\n",
       "\n",
       "    .dataframe thead th {\n",
       "        text-align: right;\n",
       "    }\n",
       "</style>\n",
       "<table border=\"1\" class=\"dataframe\">\n",
       "  <thead>\n",
       "    <tr style=\"text-align: right;\">\n",
       "      <th></th>\n",
       "      <th>uid</th>\n",
       "      <th>country</th>\n",
       "      <th>joined_at</th>\n",
       "      <th>paid_at</th>\n",
       "      <th>revenue</th>\n",
       "      <th>payment_id</th>\n",
       "      <th>from_page</th>\n",
       "      <th>product_type</th>\n",
       "      <th>weeks_until_payment</th>\n",
       "      <th>age</th>\n",
       "      <th>gender</th>\n",
       "      <th>was_premium</th>\n",
       "      <th>is_premium</th>\n",
       "      <th>total_revenue</th>\n",
       "      <th>group</th>\n",
       "      <th>coins</th>\n",
       "    </tr>\n",
       "  </thead>\n",
       "  <tbody>\n",
       "    <tr>\n",
       "      <th>338</th>\n",
       "      <td>960936960.0</td>\n",
       "      <td>Russian Federation</td>\n",
       "      <td>2015-01-19 11:49:00</td>\n",
       "      <td>2016-12-14 17:30:00</td>\n",
       "      <td>26.0</td>\n",
       "      <td>0.0</td>\n",
       "      <td>refund_VP</td>\n",
       "      <td>other_type</td>\n",
       "      <td>99</td>\n",
       "      <td>30</td>\n",
       "      <td>1</td>\n",
       "      <td>1.0</td>\n",
       "      <td>1.0</td>\n",
       "      <td>26</td>\n",
       "      <td>control_1</td>\n",
       "      <td>99958.0</td>\n",
       "    </tr>\n",
       "    <tr>\n",
       "      <th>374</th>\n",
       "      <td>960936960.0</td>\n",
       "      <td>Russian Federation</td>\n",
       "      <td>2015-01-19 11:49:00</td>\n",
       "      <td>2016-12-14 17:35:00</td>\n",
       "      <td>637.0</td>\n",
       "      <td>0.0</td>\n",
       "      <td>refung_AP</td>\n",
       "      <td>other_type</td>\n",
       "      <td>99</td>\n",
       "      <td>30</td>\n",
       "      <td>1</td>\n",
       "      <td>1.0</td>\n",
       "      <td>1.0</td>\n",
       "      <td>26</td>\n",
       "      <td>control_1</td>\n",
       "      <td>99958.0</td>\n",
       "    </tr>\n",
       "    <tr>\n",
       "      <th>497</th>\n",
       "      <td>960936960.0</td>\n",
       "      <td>Russian Federation</td>\n",
       "      <td>2015-01-19 11:49:00</td>\n",
       "      <td>2016-12-14 16:16:00</td>\n",
       "      <td>143.0</td>\n",
       "      <td>0.0</td>\n",
       "      <td>refund_WP</td>\n",
       "      <td>other_type</td>\n",
       "      <td>99</td>\n",
       "      <td>30</td>\n",
       "      <td>1</td>\n",
       "      <td>1.0</td>\n",
       "      <td>1.0</td>\n",
       "      <td>26</td>\n",
       "      <td>control_1</td>\n",
       "      <td>99958.0</td>\n",
       "    </tr>\n",
       "  </tbody>\n",
       "</table>\n",
       "</div>"
      ],
      "text/plain": [
       "             uid             country           joined_at             paid_at  \\\n",
       "338  960936960.0  Russian Federation 2015-01-19 11:49:00 2016-12-14 17:30:00   \n",
       "374  960936960.0  Russian Federation 2015-01-19 11:49:00 2016-12-14 17:35:00   \n",
       "497  960936960.0  Russian Federation 2015-01-19 11:49:00 2016-12-14 16:16:00   \n",
       "\n",
       "     revenue  payment_id  from_page product_type  weeks_until_payment  age  \\\n",
       "338     26.0         0.0  refund_VP   other_type                   99   30   \n",
       "374    637.0         0.0  refung_AP   other_type                   99   30   \n",
       "497    143.0         0.0  refund_WP   other_type                   99   30   \n",
       "\n",
       "     gender  was_premium  is_premium  total_revenue      group    coins  \n",
       "338       1          1.0         1.0             26  control_1  99958.0  \n",
       "374       1          1.0         1.0             26  control_1  99958.0  \n",
       "497       1          1.0         1.0             26  control_1  99958.0  "
      ]
     },
     "execution_count": 399,
     "metadata": {},
     "output_type": "execute_result"
    }
   ],
   "source": [
    "transactions_data.query('uid == 960936960.0')"
   ]
  },
  {
   "cell_type": "code",
   "execution_count": 400,
   "metadata": {
    "scrolled": true
   },
   "outputs": [
    {
     "data": {
      "text/html": [
       "<div>\n",
       "<style scoped>\n",
       "    .dataframe tbody tr th:only-of-type {\n",
       "        vertical-align: middle;\n",
       "    }\n",
       "\n",
       "    .dataframe tbody tr th {\n",
       "        vertical-align: top;\n",
       "    }\n",
       "\n",
       "    .dataframe thead th {\n",
       "        text-align: right;\n",
       "    }\n",
       "</style>\n",
       "<table border=\"1\" class=\"dataframe\">\n",
       "  <thead>\n",
       "    <tr style=\"text-align: right;\">\n",
       "      <th></th>\n",
       "      <th>uid</th>\n",
       "      <th>country</th>\n",
       "      <th>joined_at</th>\n",
       "      <th>paid_at</th>\n",
       "      <th>revenue</th>\n",
       "      <th>payment_id</th>\n",
       "      <th>from_page</th>\n",
       "      <th>product_type</th>\n",
       "      <th>weeks_until_payment</th>\n",
       "      <th>age</th>\n",
       "      <th>gender</th>\n",
       "      <th>was_premium</th>\n",
       "      <th>is_premium</th>\n",
       "      <th>total_revenue</th>\n",
       "      <th>group</th>\n",
       "      <th>coins</th>\n",
       "    </tr>\n",
       "  </thead>\n",
       "  <tbody>\n",
       "    <tr>\n",
       "      <th>338</th>\n",
       "      <td>960936960.0</td>\n",
       "      <td>Russian Federation</td>\n",
       "      <td>2015-01-19 11:49:00</td>\n",
       "      <td>2016-12-14 17:30:00</td>\n",
       "      <td>26.0</td>\n",
       "      <td>0.0</td>\n",
       "      <td>refund_VP</td>\n",
       "      <td>other_type</td>\n",
       "      <td>99</td>\n",
       "      <td>30</td>\n",
       "      <td>1</td>\n",
       "      <td>1.0</td>\n",
       "      <td>1.0</td>\n",
       "      <td>26</td>\n",
       "      <td>control_1</td>\n",
       "      <td>99958.0</td>\n",
       "    </tr>\n",
       "    <tr>\n",
       "      <th>374</th>\n",
       "      <td>960936960.0</td>\n",
       "      <td>Russian Federation</td>\n",
       "      <td>2015-01-19 11:49:00</td>\n",
       "      <td>2016-12-14 17:35:00</td>\n",
       "      <td>637.0</td>\n",
       "      <td>0.0</td>\n",
       "      <td>refung_AP</td>\n",
       "      <td>other_type</td>\n",
       "      <td>99</td>\n",
       "      <td>30</td>\n",
       "      <td>1</td>\n",
       "      <td>1.0</td>\n",
       "      <td>1.0</td>\n",
       "      <td>26</td>\n",
       "      <td>control_1</td>\n",
       "      <td>99958.0</td>\n",
       "    </tr>\n",
       "    <tr>\n",
       "      <th>497</th>\n",
       "      <td>960936960.0</td>\n",
       "      <td>Russian Federation</td>\n",
       "      <td>2015-01-19 11:49:00</td>\n",
       "      <td>2016-12-14 16:16:00</td>\n",
       "      <td>143.0</td>\n",
       "      <td>0.0</td>\n",
       "      <td>refund_WP</td>\n",
       "      <td>other_type</td>\n",
       "      <td>99</td>\n",
       "      <td>30</td>\n",
       "      <td>1</td>\n",
       "      <td>1.0</td>\n",
       "      <td>1.0</td>\n",
       "      <td>26</td>\n",
       "      <td>control_1</td>\n",
       "      <td>99958.0</td>\n",
       "    </tr>\n",
       "  </tbody>\n",
       "</table>\n",
       "</div>"
      ],
      "text/plain": [
       "             uid             country           joined_at             paid_at  \\\n",
       "338  960936960.0  Russian Federation 2015-01-19 11:49:00 2016-12-14 17:30:00   \n",
       "374  960936960.0  Russian Federation 2015-01-19 11:49:00 2016-12-14 17:35:00   \n",
       "497  960936960.0  Russian Federation 2015-01-19 11:49:00 2016-12-14 16:16:00   \n",
       "\n",
       "     revenue  payment_id  from_page product_type  weeks_until_payment  age  \\\n",
       "338     26.0         0.0  refund_VP   other_type                   99   30   \n",
       "374    637.0         0.0  refung_AP   other_type                   99   30   \n",
       "497    143.0         0.0  refund_WP   other_type                   99   30   \n",
       "\n",
       "     gender  was_premium  is_premium  total_revenue      group    coins  \n",
       "338       1          1.0         1.0             26  control_1  99958.0  \n",
       "374       1          1.0         1.0             26  control_1  99958.0  \n",
       "497       1          1.0         1.0             26  control_1  99958.0  "
      ]
     },
     "execution_count": 400,
     "metadata": {},
     "output_type": "execute_result"
    }
   ],
   "source": [
    "transactions_data.query('from_page == [\"refund_VP\", \"refung_AP\", \"refund_WP\"]')"
   ]
  },
  {
   "cell_type": "code",
   "execution_count": 401,
   "metadata": {},
   "outputs": [],
   "source": [
    "transactions_data = transactions_data \\\n",
    "                    .drop(transactions_data.query('from_page == [\"refund_VP\", \"refung_AP\", \"refund_WP\"]') \\\n",
    "                    .index)"
   ]
  },
  {
   "cell_type": "markdown",
   "metadata": {},
   "source": [
    "Во втором случае скорее всего произошла ошибка при записи данных, поэтому просто заменяем значение по столбцу total_revenue для пользователя"
   ]
  },
  {
   "cell_type": "code",
   "execution_count": 402,
   "metadata": {},
   "outputs": [
    {
     "data": {
      "text/html": [
       "<div>\n",
       "<style scoped>\n",
       "    .dataframe tbody tr th:only-of-type {\n",
       "        vertical-align: middle;\n",
       "    }\n",
       "\n",
       "    .dataframe tbody tr th {\n",
       "        vertical-align: top;\n",
       "    }\n",
       "\n",
       "    .dataframe thead th {\n",
       "        text-align: right;\n",
       "    }\n",
       "</style>\n",
       "<table border=\"1\" class=\"dataframe\">\n",
       "  <thead>\n",
       "    <tr style=\"text-align: right;\">\n",
       "      <th></th>\n",
       "      <th>uid</th>\n",
       "      <th>country</th>\n",
       "      <th>joined_at</th>\n",
       "      <th>paid_at</th>\n",
       "      <th>revenue</th>\n",
       "      <th>payment_id</th>\n",
       "      <th>from_page</th>\n",
       "      <th>product_type</th>\n",
       "      <th>weeks_until_payment</th>\n",
       "      <th>age</th>\n",
       "      <th>gender</th>\n",
       "      <th>was_premium</th>\n",
       "      <th>is_premium</th>\n",
       "      <th>total_revenue</th>\n",
       "      <th>group</th>\n",
       "      <th>coins</th>\n",
       "    </tr>\n",
       "  </thead>\n",
       "  <tbody>\n",
       "    <tr>\n",
       "      <th>576</th>\n",
       "      <td>892355163.0</td>\n",
       "      <td>United States of America</td>\n",
       "      <td>2017-10-15 18:45:00</td>\n",
       "      <td>2017-10-16 09:52:00</td>\n",
       "      <td>30264.0</td>\n",
       "      <td>68.0</td>\n",
       "      <td>super_popup</td>\n",
       "      <td>other_type</td>\n",
       "      <td>0</td>\n",
       "      <td>40</td>\n",
       "      <td>1</td>\n",
       "      <td>1.0</td>\n",
       "      <td>0.0</td>\n",
       "      <td>0</td>\n",
       "      <td>control_1</td>\n",
       "      <td>0.0</td>\n",
       "    </tr>\n",
       "  </tbody>\n",
       "</table>\n",
       "</div>"
      ],
      "text/plain": [
       "             uid                   country           joined_at  \\\n",
       "576  892355163.0  United States of America 2017-10-15 18:45:00   \n",
       "\n",
       "                paid_at  revenue  payment_id    from_page product_type  \\\n",
       "576 2017-10-16 09:52:00  30264.0        68.0  super_popup   other_type   \n",
       "\n",
       "     weeks_until_payment  age  gender  was_premium  is_premium  total_revenue  \\\n",
       "576                    0   40       1          1.0         0.0              0   \n",
       "\n",
       "         group  coins  \n",
       "576  control_1    0.0  "
      ]
     },
     "execution_count": 402,
     "metadata": {},
     "output_type": "execute_result"
    }
   ],
   "source": [
    "transactions_data.query('uid == 892355163.0')"
   ]
  },
  {
   "cell_type": "code",
   "execution_count": 403,
   "metadata": {},
   "outputs": [],
   "source": [
    "transactions_data.loc[transactions_data['uid'] == 892355163.0, 'total_revenue'] = 30264.0"
   ]
  },
  {
   "cell_type": "markdown",
   "metadata": {},
   "source": [
    "Чтобы понимать, какую роль может играть страница, с которой пользователь перешел для оплаты, сделаем преобразование таблицы с транзакциями.  \n",
    "По всем типам страницы, кроме none и fans наблюдается следующая картина: пользователи либо платили за премиум подписку (или ее пробную версию), либо тип продукта other_type и coins.   \n",
    "Используем это при дальнейшем анализе.\n"
   ]
  },
  {
   "cell_type": "code",
   "execution_count": 404,
   "metadata": {
    "scrolled": false
   },
   "outputs": [
    {
     "data": {
      "text/html": [
       "<div>\n",
       "<style scoped>\n",
       "    .dataframe tbody tr th:only-of-type {\n",
       "        vertical-align: middle;\n",
       "    }\n",
       "\n",
       "    .dataframe tbody tr th {\n",
       "        vertical-align: top;\n",
       "    }\n",
       "\n",
       "    .dataframe thead th {\n",
       "        text-align: right;\n",
       "    }\n",
       "</style>\n",
       "<table border=\"1\" class=\"dataframe\">\n",
       "  <thead>\n",
       "    <tr style=\"text-align: right;\">\n",
       "      <th>product_type</th>\n",
       "      <th>coins</th>\n",
       "      <th>other_type</th>\n",
       "      <th>premium_no_trial</th>\n",
       "      <th>trial_premium</th>\n",
       "    </tr>\n",
       "    <tr>\n",
       "      <th>from_page</th>\n",
       "      <th></th>\n",
       "      <th></th>\n",
       "      <th></th>\n",
       "      <th></th>\n",
       "    </tr>\n",
       "  </thead>\n",
       "  <tbody>\n",
       "    <tr>\n",
       "      <th>autoreply_message</th>\n",
       "      <td>0.0</td>\n",
       "      <td>0.0</td>\n",
       "      <td>67.0</td>\n",
       "      <td>13.0</td>\n",
       "    </tr>\n",
       "    <tr>\n",
       "      <th>dating</th>\n",
       "      <td>0.0</td>\n",
       "      <td>0.0</td>\n",
       "      <td>18.0</td>\n",
       "      <td>6.0</td>\n",
       "    </tr>\n",
       "    <tr>\n",
       "      <th>delivery_vip</th>\n",
       "      <td>0.0</td>\n",
       "      <td>0.0</td>\n",
       "      <td>1.0</td>\n",
       "      <td>0.0</td>\n",
       "    </tr>\n",
       "    <tr>\n",
       "      <th>fans</th>\n",
       "      <td>5.0</td>\n",
       "      <td>6.0</td>\n",
       "      <td>4.0</td>\n",
       "      <td>0.0</td>\n",
       "    </tr>\n",
       "    <tr>\n",
       "      <th>left_sidebar_menu</th>\n",
       "      <td>0.0</td>\n",
       "      <td>0.0</td>\n",
       "      <td>45.0</td>\n",
       "      <td>2.0</td>\n",
       "    </tr>\n",
       "    <tr>\n",
       "      <th>no_sympathy</th>\n",
       "      <td>0.0</td>\n",
       "      <td>0.0</td>\n",
       "      <td>2.0</td>\n",
       "      <td>0.0</td>\n",
       "    </tr>\n",
       "    <tr>\n",
       "      <th>none</th>\n",
       "      <td>39.0</td>\n",
       "      <td>5.0</td>\n",
       "      <td>53.0</td>\n",
       "      <td>3.0</td>\n",
       "    </tr>\n",
       "    <tr>\n",
       "      <th>popular_users_block</th>\n",
       "      <td>0.0</td>\n",
       "      <td>0.0</td>\n",
       "      <td>18.0</td>\n",
       "      <td>1.0</td>\n",
       "    </tr>\n",
       "    <tr>\n",
       "      <th>popular_users_chat</th>\n",
       "      <td>0.0</td>\n",
       "      <td>0.0</td>\n",
       "      <td>13.0</td>\n",
       "      <td>2.0</td>\n",
       "    </tr>\n",
       "    <tr>\n",
       "      <th>promo_09</th>\n",
       "      <td>0.0</td>\n",
       "      <td>0.0</td>\n",
       "      <td>58.0</td>\n",
       "      <td>3.0</td>\n",
       "    </tr>\n",
       "    <tr>\n",
       "      <th>send_message</th>\n",
       "      <td>0.0</td>\n",
       "      <td>0.0</td>\n",
       "      <td>6.0</td>\n",
       "      <td>2.0</td>\n",
       "    </tr>\n",
       "    <tr>\n",
       "      <th>trial_vip_popup</th>\n",
       "      <td>0.0</td>\n",
       "      <td>0.0</td>\n",
       "      <td>0.0</td>\n",
       "      <td>149.0</td>\n",
       "    </tr>\n",
       "    <tr>\n",
       "      <th>user_profile</th>\n",
       "      <td>0.0</td>\n",
       "      <td>0.0</td>\n",
       "      <td>4.0</td>\n",
       "      <td>1.0</td>\n",
       "    </tr>\n",
       "  </tbody>\n",
       "</table>\n",
       "</div>"
      ],
      "text/plain": [
       "product_type         coins  other_type  premium_no_trial  trial_premium\n",
       "from_page                                                              \n",
       "autoreply_message      0.0         0.0              67.0           13.0\n",
       "dating                 0.0         0.0              18.0            6.0\n",
       "delivery_vip           0.0         0.0               1.0            0.0\n",
       "fans                   5.0         6.0               4.0            0.0\n",
       "left_sidebar_menu      0.0         0.0              45.0            2.0\n",
       "no_sympathy            0.0         0.0               2.0            0.0\n",
       "none                  39.0         5.0              53.0            3.0\n",
       "popular_users_block    0.0         0.0              18.0            1.0\n",
       "popular_users_chat     0.0         0.0              13.0            2.0\n",
       "promo_09               0.0         0.0              58.0            3.0\n",
       "send_message           0.0         0.0               6.0            2.0\n",
       "trial_vip_popup        0.0         0.0               0.0          149.0\n",
       "user_profile           0.0         0.0               4.0            1.0"
      ]
     },
     "execution_count": 404,
     "metadata": {},
     "output_type": "execute_result"
    }
   ],
   "source": [
    "# Страницы, переход с которых закончился оплатой trial_premium или premium_no_trial\n",
    "transactions_data.groupby(['product_type', 'from_page'], as_index = False) \\\n",
    "                .agg({'uid': 'count'}) \\\n",
    "                .pivot(index = 'from_page', columns = 'product_type', values = 'uid') \\\n",
    "                .fillna(0) \\\n",
    "                .query('premium_no_trial > 0 or trial_premium > 0')"
   ]
  },
  {
   "cell_type": "code",
   "execution_count": 405,
   "metadata": {},
   "outputs": [
    {
     "data": {
      "text/html": [
       "<div>\n",
       "<style scoped>\n",
       "    .dataframe tbody tr th:only-of-type {\n",
       "        vertical-align: middle;\n",
       "    }\n",
       "\n",
       "    .dataframe tbody tr th {\n",
       "        vertical-align: top;\n",
       "    }\n",
       "\n",
       "    .dataframe thead th {\n",
       "        text-align: right;\n",
       "    }\n",
       "</style>\n",
       "<table border=\"1\" class=\"dataframe\">\n",
       "  <thead>\n",
       "    <tr style=\"text-align: right;\">\n",
       "      <th>product_type</th>\n",
       "      <th>coins</th>\n",
       "      <th>other_type</th>\n",
       "      <th>premium_no_trial</th>\n",
       "      <th>trial_premium</th>\n",
       "    </tr>\n",
       "    <tr>\n",
       "      <th>from_page</th>\n",
       "      <th></th>\n",
       "      <th></th>\n",
       "      <th></th>\n",
       "      <th></th>\n",
       "    </tr>\n",
       "  </thead>\n",
       "  <tbody>\n",
       "    <tr>\n",
       "      <th>ad_to_photo</th>\n",
       "      <td>7.0</td>\n",
       "      <td>3.0</td>\n",
       "      <td>0.0</td>\n",
       "      <td>0.0</td>\n",
       "    </tr>\n",
       "    <tr>\n",
       "      <th>admins</th>\n",
       "      <td>0.0</td>\n",
       "      <td>2.0</td>\n",
       "      <td>0.0</td>\n",
       "      <td>0.0</td>\n",
       "    </tr>\n",
       "    <tr>\n",
       "      <th>autorefill</th>\n",
       "      <td>48.0</td>\n",
       "      <td>0.0</td>\n",
       "      <td>0.0</td>\n",
       "      <td>0.0</td>\n",
       "    </tr>\n",
       "    <tr>\n",
       "      <th>coins_popup</th>\n",
       "      <td>0.0</td>\n",
       "      <td>3.0</td>\n",
       "      <td>0.0</td>\n",
       "      <td>0.0</td>\n",
       "    </tr>\n",
       "    <tr>\n",
       "      <th>empty_admins</th>\n",
       "      <td>0.0</td>\n",
       "      <td>5.0</td>\n",
       "      <td>0.0</td>\n",
       "      <td>0.0</td>\n",
       "    </tr>\n",
       "    <tr>\n",
       "      <th>empty_likes</th>\n",
       "      <td>212.0</td>\n",
       "      <td>60.0</td>\n",
       "      <td>0.0</td>\n",
       "      <td>0.0</td>\n",
       "    </tr>\n",
       "    <tr>\n",
       "      <th>empty_mutual</th>\n",
       "      <td>0.0</td>\n",
       "      <td>2.0</td>\n",
       "      <td>0.0</td>\n",
       "      <td>0.0</td>\n",
       "    </tr>\n",
       "    <tr>\n",
       "      <th>fans</th>\n",
       "      <td>5.0</td>\n",
       "      <td>6.0</td>\n",
       "      <td>4.0</td>\n",
       "      <td>0.0</td>\n",
       "    </tr>\n",
       "    <tr>\n",
       "      <th>gifts</th>\n",
       "      <td>16.0</td>\n",
       "      <td>4.0</td>\n",
       "      <td>0.0</td>\n",
       "      <td>0.0</td>\n",
       "    </tr>\n",
       "    <tr>\n",
       "      <th>likes</th>\n",
       "      <td>1.0</td>\n",
       "      <td>0.0</td>\n",
       "      <td>0.0</td>\n",
       "      <td>0.0</td>\n",
       "    </tr>\n",
       "    <tr>\n",
       "      <th>menu</th>\n",
       "      <td>51.0</td>\n",
       "      <td>21.0</td>\n",
       "      <td>0.0</td>\n",
       "      <td>0.0</td>\n",
       "    </tr>\n",
       "    <tr>\n",
       "      <th>none</th>\n",
       "      <td>39.0</td>\n",
       "      <td>5.0</td>\n",
       "      <td>53.0</td>\n",
       "      <td>3.0</td>\n",
       "    </tr>\n",
       "    <tr>\n",
       "      <th>super_popup</th>\n",
       "      <td>0.0</td>\n",
       "      <td>4.0</td>\n",
       "      <td>0.0</td>\n",
       "      <td>0.0</td>\n",
       "    </tr>\n",
       "    <tr>\n",
       "      <th>sympathy</th>\n",
       "      <td>0.0</td>\n",
       "      <td>10.0</td>\n",
       "      <td>0.0</td>\n",
       "      <td>0.0</td>\n",
       "    </tr>\n",
       "  </tbody>\n",
       "</table>\n",
       "</div>"
      ],
      "text/plain": [
       "product_type  coins  other_type  premium_no_trial  trial_premium\n",
       "from_page                                                       \n",
       "ad_to_photo     7.0         3.0               0.0            0.0\n",
       "admins          0.0         2.0               0.0            0.0\n",
       "autorefill     48.0         0.0               0.0            0.0\n",
       "coins_popup     0.0         3.0               0.0            0.0\n",
       "empty_admins    0.0         5.0               0.0            0.0\n",
       "empty_likes   212.0        60.0               0.0            0.0\n",
       "empty_mutual    0.0         2.0               0.0            0.0\n",
       "fans            5.0         6.0               4.0            0.0\n",
       "gifts          16.0         4.0               0.0            0.0\n",
       "likes           1.0         0.0               0.0            0.0\n",
       "menu           51.0        21.0               0.0            0.0\n",
       "none           39.0         5.0              53.0            3.0\n",
       "super_popup     0.0         4.0               0.0            0.0\n",
       "sympathy        0.0        10.0               0.0            0.0"
      ]
     },
     "execution_count": 405,
     "metadata": {},
     "output_type": "execute_result"
    }
   ],
   "source": [
    "# Страницы, переход с которых закончился оплатой coins или other type\n",
    "transactions_data.groupby(['product_type', 'from_page'], as_index = False) \\\n",
    "                .agg({'uid': 'count'}) \\\n",
    "                .pivot(index = 'from_page', columns = 'product_type', values = 'uid') \\\n",
    "                .fillna(0) \\\n",
    "                .query('coins > 0 or other_type > 0')"
   ]
  },
  {
   "cell_type": "markdown",
   "metadata": {},
   "source": [
    "### Распределение дохода с пользователя в разных группах\n",
    "1. Создаем датасет с информацией о доходе с пользователя\n",
    "2. Строим графики и смотрим на описательную статистику\n",
    "3. Разбираемся в выбросах"
   ]
  },
  {
   "cell_type": "code",
   "execution_count": 406,
   "metadata": {},
   "outputs": [],
   "source": [
    "revenue_per_user = transactions_data.drop_duplicates('uid') \\\n",
    "                    .drop(columns = ['paid_at', 'payment_id', 'from_page', 'product_type'])"
   ]
  },
  {
   "cell_type": "code",
   "execution_count": 407,
   "metadata": {},
   "outputs": [
    {
     "data": {
      "text/html": [
       "<div>\n",
       "<style scoped>\n",
       "    .dataframe tbody tr th:only-of-type {\n",
       "        vertical-align: middle;\n",
       "    }\n",
       "\n",
       "    .dataframe tbody tr th {\n",
       "        vertical-align: top;\n",
       "    }\n",
       "\n",
       "    .dataframe thead th {\n",
       "        text-align: right;\n",
       "    }\n",
       "</style>\n",
       "<table border=\"1\" class=\"dataframe\">\n",
       "  <thead>\n",
       "    <tr style=\"text-align: right;\">\n",
       "      <th></th>\n",
       "      <th>uid</th>\n",
       "      <th>country</th>\n",
       "      <th>joined_at</th>\n",
       "      <th>revenue</th>\n",
       "      <th>weeks_until_payment</th>\n",
       "      <th>age</th>\n",
       "      <th>gender</th>\n",
       "      <th>was_premium</th>\n",
       "      <th>is_premium</th>\n",
       "      <th>total_revenue</th>\n",
       "      <th>group</th>\n",
       "      <th>coins</th>\n",
       "    </tr>\n",
       "  </thead>\n",
       "  <tbody>\n",
       "    <tr>\n",
       "      <th>0</th>\n",
       "      <td>891345942.0</td>\n",
       "      <td>Italy</td>\n",
       "      <td>2017-05-11 13:00:00</td>\n",
       "      <td>12909.0</td>\n",
       "      <td>27</td>\n",
       "      <td>52</td>\n",
       "      <td>1</td>\n",
       "      <td>1.0</td>\n",
       "      <td>1.0</td>\n",
       "      <td>12909.0</td>\n",
       "      <td>test</td>\n",
       "      <td>0.0</td>\n",
       "    </tr>\n",
       "    <tr>\n",
       "      <th>1</th>\n",
       "      <td>892054251.0</td>\n",
       "      <td>United States of America</td>\n",
       "      <td>2017-10-22 00:33:00</td>\n",
       "      <td>13923.0</td>\n",
       "      <td>1</td>\n",
       "      <td>37</td>\n",
       "      <td>1</td>\n",
       "      <td>1.0</td>\n",
       "      <td>1.0</td>\n",
       "      <td>13923.0</td>\n",
       "      <td>test</td>\n",
       "      <td>0.0</td>\n",
       "    </tr>\n",
       "    <tr>\n",
       "      <th>2</th>\n",
       "      <td>892236423.0</td>\n",
       "      <td>United States of America</td>\n",
       "      <td>2017-10-18 01:09:00</td>\n",
       "      <td>3783.0</td>\n",
       "      <td>1</td>\n",
       "      <td>23</td>\n",
       "      <td>1</td>\n",
       "      <td>1.0</td>\n",
       "      <td>1.0</td>\n",
       "      <td>95823.0</td>\n",
       "      <td>test</td>\n",
       "      <td>378.0</td>\n",
       "    </tr>\n",
       "    <tr>\n",
       "      <th>4</th>\n",
       "      <td>892168170.0</td>\n",
       "      <td>United States of America</td>\n",
       "      <td>2017-10-19 17:10:00</td>\n",
       "      <td>9087.0</td>\n",
       "      <td>1</td>\n",
       "      <td>29</td>\n",
       "      <td>1</td>\n",
       "      <td>1.0</td>\n",
       "      <td>1.0</td>\n",
       "      <td>15392.0</td>\n",
       "      <td>test</td>\n",
       "      <td>4.0</td>\n",
       "    </tr>\n",
       "    <tr>\n",
       "      <th>5</th>\n",
       "      <td>892426491.0</td>\n",
       "      <td>United States of America</td>\n",
       "      <td>2017-10-14 10:13:00</td>\n",
       "      <td>12597.0</td>\n",
       "      <td>0</td>\n",
       "      <td>48</td>\n",
       "      <td>1</td>\n",
       "      <td>1.0</td>\n",
       "      <td>0.0</td>\n",
       "      <td>12597.0</td>\n",
       "      <td>test</td>\n",
       "      <td>0.0</td>\n",
       "    </tr>\n",
       "  </tbody>\n",
       "</table>\n",
       "</div>"
      ],
      "text/plain": [
       "           uid                   country           joined_at  revenue  \\\n",
       "0  891345942.0                     Italy 2017-05-11 13:00:00  12909.0   \n",
       "1  892054251.0  United States of America 2017-10-22 00:33:00  13923.0   \n",
       "2  892236423.0  United States of America 2017-10-18 01:09:00   3783.0   \n",
       "4  892168170.0  United States of America 2017-10-19 17:10:00   9087.0   \n",
       "5  892426491.0  United States of America 2017-10-14 10:13:00  12597.0   \n",
       "\n",
       "   weeks_until_payment  age  gender  was_premium  is_premium  total_revenue  \\\n",
       "0                   27   52       1          1.0         1.0        12909.0   \n",
       "1                    1   37       1          1.0         1.0        13923.0   \n",
       "2                    1   23       1          1.0         1.0        95823.0   \n",
       "4                    1   29       1          1.0         1.0        15392.0   \n",
       "5                    0   48       1          1.0         0.0        12597.0   \n",
       "\n",
       "  group  coins  \n",
       "0  test    0.0  \n",
       "1  test    0.0  \n",
       "2  test  378.0  \n",
       "4  test    4.0  \n",
       "5  test    0.0  "
      ]
     },
     "execution_count": 407,
     "metadata": {},
     "output_type": "execute_result"
    }
   ],
   "source": [
    "revenue_per_user.head()"
   ]
  },
  {
   "cell_type": "code",
   "execution_count": 408,
   "metadata": {
    "scrolled": false
   },
   "outputs": [
    {
     "data": {
      "image/png": "[encoded data removed]",
      "text/plain": [
       "<Figure size 720x360 with 1 Axes>"
      ]
     },
     "metadata": {
      "needs_background": "light"
     },
     "output_type": "display_data"
    }
   ],
   "source": [
    "plt.figure(figsize = (10, 5))\n",
    "sns.histplot(data = revenue_per_user[revenue_per_user.group == 'test'],\\\n",
    "             x = 'total_revenue', \\\n",
    "             color = group_colors['test'])\n",
    "plt.xlabel(\"Subscription revenue per user\", size=12)\n",
    "plt.ylabel(\"Number of users\", size=12)\n",
    "plt.title('Subscription revenue in test group', pad = 20, size = 14)\n",
    "sns.despine()"
   ]
  },
  {
   "cell_type": "code",
   "execution_count": 409,
   "metadata": {},
   "outputs": [
    {
     "data": {
      "text/plain": [
       "count       146.000000\n",
       "mean      15759.027397\n",
       "std       18058.118399\n",
       "min         624.000000\n",
       "25%        8248.500000\n",
       "50%       12727.000000\n",
       "75%       16428.750000\n",
       "max      129870.000000\n",
       "Name: total_revenue, dtype: float64"
      ]
     },
     "execution_count": 409,
     "metadata": {},
     "output_type": "execute_result"
    }
   ],
   "source": [
    "revenue_per_user[revenue_per_user.group == 'test'].total_revenue.describe()"
   ]
  },
  {
   "cell_type": "code",
   "execution_count": 410,
   "metadata": {
    "scrolled": false
   },
   "outputs": [
    {
     "data": {
      "image/png": "[encoded data removed]",
      "text/plain": [
       "<Figure size 1080x360 with 1 Axes>"
      ]
     },
     "metadata": {
      "needs_background": "light"
     },
     "output_type": "display_data"
    }
   ],
   "source": [
    "plt.figure(figsize = (15, 5))\n",
    "sns.histplot(data = revenue_per_user[revenue_per_user.group == 'control_1'], \\\n",
    "             x = 'total_revenue', \\\n",
    "             color = group_colors['cont_1'])\n",
    "plt.xlabel(\"Subscription revenue per user\", size=12)\n",
    "plt.ylabel(\"Number of users\", size=12)\n",
    "plt.title('Subscription revenue in control 1 group', pad = 20, size = 14)\n",
    "sns.despine()"
   ]
  },
  {
   "cell_type": "code",
   "execution_count": 411,
   "metadata": {},
   "outputs": [
    {
     "data": {
      "text/plain": [
       "count       192.000000\n",
       "mean      13601.588542\n",
       "std       35726.471481\n",
       "min         728.000000\n",
       "25%        6292.000000\n",
       "50%        9639.500000\n",
       "75%       12889.500000\n",
       "max      486330.000000\n",
       "Name: total_revenue, dtype: float64"
      ]
     },
     "execution_count": 411,
     "metadata": {},
     "output_type": "execute_result"
    }
   ],
   "source": [
    "revenue_per_user[revenue_per_user.group == 'control_1'].total_revenue.describe()"
   ]
  },
  {
   "cell_type": "code",
   "execution_count": 412,
   "metadata": {
    "scrolled": false
   },
   "outputs": [
    {
     "data": {
      "image/png": "[encoded data removed]",
      "text/plain": [
       "<Figure size 720x360 with 1 Axes>"
      ]
     },
     "metadata": {
      "needs_background": "light"
     },
     "output_type": "display_data"
    }
   ],
   "source": [
    "plt.figure(figsize = (10, 5))\n",
    "sns.histplot(data = revenue_per_user[revenue_per_user.group == 'control_2'], x = 'total_revenue', color = group_colors['cont_2'])\n",
    "plt.xlabel(\"Subscription revenue per user\", size=12)\n",
    "plt.ylabel(\"Number of users\", size=12)\n",
    "plt.title('Subscription revenue in control 2 group', pad = 20, size = 14)\n",
    "sns.despine()"
   ]
  },
  {
   "cell_type": "code",
   "execution_count": 413,
   "metadata": {},
   "outputs": [
    {
     "data": {
      "text/plain": [
       "count      187.000000\n",
       "mean     10269.721925\n",
       "std       9272.960475\n",
       "min        481.000000\n",
       "25%       6064.500000\n",
       "50%       7969.000000\n",
       "75%      12727.000000\n",
       "max      81796.000000\n",
       "Name: total_revenue, dtype: float64"
      ]
     },
     "execution_count": 413,
     "metadata": {},
     "output_type": "execute_result"
    }
   ],
   "source": [
    "revenue_per_user[revenue_per_user.group == 'control_2'].total_revenue.describe()"
   ]
  },
  {
   "cell_type": "markdown",
   "metadata": {},
   "source": [
    "### Дубликаты и выбросы\n",
    "\n",
    "Необходимо понять природу сильных выбросов (в особенности в первой контрольной группе) для предупреждения ошибок при проведении статистического анализа.\n",
    "\n",
    "- Смотрим на записи в группе control_1, которые привели к наличию сильных выбросов\n",
    "- Убеждаемся, что на наличие 'этих выбросов повлиял один уникальный пользователь"
   ]
  },
  {
   "cell_type": "code",
   "execution_count": 414,
   "metadata": {},
   "outputs": [
    {
     "data": {
      "text/html": [
       "<div>\n",
       "<style scoped>\n",
       "    .dataframe tbody tr th:only-of-type {\n",
       "        vertical-align: middle;\n",
       "    }\n",
       "\n",
       "    .dataframe tbody tr th {\n",
       "        vertical-align: top;\n",
       "    }\n",
       "\n",
       "    .dataframe thead th {\n",
       "        text-align: right;\n",
       "    }\n",
       "</style>\n",
       "<table border=\"1\" class=\"dataframe\">\n",
       "  <thead>\n",
       "    <tr style=\"text-align: right;\">\n",
       "      <th></th>\n",
       "      <th>uid</th>\n",
       "      <th>country</th>\n",
       "      <th>joined_at</th>\n",
       "      <th>paid_at</th>\n",
       "      <th>revenue</th>\n",
       "      <th>payment_id</th>\n",
       "      <th>from_page</th>\n",
       "      <th>product_type</th>\n",
       "      <th>weeks_until_payment</th>\n",
       "      <th>age</th>\n",
       "      <th>gender</th>\n",
       "      <th>was_premium</th>\n",
       "      <th>is_premium</th>\n",
       "      <th>total_revenue</th>\n",
       "      <th>group</th>\n",
       "      <th>coins</th>\n",
       "    </tr>\n",
       "  </thead>\n",
       "  <tbody>\n",
       "    <tr>\n",
       "      <th>322</th>\n",
       "      <td>892333905.0</td>\n",
       "      <td>Italy</td>\n",
       "      <td>2017-10-16 01:38:00</td>\n",
       "      <td>2017-10-16 01:42:00</td>\n",
       "      <td>3783.0</td>\n",
       "      <td>67.0</td>\n",
       "      <td>menu</td>\n",
       "      <td>other_type</td>\n",
       "      <td>0</td>\n",
       "      <td>22</td>\n",
       "      <td>1</td>\n",
       "      <td>1.0</td>\n",
       "      <td>1.0</td>\n",
       "      <td>486330.0</td>\n",
       "      <td>control_1</td>\n",
       "      <td>3608.0</td>\n",
       "    </tr>\n",
       "    <tr>\n",
       "      <th>286</th>\n",
       "      <td>892333905.0</td>\n",
       "      <td>Italy</td>\n",
       "      <td>2017-10-16 01:38:00</td>\n",
       "      <td>2017-10-16 01:44:00</td>\n",
       "      <td>3783.0</td>\n",
       "      <td>67.0</td>\n",
       "      <td>menu</td>\n",
       "      <td>other_type</td>\n",
       "      <td>0</td>\n",
       "      <td>22</td>\n",
       "      <td>1</td>\n",
       "      <td>1.0</td>\n",
       "      <td>1.0</td>\n",
       "      <td>486330.0</td>\n",
       "      <td>control_1</td>\n",
       "      <td>3608.0</td>\n",
       "    </tr>\n",
       "    <tr>\n",
       "      <th>320</th>\n",
       "      <td>892333905.0</td>\n",
       "      <td>Italy</td>\n",
       "      <td>2017-10-16 01:38:00</td>\n",
       "      <td>2017-10-16 01:44:00</td>\n",
       "      <td>3783.0</td>\n",
       "      <td>67.0</td>\n",
       "      <td>menu</td>\n",
       "      <td>other_type</td>\n",
       "      <td>0</td>\n",
       "      <td>22</td>\n",
       "      <td>1</td>\n",
       "      <td>1.0</td>\n",
       "      <td>1.0</td>\n",
       "      <td>486330.0</td>\n",
       "      <td>control_1</td>\n",
       "      <td>3608.0</td>\n",
       "    </tr>\n",
       "    <tr>\n",
       "      <th>442</th>\n",
       "      <td>892333905.0</td>\n",
       "      <td>Italy</td>\n",
       "      <td>2017-10-16 01:38:00</td>\n",
       "      <td>2017-10-16 01:44:00</td>\n",
       "      <td>3783.0</td>\n",
       "      <td>67.0</td>\n",
       "      <td>menu</td>\n",
       "      <td>other_type</td>\n",
       "      <td>0</td>\n",
       "      <td>22</td>\n",
       "      <td>1</td>\n",
       "      <td>1.0</td>\n",
       "      <td>1.0</td>\n",
       "      <td>486330.0</td>\n",
       "      <td>control_1</td>\n",
       "      <td>3608.0</td>\n",
       "    </tr>\n",
       "    <tr>\n",
       "      <th>301</th>\n",
       "      <td>892333905.0</td>\n",
       "      <td>Italy</td>\n",
       "      <td>2017-10-16 01:38:00</td>\n",
       "      <td>2017-10-16 01:57:00</td>\n",
       "      <td>3783.0</td>\n",
       "      <td>67.0</td>\n",
       "      <td>empty_admins</td>\n",
       "      <td>other_type</td>\n",
       "      <td>0</td>\n",
       "      <td>22</td>\n",
       "      <td>1</td>\n",
       "      <td>1.0</td>\n",
       "      <td>1.0</td>\n",
       "      <td>486330.0</td>\n",
       "      <td>control_1</td>\n",
       "      <td>3608.0</td>\n",
       "    </tr>\n",
       "  </tbody>\n",
       "</table>\n",
       "</div>"
      ],
      "text/plain": [
       "             uid country           joined_at             paid_at  revenue  \\\n",
       "322  892333905.0   Italy 2017-10-16 01:38:00 2017-10-16 01:42:00   3783.0   \n",
       "286  892333905.0   Italy 2017-10-16 01:38:00 2017-10-16 01:44:00   3783.0   \n",
       "320  892333905.0   Italy 2017-10-16 01:38:00 2017-10-16 01:44:00   3783.0   \n",
       "442  892333905.0   Italy 2017-10-16 01:38:00 2017-10-16 01:44:00   3783.0   \n",
       "301  892333905.0   Italy 2017-10-16 01:38:00 2017-10-16 01:57:00   3783.0   \n",
       "\n",
       "     payment_id     from_page product_type  weeks_until_payment  age  gender  \\\n",
       "322        67.0          menu   other_type                    0   22       1   \n",
       "286        67.0          menu   other_type                    0   22       1   \n",
       "320        67.0          menu   other_type                    0   22       1   \n",
       "442        67.0          menu   other_type                    0   22       1   \n",
       "301        67.0  empty_admins   other_type                    0   22       1   \n",
       "\n",
       "     was_premium  is_premium  total_revenue      group   coins  \n",
       "322          1.0         1.0       486330.0  control_1  3608.0  \n",
       "286          1.0         1.0       486330.0  control_1  3608.0  \n",
       "320          1.0         1.0       486330.0  control_1  3608.0  \n",
       "442          1.0         1.0       486330.0  control_1  3608.0  \n",
       "301          1.0         1.0       486330.0  control_1  3608.0  "
      ]
     },
     "execution_count": 414,
     "metadata": {},
     "output_type": "execute_result"
    }
   ],
   "source": [
    "transactions_data[transactions_data.total_revenue > 400000].sort_values('paid_at').head()"
   ]
  },
  {
   "cell_type": "code",
   "execution_count": 415,
   "metadata": {},
   "outputs": [
    {
     "data": {
      "text/plain": [
       "1"
      ]
     },
     "execution_count": 415,
     "metadata": {},
     "output_type": "execute_result"
    }
   ],
   "source": [
    "transactions_data[transactions_data.total_revenue > 400000].uid.nunique()"
   ]
  },
  {
   "cell_type": "markdown",
   "metadata": {},
   "source": [
    "- Посмотрим, есть ли дубликаты, которые могли возникнуть по ошибке при записи данных.  \n",
    "- Ищем записи, которые совпадают по параметрам **paid_at, revenue, payment_id, from_page, product_type,** поскольку это будет свидетельствовать о возможной ошибке при записи в данных.  \n",
    "- Видим, что даже для этого пользователя такие записи есть ( только 19 строк из 27, приходящиеся на данного пользователя, уникальные).   \n",
    "- Имеет смысл пройтись по всему набору данных и удалить подобные дубликаты."
   ]
  },
  {
   "cell_type": "code",
   "execution_count": 416,
   "metadata": {},
   "outputs": [
    {
     "data": {
      "text/plain": [
       "19"
      ]
     },
     "execution_count": 416,
     "metadata": {},
     "output_type": "execute_result"
    }
   ],
   "source": [
    "transactions_data.query('uid == 892333905.0') \\\n",
    "                .groupby(['paid_at', 'revenue', 'payment_id','from_page','product_type']) \\\n",
    "                .agg({'uid': 'count'}).shape[0]"
   ]
  },
  {
   "cell_type": "code",
   "execution_count": 417,
   "metadata": {},
   "outputs": [
    {
     "data": {
      "text/plain": [
       "27"
      ]
     },
     "execution_count": 417,
     "metadata": {},
     "output_type": "execute_result"
    }
   ],
   "source": [
    "transactions_data[transactions_data.total_revenue > 400000].shape[0]"
   ]
  },
  {
   "cell_type": "code",
   "execution_count": 418,
   "metadata": {},
   "outputs": [],
   "source": [
    "transactions_data = transactions_data.drop_duplicates(['uid', 'paid_at', 'revenue', 'from_page', 'payment_id', 'product_type'])"
   ]
  },
  {
   "cell_type": "markdown",
   "metadata": {},
   "source": [
    "- После удаления дубликатов создаем датасет **bags_revenue**, в котором будут записи о все пользователях, значение агрегированного revenue для которых не совпадает с total_revenue.  \n",
    "- Проходимся по этому датасету и для всех попавших в него uid меняем значение total_revenue в датасете transactions_data."
   ]
  },
  {
   "cell_type": "code",
   "execution_count": 419,
   "metadata": {},
   "outputs": [
    {
     "data": {
      "text/html": [
       "<div>\n",
       "<style scoped>\n",
       "    .dataframe tbody tr th:only-of-type {\n",
       "        vertical-align: middle;\n",
       "    }\n",
       "\n",
       "    .dataframe tbody tr th {\n",
       "        vertical-align: top;\n",
       "    }\n",
       "\n",
       "    .dataframe thead th {\n",
       "        text-align: right;\n",
       "    }\n",
       "</style>\n",
       "<table border=\"1\" class=\"dataframe\">\n",
       "  <thead>\n",
       "    <tr style=\"text-align: right;\">\n",
       "      <th></th>\n",
       "      <th>uid</th>\n",
       "      <th>revenue</th>\n",
       "      <th>total_revenue</th>\n",
       "      <th>group</th>\n",
       "    </tr>\n",
       "  </thead>\n",
       "  <tbody>\n",
       "    <tr>\n",
       "      <th>47</th>\n",
       "      <td>891252072.0</td>\n",
       "      <td>7553.0</td>\n",
       "      <td>8814.0</td>\n",
       "      <td>control_1</td>\n",
       "    </tr>\n",
       "    <tr>\n",
       "      <th>89</th>\n",
       "      <td>891320916.0</td>\n",
       "      <td>10075.0</td>\n",
       "      <td>13858.0</td>\n",
       "      <td>control_1</td>\n",
       "    </tr>\n",
       "    <tr>\n",
       "      <th>110</th>\n",
       "      <td>891365490.0</td>\n",
       "      <td>8814.0</td>\n",
       "      <td>10075.0</td>\n",
       "      <td>control_1</td>\n",
       "    </tr>\n",
       "    <tr>\n",
       "      <th>114</th>\n",
       "      <td>891367521.0</td>\n",
       "      <td>16081.0</td>\n",
       "      <td>20462.0</td>\n",
       "      <td>control_1</td>\n",
       "    </tr>\n",
       "    <tr>\n",
       "      <th>137</th>\n",
       "      <td>891452706.0</td>\n",
       "      <td>12597.0</td>\n",
       "      <td>18902.0</td>\n",
       "      <td>control_1</td>\n",
       "    </tr>\n",
       "  </tbody>\n",
       "</table>\n",
       "</div>"
      ],
      "text/plain": [
       "             uid  revenue  total_revenue      group\n",
       "47   891252072.0   7553.0         8814.0  control_1\n",
       "89   891320916.0  10075.0        13858.0  control_1\n",
       "110  891365490.0   8814.0        10075.0  control_1\n",
       "114  891367521.0  16081.0        20462.0  control_1\n",
       "137  891452706.0  12597.0        18902.0  control_1"
      ]
     },
     "execution_count": 419,
     "metadata": {},
     "output_type": "execute_result"
    }
   ],
   "source": [
    "bags_revenue = transactions_data.groupby('uid', as_index = False) \\\n",
    "                    .agg({'revenue': 'sum', 'total_revenue': 'max', 'group': 'max'}) \\\n",
    "                    .query('total_revenue != revenue')\n",
    "bags_revenue.head()"
   ]
  },
  {
   "cell_type": "code",
   "execution_count": 420,
   "metadata": {},
   "outputs": [],
   "source": [
    "for uid in bags_revenue['uid']:\n",
    "    transactions_data.loc[transactions_data['uid'] == uid, 'total_revenue'] = \\\n",
    "    float(bags_revenue[bags_revenue.uid == uid]['revenue'])\n",
    "revenue_per_user = transactions_data.drop_duplicates('uid')"
   ]
  },
  {
   "cell_type": "markdown",
   "metadata": {},
   "source": [
    "Учитываем, что проблема может быть не только в наличии дубликатов, посмотрим в какие даты пользователь uid = 892333905.0 совершал покупки.  \n",
    "Видим, что 15 раз пользователь оплачивал покупки 16.10.2017 - в день своей регистрации в приложении."
   ]
  },
  {
   "cell_type": "code",
   "execution_count": 421,
   "metadata": {},
   "outputs": [
    {
     "data": {
      "text/plain": [
       "2017-10-16    15\n",
       "2017-10-17     4\n",
       "Name: paid_at, dtype: int64"
      ]
     },
     "execution_count": 421,
     "metadata": {},
     "output_type": "execute_result"
    }
   ],
   "source": [
    "transactions_data[transactions_data.total_revenue > 400000].paid_at.dt.date.value_counts()"
   ]
  },
  {
   "cell_type": "markdown",
   "metadata": {},
   "source": [
    "**Причины для удаления записей о пользователе:**\n",
    " - Человек проявлял подозрительную активность только в первые 2 суток регистрации\n",
    " - Он является единственным пользователем, который стал причиной экстремально сильных выбросов не только среди пользователей первой контрольной группы, но и всех пользователей в целом\n",
    " - По результатам графиков в разделе анализа аудитории видим, что из Италии около 1000 пользователей, но такое поведение ни у кого больше не наблюдается\n",
    " - Не совсем понятно, что послужило причиной такому поведению\n",
    " - Пользователь расплачивался преимущественно внутренней валютой\n",
    " - Нельзя сделать вывод, какие записи о пользователе можно оставить (человек мог просто тестировать все возможностит взаимодействия в приложении за внутреннюю валюту)\n",
    " \n",
    " Удаляем записи и строим новый график распределения для контрольной группы 2"
   ]
  },
  {
   "cell_type": "code",
   "execution_count": 422,
   "metadata": {},
   "outputs": [],
   "source": [
    "transactions_data = transactions_data.query('uid != 892333905.0')"
   ]
  },
  {
   "cell_type": "code",
   "execution_count": 423,
   "metadata": {},
   "outputs": [],
   "source": [
    "# Обновим датасет revenue_per_user, он зависел от transactions_data\n",
    "revenue_per_user = transactions_data.drop_duplicates('uid')"
   ]
  },
  {
   "cell_type": "code",
   "execution_count": 424,
   "metadata": {},
   "outputs": [
    {
     "data": {
      "image/png": "[encoded data removed]",
      "text/plain": [
       "<Figure size 720x360 with 1 Axes>"
      ]
     },
     "metadata": {
      "needs_background": "light"
     },
     "output_type": "display_data"
    }
   ],
   "source": [
    "plt.figure(figsize = (10, 5))\n",
    "sns.histplot(data = revenue_per_user[revenue_per_user.group == 'control_1'], \\\n",
    "             x = 'total_revenue', \\\n",
    "             color = group_colors['cont_1'])\n",
    "plt.xlabel(\"Subscription revenue per user\", size=12)\n",
    "plt.ylabel(\"Number of users\", size=12)\n",
    "plt.title('Subscription revenue in control 1 group without outliers', pad = 20, size = 14)\n",
    "sns.despine()"
   ]
  },
  {
   "cell_type": "markdown",
   "metadata": {},
   "source": [
    "**Проанализируем выбросы total revenue в тестовой группе**\n",
    " - Посмотрим на записи о покупках, которые возможно стали причиной таких больших значений по полю total_revenue\n",
    " - По полю product_type\tвидим, что пользователи оформляли премиум подписку и заплатили одинаковую сумму\n",
    " - Даты оплаты разные, оставляем записи об этих пользователях, поскольку ничего подозрительного в записях не обнаружено"
   ]
  },
  {
   "cell_type": "code",
   "execution_count": 425,
   "metadata": {
    "scrolled": true
   },
   "outputs": [
    {
     "name": "stderr",
     "output_type": "stream",
     "text": [
      "/opt/tljh/user/lib/python3.7/site-packages/ipykernel_launcher.py:2: UserWarning: Boolean Series key will be reindexed to match DataFrame index.\n",
      "  \n"
     ]
    },
    {
     "data": {
      "text/html": [
       "<div>\n",
       "<style scoped>\n",
       "    .dataframe tbody tr th:only-of-type {\n",
       "        vertical-align: middle;\n",
       "    }\n",
       "\n",
       "    .dataframe tbody tr th {\n",
       "        vertical-align: top;\n",
       "    }\n",
       "\n",
       "    .dataframe thead th {\n",
       "        text-align: right;\n",
       "    }\n",
       "</style>\n",
       "<table border=\"1\" class=\"dataframe\">\n",
       "  <thead>\n",
       "    <tr style=\"text-align: right;\">\n",
       "      <th></th>\n",
       "      <th>uid</th>\n",
       "      <th>country</th>\n",
       "      <th>joined_at</th>\n",
       "      <th>paid_at</th>\n",
       "      <th>revenue</th>\n",
       "      <th>payment_id</th>\n",
       "      <th>from_page</th>\n",
       "      <th>product_type</th>\n",
       "      <th>weeks_until_payment</th>\n",
       "      <th>age</th>\n",
       "      <th>gender</th>\n",
       "      <th>was_premium</th>\n",
       "      <th>is_premium</th>\n",
       "      <th>total_revenue</th>\n",
       "      <th>group</th>\n",
       "      <th>coins</th>\n",
       "    </tr>\n",
       "  </thead>\n",
       "  <tbody>\n",
       "    <tr>\n",
       "      <th>12</th>\n",
       "      <td>891178380.0</td>\n",
       "      <td>Spain</td>\n",
       "      <td>2017-08-11 03:54:00</td>\n",
       "      <td>2017-09-11 21:53:00</td>\n",
       "      <td>113477.0</td>\n",
       "      <td>147.0</td>\n",
       "      <td>promo_09</td>\n",
       "      <td>premium_no_trial</td>\n",
       "      <td>4</td>\n",
       "      <td>42</td>\n",
       "      <td>1</td>\n",
       "      <td>1.0</td>\n",
       "      <td>1.0</td>\n",
       "      <td>129870.0</td>\n",
       "      <td>test</td>\n",
       "      <td>85.0</td>\n",
       "    </tr>\n",
       "    <tr>\n",
       "      <th>196</th>\n",
       "      <td>892038759.0</td>\n",
       "      <td>United Arab Emirates</td>\n",
       "      <td>2017-10-22 11:12:00</td>\n",
       "      <td>2017-10-22 16:23:00</td>\n",
       "      <td>113477.0</td>\n",
       "      <td>147.0</td>\n",
       "      <td>autoreply_message</td>\n",
       "      <td>premium_no_trial</td>\n",
       "      <td>0</td>\n",
       "      <td>26</td>\n",
       "      <td>1</td>\n",
       "      <td>1.0</td>\n",
       "      <td>1.0</td>\n",
       "      <td>123565.0</td>\n",
       "      <td>test</td>\n",
       "      <td>3.0</td>\n",
       "    </tr>\n",
       "  </tbody>\n",
       "</table>\n",
       "</div>"
      ],
      "text/plain": [
       "             uid               country           joined_at  \\\n",
       "12   891178380.0                 Spain 2017-08-11 03:54:00   \n",
       "196  892038759.0  United Arab Emirates 2017-10-22 11:12:00   \n",
       "\n",
       "                paid_at   revenue  payment_id          from_page  \\\n",
       "12  2017-09-11 21:53:00  113477.0       147.0           promo_09   \n",
       "196 2017-10-22 16:23:00  113477.0       147.0  autoreply_message   \n",
       "\n",
       "         product_type  weeks_until_payment  age  gender  was_premium  \\\n",
       "12   premium_no_trial                    4   42       1          1.0   \n",
       "196  premium_no_trial                    0   26       1          1.0   \n",
       "\n",
       "     is_premium  total_revenue group  coins  \n",
       "12          1.0       129870.0  test   85.0  \n",
       "196         1.0       123565.0  test    3.0  "
      ]
     },
     "execution_count": 425,
     "metadata": {},
     "output_type": "execute_result"
    }
   ],
   "source": [
    "transactions_data.query('group == \"test\"') \\\n",
    "                [transactions_data.total_revenue > 120000] \\\n",
    "                .sort_values('revenue', ascending = False) \\\n",
    "                .drop_duplicates('uid')"
   ]
  },
  {
   "cell_type": "markdown",
   "metadata": {},
   "source": [
    "- Похожие записи обнаруживаем во второй контрольной группе  "
   ]
  },
  {
   "cell_type": "code",
   "execution_count": 426,
   "metadata": {
    "scrolled": false
   },
   "outputs": [
    {
     "name": "stderr",
     "output_type": "stream",
     "text": [
      "/opt/tljh/user/lib/python3.7/site-packages/ipykernel_launcher.py:2: UserWarning: Boolean Series key will be reindexed to match DataFrame index.\n",
      "  \n"
     ]
    },
    {
     "data": {
      "text/html": [
       "<div>\n",
       "<style scoped>\n",
       "    .dataframe tbody tr th:only-of-type {\n",
       "        vertical-align: middle;\n",
       "    }\n",
       "\n",
       "    .dataframe tbody tr th {\n",
       "        vertical-align: top;\n",
       "    }\n",
       "\n",
       "    .dataframe thead th {\n",
       "        text-align: right;\n",
       "    }\n",
       "</style>\n",
       "<table border=\"1\" class=\"dataframe\">\n",
       "  <thead>\n",
       "    <tr style=\"text-align: right;\">\n",
       "      <th></th>\n",
       "      <th>uid</th>\n",
       "      <th>country</th>\n",
       "      <th>joined_at</th>\n",
       "      <th>paid_at</th>\n",
       "      <th>revenue</th>\n",
       "      <th>payment_id</th>\n",
       "      <th>from_page</th>\n",
       "      <th>product_type</th>\n",
       "      <th>weeks_until_payment</th>\n",
       "      <th>age</th>\n",
       "      <th>gender</th>\n",
       "      <th>was_premium</th>\n",
       "      <th>is_premium</th>\n",
       "      <th>total_revenue</th>\n",
       "      <th>group</th>\n",
       "      <th>coins</th>\n",
       "    </tr>\n",
       "  </thead>\n",
       "  <tbody>\n",
       "    <tr>\n",
       "      <th>672</th>\n",
       "      <td>892307238.0</td>\n",
       "      <td>Spain</td>\n",
       "      <td>2017-10-16 16:01:00</td>\n",
       "      <td>2017-10-16 20:41:00</td>\n",
       "      <td>63037.0</td>\n",
       "      <td>147.0</td>\n",
       "      <td>left_sidebar_menu</td>\n",
       "      <td>premium_no_trial</td>\n",
       "      <td>0</td>\n",
       "      <td>29</td>\n",
       "      <td>1</td>\n",
       "      <td>1.0</td>\n",
       "      <td>1.0</td>\n",
       "      <td>75647.0</td>\n",
       "      <td>control_2</td>\n",
       "      <td>43.0</td>\n",
       "    </tr>\n",
       "    <tr>\n",
       "      <th>697</th>\n",
       "      <td>891778551.0</td>\n",
       "      <td>United Arab Emirates</td>\n",
       "      <td>2017-10-27 21:26:00</td>\n",
       "      <td>2017-10-27 22:30:00</td>\n",
       "      <td>81796.0</td>\n",
       "      <td>147.0</td>\n",
       "      <td>left_sidebar_menu</td>\n",
       "      <td>premium_no_trial</td>\n",
       "      <td>0</td>\n",
       "      <td>30</td>\n",
       "      <td>1</td>\n",
       "      <td>1.0</td>\n",
       "      <td>1.0</td>\n",
       "      <td>81796.0</td>\n",
       "      <td>control_2</td>\n",
       "      <td>0.0</td>\n",
       "    </tr>\n",
       "  </tbody>\n",
       "</table>\n",
       "</div>"
      ],
      "text/plain": [
       "             uid               country           joined_at  \\\n",
       "672  892307238.0                 Spain 2017-10-16 16:01:00   \n",
       "697  891778551.0  United Arab Emirates 2017-10-27 21:26:00   \n",
       "\n",
       "                paid_at  revenue  payment_id          from_page  \\\n",
       "672 2017-10-16 20:41:00  63037.0       147.0  left_sidebar_menu   \n",
       "697 2017-10-27 22:30:00  81796.0       147.0  left_sidebar_menu   \n",
       "\n",
       "         product_type  weeks_until_payment  age  gender  was_premium  \\\n",
       "672  premium_no_trial                    0   29       1          1.0   \n",
       "697  premium_no_trial                    0   30       1          1.0   \n",
       "\n",
       "     is_premium  total_revenue      group  coins  \n",
       "672         1.0        75647.0  control_2   43.0  \n",
       "697         1.0        81796.0  control_2    0.0  "
      ]
     },
     "execution_count": 426,
     "metadata": {},
     "output_type": "execute_result"
    }
   ],
   "source": [
    "transactions_data.query('group == \"control_2\"') \\\n",
    "                [transactions_data.total_revenue > 70000] \\\n",
    "                .sort_values(['uid','revenue'], ascending = False) \\\n",
    "                .drop_duplicates('uid')"
   ]
  },
  {
   "cell_type": "markdown",
   "metadata": {},
   "source": [
    "Почему доход от некоторых пользователей по премиум подписке настолько сильно отличается, утверждать нельзя.\n",
    "Если в приложении есть опция оплаты за год пользования, пользователи могли ею воспользоваться."
   ]
  },
  {
   "cell_type": "markdown",
   "metadata": {},
   "source": [
    "## A/A тест\n",
    "Чтобы проверить качество системы сплитования трафика и убедиться, что статистически значимые различия не будут возникать из-за технических проблем, проведем А/А тесты на метриках:\n",
    "1. Доход от транзакции\n",
    "2. Наличие премиум подписки"
   ]
  },
  {
   "cell_type": "markdown",
   "metadata": {},
   "source": [
    "Напишем функцию для А/А теста.  \n",
    "Количество значений в выборках будет определеляться процентами (значение n_s).  \n",
    "\n",
    "Количество симуляций и значений в выборках подбираем эмпирически.\n",
    "\n",
    "**H0 для t-теста, реализуемого в функции** - средние в выборках не имеют статистически значимых различий "
   ]
  },
  {
   "cell_type": "code",
   "execution_count": 427,
   "metadata": {},
   "outputs": [],
   "source": [
    "def aa_test_revenue(data, column, n_perc, sim):\n",
    "    n_s = int(n_perc * data.shape[0])\n",
    "    res = []\n",
    "    for s in range(sim):\n",
    "        sample1 = data[column].sample(n_s, replace = False).values\n",
    "        sample2 = data[column].sample(n_s, replace = False).values\n",
    "        res.append(stats.ttest_ind(sample1, sample2, equal_var = False)[1])\n",
    "    \n",
    "    plt.hist(res, bins = 50)\n",
    "    plt.style.use('ggplot')\n",
    "    plt.xlabel('pvalues')\n",
    "    plt.ylabel('frequency')\n",
    "    plt.title(f\"Histogram of A/A ttest simulations for {column} samples\")\n",
    "    plt.show()\n",
    "    \n",
    "    print(f'FPR(p < 0.05) = {sum(np.array(res) <0.05) / sim}','\\n',\n",
    "          f'FPR(p < 0.1) = {sum(np.array(res) <0.1) / sim}')\n",
    "    "
   ]
  },
  {
   "cell_type": "markdown",
   "metadata": {},
   "source": [
    "**Применяем функцию для тестовой группы:**\n",
    "1. Доход\n",
    "2. Наличие подписки"
   ]
  },
  {
   "cell_type": "code",
   "execution_count": 428,
   "metadata": {
    "scrolled": false
   },
   "outputs": [
    {
     "data": {
      "image/png": "[encoded data removed]",
      "text/plain": [
       "<Figure size 432x288 with 1 Axes>"
      ]
     },
     "metadata": {
      "needs_background": "light"
     },
     "output_type": "display_data"
    },
    {
     "name": "stdout",
     "output_type": "stream",
     "text": [
      "FPR(p < 0.05) = 0.0106 \n",
      " FPR(p < 0.1) = 0.036\n"
     ]
    }
   ],
   "source": [
    "aa_test_revenue(transactions_test, 'revenue', 0.4, 5000)"
   ]
  },
  {
   "cell_type": "code",
   "execution_count": 429,
   "metadata": {},
   "outputs": [
    {
     "data": {
      "image/png": "[encoded data removed]",
      "text/plain": [
       "<Figure size 432x288 with 1 Axes>"
      ]
     },
     "metadata": {},
     "output_type": "display_data"
    },
    {
     "name": "stdout",
     "output_type": "stream",
     "text": [
      "FPR(p < 0.05) = 0.0188 \n",
      " FPR(p < 0.1) = 0.0464\n"
     ]
    }
   ],
   "source": [
    "aa_test_revenue(users_test, 'is_premium', 0.3, 5000)"
   ]
  },
  {
   "cell_type": "markdown",
   "metadata": {},
   "source": [
    "**Первая контрольная группа**\n",
    "1. Доход\n",
    "2. Наличие подписки"
   ]
  },
  {
   "cell_type": "code",
   "execution_count": 430,
   "metadata": {},
   "outputs": [
    {
     "data": {
      "image/png": "[encoded data removed]",
      "text/plain": [
       "<Figure size 432x288 with 1 Axes>"
      ]
     },
     "metadata": {},
     "output_type": "display_data"
    },
    {
     "name": "stdout",
     "output_type": "stream",
     "text": [
      "FPR(p < 0.05) = 0.0112 \n",
      " FPR(p < 0.1) = 0.0314\n"
     ]
    }
   ],
   "source": [
    "aa_test_revenue(transactions_control_1, 'revenue',  0.4, 5000)"
   ]
  },
  {
   "cell_type": "code",
   "execution_count": 431,
   "metadata": {},
   "outputs": [
    {
     "data": {
      "image/png": "[encoded data removed]",
      "text/plain": [
       "<Figure size 432x288 with 1 Axes>"
      ]
     },
     "metadata": {},
     "output_type": "display_data"
    },
    {
     "name": "stdout",
     "output_type": "stream",
     "text": [
      "FPR(p < 0.05) = 0.0208 \n",
      " FPR(p < 0.1) = 0.0488\n"
     ]
    }
   ],
   "source": [
    "aa_test_revenue(users_control_1, 'is_premium', 0.3, 5000)"
   ]
  },
  {
   "cell_type": "markdown",
   "metadata": {},
   "source": [
    "**Вторая контрольная группа**\n",
    "1. Доход\n",
    "2. Наличие подписки"
   ]
  },
  {
   "cell_type": "code",
   "execution_count": 432,
   "metadata": {},
   "outputs": [
    {
     "data": {
      "image/png": "[encoded data removed]",
      "text/plain": [
       "<Figure size 432x288 with 1 Axes>"
      ]
     },
     "metadata": {},
     "output_type": "display_data"
    },
    {
     "name": "stdout",
     "output_type": "stream",
     "text": [
      "FPR(p < 0.05) = 0.0082 \n",
      " FPR(p < 0.1) = 0.0302\n"
     ]
    }
   ],
   "source": [
    "aa_test_revenue(transactions_control_2, 'revenue',  0.4, 5000)"
   ]
  },
  {
   "cell_type": "code",
   "execution_count": 433,
   "metadata": {},
   "outputs": [
    {
     "data": {
      "image/png": "[encoded data removed]",
      "text/plain": [
       "<Figure size 432x288 with 1 Axes>"
      ]
     },
     "metadata": {},
     "output_type": "display_data"
    },
    {
     "name": "stdout",
     "output_type": "stream",
     "text": [
      "FPR(p < 0.05) = 0.019 \n",
      " FPR(p < 0.1) = 0.0416\n"
     ]
    }
   ],
   "source": [
    "aa_test_revenue(users_control_2, 'is_premium', 0.3, 5000)"
   ]
  },
  {
   "cell_type": "markdown",
   "metadata": {},
   "source": [
    "**Вывод:**  \n",
    "Система сплитования не сломана и можно проводить А/В тест."
   ]
  },
  {
   "cell_type": "markdown",
   "metadata": {},
   "source": [
    "## Статистический анализ A/B теста"
   ]
  },
  {
   "cell_type": "markdown",
   "metadata": {},
   "source": [
    "Поскольку был проведен А/В тест, в котором для новых пользователей из нескольких стран была изменена стоимость премиум-подписки, проверим:\n",
    "1. Есть ли значимые различия в доходе с пользователей\n",
    "2. Есть ли значимые различия в доходе с оплаты подписки и пробной подписки \n",
    "2. Есть ли значимые различия в частоте продления подписок одним пользователем\n",
    "3. Есть ли значимые различия между группами в соотношении числа пользователей, оформивших и неоформивших подписку\n",
    "4. Влияет ли на наличие подписки то, была ли у пользователя премиум-подписка ранее\n",
    "5. Есть ли различия в доходе между какими-либо группами пользователей\n",
    "\n",
    "Метрики, которые будем использовать:\n",
    "1. revenue\n",
    "2. total_revenue\n",
    "3. is_premium\n",
    "4. payment_frequency"
   ]
  },
  {
   "cell_type": "markdown",
   "metadata": {},
   "source": [
    "### Различия в доходе с пользователя\n",
    "\n"
   ]
  },
  {
   "cell_type": "markdown",
   "metadata": {},
   "source": [
    "Посмотрим на средний общий доход с пользователя в группах:"
   ]
  },
  {
   "cell_type": "code",
   "execution_count": 434,
   "metadata": {
    "scrolled": true
   },
   "outputs": [
    {
     "data": {
      "image/png": "[encoded data removed]",
      "text/plain": [
       "<Figure size 432x288 with 1 Axes>"
      ]
     },
     "metadata": {},
     "output_type": "display_data"
    }
   ],
   "source": [
    "sns.barplot(data = transactions_data \\\n",
    "            .sort_values('paid_at', ascending = False) \\\n",
    "            .drop_duplicates('uid') \\\n",
    "            .groupby('group', as_index = False).agg({'total_revenue': 'mean'}), \\\n",
    "            x = 'group', y = 'total_revenue', palette = group_palette)\n",
    "plt.xlabel(\"Group\", size=12)\n",
    "plt.ylabel(\"Revenue per user\", size=12)\n",
    "plt.title('Mean total revenue in groups', pad = 20, size = 14)\n",
    "sns.despine()"
   ]
  },
  {
   "cell_type": "markdown",
   "metadata": {},
   "source": [
    "Средний доход с транзакций:"
   ]
  },
  {
   "cell_type": "code",
   "execution_count": 435,
   "metadata": {
    "scrolled": true
   },
   "outputs": [
    {
     "data": {
      "image/png": "[encoded data removed]",
      "text/plain": [
       "<Figure size 432x288 with 1 Axes>"
      ]
     },
     "metadata": {},
     "output_type": "display_data"
    }
   ],
   "source": [
    "sns.barplot(data = transactions_data \\\n",
    "            .groupby('group', as_index = False).agg({'revenue': 'mean'}), \\\n",
    "            x = 'group', y = 'revenue', palette = group_palette)\n",
    "plt.xlabel(\"Group\", size=12)\n",
    "plt.ylabel(\"Revenue per user\", size=12)\n",
    "plt.title('Mean revenue in groups', pad = 20, size = 14)\n",
    "sns.despine()"
   ]
  },
  {
   "cell_type": "markdown",
   "metadata": {},
   "source": [
    "Визуализируем данные при помощи боксплота"
   ]
  },
  {
   "cell_type": "code",
   "execution_count": 436,
   "metadata": {},
   "outputs": [
    {
     "data": {
      "image/png": "[encoded data removed]",
      "text/plain": [
       "<Figure size 864x576 with 1 Axes>"
      ]
     },
     "metadata": {},
     "output_type": "display_data"
    }
   ],
   "source": [
    "plt.figure(figsize= (12, 8))\n",
    "sns.boxplot(x = 'group', \\\n",
    "            y = 'revenue', \\\n",
    "            data = transactions_data.sort_values('group'), \\\n",
    "            palette = group_palette, \\\n",
    "            saturation = 1,\\\n",
    "            linewidth = 0.7)\n",
    "plt.xlabel(\"Group\", size=12)\n",
    "plt.ylabel(\"Revenue per user\", size=12)\n",
    "plt.title('Subscription revenue distribution in groups', pad = 20, size = 14)\n",
    "sns.despine()"
   ]
  },
  {
   "cell_type": "markdown",
   "metadata": {},
   "source": [
    "### 1. ANOVA по метрике revenue"
   ]
  },
  {
   "cell_type": "markdown",
   "metadata": {},
   "source": [
    "Проверка выборок на нормальность.  \n",
    "**H0** - выборка взята из генеральной совокупности, в которой значения распределены нормально  \n",
    "**Результат** - распределения в выборках значимо отличаются от нормального."
   ]
  },
  {
   "cell_type": "code",
   "execution_count": 437,
   "metadata": {},
   "outputs": [
    {
     "name": "stdout",
     "output_type": "stream",
     "text": [
      "test p-value: \t 8.011712953511395e-27\n",
      "control_1 p-value: \t 1.5151389094921548e-27\n",
      "control_2 p-value: \t 1.7662834723952801e-28\n"
     ]
    }
   ],
   "source": [
    "for group in group_names:\n",
    "    print(group, 'p-value:', '\\t', stats.shapiro(transactions_data[transactions_data.group == group]['revenue'])[1])"
   ]
  },
  {
   "cell_type": "markdown",
   "metadata": {},
   "source": [
    "Проверим выборки на гомогенность дисперсии  \n",
    "**H0** - выборки взяты из генеральных совокупностей с одинаковыми дисперсиями  \n",
    "**Результат** - дисперсии в группах значимо различаются "
   ]
  },
  {
   "cell_type": "code",
   "execution_count": 438,
   "metadata": {},
   "outputs": [
    {
     "data": {
      "text/plain": [
       "LeveneResult(statistic=9.27512647071466, pvalue=0.0001027865486733401)"
      ]
     },
     "execution_count": 438,
     "metadata": {},
     "output_type": "execute_result"
    }
   ],
   "source": [
    "stats.levene(transactions_data[transactions_data.group == 'test']['revenue'], \\\n",
    "             transactions_data[transactions_data.group == 'control_1']['revenue'], \\\n",
    "             transactions_data[transactions_data.group == 'control_2']['revenue'])"
   ]
  },
  {
   "cell_type": "markdown",
   "metadata": {},
   "source": [
    "ANOVA Уэлча для условия разных дисперсий  \n",
    "\n",
    "**H0** - ни одно из средних значений в выборках не отличается от других  \n",
    "**Результат** - среднее хотя бы в одной группе значимо отличается от других"
   ]
  },
  {
   "cell_type": "code",
   "execution_count": 439,
   "metadata": {},
   "outputs": [
    {
     "data": {
      "text/html": [
       "<div>\n",
       "<style scoped>\n",
       "    .dataframe tbody tr th:only-of-type {\n",
       "        vertical-align: middle;\n",
       "    }\n",
       "\n",
       "    .dataframe tbody tr th {\n",
       "        vertical-align: top;\n",
       "    }\n",
       "\n",
       "    .dataframe thead th {\n",
       "        text-align: right;\n",
       "    }\n",
       "</style>\n",
       "<table border=\"1\" class=\"dataframe\">\n",
       "  <thead>\n",
       "    <tr style=\"text-align: right;\">\n",
       "      <th></th>\n",
       "      <th>Source</th>\n",
       "      <th>ddof1</th>\n",
       "      <th>ddof2</th>\n",
       "      <th>F</th>\n",
       "      <th>p-unc</th>\n",
       "      <th>np2</th>\n",
       "    </tr>\n",
       "  </thead>\n",
       "  <tbody>\n",
       "    <tr>\n",
       "      <th>0</th>\n",
       "      <td>group</td>\n",
       "      <td>2</td>\n",
       "      <td>550.147275</td>\n",
       "      <td>6.894611</td>\n",
       "      <td>0.001103</td>\n",
       "      <td>0.02218</td>\n",
       "    </tr>\n",
       "  </tbody>\n",
       "</table>\n",
       "</div>"
      ],
      "text/plain": [
       "  Source  ddof1       ddof2         F     p-unc      np2\n",
       "0  group      2  550.147275  6.894611  0.001103  0.02218"
      ]
     },
     "execution_count": 439,
     "metadata": {},
     "output_type": "execute_result"
    }
   ],
   "source": [
    "pg.welch_anova(data = transactions_data, dv = 'revenue', between = 'group' )"
   ]
  },
  {
   "cell_type": "markdown",
   "metadata": {},
   "source": [
    "Тест Геймса-Хоувелла для попарного сравнения групп при условии разных дисперсий  \n",
    "\n",
    "**H0** - средние значения в группах значимо не отличаются   \n",
    "**Результат** - есть значимые различия между тестовой и контрольными группами"
   ]
  },
  {
   "cell_type": "code",
   "execution_count": 440,
   "metadata": {},
   "outputs": [
    {
     "data": {
      "text/html": [
       "<div>\n",
       "<style scoped>\n",
       "    .dataframe tbody tr th:only-of-type {\n",
       "        vertical-align: middle;\n",
       "    }\n",
       "\n",
       "    .dataframe tbody tr th {\n",
       "        vertical-align: top;\n",
       "    }\n",
       "\n",
       "    .dataframe thead th {\n",
       "        text-align: right;\n",
       "    }\n",
       "</style>\n",
       "<table border=\"1\" class=\"dataframe\">\n",
       "  <thead>\n",
       "    <tr style=\"text-align: right;\">\n",
       "      <th></th>\n",
       "      <th>A</th>\n",
       "      <th>B</th>\n",
       "      <th>mean(A)</th>\n",
       "      <th>mean(B)</th>\n",
       "      <th>diff</th>\n",
       "      <th>se</th>\n",
       "      <th>T</th>\n",
       "      <th>df</th>\n",
       "      <th>pval</th>\n",
       "      <th>hedges</th>\n",
       "    </tr>\n",
       "  </thead>\n",
       "  <tbody>\n",
       "    <tr>\n",
       "      <th>0</th>\n",
       "      <td>control_1</td>\n",
       "      <td>control_2</td>\n",
       "      <td>6260.161677</td>\n",
       "      <td>5907.111455</td>\n",
       "      <td>353.050222</td>\n",
       "      <td>506.623491</td>\n",
       "      <td>0.696869</td>\n",
       "      <td>651.574844</td>\n",
       "      <td>0.745199</td>\n",
       "      <td>0.054320</td>\n",
       "    </tr>\n",
       "    <tr>\n",
       "      <th>1</th>\n",
       "      <td>control_1</td>\n",
       "      <td>test</td>\n",
       "      <td>6260.161677</td>\n",
       "      <td>8767.766917</td>\n",
       "      <td>-2507.605241</td>\n",
       "      <td>770.800051</td>\n",
       "      <td>-3.253250</td>\n",
       "      <td>397.437726</td>\n",
       "      <td>0.003541</td>\n",
       "      <td>-0.267014</td>\n",
       "    </tr>\n",
       "    <tr>\n",
       "      <th>2</th>\n",
       "      <td>control_2</td>\n",
       "      <td>test</td>\n",
       "      <td>5907.111455</td>\n",
       "      <td>8767.766917</td>\n",
       "      <td>-2860.655462</td>\n",
       "      <td>780.018520</td>\n",
       "      <td>-3.667420</td>\n",
       "      <td>410.826434</td>\n",
       "      <td>0.001000</td>\n",
       "      <td>-0.303264</td>\n",
       "    </tr>\n",
       "  </tbody>\n",
       "</table>\n",
       "</div>"
      ],
      "text/plain": [
       "           A          B      mean(A)      mean(B)         diff          se  \\\n",
       "0  control_1  control_2  6260.161677  5907.111455   353.050222  506.623491   \n",
       "1  control_1       test  6260.161677  8767.766917 -2507.605241  770.800051   \n",
       "2  control_2       test  5907.111455  8767.766917 -2860.655462  780.018520   \n",
       "\n",
       "          T          df      pval    hedges  \n",
       "0  0.696869  651.574844  0.745199  0.054320  \n",
       "1 -3.253250  397.437726  0.003541 -0.267014  \n",
       "2 -3.667420  410.826434  0.001000 -0.303264  "
      ]
     },
     "execution_count": 440,
     "metadata": {},
     "output_type": "execute_result"
    }
   ],
   "source": [
    "pg.pairwise_gameshowell(data = transactions_data, dv = 'revenue', between = 'group' )"
   ]
  },
  {
   "cell_type": "markdown",
   "metadata": {},
   "source": [
    "Дополнительно используем критерий Манна-Уитни для сравнения средних в группах  \n",
    "\n",
    "**H0 для каждого теста** - распределения в выборках значимо не отличаются   "
   ]
  },
  {
   "cell_type": "markdown",
   "metadata": {},
   "source": [
    "Тест + контроль 1"
   ]
  },
  {
   "cell_type": "code",
   "execution_count": 441,
   "metadata": {},
   "outputs": [
    {
     "data": {
      "text/plain": [
       "MannwhitneyuResult(statistic=51622.0, pvalue=0.0006365874799595455)"
      ]
     },
     "execution_count": 441,
     "metadata": {},
     "output_type": "execute_result"
    }
   ],
   "source": [
    "stats.mannwhitneyu(transactions_data[transactions_data.group == 'test']['revenue'], \\\n",
    "             transactions_data[transactions_data.group == 'control_1']['revenue'])"
   ]
  },
  {
   "cell_type": "markdown",
   "metadata": {},
   "source": [
    "Тест + контроль 2"
   ]
  },
  {
   "cell_type": "code",
   "execution_count": 442,
   "metadata": {},
   "outputs": [
    {
     "data": {
      "text/plain": [
       "MannwhitneyuResult(statistic=51698.0, pvalue=2.0938846344776575e-05)"
      ]
     },
     "execution_count": 442,
     "metadata": {},
     "output_type": "execute_result"
    }
   ],
   "source": [
    "stats.mannwhitneyu(transactions_data[transactions_data.group == 'test']['revenue'], \\\n",
    "             transactions_data[transactions_data.group == 'control_2']['revenue'])"
   ]
  },
  {
   "cell_type": "markdown",
   "metadata": {},
   "source": [
    "Контроль 1 + Контроль 2"
   ]
  },
  {
   "cell_type": "code",
   "execution_count": 443,
   "metadata": {},
   "outputs": [
    {
     "data": {
      "text/plain": [
       "MannwhitneyuResult(statistic=50657.0, pvalue=0.1760796278296194)"
      ]
     },
     "execution_count": 443,
     "metadata": {},
     "output_type": "execute_result"
    }
   ],
   "source": [
    "stats.mannwhitneyu(transactions_data[transactions_data.group == 'control_2']['revenue'], \\\n",
    "             transactions_data[transactions_data.group == 'control_1']['revenue'])"
   ]
  },
  {
   "cell_type": "markdown",
   "metadata": {},
   "source": [
    "**Результат** - есть значимые различия между тестовой и обеими контрольными группами"
   ]
  },
  {
   "cell_type": "markdown",
   "metadata": {},
   "source": [
    "### 2. Критерий Хи-квадрат независимости метрики is_premium от группы"
   ]
  },
  {
   "cell_type": "markdown",
   "metadata": {},
   "source": [
    "Проверим различия в распределении количества пользователей с подпиской и без в разных группах.  \n",
    "Для этого используем критерий Хи-квадрат и таблицы сопряженности.\n",
    "Порядок действий:\n",
    "- Строим таблицу сопряженности\n",
    "- Проводим тест"
   ]
  },
  {
   "cell_type": "markdown",
   "metadata": {},
   "source": [
    "**H0** - количество пользователей, оформивших и не оформивших подписку не зависит от группы, распределение равномерно."
   ]
  },
  {
   "cell_type": "code",
   "execution_count": 444,
   "metadata": {},
   "outputs": [
    {
     "data": {
      "text/html": [
       "<div>\n",
       "<style scoped>\n",
       "    .dataframe tbody tr th:only-of-type {\n",
       "        vertical-align: middle;\n",
       "    }\n",
       "\n",
       "    .dataframe tbody tr th {\n",
       "        vertical-align: top;\n",
       "    }\n",
       "\n",
       "    .dataframe thead th {\n",
       "        text-align: right;\n",
       "    }\n",
       "</style>\n",
       "<table border=\"1\" class=\"dataframe\">\n",
       "  <thead>\n",
       "    <tr style=\"text-align: right;\">\n",
       "      <th>is_premium</th>\n",
       "      <th>0.0</th>\n",
       "      <th>1.0</th>\n",
       "    </tr>\n",
       "    <tr>\n",
       "      <th>group</th>\n",
       "      <th></th>\n",
       "      <th></th>\n",
       "    </tr>\n",
       "  </thead>\n",
       "  <tbody>\n",
       "    <tr>\n",
       "      <th>control_1</th>\n",
       "      <td>4148</td>\n",
       "      <td>192</td>\n",
       "    </tr>\n",
       "    <tr>\n",
       "      <th>control_2</th>\n",
       "      <td>4073</td>\n",
       "      <td>191</td>\n",
       "    </tr>\n",
       "    <tr>\n",
       "      <th>test</th>\n",
       "      <td>4151</td>\n",
       "      <td>157</td>\n",
       "    </tr>\n",
       "  </tbody>\n",
       "</table>\n",
       "</div>"
      ],
      "text/plain": [
       "is_premium   0.0  1.0\n",
       "group                \n",
       "control_1   4148  192\n",
       "control_2   4073  191\n",
       "test        4151  157"
      ]
     },
     "execution_count": 444,
     "metadata": {},
     "output_type": "execute_result"
    }
   ],
   "source": [
    "pd.crosstab(users_info.group, users_info.is_premium)"
   ]
  },
  {
   "cell_type": "code",
   "execution_count": 445,
   "metadata": {},
   "outputs": [
    {
     "data": {
      "text/plain": [
       "(4.682218872475243,\n",
       " 0.09622082811841565,\n",
       " 2,\n",
       " array([[4158.49442379,  181.50557621],\n",
       "        [4085.67286245,  178.32713755],\n",
       "        [4127.83271375,  180.16728625]]))"
      ]
     },
     "execution_count": 445,
     "metadata": {},
     "output_type": "execute_result"
    }
   ],
   "source": [
    "stats.chi2_contingency(pd.crosstab(users_info.group, users_info.is_premium))"
   ]
  },
  {
   "cell_type": "markdown",
   "metadata": {},
   "source": [
    "**Результат** - Не видим статистически значимых различий в соотношении числа оформивших и не оформивших подписку пользователей между сравниваемыми группами"
   ]
  },
  {
   "cell_type": "markdown",
   "metadata": {},
   "source": [
    "Проведем тот же тест попарно.  \n",
    "**H0 для каждого теста** - количество пользователей, оформивших и не оформивших подписку не зависит от группы, распределение равномерно."
   ]
  },
  {
   "cell_type": "markdown",
   "metadata": {},
   "source": [
    "Тест + контроль 1"
   ]
  },
  {
   "cell_type": "code",
   "execution_count": 446,
   "metadata": {},
   "outputs": [
    {
     "data": {
      "text/plain": [
       "(3.1944377604342717,\n",
       " 0.07388917354047164,\n",
       " 1,\n",
       " array([[4164.85430157,  175.14569843],\n",
       "        [4134.14569843,  173.85430157]]))"
      ]
     },
     "execution_count": 446,
     "metadata": {},
     "output_type": "execute_result"
    }
   ],
   "source": [
    "stats.chi2_contingency(pd.crosstab(users_info.query('group != \"control_2\"').group, \\\n",
    "                        users_info.is_premium))"
   ]
  },
  {
   "cell_type": "markdown",
   "metadata": {},
   "source": [
    "Тест + контроль 2"
   ]
  },
  {
   "cell_type": "code",
   "execution_count": 447,
   "metadata": {},
   "outputs": [
    {
     "data": {
      "text/plain": [
       "(3.624492947571289,\n",
       " 0.056934918926926356,\n",
       " 1,\n",
       " array([[4090.89314046,  173.10685954],\n",
       "        [4133.10685954,  174.89314046]]))"
      ]
     },
     "execution_count": 447,
     "metadata": {},
     "output_type": "execute_result"
    }
   ],
   "source": [
    "stats.chi2_contingency(pd.crosstab(users_info.query('group != \"control_1\"').group, \\\n",
    "                        users_info.is_premium))"
   ]
  },
  {
   "cell_type": "markdown",
   "metadata": {},
   "source": [
    "Контроль 1 + контроль 2"
   ]
  },
  {
   "cell_type": "code",
   "execution_count": 448,
   "metadata": {},
   "outputs": [
    {
     "data": {
      "text/plain": [
       "(0.005227619694682702,\n",
       " 0.942361350261814,\n",
       " 1,\n",
       " array([[4146.80846118,  193.19153882],\n",
       "        [4074.19153882,  189.80846118]]))"
      ]
     },
     "execution_count": 448,
     "metadata": {},
     "output_type": "execute_result"
    }
   ],
   "source": [
    "stats.chi2_contingency(pd.crosstab(users_info.query('group != \"test\"').group, \\\n",
    "                        users_info.is_premium))"
   ]
  },
  {
   "cell_type": "markdown",
   "metadata": {},
   "source": [
    "**Результат** - вероятность получить такие или еще более выраженные различия между тестовой и обеими контрольными группами по исследуемому признаку очень маленькая, но значения p-value >= 0.05 в обоих случаях не позволяют нам отклонить H0.  \n",
    "С другой стороны видим, что p-value для среза контроль 1 + контроль 2 в разы больше."
   ]
  },
  {
   "cell_type": "markdown",
   "metadata": {},
   "source": [
    "### 3. Критерий Хи-квадрат независимости метрики is_premium от метрики was_premium"
   ]
  },
  {
   "cell_type": "markdown",
   "metadata": {},
   "source": [
    "Проверим различия в соотношении числа оформивших и не оформивших подписку пользователей между теми, у кого подписка была и и теми, кто ее ранее не оформлял.  \n",
    "**H0 для каждого теста** - количество пользователей, оформивших и не оформивших подписку не зависит от того, была ли у пользователя подписка ранее."
   ]
  },
  {
   "cell_type": "markdown",
   "metadata": {},
   "source": [
    "**Тестовая группа:**"
   ]
  },
  {
   "cell_type": "code",
   "execution_count": 449,
   "metadata": {
    "scrolled": true
   },
   "outputs": [
    {
     "data": {
      "text/html": [
       "<div>\n",
       "<style scoped>\n",
       "    .dataframe tbody tr th:only-of-type {\n",
       "        vertical-align: middle;\n",
       "    }\n",
       "\n",
       "    .dataframe tbody tr th {\n",
       "        vertical-align: top;\n",
       "    }\n",
       "\n",
       "    .dataframe thead th {\n",
       "        text-align: right;\n",
       "    }\n",
       "</style>\n",
       "<table border=\"1\" class=\"dataframe\">\n",
       "  <thead>\n",
       "    <tr style=\"text-align: right;\">\n",
       "      <th>is_premium</th>\n",
       "      <th>0.0</th>\n",
       "      <th>1.0</th>\n",
       "    </tr>\n",
       "    <tr>\n",
       "      <th>was_premium</th>\n",
       "      <th></th>\n",
       "      <th></th>\n",
       "    </tr>\n",
       "  </thead>\n",
       "  <tbody>\n",
       "    <tr>\n",
       "      <th>0.0</th>\n",
       "      <td>3900</td>\n",
       "      <td>0</td>\n",
       "    </tr>\n",
       "    <tr>\n",
       "      <th>1.0</th>\n",
       "      <td>251</td>\n",
       "      <td>157</td>\n",
       "    </tr>\n",
       "  </tbody>\n",
       "</table>\n",
       "</div>"
      ],
      "text/plain": [
       "is_premium    0.0  1.0\n",
       "was_premium           \n",
       "0.0          3900    0\n",
       "1.0           251  157"
      ]
     },
     "execution_count": 449,
     "metadata": {},
     "output_type": "execute_result"
    }
   ],
   "source": [
    "pd.crosstab(users_test.was_premium, users_test.is_premium)"
   ]
  },
  {
   "cell_type": "code",
   "execution_count": 450,
   "metadata": {
    "scrolled": true
   },
   "outputs": [
    {
     "data": {
      "text/plain": [
       "(1546.5575150564396,\n",
       " 0.0,\n",
       " 1,\n",
       " array([[3757.86908078,  142.13091922],\n",
       "        [ 393.13091922,   14.86908078]]))"
      ]
     },
     "execution_count": 450,
     "metadata": {},
     "output_type": "execute_result"
    }
   ],
   "source": [
    "stats.chi2_contingency(pd.crosstab(users_test.was_premium, users_test.is_premium))"
   ]
  },
  {
   "cell_type": "markdown",
   "metadata": {},
   "source": [
    "**Первая контрольная группа:**"
   ]
  },
  {
   "cell_type": "code",
   "execution_count": 451,
   "metadata": {},
   "outputs": [
    {
     "data": {
      "text/html": [
       "<div>\n",
       "<style scoped>\n",
       "    .dataframe tbody tr th:only-of-type {\n",
       "        vertical-align: middle;\n",
       "    }\n",
       "\n",
       "    .dataframe tbody tr th {\n",
       "        vertical-align: top;\n",
       "    }\n",
       "\n",
       "    .dataframe thead th {\n",
       "        text-align: right;\n",
       "    }\n",
       "</style>\n",
       "<table border=\"1\" class=\"dataframe\">\n",
       "  <thead>\n",
       "    <tr style=\"text-align: right;\">\n",
       "      <th>is_premium</th>\n",
       "      <th>0.0</th>\n",
       "      <th>1.0</th>\n",
       "    </tr>\n",
       "    <tr>\n",
       "      <th>was_premium</th>\n",
       "      <th></th>\n",
       "      <th></th>\n",
       "    </tr>\n",
       "  </thead>\n",
       "  <tbody>\n",
       "    <tr>\n",
       "      <th>0.0</th>\n",
       "      <td>3904</td>\n",
       "      <td>0</td>\n",
       "    </tr>\n",
       "    <tr>\n",
       "      <th>1.0</th>\n",
       "      <td>244</td>\n",
       "      <td>192</td>\n",
       "    </tr>\n",
       "  </tbody>\n",
       "</table>\n",
       "</div>"
      ],
      "text/plain": [
       "is_premium    0.0  1.0\n",
       "was_premium           \n",
       "0.0          3904    0\n",
       "1.0           244  192"
      ]
     },
     "execution_count": 451,
     "metadata": {},
     "output_type": "execute_result"
    }
   ],
   "source": [
    "pd.crosstab(users_control_1.was_premium, users_control_1.is_premium)"
   ]
  },
  {
   "cell_type": "code",
   "execution_count": 452,
   "metadata": {},
   "outputs": [
    {
     "data": {
      "text/plain": [
       "(1788.3697595718954,\n",
       " 0.0,\n",
       " 1,\n",
       " array([[3731.28847926,  172.71152074],\n",
       "        [ 416.71152074,   19.28847926]]))"
      ]
     },
     "execution_count": 452,
     "metadata": {},
     "output_type": "execute_result"
    }
   ],
   "source": [
    "stats.chi2_contingency(pd.crosstab(users_control_1.was_premium, users_control_1.is_premium))"
   ]
  },
  {
   "cell_type": "markdown",
   "metadata": {},
   "source": [
    "**Вторая контрольная группа:**"
   ]
  },
  {
   "cell_type": "code",
   "execution_count": 453,
   "metadata": {},
   "outputs": [
    {
     "data": {
      "text/html": [
       "<div>\n",
       "<style scoped>\n",
       "    .dataframe tbody tr th:only-of-type {\n",
       "        vertical-align: middle;\n",
       "    }\n",
       "\n",
       "    .dataframe tbody tr th {\n",
       "        vertical-align: top;\n",
       "    }\n",
       "\n",
       "    .dataframe thead th {\n",
       "        text-align: right;\n",
       "    }\n",
       "</style>\n",
       "<table border=\"1\" class=\"dataframe\">\n",
       "  <thead>\n",
       "    <tr style=\"text-align: right;\">\n",
       "      <th>is_premium</th>\n",
       "      <th>0.0</th>\n",
       "      <th>1.0</th>\n",
       "    </tr>\n",
       "    <tr>\n",
       "      <th>was_premium</th>\n",
       "      <th></th>\n",
       "      <th></th>\n",
       "    </tr>\n",
       "  </thead>\n",
       "  <tbody>\n",
       "    <tr>\n",
       "      <th>0.0</th>\n",
       "      <td>3853</td>\n",
       "      <td>0</td>\n",
       "    </tr>\n",
       "    <tr>\n",
       "      <th>1.0</th>\n",
       "      <td>220</td>\n",
       "      <td>191</td>\n",
       "    </tr>\n",
       "  </tbody>\n",
       "</table>\n",
       "</div>"
      ],
      "text/plain": [
       "is_premium    0.0  1.0\n",
       "was_premium           \n",
       "0.0          3853    0\n",
       "1.0           220  191"
      ]
     },
     "execution_count": 453,
     "metadata": {},
     "output_type": "execute_result"
    }
   ],
   "source": [
    "pd.crosstab(users_control_2.was_premium, users_control_2.is_premium)"
   ]
  },
  {
   "cell_type": "code",
   "execution_count": 454,
   "metadata": {},
   "outputs": [
    {
     "data": {
      "text/plain": [
       "(1863.688603049368,\n",
       " 0.0,\n",
       " 1,\n",
       " array([[3680.41017824,  172.58982176],\n",
       "        [ 392.58982176,   18.41017824]]))"
      ]
     },
     "execution_count": 454,
     "metadata": {},
     "output_type": "execute_result"
    }
   ],
   "source": [
    "stats.chi2_contingency(pd.crosstab(users_control_2.was_premium, users_control_2.is_premium))"
   ]
  },
  {
   "cell_type": "markdown",
   "metadata": {},
   "source": [
    "**Результат** - Количество пользователей, оформивших и не оформивших подписку во всех 3-х группах зависит от того, была ли у пользователя подписка ранее."
   ]
  },
  {
   "cell_type": "markdown",
   "metadata": {},
   "source": [
    "### 4. ANOVA по метрике revenue (доход от премиум подписки)"
   ]
  },
  {
   "cell_type": "markdown",
   "metadata": {},
   "source": [
    "- Создаем датасет, в который входят только записи об оплате премиальной или пробной подписки\n",
    "- Так как доход с пользователей идет не только с оплаты премиум подписки (можно предположить это по различии в названиях страниц, с которых переходят пользователи), пересчитаем доход, который получен за премиум подписку"
   ]
  },
  {
   "cell_type": "code",
   "execution_count": 455,
   "metadata": {},
   "outputs": [
    {
     "data": {
      "text/html": [
       "<div>\n",
       "<style scoped>\n",
       "    .dataframe tbody tr th:only-of-type {\n",
       "        vertical-align: middle;\n",
       "    }\n",
       "\n",
       "    .dataframe tbody tr th {\n",
       "        vertical-align: top;\n",
       "    }\n",
       "\n",
       "    .dataframe thead th {\n",
       "        text-align: right;\n",
       "    }\n",
       "</style>\n",
       "<table border=\"1\" class=\"dataframe\">\n",
       "  <thead>\n",
       "    <tr style=\"text-align: right;\">\n",
       "      <th></th>\n",
       "      <th>uid</th>\n",
       "      <th>country</th>\n",
       "      <th>age</th>\n",
       "      <th>gender</th>\n",
       "      <th>was_premium</th>\n",
       "      <th>is_premium</th>\n",
       "      <th>group</th>\n",
       "      <th>revenue</th>\n",
       "      <th>payment_frequency</th>\n",
       "      <th>weeks_until_payment</th>\n",
       "    </tr>\n",
       "  </thead>\n",
       "  <tbody>\n",
       "    <tr>\n",
       "      <th>0</th>\n",
       "      <td>891068079.0</td>\n",
       "      <td>Argentina</td>\n",
       "      <td>29</td>\n",
       "      <td>1</td>\n",
       "      <td>1.0</td>\n",
       "      <td>1.0</td>\n",
       "      <td>control_2</td>\n",
       "      <td>6292.0</td>\n",
       "      <td>1</td>\n",
       "      <td>9</td>\n",
       "    </tr>\n",
       "    <tr>\n",
       "      <th>1</th>\n",
       "      <td>891071157.0</td>\n",
       "      <td>United States of America</td>\n",
       "      <td>22</td>\n",
       "      <td>1</td>\n",
       "      <td>1.0</td>\n",
       "      <td>1.0</td>\n",
       "      <td>test</td>\n",
       "      <td>9100.0</td>\n",
       "      <td>1</td>\n",
       "      <td>0</td>\n",
       "    </tr>\n",
       "    <tr>\n",
       "      <th>2</th>\n",
       "      <td>891077727.0</td>\n",
       "      <td>Argentina</td>\n",
       "      <td>20</td>\n",
       "      <td>1</td>\n",
       "      <td>1.0</td>\n",
       "      <td>1.0</td>\n",
       "      <td>control_2</td>\n",
       "      <td>6292.0</td>\n",
       "      <td>1</td>\n",
       "      <td>0</td>\n",
       "    </tr>\n",
       "    <tr>\n",
       "      <th>3</th>\n",
       "      <td>891092322.0</td>\n",
       "      <td>Argentina</td>\n",
       "      <td>24</td>\n",
       "      <td>1</td>\n",
       "      <td>1.0</td>\n",
       "      <td>1.0</td>\n",
       "      <td>control_1</td>\n",
       "      <td>5278.0</td>\n",
       "      <td>1</td>\n",
       "      <td>4</td>\n",
       "    </tr>\n",
       "    <tr>\n",
       "      <th>4</th>\n",
       "      <td>891112263.0</td>\n",
       "      <td>United States of America</td>\n",
       "      <td>23</td>\n",
       "      <td>1</td>\n",
       "      <td>1.0</td>\n",
       "      <td>1.0</td>\n",
       "      <td>control_2</td>\n",
       "      <td>4680.0</td>\n",
       "      <td>1</td>\n",
       "      <td>9</td>\n",
       "    </tr>\n",
       "  </tbody>\n",
       "</table>\n",
       "</div>"
      ],
      "text/plain": [
       "           uid                   country  age  gender  was_premium  \\\n",
       "0  891068079.0                 Argentina   29       1          1.0   \n",
       "1  891071157.0  United States of America   22       1          1.0   \n",
       "2  891077727.0                 Argentina   20       1          1.0   \n",
       "3  891092322.0                 Argentina   24       1          1.0   \n",
       "4  891112263.0  United States of America   23       1          1.0   \n",
       "\n",
       "   is_premium      group  revenue  payment_frequency  weeks_until_payment  \n",
       "0         1.0  control_2   6292.0                  1                    9  \n",
       "1         1.0       test   9100.0                  1                    0  \n",
       "2         1.0  control_2   6292.0                  1                    0  \n",
       "3         1.0  control_1   5278.0                  1                    4  \n",
       "4         1.0  control_2   4680.0                  1                    9  "
      ]
     },
     "execution_count": 455,
     "metadata": {},
     "output_type": "execute_result"
    }
   ],
   "source": [
    "user_revenue_premium = transactions_data.query(\"product_type == ['premium_no_trial', 'trial_premiun']\") \\\n",
    "                        .groupby(['uid', 'country', 'age', 'gender', 'was_premium', 'is_premium', 'group'], as_index = False) \\\n",
    "                        .agg({'revenue': 'sum', 'paid_at': 'count', 'weeks_until_payment': 'min'}) \\\n",
    "                        .rename(columns ={'paid_at': 'payment_frequency'})\n",
    "user_revenue_premium.head()"
   ]
  },
  {
   "cell_type": "markdown",
   "metadata": {},
   "source": [
    "Визуализируем данные при помощи боксплота"
   ]
  },
  {
   "cell_type": "code",
   "execution_count": 456,
   "metadata": {},
   "outputs": [
    {
     "data": {
      "image/png": "[encoded data removed]",
      "text/plain": [
       "<Figure size 864x576 with 1 Axes>"
      ]
     },
     "metadata": {},
     "output_type": "display_data"
    }
   ],
   "source": [
    "plt.figure(figsize= (12, 8))\n",
    "sns.boxplot(x = 'group', \\\n",
    "            y = 'revenue', \\\n",
    "            data = user_revenue_premium.sort_values('group'), \\\n",
    "            palette = group_palette, \\\n",
    "            saturation = 1,\\\n",
    "            linewidth = 0.7)\n",
    "plt.xlabel(\"Group\", size=12)\n",
    "plt.ylabel(\"Revenue per user\", size=12)\n",
    "plt.title('Subscription revenue distribution in groups', pad = 20, size = 14)\n",
    "sns.despine()"
   ]
  },
  {
   "cell_type": "markdown",
   "metadata": {},
   "source": [
    "Проверка выборок на нормальность.  \n",
    "**H0** - выборка взята из генеральной совокупности, в которой значения распределены нормально  \n",
    "**Результат** - распределения в выборках значимо отличаются от нормального."
   ]
  },
  {
   "cell_type": "code",
   "execution_count": 457,
   "metadata": {
    "scrolled": true
   },
   "outputs": [
    {
     "name": "stdout",
     "output_type": "stream",
     "text": [
      "test p-value: \t 7.250171629880487e-16\n",
      "control_1 p-value: \t 3.157632224462589e-19\n",
      "control_2 p-value: \t 2.8234107380658477e-20\n"
     ]
    }
   ],
   "source": [
    "for group in group_names:\n",
    "    print(group, 'p-value:', '\\t', stats.shapiro(user_revenue_premium[user_revenue_premium.group == group]['revenue'])[1])"
   ]
  },
  {
   "cell_type": "markdown",
   "metadata": {},
   "source": [
    "Проверка на гомогенность дисперсии  \n",
    "**H0** - выборки взяты из генеральных совокупностей с одинаковыми дисперсиями  \n",
    "**Результат** - дисперсии в группах значимо не различаются "
   ]
  },
  {
   "cell_type": "code",
   "execution_count": 458,
   "metadata": {},
   "outputs": [
    {
     "data": {
      "text/plain": [
       "LeveneResult(statistic=2.0805596979787646, pvalue=0.12690287084568533)"
      ]
     },
     "execution_count": 458,
     "metadata": {},
     "output_type": "execute_result"
    }
   ],
   "source": [
    "stats.levene(user_revenue_premium[user_revenue_premium.group == 'test']['revenue'], \\\n",
    "             user_revenue_premium[user_revenue_premium.group == 'control_1']['revenue'], \\\n",
    "             user_revenue_premium[user_revenue_premium.group == 'control_2']['revenue'])"
   ]
  },
  {
   "cell_type": "markdown",
   "metadata": {},
   "source": [
    "Поскольку распределения статистически значимо отличаются от нормальных, для дисперсионного анализа используем непараметрический аналог ANOVA - критерий Краскела-Уоллиса.  \n",
    "\n",
    "**H0** - ни одно из средних значений в выборках не отличается от других  \n",
    "**Результат** - среднее хотя бы в одной группе значимо отличается от других"
   ]
  },
  {
   "cell_type": "code",
   "execution_count": 459,
   "metadata": {},
   "outputs": [
    {
     "data": {
      "text/plain": [
       "KruskalResult(statistic=37.37623968308333, pvalue=7.653369400681474e-09)"
      ]
     },
     "execution_count": 459,
     "metadata": {},
     "output_type": "execute_result"
    }
   ],
   "source": [
    "stats.kruskal(user_revenue_premium[user_revenue_premium.group == 'test']['revenue'], \\\n",
    "             user_revenue_premium[user_revenue_premium.group == 'control_1']['revenue'], \\\n",
    "             user_revenue_premium[user_revenue_premium.group == 'control_2']['revenue'])"
   ]
  },
  {
   "cell_type": "markdown",
   "metadata": {},
   "source": [
    "Проведем попарные сравнения при помощи критерия Тьюки.  \n",
    "**H0** - средние значения в группах значимо не отличаются   \n",
    "**Результат** - есть значимые различия между тестовой и контрольными группами. В тестовой группе среднее значение дохода с пользователя больше.  "
   ]
  },
  {
   "cell_type": "code",
   "execution_count": 460,
   "metadata": {
    "scrolled": true
   },
   "outputs": [
    {
     "data": {
      "text/html": [
       "<div>\n",
       "<style scoped>\n",
       "    .dataframe tbody tr th:only-of-type {\n",
       "        vertical-align: middle;\n",
       "    }\n",
       "\n",
       "    .dataframe tbody tr th {\n",
       "        vertical-align: top;\n",
       "    }\n",
       "\n",
       "    .dataframe thead th {\n",
       "        text-align: right;\n",
       "    }\n",
       "</style>\n",
       "<table border=\"1\" class=\"dataframe\">\n",
       "  <thead>\n",
       "    <tr style=\"text-align: right;\">\n",
       "      <th></th>\n",
       "      <th>A</th>\n",
       "      <th>B</th>\n",
       "      <th>mean(A)</th>\n",
       "      <th>mean(B)</th>\n",
       "      <th>diff</th>\n",
       "      <th>se</th>\n",
       "      <th>T</th>\n",
       "      <th>p-tukey</th>\n",
       "      <th>hedges</th>\n",
       "    </tr>\n",
       "  </thead>\n",
       "  <tbody>\n",
       "    <tr>\n",
       "      <th>0</th>\n",
       "      <td>control_1</td>\n",
       "      <td>control_2</td>\n",
       "      <td>7308.387755</td>\n",
       "      <td>7302.049020</td>\n",
       "      <td>6.338735</td>\n",
       "      <td>1739.706572</td>\n",
       "      <td>0.003644</td>\n",
       "      <td>0.900000</td>\n",
       "      <td>0.000513</td>\n",
       "    </tr>\n",
       "    <tr>\n",
       "      <th>1</th>\n",
       "      <td>control_1</td>\n",
       "      <td>test</td>\n",
       "      <td>7308.387755</td>\n",
       "      <td>12100.089552</td>\n",
       "      <td>-4791.701797</td>\n",
       "      <td>1949.690443</td>\n",
       "      <td>-2.457673</td>\n",
       "      <td>0.038741</td>\n",
       "      <td>-0.387802</td>\n",
       "    </tr>\n",
       "    <tr>\n",
       "      <th>2</th>\n",
       "      <td>control_2</td>\n",
       "      <td>test</td>\n",
       "      <td>7302.049020</td>\n",
       "      <td>12100.089552</td>\n",
       "      <td>-4798.040533</td>\n",
       "      <td>1934.104766</td>\n",
       "      <td>-2.480755</td>\n",
       "      <td>0.036484</td>\n",
       "      <td>-0.388358</td>\n",
       "    </tr>\n",
       "  </tbody>\n",
       "</table>\n",
       "</div>"
      ],
      "text/plain": [
       "           A          B      mean(A)       mean(B)         diff           se  \\\n",
       "0  control_1  control_2  7308.387755   7302.049020     6.338735  1739.706572   \n",
       "1  control_1       test  7308.387755  12100.089552 -4791.701797  1949.690443   \n",
       "2  control_2       test  7302.049020  12100.089552 -4798.040533  1934.104766   \n",
       "\n",
       "          T   p-tukey    hedges  \n",
       "0  0.003644  0.900000  0.000513  \n",
       "1 -2.457673  0.038741 -0.387802  \n",
       "2 -2.480755  0.036484 -0.388358  "
      ]
     },
     "execution_count": 460,
     "metadata": {},
     "output_type": "execute_result"
    }
   ],
   "source": [
    "pg.pairwise_tukey(data = user_revenue_premium, dv = 'revenue', between = 'group' )"
   ]
  },
  {
   "cell_type": "markdown",
   "metadata": {},
   "source": [
    "Используем критерий Манна-Уитни, чтобы еще раз посмотреть на различия между группами при попарном сравнении.  \n",
    "**H0 для каждого теста** - распределения в выборках значимо не отличаются   "
   ]
  },
  {
   "cell_type": "markdown",
   "metadata": {},
   "source": [
    "Тест + контроль 1"
   ]
  },
  {
   "cell_type": "code",
   "execution_count": 461,
   "metadata": {},
   "outputs": [
    {
     "data": {
      "text/plain": [
       "MannwhitneyuResult(statistic=4947.5, pvalue=2.5446059337130588e-08)"
      ]
     },
     "execution_count": 461,
     "metadata": {},
     "output_type": "execute_result"
    }
   ],
   "source": [
    "stats.mannwhitneyu(user_revenue_premium[user_revenue_premium.group == 'test']['revenue'], \\\n",
    "             user_revenue_premium[user_revenue_premium.group == 'control_1']['revenue'])"
   ]
  },
  {
   "cell_type": "markdown",
   "metadata": {},
   "source": [
    "Тест + контроль 2"
   ]
  },
  {
   "cell_type": "code",
   "execution_count": 462,
   "metadata": {},
   "outputs": [
    {
     "data": {
      "text/plain": [
       "MannwhitneyuResult(statistic=5034.5, pvalue=1.5494296303089133e-07)"
      ]
     },
     "execution_count": 462,
     "metadata": {},
     "output_type": "execute_result"
    }
   ],
   "source": [
    "stats.mannwhitneyu(user_revenue_premium[user_revenue_premium.group == 'test']['revenue'], \\\n",
    "             user_revenue_premium[user_revenue_premium.group == 'control_2']['revenue'])"
   ]
  },
  {
   "cell_type": "markdown",
   "metadata": {},
   "source": [
    "Контроль 1 + контроль 2"
   ]
  },
  {
   "cell_type": "code",
   "execution_count": 463,
   "metadata": {},
   "outputs": [
    {
     "data": {
      "text/plain": [
       "MannwhitneyuResult(statistic=4747.5, pvalue=0.529541048802848)"
      ]
     },
     "execution_count": 463,
     "metadata": {},
     "output_type": "execute_result"
    }
   ],
   "source": [
    "stats.mannwhitneyu(user_revenue_premium[user_revenue_premium.group == 'control_1']['revenue'], \\\n",
    "             user_revenue_premium[user_revenue_premium.group == 'control_2']['revenue'])"
   ]
  },
  {
   "cell_type": "markdown",
   "metadata": {},
   "source": [
    "### Различия в частоте продления подписок\n",
    "\n",
    "Необходимо проверить, есть ли различия в частоте оплаты подписок, поскольку если их нет, значит, доход с пользователя увеличился только за счет увеличения стоимости подписок.\n",
    "\n",
    "1. Построим барплот распределения частоты оформления подписок одним пользователем.\n",
    "2. Посмотрим на диапазон дат, за который есть данные по транзакциям.\n",
    "3. Строим график динамики регистрации за весь период времени."
   ]
  },
  {
   "cell_type": "code",
   "execution_count": 464,
   "metadata": {},
   "outputs": [
    {
     "data": {
      "image/png": "[encoded data removed]",
      "text/plain": [
       "<Figure size 432x288 with 1 Axes>"
      ]
     },
     "metadata": {},
     "output_type": "display_data"
    }
   ],
   "source": [
    "sns.countplot(data = user_revenue_premium, x = 'payment_frequency', palette = 'mako')\n",
    "plt.xlabel(\"Payment frequency\", size=12)\n",
    "plt.ylabel(\"Number of users\", size=12)\n",
    "plt.title('Payment frequency per user in groups', pad = 20, size = 14)\n",
    "sns.despine()"
   ]
  },
  {
   "cell_type": "markdown",
   "metadata": {},
   "source": [
    "Данные о транзакциях представлены за период 11 месяцев с января по декабрь.   \n",
    "Построим распределение количества регистраций в течение всего периода.  \n",
    "Пользователеи регистрировались в течение всего года с пиками в мае и октябре. Значит, возможность повторно оформить подписку у большего количества пользователей была. Тем не менее, чаще всего пользователи оформляли подписку только 1 раз."
   ]
  },
  {
   "cell_type": "code",
   "execution_count": 465,
   "metadata": {},
   "outputs": [
    {
     "data": {
      "text/plain": [
       "datetime.date(2017, 1, 11)"
      ]
     },
     "execution_count": 465,
     "metadata": {},
     "output_type": "execute_result"
    }
   ],
   "source": [
    "# Первая дата транзакции\n",
    "transactions_data.query(\"product_type == ['premium_no_trial', 'trial_premiun']\").paid_at.dt.date.min()"
   ]
  },
  {
   "cell_type": "code",
   "execution_count": 466,
   "metadata": {},
   "outputs": [
    {
     "data": {
      "text/plain": [
       "datetime.date(2017, 12, 11)"
      ]
     },
     "execution_count": 466,
     "metadata": {},
     "output_type": "execute_result"
    }
   ],
   "source": [
    "# Последняя дата транзакции\n",
    "transactions_data.query(\"product_type == ['premium_no_trial', 'trial_premiun']\").paid_at.dt.date.max()"
   ]
  },
  {
   "cell_type": "code",
   "execution_count": 467,
   "metadata": {},
   "outputs": [
    {
     "data": {
      "text/html": [
       "<div>\n",
       "<style scoped>\n",
       "    .dataframe tbody tr th:only-of-type {\n",
       "        vertical-align: middle;\n",
       "    }\n",
       "\n",
       "    .dataframe tbody tr th {\n",
       "        vertical-align: top;\n",
       "    }\n",
       "\n",
       "    .dataframe thead th {\n",
       "        text-align: right;\n",
       "    }\n",
       "</style>\n",
       "<table border=\"1\" class=\"dataframe\">\n",
       "  <thead>\n",
       "    <tr style=\"text-align: right;\">\n",
       "      <th></th>\n",
       "      <th>joined_at</th>\n",
       "      <th>uid</th>\n",
       "    </tr>\n",
       "  </thead>\n",
       "  <tbody>\n",
       "    <tr>\n",
       "      <th>0</th>\n",
       "      <td>11.01</td>\n",
       "      <td>14</td>\n",
       "    </tr>\n",
       "    <tr>\n",
       "      <th>1</th>\n",
       "      <td>11.02</td>\n",
       "      <td>16</td>\n",
       "    </tr>\n",
       "    <tr>\n",
       "      <th>2</th>\n",
       "      <td>11.03</td>\n",
       "      <td>13</td>\n",
       "    </tr>\n",
       "    <tr>\n",
       "      <th>3</th>\n",
       "      <td>11.04</td>\n",
       "      <td>15</td>\n",
       "    </tr>\n",
       "    <tr>\n",
       "      <th>4</th>\n",
       "      <td>11.05</td>\n",
       "      <td>40</td>\n",
       "    </tr>\n",
       "  </tbody>\n",
       "</table>\n",
       "</div>"
      ],
      "text/plain": [
       "  joined_at  uid\n",
       "0     11.01   14\n",
       "1     11.02   16\n",
       "2     11.03   13\n",
       "3     11.04   15\n",
       "4     11.05   40"
      ]
     },
     "execution_count": 467,
     "metadata": {},
     "output_type": "execute_result"
    }
   ],
   "source": [
    "transactions_data['joined_at'] = transactions_data['joined_at'].dt.date\n",
    "registration = transactions_data \\\n",
    "                .groupby('joined_at').agg({'uid': 'nunique'}).reset_index()\n",
    "registration['joined_at'] = registration['joined_at'].apply(lambda x: x.strftime(\"%d.%m\"))        \n",
    "registration.head()"
   ]
  },
  {
   "cell_type": "code",
   "execution_count": 468,
   "metadata": {
    "scrolled": false
   },
   "outputs": [
    {
     "data": {
      "image/png": "[encoded data removed]",
      "text/plain": [
       "<Figure size 1440x576 with 1 Axes>"
      ]
     },
     "metadata": {},
     "output_type": "display_data"
    }
   ],
   "source": [
    "plt.figure(figsize = (20,8))\n",
    "sns.lineplot(data = registration, x = 'joined_at', y = 'uid')\n",
    "plt.xlabel(\"Date (day and month)\", size=14)\n",
    "plt.ylabel(\"Number of users\", size=14)\n",
    "plt.title('Registrations dinamics', pad = 20, size = 16)\n",
    "sns.despine()"
   ]
  },
  {
   "cell_type": "markdown",
   "metadata": {},
   "source": [
    "4. Проверим, имеются ли значимые различия между группами по частоте офомления подписок (payment_frequency) с помощью Хи-квадрата.  \n",
    "**H0** - частота оформления подписки пользователем не зависит от группы, распределение количества пользователей равномерно."
   ]
  },
  {
   "cell_type": "code",
   "execution_count": 469,
   "metadata": {},
   "outputs": [
    {
     "data": {
      "text/html": [
       "<div>\n",
       "<style scoped>\n",
       "    .dataframe tbody tr th:only-of-type {\n",
       "        vertical-align: middle;\n",
       "    }\n",
       "\n",
       "    .dataframe tbody tr th {\n",
       "        vertical-align: top;\n",
       "    }\n",
       "\n",
       "    .dataframe thead th {\n",
       "        text-align: right;\n",
       "    }\n",
       "</style>\n",
       "<table border=\"1\" class=\"dataframe\">\n",
       "  <thead>\n",
       "    <tr style=\"text-align: right;\">\n",
       "      <th>payment_frequency</th>\n",
       "      <th>1</th>\n",
       "      <th>2</th>\n",
       "      <th>3</th>\n",
       "    </tr>\n",
       "    <tr>\n",
       "      <th>group</th>\n",
       "      <th></th>\n",
       "      <th></th>\n",
       "      <th></th>\n",
       "    </tr>\n",
       "  </thead>\n",
       "  <tbody>\n",
       "    <tr>\n",
       "      <th>control_1</th>\n",
       "      <td>91</td>\n",
       "      <td>7</td>\n",
       "      <td>0</td>\n",
       "    </tr>\n",
       "    <tr>\n",
       "      <th>control_2</th>\n",
       "      <td>98</td>\n",
       "      <td>3</td>\n",
       "      <td>1</td>\n",
       "    </tr>\n",
       "    <tr>\n",
       "      <th>test</th>\n",
       "      <td>61</td>\n",
       "      <td>3</td>\n",
       "      <td>3</td>\n",
       "    </tr>\n",
       "  </tbody>\n",
       "</table>\n",
       "</div>"
      ],
      "text/plain": [
       "payment_frequency   1  2  3\n",
       "group                      \n",
       "control_1          91  7  0\n",
       "control_2          98  3  1\n",
       "test               61  3  3"
      ]
     },
     "execution_count": 469,
     "metadata": {},
     "output_type": "execute_result"
    }
   ],
   "source": [
    "pd.crosstab(user_revenue_premium.group, user_revenue_premium.payment_frequency)"
   ]
  },
  {
   "cell_type": "code",
   "execution_count": 470,
   "metadata": {},
   "outputs": [
    {
     "data": {
      "text/plain": [
       "(7.5805556155872225,\n",
       " 0.10820914458144011,\n",
       " 4,\n",
       " array([[91.76029963,  4.77153558,  1.46816479],\n",
       "        [95.50561798,  4.96629213,  1.52808989],\n",
       "        [62.7340824 ,  3.26217228,  1.00374532]]))"
      ]
     },
     "execution_count": 470,
     "metadata": {},
     "output_type": "execute_result"
    }
   ],
   "source": [
    "stats.chi2_contingency(pd.crosstab(user_revenue_premium.group, user_revenue_premium.payment_frequency))"
   ]
  },
  {
   "cell_type": "markdown",
   "metadata": {},
   "source": [
    "**Вывод:**\n",
    "Не можем отвергнуть нулевую гипотезу о том, что соотношение частоты оформления подпики пользователем не зависит от группы.  \n",
    "Это значит, что различия в доходе с пользователя наблюдаются скорее из-за увеличения стоимости подписки, а не из-за того, что пользователи стали чаще оплачивать подписку.\n",
    "\n",
    "Это хорошо, потому что после увеличения подписки пользователи не стали значимо реже ее оформлять, а доход все равно увеличился. "
   ]
  },
  {
   "cell_type": "markdown",
   "metadata": {},
   "source": [
    "### 5. ANOVA по метрике revenue (доход от категорий coins и other_type)"
   ]
  },
  {
   "cell_type": "markdown",
   "metadata": {},
   "source": [
    "На этапе анализа транзакций мы выяснили, что пользователи переходят с разных страниц перед оплатой разных продуктов. При оплате премиальной или пробной версии подписки это одни страницы, а при оплате внутренней валютой и оплате категории other type это другой набор страниц.  \n",
    "Поскольку премиум подписка предоставляет доступ к дополнительным возможностям, предполагаем, что пользование внутренней валютой и покупка продуктов из категории other type относится к этим возможностям.  \n",
    "Проанализируем, есть ли различия в дополнительных тратах, совершаемых премиум-пользователями в группах."
   ]
  },
  {
   "cell_type": "markdown",
   "metadata": {},
   "source": [
    "Из всех записей по транзакциям не было и нет подписки у 31 пользователя из 524.  \n",
    "Большая часть этих пользователей оплачивала продукты за внутреннюю валюту."
   ]
  },
  {
   "cell_type": "code",
   "execution_count": 471,
   "metadata": {},
   "outputs": [
    {
     "data": {
      "text/plain": [
       "524"
      ]
     },
     "execution_count": 471,
     "metadata": {},
     "output_type": "execute_result"
    }
   ],
   "source": [
    "transactions_data.uid.nunique()"
   ]
  },
  {
   "cell_type": "code",
   "execution_count": 472,
   "metadata": {
    "scrolled": true
   },
   "outputs": [
    {
     "data": {
      "text/plain": [
       "31"
      ]
     },
     "execution_count": 472,
     "metadata": {},
     "output_type": "execute_result"
    }
   ],
   "source": [
    "transactions_data.query(\"is_premium == 0 and was_premium == 0\").uid.nunique()"
   ]
  },
  {
   "cell_type": "code",
   "execution_count": 473,
   "metadata": {},
   "outputs": [
    {
     "data": {
      "text/plain": [
       "array(['coins', 'other_type'], dtype=object)"
      ]
     },
     "execution_count": 473,
     "metadata": {},
     "output_type": "execute_result"
    }
   ],
   "source": [
    "transactions_data.query(\"is_premium == 0 and was_premium == 0\").product_type.unique()"
   ]
  },
  {
   "cell_type": "code",
   "execution_count": 474,
   "metadata": {},
   "outputs": [
    {
     "data": {
      "text/plain": [
       "24"
      ]
     },
     "execution_count": 474,
     "metadata": {},
     "output_type": "execute_result"
    }
   ],
   "source": [
    "transactions_data.query(\"product_type == 'coins' and is_premium == 0 and was_premium == 0\").uid.nunique()"
   ]
  },
  {
   "cell_type": "code",
   "execution_count": 475,
   "metadata": {},
   "outputs": [
    {
     "data": {
      "text/plain": [
       "9"
      ]
     },
     "execution_count": 475,
     "metadata": {},
     "output_type": "execute_result"
    }
   ],
   "source": [
    "transactions_data.query(\"product_type == 'other_type' and is_premium == 0 and was_premium == 0\").uid.nunique()"
   ]
  },
  {
   "cell_type": "markdown",
   "metadata": {},
   "source": [
    "Посмотрим на различия в доходе c категорий продуктов **coins, other type** среди пользователей, оформивших подписку в разных группах.\n",
    "1. Создаем датасет с записями об оплате указанных продуктов пользователями, оформлявшими подписку\n",
    "2. Строим график распределения дохода\n",
    "2. Проводим анализ выборок"
   ]
  },
  {
   "cell_type": "code",
   "execution_count": 476,
   "metadata": {},
   "outputs": [
    {
     "data": {
      "text/html": [
       "<div>\n",
       "<style scoped>\n",
       "    .dataframe tbody tr th:only-of-type {\n",
       "        vertical-align: middle;\n",
       "    }\n",
       "\n",
       "    .dataframe tbody tr th {\n",
       "        vertical-align: top;\n",
       "    }\n",
       "\n",
       "    .dataframe thead th {\n",
       "        text-align: right;\n",
       "    }\n",
       "</style>\n",
       "<table border=\"1\" class=\"dataframe\">\n",
       "  <thead>\n",
       "    <tr style=\"text-align: right;\">\n",
       "      <th></th>\n",
       "      <th>uid</th>\n",
       "      <th>country</th>\n",
       "      <th>age</th>\n",
       "      <th>gender</th>\n",
       "      <th>was_premium</th>\n",
       "      <th>is_premium</th>\n",
       "      <th>group</th>\n",
       "      <th>revenue</th>\n",
       "      <th>payment_frequency</th>\n",
       "      <th>weeks_until_payment</th>\n",
       "    </tr>\n",
       "  </thead>\n",
       "  <tbody>\n",
       "    <tr>\n",
       "      <th>0</th>\n",
       "      <td>891068079.0</td>\n",
       "      <td>Argentina</td>\n",
       "      <td>29</td>\n",
       "      <td>1</td>\n",
       "      <td>1.0</td>\n",
       "      <td>1.0</td>\n",
       "      <td>control_2</td>\n",
       "      <td>10296.0</td>\n",
       "      <td>2</td>\n",
       "      <td>4</td>\n",
       "    </tr>\n",
       "    <tr>\n",
       "      <th>1</th>\n",
       "      <td>891071157.0</td>\n",
       "      <td>United States of America</td>\n",
       "      <td>22</td>\n",
       "      <td>1</td>\n",
       "      <td>1.0</td>\n",
       "      <td>1.0</td>\n",
       "      <td>test</td>\n",
       "      <td>9100.0</td>\n",
       "      <td>1</td>\n",
       "      <td>0</td>\n",
       "    </tr>\n",
       "    <tr>\n",
       "      <th>2</th>\n",
       "      <td>891075072.0</td>\n",
       "      <td>United States of America</td>\n",
       "      <td>40</td>\n",
       "      <td>1</td>\n",
       "      <td>1.0</td>\n",
       "      <td>1.0</td>\n",
       "      <td>control_2</td>\n",
       "      <td>2327.0</td>\n",
       "      <td>1</td>\n",
       "      <td>5</td>\n",
       "    </tr>\n",
       "    <tr>\n",
       "      <th>3</th>\n",
       "      <td>891077727.0</td>\n",
       "      <td>Argentina</td>\n",
       "      <td>20</td>\n",
       "      <td>1</td>\n",
       "      <td>1.0</td>\n",
       "      <td>1.0</td>\n",
       "      <td>control_2</td>\n",
       "      <td>6292.0</td>\n",
       "      <td>1</td>\n",
       "      <td>0</td>\n",
       "    </tr>\n",
       "    <tr>\n",
       "      <th>4</th>\n",
       "      <td>891080040.0</td>\n",
       "      <td>Israel</td>\n",
       "      <td>49</td>\n",
       "      <td>1</td>\n",
       "      <td>1.0</td>\n",
       "      <td>1.0</td>\n",
       "      <td>control_2</td>\n",
       "      <td>15132.0</td>\n",
       "      <td>8</td>\n",
       "      <td>5</td>\n",
       "    </tr>\n",
       "  </tbody>\n",
       "</table>\n",
       "</div>"
      ],
      "text/plain": [
       "           uid                   country  age  gender  was_premium  \\\n",
       "0  891068079.0                 Argentina   29       1          1.0   \n",
       "1  891071157.0  United States of America   22       1          1.0   \n",
       "2  891075072.0  United States of America   40       1          1.0   \n",
       "3  891077727.0                 Argentina   20       1          1.0   \n",
       "4  891080040.0                    Israel   49       1          1.0   \n",
       "\n",
       "   is_premium      group  revenue  payment_frequency  weeks_until_payment  \n",
       "0         1.0  control_2  10296.0                  2                    4  \n",
       "1         1.0       test   9100.0                  1                    0  \n",
       "2         1.0  control_2   2327.0                  1                    5  \n",
       "3         1.0  control_2   6292.0                  1                    0  \n",
       "4         1.0  control_2  15132.0                  8                    5  "
      ]
     },
     "execution_count": 476,
     "metadata": {},
     "output_type": "execute_result"
    }
   ],
   "source": [
    "user_other_revenue = transactions_data.query(\"product_type == 'other_type' and is_premium !=0 or was_premium != 0\") \\\n",
    "                        .groupby(['uid', 'country', 'age', 'gender', 'was_premium', 'is_premium', 'group'], as_index = False) \\\n",
    "                        .agg({'revenue': 'sum', 'paid_at': 'count', 'weeks_until_payment': 'min'}) \\\n",
    "                        .rename(columns ={'paid_at': 'payment_frequency'})\n",
    "user_other_revenue.head()"
   ]
  },
  {
   "cell_type": "code",
   "execution_count": 477,
   "metadata": {},
   "outputs": [
    {
     "data": {
      "text/plain": [
       "(493, 10)"
      ]
     },
     "execution_count": 477,
     "metadata": {},
     "output_type": "execute_result"
    }
   ],
   "source": [
    "user_other_revenue.shape"
   ]
  },
  {
   "cell_type": "code",
   "execution_count": 478,
   "metadata": {},
   "outputs": [
    {
     "data": {
      "image/png": "[encoded data removed]",
      "text/plain": [
       "<Figure size 864x576 with 1 Axes>"
      ]
     },
     "metadata": {},
     "output_type": "display_data"
    }
   ],
   "source": [
    "plt.figure(figsize= (12, 8))\n",
    "sns.boxplot(x = 'group', \\\n",
    "            y = 'revenue', \\\n",
    "            data = user_other_revenue.sort_values('group'), \\\n",
    "            palette = group_palette, \\\n",
    "            saturation = 1,\\\n",
    "            linewidth = 0.7)\n",
    "plt.xlabel(\"Group\", size=12)\n",
    "plt.ylabel(\"Revenue per user\", size=12)\n",
    "plt.title('Revenue distribution in groups', pad = 20, size = 14)\n",
    "sns.despine()"
   ]
  },
  {
   "cell_type": "markdown",
   "metadata": {},
   "source": [
    "Проверка выборок на нормальность.  \n",
    "**H0** - выборка взята из генеральной совокупности, в которой значения распределены нормально  \n",
    "**Результат** - распределения в выборках значимо отличаются от нормального."
   ]
  },
  {
   "cell_type": "code",
   "execution_count": 479,
   "metadata": {},
   "outputs": [
    {
     "name": "stdout",
     "output_type": "stream",
     "text": [
      "test p-value: \t 1.016649123592866e-18\n",
      "control_1 p-value: \t 2.0465169552658474e-19\n",
      "control_2 p-value: \t 9.807329930946019e-20\n"
     ]
    }
   ],
   "source": [
    "for group in group_names:\n",
    "    print(group, 'p-value:', '\\t', stats.shapiro(user_other_revenue[user_other_revenue.group == group]['revenue'])[1])"
   ]
  },
  {
   "cell_type": "markdown",
   "metadata": {},
   "source": [
    "Проверка на гомогенность дисперсии  \n",
    "**H0** - выборки взяты из генеральных совокупностей с одинаковыми дисперсиями  \n",
    "**Результат** - дисперсии в группах значимо не различаются "
   ]
  },
  {
   "cell_type": "code",
   "execution_count": 480,
   "metadata": {},
   "outputs": [
    {
     "data": {
      "text/plain": [
       "LeveneResult(statistic=4.12808697851337, pvalue=0.016677496174243855)"
      ]
     },
     "execution_count": 480,
     "metadata": {},
     "output_type": "execute_result"
    }
   ],
   "source": [
    "stats.levene(user_other_revenue[user_other_revenue.group == 'test']['revenue'], \\\n",
    "             user_other_revenue[user_other_revenue.group == 'control_1']['revenue'], \\\n",
    "             user_other_revenue[user_other_revenue.group == 'control_2']['revenue'])"
   ]
  },
  {
   "cell_type": "markdown",
   "metadata": {},
   "source": [
    "Выборки не удовлетворяют условию гомогенности дисперсий, для проведения anova используем критерий Уэлча.  \n",
    "\n",
    "**H0** - ни одно из средних значений в выборках не отличается от других  \n",
    "**Результат** - среднее хотя бы в одной группе значимо отличается от других"
   ]
  },
  {
   "cell_type": "code",
   "execution_count": 481,
   "metadata": {},
   "outputs": [
    {
     "data": {
      "text/html": [
       "<div>\n",
       "<style scoped>\n",
       "    .dataframe tbody tr th:only-of-type {\n",
       "        vertical-align: middle;\n",
       "    }\n",
       "\n",
       "    .dataframe tbody tr th {\n",
       "        vertical-align: top;\n",
       "    }\n",
       "\n",
       "    .dataframe thead th {\n",
       "        text-align: right;\n",
       "    }\n",
       "</style>\n",
       "<table border=\"1\" class=\"dataframe\">\n",
       "  <thead>\n",
       "    <tr style=\"text-align: right;\">\n",
       "      <th></th>\n",
       "      <th>Source</th>\n",
       "      <th>ddof1</th>\n",
       "      <th>ddof2</th>\n",
       "      <th>F</th>\n",
       "      <th>p-unc</th>\n",
       "      <th>np2</th>\n",
       "    </tr>\n",
       "  </thead>\n",
       "  <tbody>\n",
       "    <tr>\n",
       "      <th>0</th>\n",
       "      <td>group</td>\n",
       "      <td>2</td>\n",
       "      <td>286.440776</td>\n",
       "      <td>6.157904</td>\n",
       "      <td>0.002407</td>\n",
       "      <td>0.040056</td>\n",
       "    </tr>\n",
       "  </tbody>\n",
       "</table>\n",
       "</div>"
      ],
      "text/plain": [
       "  Source  ddof1       ddof2         F     p-unc       np2\n",
       "0  group      2  286.440776  6.157904  0.002407  0.040056"
      ]
     },
     "execution_count": 481,
     "metadata": {},
     "output_type": "execute_result"
    }
   ],
   "source": [
    "pg.welch_anova(data = user_other_revenue, \\\n",
    "              dv = 'revenue', \\\n",
    "              between = 'group')"
   ]
  },
  {
   "cell_type": "markdown",
   "metadata": {},
   "source": [
    "Попарные сравнения сделаем при помощи теста Геймса-Хоувелла (поправка на различия в дисперсиях).  \n",
    "\n",
    "**H0 для кадой пары** - средние в группах не имеют значимых различий.  \n",
    "**Результат** - получили значимые различия в доходе между тестовой и котрольными группами. В тестовой группе доход с пользователя оказался статистически значимо больше."
   ]
  },
  {
   "cell_type": "code",
   "execution_count": 482,
   "metadata": {},
   "outputs": [
    {
     "data": {
      "text/html": [
       "<div>\n",
       "<style scoped>\n",
       "    .dataframe tbody tr th:only-of-type {\n",
       "        vertical-align: middle;\n",
       "    }\n",
       "\n",
       "    .dataframe tbody tr th {\n",
       "        vertical-align: top;\n",
       "    }\n",
       "\n",
       "    .dataframe thead th {\n",
       "        text-align: right;\n",
       "    }\n",
       "</style>\n",
       "<table border=\"1\" class=\"dataframe\">\n",
       "  <thead>\n",
       "    <tr style=\"text-align: right;\">\n",
       "      <th></th>\n",
       "      <th>A</th>\n",
       "      <th>B</th>\n",
       "      <th>mean(A)</th>\n",
       "      <th>mean(B)</th>\n",
       "      <th>diff</th>\n",
       "      <th>se</th>\n",
       "      <th>T</th>\n",
       "      <th>df</th>\n",
       "      <th>pval</th>\n",
       "      <th>hedges</th>\n",
       "    </tr>\n",
       "  </thead>\n",
       "  <tbody>\n",
       "    <tr>\n",
       "      <th>0</th>\n",
       "      <td>control_1</td>\n",
       "      <td>control_2</td>\n",
       "      <td>11100.393258</td>\n",
       "      <td>10688.08</td>\n",
       "      <td>412.313258</td>\n",
       "      <td>1001.927014</td>\n",
       "      <td>0.411520</td>\n",
       "      <td>350.977663</td>\n",
       "      <td>0.900000</td>\n",
       "      <td>0.043714</td>\n",
       "    </tr>\n",
       "    <tr>\n",
       "      <th>1</th>\n",
       "      <td>control_1</td>\n",
       "      <td>test</td>\n",
       "      <td>11100.393258</td>\n",
       "      <td>16570.45</td>\n",
       "      <td>-5470.056742</td>\n",
       "      <td>1702.260329</td>\n",
       "      <td>-3.213408</td>\n",
       "      <td>196.606334</td>\n",
       "      <td>0.004356</td>\n",
       "      <td>-0.362137</td>\n",
       "    </tr>\n",
       "    <tr>\n",
       "      <th>2</th>\n",
       "      <td>control_2</td>\n",
       "      <td>test</td>\n",
       "      <td>10688.080000</td>\n",
       "      <td>16570.45</td>\n",
       "      <td>-5882.370000</td>\n",
       "      <td>1702.092347</td>\n",
       "      <td>-3.455964</td>\n",
       "      <td>196.430914</td>\n",
       "      <td>0.001936</td>\n",
       "      <td>-0.390930</td>\n",
       "    </tr>\n",
       "  </tbody>\n",
       "</table>\n",
       "</div>"
      ],
      "text/plain": [
       "           A          B       mean(A)   mean(B)         diff           se  \\\n",
       "0  control_1  control_2  11100.393258  10688.08   412.313258  1001.927014   \n",
       "1  control_1       test  11100.393258  16570.45 -5470.056742  1702.260329   \n",
       "2  control_2       test  10688.080000  16570.45 -5882.370000  1702.092347   \n",
       "\n",
       "          T          df      pval    hedges  \n",
       "0  0.411520  350.977663  0.900000  0.043714  \n",
       "1 -3.213408  196.606334  0.004356 -0.362137  \n",
       "2 -3.455964  196.430914  0.001936 -0.390930  "
      ]
     },
     "execution_count": 482,
     "metadata": {},
     "output_type": "execute_result"
    }
   ],
   "source": [
    "pg.pairwise_gameshowell(data = user_other_revenue, \\\n",
    "              dv = 'revenue', \\\n",
    "              between = 'group')"
   ]
  },
  {
   "cell_type": "markdown",
   "metadata": {},
   "source": [
    "Критерий Манна-Уитни  \n",
    "**H0 для каждого теста** - распределения в выборках значимо не отличаются  "
   ]
  },
  {
   "cell_type": "code",
   "execution_count": 483,
   "metadata": {},
   "outputs": [
    {
     "name": "stdout",
     "output_type": "stream",
     "text": [
      "test + control_1 p-value = 2.5446059337130588e-08\n",
      "test + control_2 p-value = 1.5494296303089133e-07\n",
      "control_1 + control_2 p-value = 0.529541048802848\n"
     ]
    }
   ],
   "source": [
    "print(f\"test + control_1 p-value = {stats.mannwhitneyu(user_revenue_premium[user_revenue_premium.group == 'test']['revenue'], user_revenue_premium[user_revenue_premium.group == 'control_1']['revenue'])[1]}\" '\\n'\n",
    "     f\"test + control_2 p-value = {stats.mannwhitneyu(user_revenue_premium[user_revenue_premium.group == 'test']['revenue'], user_revenue_premium[user_revenue_premium.group == 'control_2']['revenue'])[1]}\" '\\n'\n",
    "     f\"control_1 + control_2 p-value = {stats.mannwhitneyu(user_revenue_premium[user_revenue_premium.group == 'control_1']['revenue'], user_revenue_premium[user_revenue_premium.group == 'control_2']['revenue'])[1]}\")"
   ]
  },
  {
   "cell_type": "markdown",
   "metadata": {},
   "source": [
    "### 5. Множественный ANOVA по метрике revenue"
   ]
  },
  {
   "cell_type": "markdown",
   "metadata": {},
   "source": [
    "Проверим, есть ли эффект между определенными группами пользователей.\n",
    "Разделим пользователей на группы по показателям:\n",
    "- Возраст (разделениям по процентиллям)\n",
    "- Количество посещений (разделениям по процентиллям)\n",
    "- Страна\n",
    "\n",
    "\n",
    "1. Создаем таблицы с диапазонами значений по возрасту, количеству посещений и населению страны для разбиения пользователей на группы\n",
    "2. Создаем функции, которые определяют, к какой группе пользователь относится по возрасту age_group(), количеству посещений visits_group()\n",
    "2. Объединим таблицы users_info, transactions_data c полученными результатами\n",
    "3. Посмотрим, есть ли разница между группами по доходу от подписки и от иных платежей"
   ]
  },
  {
   "cell_type": "code",
   "execution_count": 484,
   "metadata": {},
   "outputs": [],
   "source": [
    "age_groups = pd.DataFrame({'age_left': users_info.age.quantile([0, 0.5, 0.75]).values.round(),\\\n",
    "                                'age_right': users_info.age.quantile([ 0.5, 0.75, 1]).values.round()}, \\\n",
    "                               index = (1,2,3))\n",
    "\n",
    "visits_groups = pd.DataFrame({'vis_left': users_info.visits.quantile([0, 0.5, 0.75]).values.round(),\\\n",
    "                                'vis_right': users_info.visits.quantile([ 0.5, 0.75, 1]).values.round()}, \\\n",
    "                               index = (1,2,3))"
   ]
  },
  {
   "cell_type": "code",
   "execution_count": 485,
   "metadata": {},
   "outputs": [
    {
     "data": {
      "text/html": [
       "<div>\n",
       "<style scoped>\n",
       "    .dataframe tbody tr th:only-of-type {\n",
       "        vertical-align: middle;\n",
       "    }\n",
       "\n",
       "    .dataframe tbody tr th {\n",
       "        vertical-align: top;\n",
       "    }\n",
       "\n",
       "    .dataframe thead th {\n",
       "        text-align: right;\n",
       "    }\n",
       "</style>\n",
       "<table border=\"1\" class=\"dataframe\">\n",
       "  <thead>\n",
       "    <tr style=\"text-align: right;\">\n",
       "      <th></th>\n",
       "      <th>age_left</th>\n",
       "      <th>age_right</th>\n",
       "    </tr>\n",
       "  </thead>\n",
       "  <tbody>\n",
       "    <tr>\n",
       "      <th>1</th>\n",
       "      <td>16.0</td>\n",
       "      <td>30.0</td>\n",
       "    </tr>\n",
       "    <tr>\n",
       "      <th>2</th>\n",
       "      <td>30.0</td>\n",
       "      <td>38.0</td>\n",
       "    </tr>\n",
       "    <tr>\n",
       "      <th>3</th>\n",
       "      <td>38.0</td>\n",
       "      <td>99.0</td>\n",
       "    </tr>\n",
       "  </tbody>\n",
       "</table>\n",
       "</div>"
      ],
      "text/plain": [
       "   age_left  age_right\n",
       "1      16.0       30.0\n",
       "2      30.0       38.0\n",
       "3      38.0       99.0"
      ]
     },
     "execution_count": 485,
     "metadata": {},
     "output_type": "execute_result"
    }
   ],
   "source": [
    "age_groups"
   ]
  },
  {
   "cell_type": "code",
   "execution_count": 486,
   "metadata": {},
   "outputs": [
    {
     "data": {
      "text/html": [
       "<div>\n",
       "<style scoped>\n",
       "    .dataframe tbody tr th:only-of-type {\n",
       "        vertical-align: middle;\n",
       "    }\n",
       "\n",
       "    .dataframe tbody tr th {\n",
       "        vertical-align: top;\n",
       "    }\n",
       "\n",
       "    .dataframe thead th {\n",
       "        text-align: right;\n",
       "    }\n",
       "</style>\n",
       "<table border=\"1\" class=\"dataframe\">\n",
       "  <thead>\n",
       "    <tr style=\"text-align: right;\">\n",
       "      <th></th>\n",
       "      <th>vis_left</th>\n",
       "      <th>vis_right</th>\n",
       "    </tr>\n",
       "  </thead>\n",
       "  <tbody>\n",
       "    <tr>\n",
       "      <th>1</th>\n",
       "      <td>0.0</td>\n",
       "      <td>2.0</td>\n",
       "    </tr>\n",
       "    <tr>\n",
       "      <th>2</th>\n",
       "      <td>2.0</td>\n",
       "      <td>7.0</td>\n",
       "    </tr>\n",
       "    <tr>\n",
       "      <th>3</th>\n",
       "      <td>7.0</td>\n",
       "      <td>31.0</td>\n",
       "    </tr>\n",
       "  </tbody>\n",
       "</table>\n",
       "</div>"
      ],
      "text/plain": [
       "   vis_left  vis_right\n",
       "1       0.0        2.0\n",
       "2       2.0        7.0\n",
       "3       7.0       31.0"
      ]
     },
     "execution_count": 486,
     "metadata": {},
     "output_type": "execute_result"
    }
   ],
   "source": [
    "visits_groups"
   ]
  },
  {
   "cell_type": "code",
   "execution_count": 487,
   "metadata": {},
   "outputs": [],
   "source": [
    "def age_group(age):\n",
    "    for row in age_groups.itertuples():\n",
    "        if age >= row.age_left and age < row.age_right:\n",
    "            group = row.Index\n",
    "        elif age == row.age_right and row.Index == 3:\n",
    "            group = row.Index\n",
    "    return (group)  \n",
    "users_info['age_group'] = users_info['age'].apply(lambda x: age_group(x))"
   ]
  },
  {
   "cell_type": "code",
   "execution_count": 488,
   "metadata": {},
   "outputs": [],
   "source": [
    "def visits_group(visits):\n",
    "    for row in visits_groups.itertuples():\n",
    "        if visits>= row.vis_left and visits < row.vis_right:\n",
    "            group = row.Index\n",
    "        elif visits == row.vis_right and row.Index == 3:\n",
    "            group = row.Index\n",
    "    return (group)  \n",
    "users_info['visits_group'] = users_info['visits'].apply(lambda x: visits_group(x))"
   ]
  },
  {
   "cell_type": "markdown",
   "metadata": {},
   "source": [
    "Добавим новые столбцы в датасеты, которые будем анализировать дальше"
   ]
  },
  {
   "cell_type": "code",
   "execution_count": 489,
   "metadata": {},
   "outputs": [],
   "source": [
    "user_revenue_premium = user_revenue_premium.merge(users_info[['uid', 'age_group','visits_group']], on = 'uid', how = 'left')"
   ]
  },
  {
   "cell_type": "code",
   "execution_count": 490,
   "metadata": {},
   "outputs": [],
   "source": [
    "user_other_revenue = user_other_revenue.merge(users_info[['uid', 'age_group', 'visits_group']], on = 'uid', how = 'left')"
   ]
  },
  {
   "cell_type": "code",
   "execution_count": 500,
   "metadata": {},
   "outputs": [],
   "source": [
    "transactions_data = transactions_data.merge(users_info[['uid', 'age_group', 'visits_group']], on = 'uid', how = 'left')"
   ]
  },
  {
   "cell_type": "markdown",
   "metadata": {},
   "source": [
    "Будем считать, что нововведение имеет смысл между группами пользователей, если влияние фактора группы, к которой относится пользователь (по возрасту, количеству посещений или стране) на доход за подписку или от иных трат статистически значимо.  \n",
    "Для проверки используем множественный ANOVA"
   ]
  },
  {
   "cell_type": "markdown",
   "metadata": {},
   "source": [
    "**Для стран:**"
   ]
  },
  {
   "cell_type": "markdown",
   "metadata": {},
   "source": [
    "1. Общий доход с пользователя  \n",
    "**H0** - доход с пользователя не зависит от страны и группы, к которой принадлежит пользователь, а также от совокупности этих факторов."
   ]
  },
  {
   "cell_type": "code",
   "execution_count": 503,
   "metadata": {},
   "outputs": [
    {
     "name": "stderr",
     "output_type": "stream",
     "text": [
      "/opt/tljh/user/lib/python3.7/site-packages/statsmodels/base/model.py:1865: ValueWarning: covariance of constraints does not have full rank. The number of constraints is 21, but rank is 9\n",
      "  'rank is %d' % (J, J_), ValueWarning)\n",
      "/opt/tljh/user/lib/python3.7/site-packages/statsmodels/base/model.py:1865: ValueWarning: covariance of constraints does not have full rank. The number of constraints is 42, but rank is 34\n",
      "  'rank is %d' % (J, J_), ValueWarning)\n"
     ]
    },
    {
     "data": {
      "text/html": [
       "<div>\n",
       "<style scoped>\n",
       "    .dataframe tbody tr th:only-of-type {\n",
       "        vertical-align: middle;\n",
       "    }\n",
       "\n",
       "    .dataframe tbody tr th {\n",
       "        vertical-align: top;\n",
       "    }\n",
       "\n",
       "    .dataframe thead th {\n",
       "        text-align: right;\n",
       "    }\n",
       "</style>\n",
       "<table border=\"1\" class=\"dataframe\">\n",
       "  <thead>\n",
       "    <tr style=\"text-align: right;\">\n",
       "      <th></th>\n",
       "      <th>sum_sq</th>\n",
       "      <th>df</th>\n",
       "      <th>F</th>\n",
       "      <th>PR(&gt;F)</th>\n",
       "    </tr>\n",
       "  </thead>\n",
       "  <tbody>\n",
       "    <tr>\n",
       "      <th>group</th>\n",
       "      <td>1.295613e+09</td>\n",
       "      <td>2.0</td>\n",
       "      <td>4.074979</td>\n",
       "      <td>0.017595</td>\n",
       "    </tr>\n",
       "    <tr>\n",
       "      <th>country</th>\n",
       "      <td>4.260961e+09</td>\n",
       "      <td>21.0</td>\n",
       "      <td>1.276345</td>\n",
       "      <td>0.247175</td>\n",
       "    </tr>\n",
       "    <tr>\n",
       "      <th>group:country</th>\n",
       "      <td>6.062563e+09</td>\n",
       "      <td>42.0</td>\n",
       "      <td>0.908002</td>\n",
       "      <td>0.620033</td>\n",
       "    </tr>\n",
       "    <tr>\n",
       "      <th>Residual</th>\n",
       "      <td>7.487571e+10</td>\n",
       "      <td>471.0</td>\n",
       "      <td>NaN</td>\n",
       "      <td>NaN</td>\n",
       "    </tr>\n",
       "  </tbody>\n",
       "</table>\n",
       "</div>"
      ],
      "text/plain": [
       "                     sum_sq     df         F    PR(>F)\n",
       "group          1.295613e+09    2.0  4.074979  0.017595\n",
       "country        4.260961e+09   21.0  1.276345  0.247175\n",
       "group:country  6.062563e+09   42.0  0.908002  0.620033\n",
       "Residual       7.487571e+10  471.0       NaN       NaN"
      ]
     },
     "execution_count": 503,
     "metadata": {},
     "output_type": "execute_result"
    }
   ],
   "source": [
    "formula = 'total_revenue ~ group + country + group:country'\n",
    "model = ols(formula, transactions_data.drop_duplicates('uid')).fit()\n",
    "aov_table = anova_lm(model, typ=2)\n",
    "aov_table"
   ]
  },
  {
   "cell_type": "markdown",
   "metadata": {},
   "source": [
    "2. Доход от премиум-подписки   \n",
    "**H0** - доход с пользователя не зависит от страны и группы, к которой принадлежит пользователь, а также от совокупности этих факторов."
   ]
  },
  {
   "cell_type": "code",
   "execution_count": 491,
   "metadata": {},
   "outputs": [
    {
     "name": "stderr",
     "output_type": "stream",
     "text": [
      "/opt/tljh/user/lib/python3.7/site-packages/statsmodels/base/model.py:1865: ValueWarning: covariance of constraints does not have full rank. The number of constraints is 20, but rank is 11\n",
      "  'rank is %d' % (J, J_), ValueWarning)\n",
      "/opt/tljh/user/lib/python3.7/site-packages/statsmodels/base/model.py:1865: ValueWarning: covariance of constraints does not have full rank. The number of constraints is 40, but rank is 31\n",
      "  'rank is %d' % (J, J_), ValueWarning)\n"
     ]
    },
    {
     "data": {
      "text/html": [
       "<div>\n",
       "<style scoped>\n",
       "    .dataframe tbody tr th:only-of-type {\n",
       "        vertical-align: middle;\n",
       "    }\n",
       "\n",
       "    .dataframe tbody tr th {\n",
       "        vertical-align: top;\n",
       "    }\n",
       "\n",
       "    .dataframe thead th {\n",
       "        text-align: right;\n",
       "    }\n",
       "</style>\n",
       "<table border=\"1\" class=\"dataframe\">\n",
       "  <thead>\n",
       "    <tr style=\"text-align: right;\">\n",
       "      <th></th>\n",
       "      <th>sum_sq</th>\n",
       "      <th>df</th>\n",
       "      <th>F</th>\n",
       "      <th>PR(&gt;F)</th>\n",
       "    </tr>\n",
       "  </thead>\n",
       "  <tbody>\n",
       "    <tr>\n",
       "      <th>group</th>\n",
       "      <td>7.099081e+08</td>\n",
       "      <td>2.0</td>\n",
       "      <td>2.262098</td>\n",
       "      <td>0.106582</td>\n",
       "    </tr>\n",
       "    <tr>\n",
       "      <th>country</th>\n",
       "      <td>4.956563e+09</td>\n",
       "      <td>20.0</td>\n",
       "      <td>1.579392</td>\n",
       "      <td>0.106244</td>\n",
       "    </tr>\n",
       "    <tr>\n",
       "      <th>group:country</th>\n",
       "      <td>3.002937e+09</td>\n",
       "      <td>40.0</td>\n",
       "      <td>0.478438</td>\n",
       "      <td>0.991831</td>\n",
       "    </tr>\n",
       "    <tr>\n",
       "      <th>Residual</th>\n",
       "      <td>3.405026e+10</td>\n",
       "      <td>217.0</td>\n",
       "      <td>NaN</td>\n",
       "      <td>NaN</td>\n",
       "    </tr>\n",
       "  </tbody>\n",
       "</table>\n",
       "</div>"
      ],
      "text/plain": [
       "                     sum_sq     df         F    PR(>F)\n",
       "group          7.099081e+08    2.0  2.262098  0.106582\n",
       "country        4.956563e+09   20.0  1.579392  0.106244\n",
       "group:country  3.002937e+09   40.0  0.478438  0.991831\n",
       "Residual       3.405026e+10  217.0       NaN       NaN"
      ]
     },
     "execution_count": 491,
     "metadata": {},
     "output_type": "execute_result"
    }
   ],
   "source": [
    "formula = 'revenue ~ group + country + group:country'\n",
    "model = ols(formula, user_revenue_premium).fit()\n",
    "aov_table = anova_lm(model, typ=2)\n",
    "aov_table"
   ]
  },
  {
   "cell_type": "markdown",
   "metadata": {},
   "source": [
    "3. Доход от категорий coins и other type  \n",
    "**H0** - доход с пользователя не зависит от страны и группы, к которой принадлежит пользователь, а также от совокупности этих факторов."
   ]
  },
  {
   "cell_type": "code",
   "execution_count": 492,
   "metadata": {
    "scrolled": true
   },
   "outputs": [
    {
     "name": "stderr",
     "output_type": "stream",
     "text": [
      "/opt/tljh/user/lib/python3.7/site-packages/statsmodels/base/model.py:1865: ValueWarning: covariance of constraints does not have full rank. The number of constraints is 21, but rank is 9\n",
      "  'rank is %d' % (J, J_), ValueWarning)\n",
      "/opt/tljh/user/lib/python3.7/site-packages/statsmodels/base/model.py:1865: ValueWarning: covariance of constraints does not have full rank. The number of constraints is 42, but rank is 34\n",
      "  'rank is %d' % (J, J_), ValueWarning)\n"
     ]
    },
    {
     "data": {
      "text/html": [
       "<div>\n",
       "<style scoped>\n",
       "    .dataframe tbody tr th:only-of-type {\n",
       "        vertical-align: middle;\n",
       "    }\n",
       "\n",
       "    .dataframe tbody tr th {\n",
       "        vertical-align: top;\n",
       "    }\n",
       "\n",
       "    .dataframe thead th {\n",
       "        text-align: right;\n",
       "    }\n",
       "</style>\n",
       "<table border=\"1\" class=\"dataframe\">\n",
       "  <thead>\n",
       "    <tr style=\"text-align: right;\">\n",
       "      <th></th>\n",
       "      <th>sum_sq</th>\n",
       "      <th>df</th>\n",
       "      <th>F</th>\n",
       "      <th>PR(&gt;F)</th>\n",
       "    </tr>\n",
       "  </thead>\n",
       "  <tbody>\n",
       "    <tr>\n",
       "      <th>group</th>\n",
       "      <td>2.795809e+09</td>\n",
       "      <td>2.0</td>\n",
       "      <td>8.610281</td>\n",
       "      <td>0.000215</td>\n",
       "    </tr>\n",
       "    <tr>\n",
       "      <th>country</th>\n",
       "      <td>2.626755e+09</td>\n",
       "      <td>21.0</td>\n",
       "      <td>0.770442</td>\n",
       "      <td>0.643944</td>\n",
       "    </tr>\n",
       "    <tr>\n",
       "      <th>group:country</th>\n",
       "      <td>4.806321e+09</td>\n",
       "      <td>42.0</td>\n",
       "      <td>0.704861</td>\n",
       "      <td>0.893900</td>\n",
       "    </tr>\n",
       "    <tr>\n",
       "      <th>Residual</th>\n",
       "      <td>7.143530e+10</td>\n",
       "      <td>440.0</td>\n",
       "      <td>NaN</td>\n",
       "      <td>NaN</td>\n",
       "    </tr>\n",
       "  </tbody>\n",
       "</table>\n",
       "</div>"
      ],
      "text/plain": [
       "                     sum_sq     df         F    PR(>F)\n",
       "group          2.795809e+09    2.0  8.610281  0.000215\n",
       "country        2.626755e+09   21.0  0.770442  0.643944\n",
       "group:country  4.806321e+09   42.0  0.704861  0.893900\n",
       "Residual       7.143530e+10  440.0       NaN       NaN"
      ]
     },
     "execution_count": 492,
     "metadata": {},
     "output_type": "execute_result"
    }
   ],
   "source": [
    "formula = 'revenue ~ group + country + group:country'\n",
    "model = ols(formula, user_other_revenue).fit()\n",
    "aov_table = anova_lm(model, typ=2)\n",
    "aov_table"
   ]
  },
  {
   "cell_type": "markdown",
   "metadata": {},
   "source": [
    "**Для групп по количеству посещений:**"
   ]
  },
  {
   "cell_type": "markdown",
   "metadata": {},
   "source": [
    "1. Общий доход с пользователя  \n",
    "**H0** - доход с пользователя не зависит от группы, к которой принадлежит пользователь, и группы по количеству посещений, а также от совокупности этих факторов."
   ]
  },
  {
   "cell_type": "code",
   "execution_count": 505,
   "metadata": {},
   "outputs": [
    {
     "data": {
      "text/html": [
       "<div>\n",
       "<style scoped>\n",
       "    .dataframe tbody tr th:only-of-type {\n",
       "        vertical-align: middle;\n",
       "    }\n",
       "\n",
       "    .dataframe tbody tr th {\n",
       "        vertical-align: top;\n",
       "    }\n",
       "\n",
       "    .dataframe thead th {\n",
       "        text-align: right;\n",
       "    }\n",
       "</style>\n",
       "<table border=\"1\" class=\"dataframe\">\n",
       "  <thead>\n",
       "    <tr style=\"text-align: right;\">\n",
       "      <th></th>\n",
       "      <th>sum_sq</th>\n",
       "      <th>df</th>\n",
       "      <th>F</th>\n",
       "      <th>PR(&gt;F)</th>\n",
       "    </tr>\n",
       "  </thead>\n",
       "  <tbody>\n",
       "    <tr>\n",
       "      <th>group</th>\n",
       "      <td>3.084201e+09</td>\n",
       "      <td>2.0</td>\n",
       "      <td>9.887880</td>\n",
       "      <td>0.000061</td>\n",
       "    </tr>\n",
       "    <tr>\n",
       "      <th>visits_group</th>\n",
       "      <td>1.332481e+09</td>\n",
       "      <td>1.0</td>\n",
       "      <td>8.543811</td>\n",
       "      <td>0.003619</td>\n",
       "    </tr>\n",
       "    <tr>\n",
       "      <th>group:visits_group</th>\n",
       "      <td>4.510590e+08</td>\n",
       "      <td>2.0</td>\n",
       "      <td>1.446085</td>\n",
       "      <td>0.236439</td>\n",
       "    </tr>\n",
       "    <tr>\n",
       "      <th>Residual</th>\n",
       "      <td>8.078658e+10</td>\n",
       "      <td>518.0</td>\n",
       "      <td>NaN</td>\n",
       "      <td>NaN</td>\n",
       "    </tr>\n",
       "  </tbody>\n",
       "</table>\n",
       "</div>"
      ],
      "text/plain": [
       "                          sum_sq     df         F    PR(>F)\n",
       "group               3.084201e+09    2.0  9.887880  0.000061\n",
       "visits_group        1.332481e+09    1.0  8.543811  0.003619\n",
       "group:visits_group  4.510590e+08    2.0  1.446085  0.236439\n",
       "Residual            8.078658e+10  518.0       NaN       NaN"
      ]
     },
     "execution_count": 505,
     "metadata": {},
     "output_type": "execute_result"
    }
   ],
   "source": [
    "formula = 'total_revenue ~ group + visits_group + group:visits_group'\n",
    "model = ols(formula, transactions_data.drop_duplicates('uid')).fit()\n",
    "aov_table = anova_lm(model, typ=2)\n",
    "aov_table"
   ]
  },
  {
   "cell_type": "markdown",
   "metadata": {},
   "source": [
    "2. Доход от премиум-подписки   \n",
    "**H0** - доход с пользователя не зависит от группы, к которой принадлежит пользователь, и группы по количеству посещений, а также от совокупности этих факторов."
   ]
  },
  {
   "cell_type": "code",
   "execution_count": 493,
   "metadata": {},
   "outputs": [
    {
     "data": {
      "text/html": [
       "<div>\n",
       "<style scoped>\n",
       "    .dataframe tbody tr th:only-of-type {\n",
       "        vertical-align: middle;\n",
       "    }\n",
       "\n",
       "    .dataframe tbody tr th {\n",
       "        vertical-align: top;\n",
       "    }\n",
       "\n",
       "    .dataframe thead th {\n",
       "        text-align: right;\n",
       "    }\n",
       "</style>\n",
       "<table border=\"1\" class=\"dataframe\">\n",
       "  <thead>\n",
       "    <tr style=\"text-align: right;\">\n",
       "      <th></th>\n",
       "      <th>sum_sq</th>\n",
       "      <th>df</th>\n",
       "      <th>F</th>\n",
       "      <th>PR(&gt;F)</th>\n",
       "    </tr>\n",
       "  </thead>\n",
       "  <tbody>\n",
       "    <tr>\n",
       "      <th>group</th>\n",
       "      <td>1.127685e+09</td>\n",
       "      <td>2.0</td>\n",
       "      <td>3.690037</td>\n",
       "      <td>0.026283</td>\n",
       "    </tr>\n",
       "    <tr>\n",
       "      <th>visits_group</th>\n",
       "      <td>2.541441e+06</td>\n",
       "      <td>1.0</td>\n",
       "      <td>0.016632</td>\n",
       "      <td>0.897484</td>\n",
       "    </tr>\n",
       "    <tr>\n",
       "      <th>group:visits_group</th>\n",
       "      <td>5.116425e+07</td>\n",
       "      <td>2.0</td>\n",
       "      <td>0.167421</td>\n",
       "      <td>0.845934</td>\n",
       "    </tr>\n",
       "    <tr>\n",
       "      <th>Residual</th>\n",
       "      <td>3.988116e+10</td>\n",
       "      <td>261.0</td>\n",
       "      <td>NaN</td>\n",
       "      <td>NaN</td>\n",
       "    </tr>\n",
       "  </tbody>\n",
       "</table>\n",
       "</div>"
      ],
      "text/plain": [
       "                          sum_sq     df         F    PR(>F)\n",
       "group               1.127685e+09    2.0  3.690037  0.026283\n",
       "visits_group        2.541441e+06    1.0  0.016632  0.897484\n",
       "group:visits_group  5.116425e+07    2.0  0.167421  0.845934\n",
       "Residual            3.988116e+10  261.0       NaN       NaN"
      ]
     },
     "execution_count": 493,
     "metadata": {},
     "output_type": "execute_result"
    }
   ],
   "source": [
    "formula = 'revenue ~ group + visits_group + group:visits_group'\n",
    "model = ols(formula, user_revenue_premium).fit()\n",
    "aov_table = anova_lm(model, typ=2)\n",
    "aov_table"
   ]
  },
  {
   "cell_type": "markdown",
   "metadata": {},
   "source": [
    "3. Доход от категорий coins и other type  \n",
    "**H0** - доход с пользователя не зависит от группы, к которой принадлежит пользователь, и группы по количеству посещений, а также от совокупности этих факторов."
   ]
  },
  {
   "cell_type": "code",
   "execution_count": 494,
   "metadata": {},
   "outputs": [
    {
     "data": {
      "text/html": [
       "<div>\n",
       "<style scoped>\n",
       "    .dataframe tbody tr th:only-of-type {\n",
       "        vertical-align: middle;\n",
       "    }\n",
       "\n",
       "    .dataframe tbody tr th {\n",
       "        vertical-align: top;\n",
       "    }\n",
       "\n",
       "    .dataframe thead th {\n",
       "        text-align: right;\n",
       "    }\n",
       "</style>\n",
       "<table border=\"1\" class=\"dataframe\">\n",
       "  <thead>\n",
       "    <tr style=\"text-align: right;\">\n",
       "      <th></th>\n",
       "      <th>sum_sq</th>\n",
       "      <th>df</th>\n",
       "      <th>F</th>\n",
       "      <th>PR(&gt;F)</th>\n",
       "    </tr>\n",
       "  </thead>\n",
       "  <tbody>\n",
       "    <tr>\n",
       "      <th>group</th>\n",
       "      <td>3.258972e+09</td>\n",
       "      <td>2.0</td>\n",
       "      <td>10.411350</td>\n",
       "      <td>0.000037</td>\n",
       "    </tr>\n",
       "    <tr>\n",
       "      <th>visits_group</th>\n",
       "      <td>9.735355e+08</td>\n",
       "      <td>1.0</td>\n",
       "      <td>6.220255</td>\n",
       "      <td>0.012960</td>\n",
       "    </tr>\n",
       "    <tr>\n",
       "      <th>group:visits_group</th>\n",
       "      <td>5.195812e+08</td>\n",
       "      <td>2.0</td>\n",
       "      <td>1.659892</td>\n",
       "      <td>0.191234</td>\n",
       "    </tr>\n",
       "    <tr>\n",
       "      <th>Residual</th>\n",
       "      <td>7.622064e+10</td>\n",
       "      <td>487.0</td>\n",
       "      <td>NaN</td>\n",
       "      <td>NaN</td>\n",
       "    </tr>\n",
       "  </tbody>\n",
       "</table>\n",
       "</div>"
      ],
      "text/plain": [
       "                          sum_sq     df          F    PR(>F)\n",
       "group               3.258972e+09    2.0  10.411350  0.000037\n",
       "visits_group        9.735355e+08    1.0   6.220255  0.012960\n",
       "group:visits_group  5.195812e+08    2.0   1.659892  0.191234\n",
       "Residual            7.622064e+10  487.0        NaN       NaN"
      ]
     },
     "execution_count": 494,
     "metadata": {},
     "output_type": "execute_result"
    }
   ],
   "source": [
    "formula = 'revenue ~ group + visits_group + group:visits_group'\n",
    "model = ols(formula, user_other_revenue).fit()\n",
    "aov_table = anova_lm(model, typ=2)\n",
    "aov_table"
   ]
  },
  {
   "cell_type": "markdown",
   "metadata": {},
   "source": [
    "**Для групп по возрасту:**"
   ]
  },
  {
   "cell_type": "markdown",
   "metadata": {},
   "source": [
    "1. Общий доход с пользователя  \n",
    "**H0** - доход с пользователя не зависит от группы, к которой принадлежит пользователь, и группы по возрасту, а также от совокупности этих факторов."
   ]
  },
  {
   "cell_type": "code",
   "execution_count": 506,
   "metadata": {},
   "outputs": [
    {
     "data": {
      "text/html": [
       "<div>\n",
       "<style scoped>\n",
       "    .dataframe tbody tr th:only-of-type {\n",
       "        vertical-align: middle;\n",
       "    }\n",
       "\n",
       "    .dataframe tbody tr th {\n",
       "        vertical-align: top;\n",
       "    }\n",
       "\n",
       "    .dataframe thead th {\n",
       "        text-align: right;\n",
       "    }\n",
       "</style>\n",
       "<table border=\"1\" class=\"dataframe\">\n",
       "  <thead>\n",
       "    <tr style=\"text-align: right;\">\n",
       "      <th></th>\n",
       "      <th>sum_sq</th>\n",
       "      <th>df</th>\n",
       "      <th>F</th>\n",
       "      <th>PR(&gt;F)</th>\n",
       "    </tr>\n",
       "  </thead>\n",
       "  <tbody>\n",
       "    <tr>\n",
       "      <th>group</th>\n",
       "      <td>3.035435e+09</td>\n",
       "      <td>2.0</td>\n",
       "      <td>9.549901</td>\n",
       "      <td>0.000085</td>\n",
       "    </tr>\n",
       "    <tr>\n",
       "      <th>age_group</th>\n",
       "      <td>5.906509e+07</td>\n",
       "      <td>1.0</td>\n",
       "      <td>0.371654</td>\n",
       "      <td>0.542371</td>\n",
       "    </tr>\n",
       "    <tr>\n",
       "      <th>group:age_group</th>\n",
       "      <td>1.879406e+08</td>\n",
       "      <td>2.0</td>\n",
       "      <td>0.591287</td>\n",
       "      <td>0.553987</td>\n",
       "    </tr>\n",
       "    <tr>\n",
       "      <th>Residual</th>\n",
       "      <td>8.232312e+10</td>\n",
       "      <td>518.0</td>\n",
       "      <td>NaN</td>\n",
       "      <td>NaN</td>\n",
       "    </tr>\n",
       "  </tbody>\n",
       "</table>\n",
       "</div>"
      ],
      "text/plain": [
       "                       sum_sq     df         F    PR(>F)\n",
       "group            3.035435e+09    2.0  9.549901  0.000085\n",
       "age_group        5.906509e+07    1.0  0.371654  0.542371\n",
       "group:age_group  1.879406e+08    2.0  0.591287  0.553987\n",
       "Residual         8.232312e+10  518.0       NaN       NaN"
      ]
     },
     "execution_count": 506,
     "metadata": {},
     "output_type": "execute_result"
    }
   ],
   "source": [
    "formula = 'total_revenue ~ group + age_group + group:age_group'\n",
    "model = ols(formula, transactions_data.drop_duplicates('uid')).fit()\n",
    "aov_table = anova_lm(model, typ=2)\n",
    "aov_table"
   ]
  },
  {
   "cell_type": "markdown",
   "metadata": {},
   "source": [
    "2. Доход от премиум-подписки   \n",
    "**H0** - доход с пользователя не зависит от группы, к которой принадлежит пользователь, и группы по возрасту, а также от совокупности этих факторов."
   ]
  },
  {
   "cell_type": "code",
   "execution_count": 507,
   "metadata": {},
   "outputs": [
    {
     "data": {
      "text/html": [
       "<div>\n",
       "<style scoped>\n",
       "    .dataframe tbody tr th:only-of-type {\n",
       "        vertical-align: middle;\n",
       "    }\n",
       "\n",
       "    .dataframe tbody tr th {\n",
       "        vertical-align: top;\n",
       "    }\n",
       "\n",
       "    .dataframe thead th {\n",
       "        text-align: right;\n",
       "    }\n",
       "</style>\n",
       "<table border=\"1\" class=\"dataframe\">\n",
       "  <thead>\n",
       "    <tr style=\"text-align: right;\">\n",
       "      <th></th>\n",
       "      <th>sum_sq</th>\n",
       "      <th>df</th>\n",
       "      <th>F</th>\n",
       "      <th>PR(&gt;F)</th>\n",
       "    </tr>\n",
       "  </thead>\n",
       "  <tbody>\n",
       "    <tr>\n",
       "      <th>group</th>\n",
       "      <td>1.171743e+09</td>\n",
       "      <td>2.0</td>\n",
       "      <td>3.849502</td>\n",
       "      <td>0.022510</td>\n",
       "    </tr>\n",
       "    <tr>\n",
       "      <th>age_group</th>\n",
       "      <td>2.148798e+07</td>\n",
       "      <td>1.0</td>\n",
       "      <td>0.141188</td>\n",
       "      <td>0.707408</td>\n",
       "    </tr>\n",
       "    <tr>\n",
       "      <th>group:age_group</th>\n",
       "      <td>1.907146e+08</td>\n",
       "      <td>2.0</td>\n",
       "      <td>0.626551</td>\n",
       "      <td>0.535234</td>\n",
       "    </tr>\n",
       "    <tr>\n",
       "      <th>Residual</th>\n",
       "      <td>3.972266e+10</td>\n",
       "      <td>261.0</td>\n",
       "      <td>NaN</td>\n",
       "      <td>NaN</td>\n",
       "    </tr>\n",
       "  </tbody>\n",
       "</table>\n",
       "</div>"
      ],
      "text/plain": [
       "                       sum_sq     df         F    PR(>F)\n",
       "group            1.171743e+09    2.0  3.849502  0.022510\n",
       "age_group        2.148798e+07    1.0  0.141188  0.707408\n",
       "group:age_group  1.907146e+08    2.0  0.626551  0.535234\n",
       "Residual         3.972266e+10  261.0       NaN       NaN"
      ]
     },
     "execution_count": 507,
     "metadata": {},
     "output_type": "execute_result"
    }
   ],
   "source": [
    "formula = 'revenue ~ group + age_group + group:age_group'\n",
    "model = ols(formula, user_revenue_premium).fit()\n",
    "aov_table = anova_lm(model, typ=2)\n",
    "aov_table"
   ]
  },
  {
   "cell_type": "markdown",
   "metadata": {},
   "source": [
    "3. Доход от категорий coins и other type  \n",
    "**H0** - доход с пользователя не зависит от группы, к которой принадлежит пользователь, и группы по возрасту, а также от совокупности этих факторов."
   ]
  },
  {
   "cell_type": "code",
   "execution_count": 508,
   "metadata": {},
   "outputs": [
    {
     "data": {
      "text/html": [
       "<div>\n",
       "<style scoped>\n",
       "    .dataframe tbody tr th:only-of-type {\n",
       "        vertical-align: middle;\n",
       "    }\n",
       "\n",
       "    .dataframe tbody tr th {\n",
       "        vertical-align: top;\n",
       "    }\n",
       "\n",
       "    .dataframe thead th {\n",
       "        text-align: right;\n",
       "    }\n",
       "</style>\n",
       "<table border=\"1\" class=\"dataframe\">\n",
       "  <thead>\n",
       "    <tr style=\"text-align: right;\">\n",
       "      <th></th>\n",
       "      <th>sum_sq</th>\n",
       "      <th>df</th>\n",
       "      <th>F</th>\n",
       "      <th>PR(&gt;F)</th>\n",
       "    </tr>\n",
       "  </thead>\n",
       "  <tbody>\n",
       "    <tr>\n",
       "      <th>group</th>\n",
       "      <td>3.211568e+09</td>\n",
       "      <td>2.0</td>\n",
       "      <td>10.097657</td>\n",
       "      <td>0.000050</td>\n",
       "    </tr>\n",
       "    <tr>\n",
       "      <th>age_group</th>\n",
       "      <td>4.591764e+06</td>\n",
       "      <td>1.0</td>\n",
       "      <td>0.028874</td>\n",
       "      <td>0.865140</td>\n",
       "    </tr>\n",
       "    <tr>\n",
       "      <th>group:age_group</th>\n",
       "      <td>2.637892e+08</td>\n",
       "      <td>2.0</td>\n",
       "      <td>0.829393</td>\n",
       "      <td>0.436929</td>\n",
       "    </tr>\n",
       "    <tr>\n",
       "      <th>Residual</th>\n",
       "      <td>7.744538e+10</td>\n",
       "      <td>487.0</td>\n",
       "      <td>NaN</td>\n",
       "      <td>NaN</td>\n",
       "    </tr>\n",
       "  </tbody>\n",
       "</table>\n",
       "</div>"
      ],
      "text/plain": [
       "                       sum_sq     df          F    PR(>F)\n",
       "group            3.211568e+09    2.0  10.097657  0.000050\n",
       "age_group        4.591764e+06    1.0   0.028874  0.865140\n",
       "group:age_group  2.637892e+08    2.0   0.829393  0.436929\n",
       "Residual         7.744538e+10  487.0        NaN       NaN"
      ]
     },
     "execution_count": 508,
     "metadata": {},
     "output_type": "execute_result"
    }
   ],
   "source": [
    "formula = 'revenue ~ group + age_group + group:age_group'\n",
    "model = ols(formula, user_other_revenue).fit()\n",
    "aov_table = anova_lm(model, typ=2)\n",
    "aov_table"
   ]
  },
  {
   "cell_type": "markdown",
   "metadata": {},
   "source": [
    "Есть значимое влияние фактора количества визитов на доход от категорий, не связаных с премиальной подпиской.  \n",
    "Однако, мы не можем утверждать, что данный эффект наблюдается благодаря нововведению.  \n",
    "Это можно интерпретировать следующим образом: траты пользователя в приложении на категории, не связанные с подпиской, зависят от того, насколько часто пользователь посещает приложение.  \n",
    "Одновременное влияние фактора количества посещений и группы, к которой относится пользователь, не наблюдается."
   ]
  },
  {
   "cell_type": "markdown",
   "metadata": {},
   "source": [
    "## Вывод:\n",
    "Можно сказать, что эксперимент был успешен, потому что пользователи не стали реже оформлять премиум подписку после изменения ее стоимости, а доход вырос за счет увеличения стоимости подписки.   \n",
    "При этом доход на пользователя с других категорий трат также статистически значимо увеличился в тестовой группе по сравнению с контрольными.\n",
    "\n",
    "При сравнении групп значимое влияние на размер дохода от пользователя показал только фактор количества визитов."
   ]
  }
 ],
 "metadata": {
  "kernelspec": {
   "display_name": "Python 3",
   "language": "python",
   "name": "python3"
  },
  "language_info": {
   "codemirror_mode": {
    "name": "ipython",
    "version": 3
   },
   "file_extension": ".py",
   "mimetype": "text/x-python",
   "name": "python",
   "nbconvert_exporter": "python",
   "pygments_lexer": "ipython3",
   "version": "3.7.3"
  }
 },
 "nbformat": 4,
 "nbformat_minor": 4
}
